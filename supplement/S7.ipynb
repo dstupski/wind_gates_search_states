{
 "cells": [
  {
   "cell_type": "code",
   "execution_count": 1,
   "metadata": {},
   "outputs": [
    {
     "name": "stdout",
     "output_type": "stream",
     "text": [
      "2.2.4\n",
      "recommended version: 1.1.1 or greater\n"
     ]
    }
   ],
   "source": [
    "import fly_plot_lib.plot as fpl\n",
    "import numpy as np\n",
    "import matplotlib.pyplot as plt\n",
    "import pandas as pd\n",
    "import figurefirst as fifi\n",
    "# from statsmodels.stats import proportions_ztest"
   ]
  },
  {
   "cell_type": "code",
   "execution_count": null,
   "metadata": {},
   "outputs": [],
   "source": [
    "def slice_means(df, index):\n",
    "    time_vec=[]\n",
    "    mean_vec=[]\n",
    "    upper_vec =[]\n",
    "    lower_vec =[]\n",
    "    for i in df['time stamp'].unique():\n",
    "        if i >-200 and i <5000:\n",
    "            dummy_df =df[df['time stamp']==i]\n",
    "            #helps remove edge errors with calibration not working near walls as accurately\n",
    "            dummy_df=dummy_df[dummy_df['x'].between(-.5, .5)]\n",
    "            dummy_df=dummy_df[dummy_df['y'].between(-.25, .25)]\n",
    "            time_vec.append(i)\n",
    "            mean = dummy_df[index].mean()\n",
    "            upper= dummy_df[index].mean() + dummy_df[index].sem()*1.96\n",
    "            lower= dummy_df[index].mean() - dummy_df[index].sem()*1.96\n",
    "            mean_vec.append(mean)\n",
    "            upper_vec.append(upper)\n",
    "            lower_vec.append(lower)\n",
    "    return time_vec, mean_vec, upper_vec, lower_vec"
   ]
  },
  {
   "cell_type": "markdown",
   "metadata": {},
   "source": [
    "# Function that sets the origin of a trajectory to the end point of the optogenetic pulse or in the case of shams simply 675ms after the triggering event"
   ]
  },
  {
   "cell_type": "code",
   "execution_count": 4,
   "metadata": {},
   "outputs": [],
   "source": [
    "def establish_end_as_origin(df, end_time =680, id_key = 'obj_id_unique'):\n",
    "    df_catcher= []\n",
    "    for i in df[id_key].unique():\n",
    "        d_ =df[df['obj_id_unique']==i]\n",
    "        d_=d_[d_['time stamp'].between(-200, 5000)]\n",
    "        if d_['time stamp'].max()>1680:\n",
    "            try:\n",
    "                ind = np.where(d_['time stamp']==680)[0][0]\n",
    "                ind0 =np.where(d_['time stamp']==0)[0][0]\n",
    "\n",
    "                x_ref =d_['x'].iloc[ind]\n",
    "                y_ref = d_['y'].iloc[ind]\n",
    "                d_['norm x']=d_['x']-x_ref\n",
    "                d_['norm y']=d_['y']-y_ref\n",
    "                df_catcher.append(d_)\n",
    "            except:\n",
    "                pass\n",
    "    df_fin= pd.concat(df_catcher)\n",
    "    return df_fin"
   ]
  },
  {
   "cell_type": "markdown",
   "metadata": {},
   "source": [
    "# Load in wild-type control data\n"
   ]
  },
  {
   "cell_type": "code",
   "execution_count": 2,
   "metadata": {},
   "outputs": [],
   "source": [
    "#Still air data sets\n",
    "dfnw_wt =pd.read_csv('../trimmed_data/main/wildtype_still_air_merged.csv')\n",
    "dfn_wt0=dfnw_wt[dfnw_wt['duration']==0]\n",
    "dfn_wt100=dfnw_wt[dfnw_wt['duration']==100]\n",
    "#Laminar wind data sets\n",
    "dfl_wt=pd.read_csv('../trimmed_data/main/wild_type_laminar_merged.csv')\n",
    "dfl_wt100 = dfl_wt[dfl_wt['duration']==100]\n",
    "dfl_wt0 = dfl_wt[dfl_wt['duration']==0]"
   ]
  },
  {
   "cell_type": "markdown",
   "metadata": {},
   "source": []
  },
  {
   "cell_type": "code",
   "execution_count": 4,
   "metadata": {},
   "outputs": [],
   "source": []
  },
  {
   "cell_type": "code",
   "execution_count": 5,
   "metadata": {},
   "outputs": [],
   "source": []
  },
  {
   "cell_type": "markdown",
   "metadata": {},
   "source": [
    "# Apply origin centering to the data sets"
   ]
  },
  {
   "cell_type": "code",
   "execution_count": 5,
   "metadata": {},
   "outputs": [],
   "source": [
    "dfn_wt100 = establish_end_as_origin(dfn_wt100)\n",
    "dfl_wt100 = establish_end_as_origin(dfl_wt100)\n",
    "\n",
    "dfn_wt0 = establish_end_as_origin(dfn_wt0)\n",
    "dfl_wt0 = establish_end_as_origin(dfl_wt0)"
   ]
  },
  {
   "cell_type": "code",
   "execution_count": 7,
   "metadata": {},
   "outputs": [],
   "source": [
    "dfn_wt100['distance from center']=(dfn_wt100['norm x']**2 +dfn_wt100['norm y']**2)**0.5\n",
    "dfl_wt100['distance from center']=(dfl_wt100['norm x']**2 +dfl_wt100['norm y']**2)**0.5\n",
    "\n",
    "dfn_wt0['distance from center']=(dfn_wt0['norm x']**2 +dfn_wt0['norm y']**2)**0.5\n",
    "dfl_wt0['distance from center']=(dfl_wt0['norm x']**2 +dfl_wt0['norm y']**2)**0.5"
   ]
  },
  {
   "cell_type": "code",
   "execution_count": 9,
   "metadata": {},
   "outputs": [
    {
     "name": "stdout",
     "output_type": "stream",
     "text": [
      "Wild Type No Wind Flash n= 252\n",
      "Wild Type No Wind Sham n= 235\n",
      "Wild Type Laminar Wind Flash n= 404\n",
      "Wild Type Laminar Wind Sham n= 429\n"
     ]
    }
   ],
   "source": []
  },
  {
   "cell_type": "markdown",
   "metadata": {},
   "source": [
    "# FiFi setup"
   ]
  },
  {
   "cell_type": "code",
   "execution_count": 6,
   "metadata": {},
   "outputs": [
    {
     "data": {
      "image/png": "[encoded data removed]",
      "text/plain": [
       "<Figure size 432x432 with 4 Axes>"
      ]
     },
     "metadata": {
      "needs_background": "light"
     },
     "output_type": "display_data"
    }
   ],
   "source": [
    "template ='../figure_first_templates/s7.svg'\n",
    "layout =fifi.svg_to_axes.FigureLayout(template, autogenlayers=True, make_mplfigures=True, hide_layers=[])\n",
    "fs=6\n",
    "lw=1"
   ]
  },
  {
   "cell_type": "code",
   "execution_count": 35,
   "metadata": {},
   "outputs": [],
   "source": [
    "#Laminar wind wild type vs no wind wild type which recieved flashes\n",
    "ax=layout.axes[('wt', 'lwnwf')]"
   ]
  },
  {
   "cell_type": "code",
   "execution_count": 36,
   "metadata": {},
   "outputs": [],
   "source": [
    "d0_time, d0_mean, d0_upper, d0_lower = slice_means(dfn_wt100, 'distance from center')\n",
    "d50_time, d50_mean, d50_upper, d50_lower = slice_means(dfl_wt100, 'distance from center')"
   ]
  },
  {
   "cell_type": "code",
   "execution_count": 37,
   "metadata": {},
   "outputs": [],
   "source": [
    "ax.plot(d50_time, d50_mean, color = 'red',linestyle='-', linewidth =lw, label =\"Laminar Wind\")\n",
    "\n",
    "ax.plot(d0_time, d0_mean, color ='red', linestyle = '--', linewidth = lw, label =\"No Wind\")\n",
    "\n",
    "ax.fill_between(d50_time, d50_upper, d50_lower, color = 'red', alpha = 0.1, lw =0)\n",
    "\n",
    "ax.fill_between(d0_time, d0_upper, d0_lower, color = 'red', alpha = 0.1, lw = 0)\n",
    "#ax.legend(loc = 'upper right', fontsize = 6)\n",
    "\n",
    "ax.axvspan(0, 675, color = 'red', alpha = 0.1)\n",
    "#ax.legend()\n",
    "ax.spines['top'].set_visible(False)\n",
    "ax.spines['right'].set_visible(False)\n",
    "ax.set_xlabel(\"Time (ms)\")\n",
    "ax.set_ylabel(\"Horizontal Distance from\\n End Position (m)\")\n",
    "ax.set_title(\"Flashes\")\n",
    "#ax.set_xticks([0, 500, 1000, 1500, 2000])\n",
    "ax.set_xlim(-100, 3000)\n",
    "ax.set_ylim(0, .3)\n",
    "\n",
    "fifi.mpl_functions.adjust_spines(ax, ['left', 'bottom'], yticks=[0, .3], xticks=[0, 675, 3000], tick_length=3, linewidth=.75)\n",
    "fifi.mpl_functions.set_fontsize(ax, fs)"
   ]
  },
  {
   "cell_type": "code",
   "execution_count": 38,
   "metadata": {},
   "outputs": [],
   "source": [
    "#Laminar wind wild type vs no wind wild type which recieved shams\n",
    "ax=layout.axes[('wt', 'lwnws')]"
   ]
  },
  {
   "cell_type": "code",
   "execution_count": 39,
   "metadata": {},
   "outputs": [],
   "source": [
    "d0_time, d0_mean, d0_upper, d0_lower = slice_means(dfn_wt0, 'distance from center')\n",
    "d50_time, d50_mean, d50_upper, d50_lower = slice_means(dfl_wt0, 'distance from center')"
   ]
  },
  {
   "cell_type": "code",
   "execution_count": 40,
   "metadata": {},
   "outputs": [],
   "source": [
    "ax.plot(d50_time, d50_mean, color = 'k',linestyle='-', linewidth =lw, label =\"Laminar Wind\")\n",
    "\n",
    "ax.plot(d0_time, d0_mean, color ='k', linestyle = '--', linewidth = lw, label =\"No Wind\")\n",
    "\n",
    "ax.fill_between(d50_time, d50_upper, d50_lower, color = 'k', alpha = 0.1, lw =0)\n",
    "\n",
    "ax.fill_between(d0_time, d0_upper, d0_lower, color = 'k', alpha = 0.1, lw = 0)\n",
    "#ax.legend(loc = 'upper right', fontsize = 6)\n",
    "\n",
    "ax.axvspan(0, 675, color = 'k', alpha = 0.1)\n",
    "#ax.legend()\n",
    "ax.spines['top'].set_visible(False)\n",
    "ax.spines['right'].set_visible(False)\n",
    "ax.set_xlabel(\"Time (ms)\")\n",
    "ax.set_ylabel(\"Horizontal Distance from\\n End Position (m)\")\n",
    "ax.set_title(\"Flashes\")\n",
    "#ax.set_xticks([0, 500, 1000, 1500, 2000])\n",
    "ax.set_xlim(-100, 3000)\n",
    "ax.set_ylim(0, .3)\n",
    "\n",
    "fifi.mpl_functions.adjust_spines(ax, ['left', 'bottom'], yticks=[0, .3], xticks=[0, 675, 3000], tick_length=3, linewidth=.75)\n",
    "fifi.mpl_functions.set_fontsize(ax, fs)"
   ]
  },
  {
   "cell_type": "code",
   "execution_count": 41,
   "metadata": {},
   "outputs": [],
   "source": [
    "#Laminar wind flash plotted against sham i.e. no visually mediated artifact\n",
    "ax=layout.axes[('wt', 'lw')]"
   ]
  },
  {
   "cell_type": "code",
   "execution_count": 42,
   "metadata": {},
   "outputs": [],
   "source": [
    "d0_time, d0_mean, d0_upper, d0_lower = slice_means(dfl_wt100, 'distance from center')\n",
    "d50_time, d50_mean, d50_upper, d50_lower = slice_means(dfl_wt0, 'distance from center')"
   ]
  },
  {
   "cell_type": "code",
   "execution_count": 43,
   "metadata": {},
   "outputs": [],
   "source": [
    "ax.plot(d50_time, d50_mean, color = 'k',linestyle='-', linewidth =lw, label =\"Laminar Wind\")\n",
    "\n",
    "ax.plot(d0_time, d0_mean, color ='red', linestyle = '-', linewidth = lw, label =\"No Wind\")\n",
    "\n",
    "ax.fill_between(d50_time, d50_upper, d50_lower, color = 'k', alpha = 0.1, lw =0)\n",
    "\n",
    "ax.fill_between(d0_time, d0_upper, d0_lower, color = 'red', alpha = 0.1, lw = 0)\n",
    "#ax.legend(loc = 'upper right', fontsize = 6)\n",
    "\n",
    "ax.axvspan(0, 675, color = 'red', alpha = 0.1)\n",
    "#ax.legend()\n",
    "ax.spines['top'].set_visible(False)\n",
    "ax.spines['right'].set_visible(False)\n",
    "ax.set_xlabel(\"Time (ms)\")\n",
    "ax.set_ylabel(\"Horizontal Distance from\\n End Position (m)\")\n",
    "ax.set_title(\"Flashes\")\n",
    "#ax.set_xticks([0, 500, 1000, 1500, 2000])\n",
    "ax.set_xlim(-100, 3000)\n",
    "ax.set_ylim(0, .3)\n",
    "\n",
    "fifi.mpl_functions.adjust_spines(ax, ['left', 'bottom'], yticks=[0, .3], xticks=[0, 675, 3000], tick_length=3, linewidth=.75)\n",
    "fifi.mpl_functions.set_fontsize(ax, fs)"
   ]
  },
  {
   "cell_type": "code",
   "execution_count": 44,
   "metadata": {},
   "outputs": [],
   "source": [
    "#No wind flash plotted against sham i.e. no visually mediated artifact\n",
    "ax=layout.axes[('wt', 'nw')]"
   ]
  },
  {
   "cell_type": "code",
   "execution_count": 45,
   "metadata": {},
   "outputs": [],
   "source": [
    "d0_time, d0_mean, d0_upper, d0_lower = slice_means(dfn_wt100, 'distance from center')\n",
    "d50_time, d50_mean, d50_upper, d50_lower = slice_means(dfn_wt0, 'distance from center')"
   ]
  },
  {
   "cell_type": "code",
   "execution_count": 46,
   "metadata": {},
   "outputs": [],
   "source": [
    "ax.plot(d50_time, d50_mean, color = 'k',linestyle='--', linewidth =lw, label =\"Laminar Wind\")\n",
    "\n",
    "ax.plot(d0_time, d0_mean, color ='red', linestyle = '--', linewidth = lw, label =\"No Wind\")\n",
    "\n",
    "ax.fill_between(d50_time, d50_upper, d50_lower, color = 'k', alpha = 0.1, lw =0)\n",
    "\n",
    "ax.fill_between(d0_time, d0_upper, d0_lower, color = 'red', alpha = 0.1, lw = 0)\n",
    "#ax.legend(loc = 'upper right', fontsize = 6)\n",
    "\n",
    "ax.axvspan(0, 675, color = 'red', alpha = 0.1)\n",
    "#ax.legend()\n",
    "ax.spines['top'].set_visible(False)\n",
    "ax.spines['right'].set_visible(False)\n",
    "ax.set_xlabel(\"Time (ms)\")\n",
    "ax.set_ylabel(\"Horizontal Distance from\\n End Position (m)\")\n",
    "ax.set_title(\"Flashes\")\n",
    "#ax.set_xticks([0, 500, 1000, 1500, 2000])\n",
    "ax.set_xlim(-100, 3000)\n",
    "ax.set_ylim(0, .3)\n",
    "\n",
    "fifi.mpl_functions.adjust_spines(ax, ['left', 'bottom'], yticks=[0, .3], xticks=[0, 675, 3000], tick_length=3, linewidth=.75)\n",
    "fifi.mpl_functions.set_fontsize(ax, fs)"
   ]
  },
  {
   "cell_type": "code",
   "execution_count": 47,
   "metadata": {},
   "outputs": [],
   "source": [
    "layout.append_figure_to_layer(layout.figures['wt'], 'wt', cleartarget=True)\n",
    "layout.write_svg(template)"
   ]
  },
  {
   "cell_type": "code",
   "execution_count": null,
   "metadata": {},
   "outputs": [],
   "source": []
  },
  {
   "cell_type": "code",
   "execution_count": null,
   "metadata": {},
   "outputs": [],
   "source": []
  },
  {
   "cell_type": "code",
   "execution_count": null,
   "metadata": {},
   "outputs": [],
   "source": []
  },
  {
   "cell_type": "code",
   "execution_count": null,
   "metadata": {},
   "outputs": [],
   "source": []
  },
  {
   "cell_type": "code",
   "execution_count": null,
   "metadata": {},
   "outputs": [],
   "source": []
  },
  {
   "cell_type": "code",
   "execution_count": null,
   "metadata": {},
   "outputs": [],
   "source": []
  },
  {
   "cell_type": "code",
   "execution_count": null,
   "metadata": {},
   "outputs": [],
   "source": []
  },
  {
   "cell_type": "code",
   "execution_count": null,
   "metadata": {},
   "outputs": [],
   "source": []
  },
  {
   "cell_type": "code",
   "execution_count": null,
   "metadata": {},
   "outputs": [],
   "source": []
  },
  {
   "cell_type": "code",
   "execution_count": null,
   "metadata": {},
   "outputs": [],
   "source": []
  },
  {
   "cell_type": "code",
   "execution_count": null,
   "metadata": {},
   "outputs": [],
   "source": []
  }
 ],
 "metadata": {
  "kernelspec": {
   "display_name": "Python 2",
   "language": "python",
   "name": "python2"
  },
  "language_info": {
   "codemirror_mode": {
    "name": "ipython",
    "version": 2
   },
   "file_extension": ".py",
   "mimetype": "text/x-python",
   "name": "python",
   "nbconvert_exporter": "python",
   "pygments_lexer": "ipython2",
   "version": "2.7.12"
  }
 },
 "nbformat": 4,
 "nbformat_minor": 2
}
