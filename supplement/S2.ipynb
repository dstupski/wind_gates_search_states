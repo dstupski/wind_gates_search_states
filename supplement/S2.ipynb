{
 "cells": [
  {
   "cell_type": "code",
   "execution_count": 1,
   "metadata": {},
   "outputs": [
    {
     "name": "stdout",
     "output_type": "stream",
     "text": [
      "2.2.4\n",
      "recommended version: 1.1.1 or greater\n"
     ]
    }
   ],
   "source": [
    "import fly_plot_lib.plot as fpl\n",
    "import numpy as np\n",
    "import matplotlib.pyplot as plt\n",
    "import pandas as pd\n",
    "import figurefirst as fifi\n",
    "from scipy import stats\n",
    "#import statsmodels.api as sm\n"
   ]
  },
  {
   "cell_type": "markdown",
   "metadata": {},
   "source": [
    "# Some helper functions for plotting means and CI's for plots\n"
   ]
  },
  {
   "cell_type": "code",
   "execution_count": 2,
   "metadata": {},
   "outputs": [],
   "source": [
    "#helper function for slicing means with standard errors\n",
    "def slice_means_gs(df, index, time_key= \"time stamp\", start=-100, stop=3000):\n",
    "    time_vec=[]\n",
    "    mean_vec=[]\n",
    "    upper_vec =[]\n",
    "    lower_vec =[]\n",
    "    df=df[df[time_key].between(start, stop)]\n",
    "    for i in df[time_key].unique():\n",
    "        dummy_df =df[df[time_key]==i]\n",
    "        dummy_df=dummy_df[dummy_df['ground speed'].between(0, 2.0)]\n",
    "        time_vec.append(i)\n",
    "        mean = dummy_df[index].mean()\n",
    "        upper= dummy_df[index].mean() + dummy_df[index].sem()*1.96\n",
    "        lower= dummy_df[index].mean() - dummy_df[index].sem()*1.96\n",
    "        mean_vec.append(mean)\n",
    "        upper_vec.append(upper)\n",
    "        lower_vec.append(lower)\n",
    "    return time_vec, mean_vec, upper_vec, lower_vec"
   ]
  },
  {
   "cell_type": "code",
   "execution_count": 3,
   "metadata": {},
   "outputs": [],
   "source": [
    "#helper function for slicing means with standard errors\n",
    "def slice_head_prop(df, index='heading', time_key= \"time stamp\", start=-100, stop=3000):\n",
    "    time_vec=[]\n",
    "    uw_vec =[]\n",
    "    cw_vec =[]\n",
    "    dw_vec =[]\n",
    "    df=df[df[time_key].between(start, stop)]\n",
    "    for i in df[time_key].unique():\n",
    "        dummy_df =df[df[time_key]==i]\n",
    "        dummy_df=dummy_df[dummy_df['ground speed'].between(0, 2.0)]\n",
    "        time_vec.append(i)\n",
    "        tot =float(len(dummy_df))\n",
    "        dummy_df['abs head'] =np.abs(dummy_df[index])\n",
    "        #df[df < 2.0 ].count() \n",
    "        uw = dummy_df[dummy_df['abs head']<np.pi/4.].count()\n",
    "        cw =dummy_df[dummy_df['abs head'].between(np.pi/4., 3.*np.pi/4)].count()\n",
    "        dw =dummy_df[dummy_df['abs head']>3*np.pi/4.].count()\n",
    "        uw_vec.append(uw/tot)\n",
    "        cw_vec.append(cw/tot)\n",
    "        dw_vec.append(dw/tot)\n",
    "    return time_vec, uw_vec, cw_vec, dw_vec\n",
    "    "
   ]
  },
  {
   "cell_type": "code",
   "execution_count": 4,
   "metadata": {},
   "outputs": [],
   "source": [
    "def slice_means_time_lumping(df, index, time_key= \"time stamp\", start=-100, stop=3000, bin_size=10):\n",
    "    time_vec=[]\n",
    "    mean_vec=[]\n",
    "    upper_vec =[]\n",
    "    lower_vec =[]\n",
    "    df=df[df[time_key].between(start, stop)]\n",
    "    temporal_bins=np.arange(start, stop, bin_size)\n",
    "    #print(temporal_bins)\n",
    "    for i in temporal_bins:\n",
    "        dummy_df =df[df[time_key].between(i-bin_size/2, i+bin_size/2)]\n",
    "        time_vec.append(i)\n",
    "        \n",
    "        mean = dummy_df[index].mean()\n",
    "        upper= dummy_df[index].mean() + dummy_df[index].sem()*1.96\n",
    "        lower= dummy_df[index].mean() - dummy_df[index].sem()*1.96\n",
    "        mean_vec.append(mean)\n",
    "        upper_vec.append(upper)\n",
    "        lower_vec.append(lower)\n",
    "    return time_vec, mean_vec, upper_vec, lower_vec"
   ]
  },
  {
   "cell_type": "code",
   "execution_count": 5,
   "metadata": {},
   "outputs": [],
   "source": [
    "def slice_props_time_lumping(df, index, time_key= \"time stamp\", start=-100, stop=3000, bin_size=10):\n",
    "    time_vec=[]\n",
    "    uw_vec =[]\n",
    "    cw_vec =[]\n",
    "    dw_vec =[]\n",
    "    df=df[df[time_key].between(start, stop)]\n",
    "    temporal_bins=np.arange(start, stop, bin_size)\n",
    "    #print(temporal_bins)\n",
    "    for i in temporal_bins:\n",
    "        dummy_df =df[df[time_key].between(i-bin_size/2, i+bin_size/2)]\n",
    "        time_vec.append(i)\n",
    "        dummy_df['abs head'] =np.abs(dummy_df[index])\n",
    "        tot =float(len(dummy_df))\n",
    "        uw = dummy_df[dummy_df['abs head']<np.pi/4.]\n",
    "        cw =dummy_df[dummy_df['abs head'].between(np.pi/4., 3.*np.pi/4)]\n",
    "        dw =dummy_df[dummy_df['abs head']>3*np.pi/4.]\n",
    "        uw_=float(len(uw))\n",
    "        cw_=float(len(cw))\n",
    "        dw_ =float(len(dw))\n",
    "        uw_vec.append(uw_/tot)\n",
    "        cw_vec.append(cw_/tot)\n",
    "        dw_vec.append(dw_/tot)\n",
    "    return time_vec, uw_vec, cw_vec, dw_vec"
   ]
  },
  {
   "cell_type": "code",
   "execution_count": 6,
   "metadata": {},
   "outputs": [],
   "source": [
    "#Control data sets need to be trimmed for one second after pulse\n",
    "def get_longer_traj(df, time_min = 1680, id_key='obj_id_unique'):\n",
    "    catcher =[]\n",
    "    for i in df[id_key].unique():\n",
    "        d = df[df[id_key]==i]\n",
    "        d = d[d['time stamp'].between(-100, 5000)]\n",
    "        if d['time stamp'].max() >time_min:\n",
    "            catcher.append(d)\n",
    "    final_df =pd.concat(catcher)\n",
    "    return final_df\n",
    "        "
   ]
  },
  {
   "cell_type": "code",
   "execution_count": 7,
   "metadata": {},
   "outputs": [],
   "source": [
    "#Ethanol helper functions from Floris Notebook\n",
    "# Helper functions \n",
    "\n",
    "def wrap_angle(a):\n",
    "    return np.arctan2(np.sin(a), np.cos(a))\n",
    "\n",
    "def plot_wind_quivers(df, ax=None, res=3, wind_quiver_index=0, headwidth=7, alpha=0.5):\n",
    "    if ax is None:\n",
    "        fig = plt.figure()\n",
    "        ax = fig.add_subplot(111)\n",
    "    \n",
    "    i = int(res/2.)\n",
    "    \n",
    "    xrang = df['position_x'].max() - df['position_x'].min()\n",
    "    yrang = df['position_y'].max() - df['position_y'].min()\n",
    "\n",
    "    x = np.arange(df['position_x'].min()-0.2*xrang, df['position_x'].max()+0.2*xrang, .1)\n",
    "    y = np.arange(df['position_y'].min()-0.2*yrang, df['position_y'].max()+0.2*yrang, .1)\n",
    "    X, Y = np.meshgrid(x, y)\n",
    "    \n",
    "    wind_x = df.wind_speed.values[wind_quiver_index]*np.cos(df.wind_direction.values[wind_quiver_index])\n",
    "    wind_y = df.wind_speed.values[wind_quiver_index]*np.sin(df.wind_direction.values[wind_quiver_index])\n",
    "    \n",
    "    V = wind_x.mean()*np.ones_like(X[i:-1:res, i:-1:res])\n",
    "    U = wind_y.mean()*np.ones_like(Y[i:-1:res, i:-1:res])\n",
    "    \n",
    "    q = ax.quiver(X[i:-1:res, i:-1:res], Y[i:-1:res, i:-1:res], V, U, alpha=alpha, headwidth=headwidth)\n",
    "\n",
    "def plot_trajec(df, ax=None, size_radius=5, nskip = 190, \n",
    "                show_wind_quivers=True, wind_quiver_index=0, \n",
    "                wind_quiver_res=3, wind_quiver_headwidth=7, \n",
    "                wind_quiver_alpha=0.5,\n",
    "                color='time'):\n",
    "    if ax is None:\n",
    "        fig = plt.figure()\n",
    "        ax = fig.add_subplot(111)\n",
    "\n",
    "    if show_wind_quivers:\n",
    "        plot_wind_quivers(df, ax, wind_quiver_index=wind_quiver_index, res=wind_quiver_res, headwidth=wind_quiver_headwidth, alpha=wind_quiver_alpha)\n",
    "    \n",
    "    df['t'] = df['time_epoch'] - df['time_epoch'].values[0]\n",
    "    \n",
    "    if color == 'time':\n",
    "        color = df['t'].values\n",
    "        colormap='bone_r'\n",
    "        colornorm=[0.05*df['t'].values[-1],df['t'].values[-1]]\n",
    "        \n",
    "    elif color == 'odor':\n",
    "        color = copy.copy( df['odor'].values )\n",
    "        colormap='hot'\n",
    "        color[color>400] = 400 # clip\n",
    "        colornorm=[0, 800]\n",
    "        \n",
    "    fpl.colorline_with_heading(ax, df['position_x'].values, df['position_y'].values, \n",
    "                                    color, wrap_angle( df['course'].values + np.pi), \n",
    "                                    nskip=nskip, size_radius=size_radius, deg=False, \n",
    "                                    colormap=colormap, center_point_size=0.0001,\n",
    "                                    colornorm=colornorm, show_centers=False)\n",
    "\n",
    "    ax.set_aspect('equal')\n",
    "    xrang = df['position_x'].max() - df['position_x'].min()\n",
    "    yrang = df['position_y'].max() - df['position_y'].min()\n",
    "    ax.set_xlim(df['position_x'].min()-0.1*xrang, df['position_x'].max()+0.1*xrang)\n",
    "    ax.set_ylim(df['position_y'].min()-0.1*yrang, df['position_y'].max()+0.1*yrang)\n",
    "\n",
    "    fifi.mpl_functions.adjust_spines(ax, [])\n",
    "\n",
    "    \n",
    "\n",
    "def mean_angle(angle):\n",
    "    return np.arctan2(np.nanmean(np.sin(angle)), np.nanmean(np.cos(angle)))\n",
    "    \n",
    "def std_angle(angle):\n",
    "    return np.sqrt( np.sum(wrap_angle(angle - mean_angle(angle))**2) / len(angle) )\n",
    "\n",
    "def unwrap_angle(z, correction_window_for_2pi=100, n_range=2, plot=False):\n",
    "    smooth_zs = np.array(z[0:2])\n",
    "    for i in range(2, len(z)):\n",
    "        first_ix = np.max([0, i-correction_window_for_2pi])\n",
    "        last_ix = i\n",
    "\n",
    "        nbase = np.round( (smooth_zs[-1] - z[i])/(2*np.pi) )\n",
    "\n",
    "        candidates = []\n",
    "        for n in range(-1*n_range, n_range):\n",
    "            candidates.append(n*2*np.pi+nbase*2*np.pi+z[i])\n",
    "        error = np.abs(candidates - np.mean(smooth_zs[first_ix:last_ix])) \n",
    "        smooth_zs = np.hstack(( smooth_zs, [candidates[np.argmin(error)]] ))\n",
    "    if plot:\n",
    "        plt.plot(smooth_zs, '.', color='black', markersize=1)\n",
    "        \n",
    "    return smooth_zs\n",
    "\n",
    "\n",
    "def diff_angle(angles, dt, params, \n",
    "               derivative_method='smooth_finite_difference.butterdiff', \n",
    "               correction_window_for_2pi=100):\n",
    "    '''\n",
    "    Take a filtered derivative of an angle\n",
    "    '''\n",
    "    \n",
    "    family, method = derivative_method.split('.')\n",
    "\n",
    "    '''\n",
    "    angles = interpolate_outliers_angle(angles, outlier_window_size, outlier_stride, outlier_max_std)\n",
    "    diff_angles = np.diff(angles)\n",
    "    diff_angles = np.hstack((0, diff_angles, 0))\n",
    "    wrapped_diff_angle = wrap_angle(diff_angles)\n",
    "    unwrapped_angle = scipy.integrate.cumtrapz(wrapped_diff_angle)\n",
    "    \n",
    "    corrected_unwrapped_angle = [unwrapped_angle[0], unwrapped_angle[1]]\n",
    "    for i in range(2, len(unwrapped_angle)):\n",
    "        first_ix = np.max([0, i-correction_window_for_2pi])\n",
    "        last_ix = i\n",
    "        error = (unwrapped_angle[i] - mean_angle(corrected_unwrapped_angle[first_ix:last_ix])) / (2*np.pi)\n",
    "        npi = np.round(error)\n",
    "        corrected_unwrapped_angle.append(unwrapped_angle[i] - npi*2*np.pi)\n",
    "    \n",
    "    offset = mean_angle(angles) - mean_angle(unwrapped_angle)\n",
    "    unwrapped_angle += offset\n",
    "    '''\n",
    "    \n",
    "    unwrapped_angle = unwrap_angle(angles, correction_window_for_2pi=correction_window_for_2pi, n_range=5)\n",
    "\n",
    "    angles_smooth, angles_dot = pynumdiff.__dict__[family].__dict__[method](unwrapped_angle, dt, params, {})\n",
    "    return wrap_angle(angles_smooth), angles_dot\n",
    "\n",
    "def get_pandas_dataframe_for_trajec(trajec, wind_speed, kalmanize_phi=False):\n",
    "    tdf = DataFrame({'position_x': trajec.positions[:,0],\n",
    "                 'position_y': trajec.positions[:,1],\n",
    "                 'position_z': trajec.positions[:,2],\n",
    "                 'velocity_x': trajec.velocities[:,0],\n",
    "                 'velocity_y': trajec.velocities[:,1],\n",
    "                 'velocity_z': trajec.velocities[:,2],\n",
    "                 'frames': np.arange(trajec.first_frame, trajec.first_frame+trajec.length),\n",
    "                 'time_epoch': trajec.timestamp_epoch + trajec.time_fly ,\n",
    "                 'objid': [trajec.key for i in range(trajec.length)],\n",
    "                 'speed': trajec.speed,\n",
    "                 'course': np.arctan2(trajec.velocities[:,1], trajec.velocities[:,0]),\n",
    "                 'odor': trajec.odor,\n",
    "                 'odor_stimulus': [trajec.odor_stimulus for i in range(trajec.length)],\n",
    "                 'wind_speed': wind_speed*np.ones_like(trajec.odor),\n",
    "                 'wind_direction': -np.pi*np.ones_like(trajec.odor), \n",
    "    })\n",
    "    \n",
    "    xvel = tdf.velocity_x\n",
    "    yvel = tdf.velocity_y\n",
    "    w = tdf.wind_speed \n",
    "    zeta = tdf.wind_direction\n",
    "    dt = np.mean(np.diff(tdf.time_epoch))\n",
    "    \n",
    "    air_x = xvel - w*np.cos(zeta)\n",
    "    air_y = yvel - w*np.sin(zeta)\n",
    "\n",
    "    \n",
    "\n",
    "    #phi, _ = pynumdiff.smooth_finite_difference.gaussiandiff(phi, dt, [50])\n",
    "\n",
    "    #########################\n",
    "    '''\n",
    "    x = air_x\n",
    "    params = [1, 0.1]\n",
    "    r, q = params\n",
    "    A = np.matrix([[1, dt], [0, 1]])\n",
    "    B = np.matrix([[0], [0]])\n",
    "    C = np.matrix([[1, 0]])\n",
    "    R = np.matrix([[r]])\n",
    "    Q = np.matrix([[1e-16, 0], [0, q]])\n",
    "    x0 = np.matrix([[x[0]], [0]])\n",
    "    P0 = np.matrix(100*np.eye(2))\n",
    "    y = np.matrix(x)\n",
    "    u = None\n",
    "    xhat_fp, xhat_fm, P_fp, P_fm = pynumdiff.kalman_smooth.__kalman_forward_filter__(x0, P0, y, u, A, B, C, R, Q)\n",
    "    air_x = np.ravel(xhat_fp[0,:])\n",
    "\n",
    "    x = air_y\n",
    "    params = [1, 0.1]\n",
    "    r, q = params\n",
    "    A = np.matrix([[1, dt], [0, 1]])\n",
    "    B = np.matrix([[0], [0]])\n",
    "    C = np.matrix([[1, 0]])\n",
    "    R = np.matrix([[r]])\n",
    "    Q = np.matrix([[1e-16, 0], [0, q]])\n",
    "    x0 = np.matrix([[x[0]], [0]])\n",
    "    P0 = np.matrix(100*np.eye(2))\n",
    "    y = np.matrix(x)\n",
    "    u = None\n",
    "    xhat_fp, xhat_fm, P_fp, P_fm = pynumdiff.kalman_smooth.__kalman_forward_filter__(x0, P0, y, u, A, B, C, R, Q)\n",
    "    air_y = np.ravel(xhat_fp[0,:])\n",
    "    '''\n",
    "    \n",
    "    \n",
    "    phi = np.arctan2(air_y, air_x)\n",
    "    \n",
    "    if kalmanize_phi:\n",
    "        phi = flymath.remove_angular_rollover(phi, np.pi*0.5)\n",
    "\n",
    "        x = phi\n",
    "        params = [1, 0.1]\n",
    "        r, q = params\n",
    "        A = np.matrix([[1, dt], [0, 1]])\n",
    "        B = np.matrix([[0], [0]])\n",
    "        C = np.matrix([[1, 0]])\n",
    "        R = np.matrix([[r]])\n",
    "        Q = np.matrix([[1e-16, 0], [0, q]])\n",
    "        x0 = np.matrix([[x[0]], [0]])\n",
    "        P0 = np.matrix(100*np.eye(2))\n",
    "        y = np.matrix(x)\n",
    "        u = None\n",
    "        xhat_fp, xhat_fm, P_fp, P_fm = pynumdiff.kalman_smooth.__kalman_forward_filter__(x0, P0, y, u, A, B, C, R, Q)\n",
    "        phi = np.ravel(xhat_fp[0,:])\n",
    "    \n",
    "    \n",
    "    tdf['body_orientation'] = phi #th.fix_angular_rollover(phi)\n",
    "    \n",
    "    return tdf"
   ]
  },
  {
   "cell_type": "markdown",
   "metadata": {},
   "source": [
    "# Load in all data sets"
   ]
  },
  {
   "cell_type": "code",
   "execution_count": 10,
   "metadata": {},
   "outputs": [],
   "source": [
    "#Extra controls\n",
    "#orco>csChrimson flies with no extra ATR in diet\n",
    "noatr=pd.read_csv('../trimmed_data/supp/OrcoCsChrimson_no_atr.csv')\n",
    "#csChrimsons heterozygotes- for heterozygous White control\n",
    "u1wt=pd.read_csv('../trimmed_data/supp/CsChrimson_hets.csv')\n",
    "#Data in main fig added here for easier comparison\n",
    "#WT control\n",
    "wt=pd.read_csv('../trimmed_data/main/wild_type_laminar_merged.csv')\n",
    "#Main trimmed orco>csChrimson data set\n",
    "orco=pd.read_csv('../trimmed_data/main/OrcoCsChrimson_laminar_wind_merged.csv')\n",
    "#Floris 2014, data set\n",
    "etoh=pd.read_hdf('../trimmed_data/supp/fly_trajec_data_all_etoh.hdf')\n",
    "no_odor=pd.read_hdf('../trimmed_data/supp/fly_trajec_data_noodor_all.hdf')"
   ]
  },
  {
   "cell_type": "code",
   "execution_count": 10,
   "metadata": {},
   "outputs": [],
   "source": [
    "#Ground Speed Calculation\n",
    "noatr['ground speed']= (noatr['xvel']**2+noatr['yvel']**2)**0.5\n",
    "u1wt['ground speed']= (u1wt['xvel']**2+u1wt['yvel']**2)**0.5\n",
    "wt['ground speed']=(wt['xvel']**2+wt['yvel']**2)**0.5\n",
    "orco['ground speed']=(orco['xvel']**2+orco['yvel']**2)**0.5\n",
    "#etoh set is old and has slightly different key names\n",
    "etoh['ground speed']=(etoh['velocity_y']**2+etoh['velocity_x']**2)**0.5\n",
    "no_odor['ground speed']=(no_odor['velocity_y']**2+no_odor['velocity_x']**2)**0.5"
   ]
  },
  {
   "cell_type": "code",
   "execution_count": 11,
   "metadata": {},
   "outputs": [],
   "source": []
  },
  {
   "cell_type": "code",
   "execution_count": 12,
   "metadata": {},
   "outputs": [],
   "source": [
    "#Control data sets need to be trimmed for one second after pulse condition\n",
    "noatr =get_longer_traj(noatr)\n",
    "u1wt=get_longer_traj(u1wt)"
   ]
  },
  {
   "cell_type": "code",
   "execution_count": 14,
   "metadata": {},
   "outputs": [],
   "source": [
    "#split all data into flash and sham sets\n",
    "orco100=orco[orco['duration']==100]\n",
    "orco0 =orco[orco['duration']==0]\n",
    "noatr100=noatr[noatr['duration']==100]\n",
    "noatr0=noatr[noatr['duration']==0]\n",
    "u1wt100=u1wt[u1wt['duration']==100]\n",
    "u1wt0=u1wt[u1wt['duration']==0]\n",
    "wt100=wt[wt['duration']==100]\n",
    "wt0=wt[wt['duration']==0]\n"
   ]
  },
  {
   "cell_type": "code",
   "execution_count": 17,
   "metadata": {},
   "outputs": [],
   "source": [
    "#Standardize a couple size things so figures all plots come out the same\n",
    "ms=4\n",
    "lw=.5\n",
    "fs=6\n",
    "linew=.5\n",
    "tl=3"
   ]
  },
  {
   "cell_type": "code",
   "execution_count": 18,
   "metadata": {},
   "outputs": [],
   "source": [
    "#old data plots z position from -,25 to ,25 so just correcting to have easier dimmensions\n",
    "etoh['z'] =etoh['position_z']+.25\n",
    "no_odor['z'] =no_odor['position_z']+.25"
   ]
  },
  {
   "cell_type": "code",
   "execution_count": 9,
   "metadata": {},
   "outputs": [
    {
     "data": {
      "image/png": "[encoded data removed]",
      "text/plain": [
       "<Figure size 432x720 with 6 Axes>"
      ]
     },
     "metadata": {
      "needs_background": "light"
     },
     "output_type": "display_data"
    },
    {
     "data": {
      "image/png": "[encoded data removed]",
      "text/plain": [
       "<Figure size 432x720 with 6 Axes>"
      ]
     },
     "metadata": {
      "needs_background": "light"
     },
     "output_type": "display_data"
    },
    {
     "data": {
      "image/png": "[encoded data removed]",
      "text/plain": [
       "<Figure size 432x720 with 6 Axes>"
      ]
     },
     "metadata": {
      "needs_background": "light"
     },
     "output_type": "display_data"
    },
    {
     "data": {
      "image/png": "[encoded data removed]",
      "text/plain": [
       "<Figure size 432x720 with 6 Axes>"
      ]
     },
     "metadata": {
      "needs_background": "light"
     },
     "output_type": "display_data"
    },
    {
     "data": {
      "image/png": "[encoded data removed]",
      "text/plain": [
       "<Figure size 432x720 with 6 Axes>"
      ]
     },
     "metadata": {
      "needs_background": "light"
     },
     "output_type": "display_data"
    }
   ],
   "source": [
    "#Fifi template intialization\n",
    "template = '../figure_first_templates/genetic_control_supplement.svg'\n",
    "layout = fifi.svg_to_axes.FigureLayout(template, autogenlayers=True, make_mplfigures=True, hide_layers=[])"
   ]
  },
  {
   "cell_type": "markdown",
   "metadata": {},
   "source": [
    "# Orco Gal4 >CsChrimson Plots"
   ]
  },
  {
   "cell_type": "code",
   "execution_count": 21,
   "metadata": {},
   "outputs": [],
   "source": [
    "ax=layout.axes[('orco', 'hm_f')]"
   ]
  },
  {
   "cell_type": "code",
   "execution_count": 22,
   "metadata": {},
   "outputs": [],
   "source": [
    "cmap_reversed = plt.cm.get_cmap('bone_r')\n",
    "ax.axhspan(0, 675, color = 'red', alpha = 0.1)\n",
    "ax.set_xlim(-3.2, 3.2)\n",
    "a = np.arange(-100,3000,10)\n",
    "b = np.linspace(-np.pi, np.pi, 180)\n",
    "x = np.arange(-100,3010, 10)\n",
    "y = np.linspace(-np.pi, np.pi, 181)\n",
    "bin_values,_,__ = np.histogram2d(orco100['time stamp'], orco100['heading'],  bins =(x, y))\n",
    "\n",
    "newdf = pd.DataFrame(bin_values.T, columns=a, index=b)\n",
    "sumz = newdf.sum(axis=0)\n",
    "\n",
    "newdf_normed= newdf\n",
    "for i in range(0,len(sumz)):\n",
    "    newdf_normed.iloc[:,i] = newdf.iloc[:,i]/sumz.iloc[i]\n",
    "X,Y = np.meshgrid(x,y)\n",
    "# Plot the heatmap\n",
    "ax.pcolormesh(Y, X, newdf_normed, vmin=0, vmax=0.04, cmap='bone_r', shading='flat', rasterized=True)\n",
    "\n",
    "\n",
    "ax.set_xticklabels([])\n",
    "ax.set_yticklabels([])\n",
    "\n",
    "fifi.mpl_functions.adjust_spines(ax, ['left','bottom'], xticks =[-3.14, -3.14/2, 0, 3.14/2, 3.14], yticks=[0, 675, 3000],  tick_length=3, linewidth=.5)\n",
    "fifi.mpl_functions.set_fontsize(ax, fs)\n"
   ]
  },
  {
   "cell_type": "code",
   "execution_count": 23,
   "metadata": {},
   "outputs": [],
   "source": [
    "ax =layout.axes[('orco', 'prop_f')]"
   ]
  },
  {
   "cell_type": "code",
   "execution_count": 24,
   "metadata": {},
   "outputs": [],
   "source": [
    "#Grab population mean and error boundaries for both flash and sham subsets for orco flies for altitude\n",
    "t, uw, cw, dw= slice_head_prop(orco100)\n",
    "#give unique name to these variables because takes a while to crunch"
   ]
  },
  {
   "cell_type": "code",
   "execution_count": null,
   "metadata": {},
   "outputs": [],
   "source": []
  },
  {
   "cell_type": "code",
   "execution_count": 25,
   "metadata": {},
   "outputs": [],
   "source": [
    "ax.plot(uw, t, color = 'green', linewidth =.5)\n",
    "ax.plot(cw, t, color ='blue', linewidth=.5)\n",
    "ax.plot(dw, t, color = 'orange', linewidth =.5)\n",
    "ax.set_ylim(-100, 3000)\n",
    "ax.axhspan(0, 675, color = 'red', alpha = 0.1)\n",
    "ax.set_yticklabels([' ',' ', ' '])\n",
    "ax.set_xticklabels([' ',' '])\n",
    "fifi.mpl_functions.adjust_spines(ax, ['bottom'],xticks=[0, 1.0], yticks=[0, 675, 3000], tick_length=3, linewidth=lw)\n",
    "fifi.mpl_functions.set_fontsize(ax, fs)\n"
   ]
  },
  {
   "cell_type": "code",
   "execution_count": 26,
   "metadata": {},
   "outputs": [],
   "source": [
    "ax=layout.axes[('orco', 'hm_s')]"
   ]
  },
  {
   "cell_type": "code",
   "execution_count": 27,
   "metadata": {},
   "outputs": [],
   "source": [
    "cmap_reversed = plt.cm.get_cmap('bone_r')\n",
    "\n",
    "ax.set_xlim(-3.2, 3.2)\n",
    "a = np.arange(-100,3000,10)\n",
    "b = np.linspace(-np.pi, np.pi, 180)\n",
    "x = np.arange(-100,3010, 10)\n",
    "y = np.linspace(-np.pi, np.pi, 181)\n",
    "bin_values,_,__ = np.histogram2d(orco0['time stamp'], orco0['heading'],  bins =(x, y))\n",
    "\n",
    "newdf = pd.DataFrame(bin_values.T, columns=a, index=b)\n",
    "sumz = newdf.sum(axis=0)\n",
    "\n",
    "newdf_normed= newdf\n",
    "for i in range(0,len(sumz)):\n",
    "    newdf_normed.iloc[:,i] = newdf.iloc[:,i]/sumz.iloc[i]\n",
    "X,Y = np.meshgrid(x,y)\n",
    "# Plot the heatmap\n",
    "ax.pcolormesh(Y, X, newdf_normed, vmin=0, vmax=0.04, cmap='bone_r', shading='flat', rasterized=True)\n",
    "\n",
    "\n",
    "ax.set_xticklabels([])\n",
    "ax.set_yticklabels([])\n",
    "\n",
    "fifi.mpl_functions.adjust_spines(ax, ['left','bottom'], xticks =[-3.14, -3.14/2, 0, 3.14/2, 3.14], yticks=[0, 675, 3000],  tick_length=3, linewidth=.5)\n",
    "fifi.mpl_functions.set_fontsize(ax, fs)\n"
   ]
  },
  {
   "cell_type": "code",
   "execution_count": 28,
   "metadata": {},
   "outputs": [],
   "source": [
    "ax =layout.axes[('orco', 'prop_s')]"
   ]
  },
  {
   "cell_type": "code",
   "execution_count": 29,
   "metadata": {},
   "outputs": [],
   "source": [
    "t0, uw0, cw0, dw0= slice_head_prop(orco0)"
   ]
  },
  {
   "cell_type": "code",
   "execution_count": 30,
   "metadata": {},
   "outputs": [],
   "source": [
    "ax.plot(uw0, t0, color = 'green', linewidth =.5)\n",
    "ax.plot(cw0, t0, color ='blue', linewidth=.5)\n",
    "ax.plot(dw0, t0, color = 'orange', linewidth =.5)\n",
    "ax.set_ylim(-100, 3000)\n",
    "#ax.axhspan(0, 675, color = 'red', alpha = 0.1)\n",
    "ax.set_yticklabels([' ',' ', ' '])\n",
    "ax.set_xticklabels([' ',' '])\n",
    "fifi.mpl_functions.adjust_spines(ax, ['bottom'],xticks=[0, 1.0], yticks=[0, 675, 3000], tick_length=3, linewidth=lw)\n",
    "fifi.mpl_functions.set_fontsize(ax, fs)\n"
   ]
  },
  {
   "cell_type": "code",
   "execution_count": 31,
   "metadata": {},
   "outputs": [],
   "source": [
    "ax=layout.axes[('orco', 'gs')]"
   ]
  },
  {
   "cell_type": "code",
   "execution_count": 32,
   "metadata": {},
   "outputs": [],
   "source": [
    "#Grab population mean and error boundaries for both flash and sham subsets for orco flies\n",
    "t, m, u, l= slice_means_gs(orco100, 'ground speed')\n",
    "t0, m0, u0, l0=slice_means_gs(orco0, 'ground speed')"
   ]
  },
  {
   "cell_type": "code",
   "execution_count": 33,
   "metadata": {},
   "outputs": [],
   "source": [
    "ax.plot(m, t, color = 'red', label = 'Orco>csChrimson', linewidth =.5)\n",
    "ax.plot(m0, t0, color ='k', label = 'Control', linewidth=.5)\n",
    "\n",
    "ax.fill_betweenx(t0, u0, l0, color = 'k', alpha = 0.2, label = '', linewidth =0)\n",
    "\n",
    "ax.fill_betweenx(t, u, l, color = 'red', alpha = 0.2, label = '', linewidth =0)\n",
    "ax.set_ylim(-100, 3000)\n",
    "ax.axhspan(0, 675, color = 'red', alpha = 0.1)\n",
    "ax.set_yticklabels([' ',' ', ' '])\n",
    "ax.set_xticklabels([' ',' '])\n",
    "fifi.mpl_functions.adjust_spines(ax, ['left', 'bottom'],xticks=[0, .6], yticks=[0, 675, 3000], tick_length=3, linewidth=lw)\n",
    "fifi.mpl_functions.set_fontsize(ax, fs)\n"
   ]
  },
  {
   "cell_type": "code",
   "execution_count": 34,
   "metadata": {},
   "outputs": [],
   "source": [
    "ax=layout.axes[('orco', 'alt')]"
   ]
  },
  {
   "cell_type": "code",
   "execution_count": 35,
   "metadata": {},
   "outputs": [],
   "source": [
    "#Grab population mean and error boundaries for both flash and sham subsets for orco flies for altitude\n",
    "t, m, u, l= slice_means_gs(orco100, 'z')\n",
    "t0, m0, u0, l0=slice_means_gs(orco0, 'z')"
   ]
  },
  {
   "cell_type": "code",
   "execution_count": 36,
   "metadata": {},
   "outputs": [],
   "source": [
    "ax.plot(m, t, color = 'red', label = 'Orco>csChrimson', linewidth =.5)\n",
    "ax.plot(m0, t0, color ='k', label = 'Control', linewidth=.5)\n",
    "#ax.set_ylabel(\"Ground Speed (m/s)\")\n",
    "ax.fill_betweenx(t0, u0, l0, color = 'k', alpha = 0.2, label = '', linewidth =0)\n",
    "ax.fill_betweenx(t, u, l, color = 'red', alpha = 0.2, label = '', linewidth =0)\n",
    "ax.set_ylim(-100, 3000)\n",
    "ax.axhspan(0, 675, color = 'red', alpha = 0.1)\n",
    "ax.set_yticklabels([' ',' ', ' '])\n",
    "ax.set_xticklabels([' ',' '])\n",
    "fifi.mpl_functions.adjust_spines(ax, ['left', 'bottom'],xticks=[0, .5], yticks=[0, 675, 3000], tick_length=3, linewidth=lw)\n",
    "fifi.mpl_functions.set_fontsize(ax, fs)\n"
   ]
  },
  {
   "cell_type": "markdown",
   "metadata": {},
   "source": [
    "# Orco>CsChrimso, without ATR Plots\n"
   ]
  },
  {
   "cell_type": "code",
   "execution_count": 38,
   "metadata": {},
   "outputs": [],
   "source": [
    "ax=layout.axes[('no_atr', 'hm_f')]"
   ]
  },
  {
   "cell_type": "code",
   "execution_count": 39,
   "metadata": {},
   "outputs": [],
   "source": [
    "cmap_reversed = plt.cm.get_cmap('bone_r')\n",
    "ax.axhspan(0, 675, color = 'red', alpha = 0.1)\n",
    "ax.set_xlim(-3.2, 3.2)\n",
    "a = np.arange(-100,3000,10)\n",
    "b = np.linspace(-np.pi, np.pi, 180)\n",
    "x = np.arange(-100,3010, 10)\n",
    "y = np.linspace(-np.pi, np.pi, 181)\n",
    "bin_values,_,__ = np.histogram2d(noatr100['time stamp'], noatr100['heading'],  bins =(x, y))\n",
    "\n",
    "newdf = pd.DataFrame(bin_values.T, columns=a, index=b)\n",
    "sumz = newdf.sum(axis=0)\n",
    "\n",
    "newdf_normed= newdf\n",
    "for i in range(0,len(sumz)):\n",
    "    newdf_normed.iloc[:,i] = newdf.iloc[:,i]/sumz.iloc[i]\n",
    "X,Y = np.meshgrid(x,y)\n",
    "# Plot the heatmap\n",
    "ax.pcolormesh(Y, X, newdf_normed, vmin=0, vmax=0.04, cmap='bone_r', shading='flat', rasterized=True)\n",
    "\n",
    "\n",
    "ax.set_xticklabels([])\n",
    "ax.set_yticklabels([])\n",
    "\n",
    "fifi.mpl_functions.adjust_spines(ax, ['left','bottom'], xticks =[-3.14, -3.14/2, 0, 3.14/2, 3.14], yticks=[0, 675, 3000],  tick_length=3, linewidth=.5)\n",
    "fifi.mpl_functions.set_fontsize(ax, fs)\n"
   ]
  },
  {
   "cell_type": "code",
   "execution_count": 40,
   "metadata": {},
   "outputs": [],
   "source": [
    "ax=layout.axes[('no_atr', 'prop_f')]"
   ]
  },
  {
   "cell_type": "code",
   "execution_count": 41,
   "metadata": {},
   "outputs": [],
   "source": [
    "noatr_t100, noatr_uw100, noatr_cw100, noatr_dw100= slice_head_prop(noatr100)\n",
    "\n",
    "ax.plot(noatr_uw100, noatr_t100, color = 'green', linewidth =.5)\n",
    "ax.plot(noatr_cw100, noatr_t100, color ='blue', linewidth=.5)\n",
    "ax.plot(noatr_dw100, noatr_t100, color = 'orange', linewidth =.5)\n",
    "ax.set_ylim(-100, 3000)\n",
    "ax.axhspan(0, 675, color = 'red', alpha = 0.1)\n",
    "ax.set_yticklabels([' ',' ', ' '])\n",
    "ax.set_xticklabels([' ',' '])\n",
    "fifi.mpl_functions.adjust_spines(ax, ['bottom'],xticks=[0, 1.0], yticks=[0, 675, 3000], tick_length=3, linewidth=lw)\n",
    "fifi.mpl_functions.set_fontsize(ax, fs)"
   ]
  },
  {
   "cell_type": "code",
   "execution_count": 42,
   "metadata": {},
   "outputs": [],
   "source": [
    "ax=layout.axes[('no_atr', 'hm_s')]"
   ]
  },
  {
   "cell_type": "code",
   "execution_count": 43,
   "metadata": {},
   "outputs": [],
   "source": [
    "cmap_reversed = plt.cm.get_cmap('bone_r')\n",
    "\n",
    "ax.set_xlim(-3.2, 3.2)\n",
    "a = np.arange(-100,3000,10)\n",
    "b = np.linspace(-np.pi, np.pi, 180)\n",
    "x = np.arange(-100,3010, 10)\n",
    "y = np.linspace(-np.pi, np.pi, 181)\n",
    "bin_values,_,__ = np.histogram2d(noatr0['time stamp'], noatr0['heading'],  bins =(x, y))\n",
    "\n",
    "newdf = pd.DataFrame(bin_values.T, columns=a, index=b)\n",
    "sumz = newdf.sum(axis=0)\n",
    "\n",
    "newdf_normed= newdf\n",
    "for i in range(0,len(sumz)):\n",
    "    newdf_normed.iloc[:,i] = newdf.iloc[:,i]/sumz.iloc[i]\n",
    "X,Y = np.meshgrid(x,y)\n",
    "# Plot the heatmap\n",
    "ax.pcolormesh(Y, X, newdf_normed, vmin=0, vmax=0.04, cmap='bone_r', shading='flat', rasterized=True)\n",
    "\n",
    "\n",
    "ax.set_xticklabels([])\n",
    "ax.set_yticklabels([])\n",
    "\n",
    "fifi.mpl_functions.adjust_spines(ax, ['left','bottom'], xticks =[-3.14, -3.14/2, 0, 3.14/2, 3.14], yticks=[0, 675, 3000],  tick_length=3, linewidth=.5)\n",
    "fifi.mpl_functions.set_fontsize(ax, fs)\n"
   ]
  },
  {
   "cell_type": "code",
   "execution_count": 44,
   "metadata": {},
   "outputs": [],
   "source": [
    "ax=layout.axes[('no_atr', 'prop_s')]"
   ]
  },
  {
   "cell_type": "code",
   "execution_count": 45,
   "metadata": {},
   "outputs": [],
   "source": [
    "noatr_t0, noatr_uw0, noatr_cw0, noatr_dw0= slice_head_prop(noatr0)\n",
    "\n",
    "ax.plot(noatr_uw0, noatr_t0, color = 'green', linewidth =.5)\n",
    "ax.plot(noatr_cw0, noatr_t0, color ='blue', linewidth=.5)\n",
    "ax.plot(noatr_dw0, noatr_t0, color = 'orange', linewidth =.5)\n",
    "ax.set_ylim(-100, 3000)\n",
    "#ax.axhspan(0, 675, color = 'red', alpha = 0.1)\n",
    "ax.set_yticklabels([' ',' ', ' '])\n",
    "ax.set_xticklabels([' ',' '])\n",
    "fifi.mpl_functions.adjust_spines(ax, ['bottom'],xticks=[0, 1.0], yticks=[], tick_length=3, linewidth=lw)\n",
    "fifi.mpl_functions.set_fontsize(ax, fs)"
   ]
  },
  {
   "cell_type": "code",
   "execution_count": 46,
   "metadata": {},
   "outputs": [],
   "source": [
    "ax=layout.axes[('no_atr', 'gs')]"
   ]
  },
  {
   "cell_type": "code",
   "execution_count": 47,
   "metadata": {},
   "outputs": [],
   "source": [
    "#Grab population mean and error boundaries for both flash and sham subsets for the noatr orco flies\n",
    "t, m, u, l= slice_means_gs(noatr100, 'ground speed')\n",
    "t0, m0, u0, l0=slice_means_gs(noatr0, 'ground speed')"
   ]
  },
  {
   "cell_type": "code",
   "execution_count": 48,
   "metadata": {},
   "outputs": [],
   "source": [
    "ax.plot(m, t, color = 'red', label = 'Orco>csChrimson', linewidth =.5)\n",
    "ax.plot(m0, t0, color ='k', label = 'Control', linewidth=.5)\n",
    "\n",
    "ax.fill_betweenx(t0, u0, l0, color = 'k', alpha = 0.2, label = '', linewidth =0)\n",
    "\n",
    "ax.fill_betweenx(t, u, l, color = 'red', alpha = 0.2, label = '', linewidth =0)\n",
    "ax.set_ylim(-100, 3000)\n",
    "ax.axhspan(0, 675, color = 'red', alpha = 0.1)\n",
    "ax.set_yticklabels([' ',' ', ' '])\n",
    "ax.set_xticklabels([' ',' '])\n",
    "fifi.mpl_functions.adjust_spines(ax, ['left', 'bottom'],xticks=[0, .6], yticks=[0, 675, 3000], tick_length=3, linewidth=lw)\n",
    "fifi.mpl_functions.set_fontsize(ax, fs)"
   ]
  },
  {
   "cell_type": "code",
   "execution_count": 49,
   "metadata": {},
   "outputs": [],
   "source": [
    "ax=layout.axes[('no_atr', 'alt')]"
   ]
  },
  {
   "cell_type": "code",
   "execution_count": 50,
   "metadata": {},
   "outputs": [],
   "source": [
    "t, m, u, l= slice_means_gs(noatr100, 'z')\n",
    "t0, m0, u0, l0=slice_means_gs(noatr0, 'z')"
   ]
  },
  {
   "cell_type": "code",
   "execution_count": 51,
   "metadata": {},
   "outputs": [],
   "source": [
    "ax.plot(m, t, color = 'red', label = 'Orco>csChrimson', linewidth =.5)\n",
    "ax.plot(m0, t0, color ='k', label = 'Control', linewidth=.5)\n",
    "#ax.set_ylabel(\"Ground Speed (m/s)\")\n",
    "ax.fill_betweenx(t0, u0, l0, color = 'k', alpha = 0.2, label = '', linewidth =0)\n",
    "ax.fill_betweenx(t, u, l, color = 'red', alpha = 0.2, label = '', linewidth =0)\n",
    "ax.set_ylim(-100, 3000)\n",
    "ax.axhspan(0, 675, color = 'red', alpha = 0.1)\n",
    "ax.set_yticklabels([' ',' ', ' '])\n",
    "ax.set_xticklabels([' ',' '])\n",
    "fifi.mpl_functions.adjust_spines(ax, ['left', 'bottom'],xticks=[0, .5], yticks=[0, 675, 3000], tick_length=3, linewidth=lw)\n",
    "fifi.mpl_functions.set_fontsize(ax, fs)"
   ]
  },
  {
   "cell_type": "markdown",
   "metadata": {},
   "source": [
    "# Wild Type Controls, Same as Figure 1"
   ]
  },
  {
   "cell_type": "code",
   "execution_count": 52,
   "metadata": {},
   "outputs": [],
   "source": [
    "ax=layout.axes[('wt', 'hm_f')]"
   ]
  },
  {
   "cell_type": "code",
   "execution_count": 53,
   "metadata": {},
   "outputs": [],
   "source": [
    "cmap_reversed = plt.cm.get_cmap('bone_r')\n",
    "ax.axhspan(0, 675, color = 'red', alpha = 0.1)\n",
    "ax.set_xlim(-3.2, 3.2)\n",
    "a = np.arange(-100,3000,10)\n",
    "b = np.linspace(-np.pi, np.pi, 180)\n",
    "x = np.arange(-100,3010, 10)\n",
    "y = np.linspace(-np.pi, np.pi, 181)\n",
    "bin_values,_,__ = np.histogram2d(wt100['time stamp'], wt100['heading'],  bins =(x, y))\n",
    "\n",
    "newdf = pd.DataFrame(bin_values.T, columns=a, index=b)\n",
    "sumz = newdf.sum(axis=0)\n",
    "\n",
    "newdf_normed= newdf\n",
    "for i in range(0,len(sumz)):\n",
    "    newdf_normed.iloc[:,i] = newdf.iloc[:,i]/sumz.iloc[i]\n",
    "X,Y = np.meshgrid(x,y)\n",
    "# Plot the heatmap\n",
    "ax.pcolormesh(Y, X, newdf_normed, vmin=0, vmax=0.04, cmap='bone_r', shading='flat', rasterized=True)\n",
    "\n",
    "\n",
    "ax.set_xticklabels([])\n",
    "ax.set_yticklabels([])\n",
    "\n",
    "fifi.mpl_functions.adjust_spines(ax, ['left','bottom'], xticks =[-3.14, -3.14/2, 0, 3.14/2, 3.14], yticks=[0, 675, 3000],  tick_length=3, linewidth=.5)\n",
    "fifi.mpl_functions.set_fontsize(ax, fs)\n"
   ]
  },
  {
   "cell_type": "code",
   "execution_count": 54,
   "metadata": {},
   "outputs": [],
   "source": [
    "ax=layout.axes[('wt', 'prop_f')]"
   ]
  },
  {
   "cell_type": "code",
   "execution_count": 55,
   "metadata": {},
   "outputs": [],
   "source": [
    "wt_t100, wt_uw100, wt_cw100, wt_dw100= slice_head_prop(wt100)\n",
    "\n",
    "ax.plot(wt_uw100, wt_t100, color = 'green', linewidth =.5)\n",
    "ax.plot(wt_cw100, wt_t100, color ='blue', linewidth=.5)\n",
    "ax.plot(wt_dw100, wt_t100, color = 'orange', linewidth =.5)\n",
    "ax.set_ylim(-100, 3000)\n",
    "ax.axhspan(0, 675, color = 'red', alpha = 0.1)\n",
    "ax.set_yticklabels([' ',' ', ' '])\n",
    "ax.set_xticklabels([' ',' '])\n",
    "fifi.mpl_functions.adjust_spines(ax, ['bottom'],xticks=[0, 1.0], yticks=[0, 675, 3000], tick_length=3, linewidth=lw)\n",
    "fifi.mpl_functions.set_fontsize(ax, fs)"
   ]
  },
  {
   "cell_type": "code",
   "execution_count": 56,
   "metadata": {},
   "outputs": [],
   "source": [
    "ax=layout.axes[('wt', 'hm_s')]"
   ]
  },
  {
   "cell_type": "code",
   "execution_count": 57,
   "metadata": {},
   "outputs": [],
   "source": [
    "cmap_reversed = plt.cm.get_cmap('bone_r')\n",
    "\n",
    "ax.set_xlim(-3.2, 3.2)\n",
    "a = np.arange(-100,3000,10)\n",
    "b = np.linspace(-np.pi, np.pi, 180)\n",
    "x = np.arange(-100,3010, 10)\n",
    "y = np.linspace(-np.pi, np.pi, 181)\n",
    "bin_values,_,__ = np.histogram2d(wt0['time stamp'], wt0['heading'],  bins =(x, y))\n",
    "\n",
    "newdf = pd.DataFrame(bin_values.T, columns=a, index=b)\n",
    "sumz = newdf.sum(axis=0)\n",
    "\n",
    "newdf_normed= newdf\n",
    "for i in range(0,len(sumz)):\n",
    "    newdf_normed.iloc[:,i] = newdf.iloc[:,i]/sumz.iloc[i]\n",
    "X,Y = np.meshgrid(x,y)\n",
    "# Plot the heatmap\n",
    "ax.pcolormesh(Y, X, newdf_normed, vmin=0, vmax=0.04, cmap='bone_r', shading='flat', rasterized=True)\n",
    "\n",
    "\n",
    "ax.set_xticklabels([])\n",
    "ax.set_yticklabels([])\n",
    "\n",
    "fifi.mpl_functions.adjust_spines(ax, ['left','bottom'], xticks =[-3.14, -3.14/2, 0, 3.14/2, 3.14], yticks=[0, 675, 3000],  tick_length=3, linewidth=.5)\n",
    "fifi.mpl_functions.set_fontsize(ax, fs)\n"
   ]
  },
  {
   "cell_type": "code",
   "execution_count": 58,
   "metadata": {},
   "outputs": [],
   "source": [
    "ax=layout.axes[('wt', 'prop_s')]"
   ]
  },
  {
   "cell_type": "code",
   "execution_count": 59,
   "metadata": {},
   "outputs": [],
   "source": [
    "wt_t0, wt_uw0, wt_cw0, wt_dw0= slice_head_prop(wt0)\n",
    "\n",
    "ax.plot(wt_uw0,wt_t0, color = 'green', linewidth =.5)\n",
    "ax.plot(wt_cw0, wt_t0, color ='blue', linewidth=.5)\n",
    "ax.plot(wt_dw0, wt_t0, color = 'orange', linewidth =.5)\n",
    "ax.set_ylim(-100, 3000)\n",
    "#ax.axhspan(0, 675, color = 'red', alpha = 0.1)\n",
    "ax.set_yticklabels([' ',' ', ' '])\n",
    "ax.set_xticklabels([' ',' '])\n",
    "fifi.mpl_functions.adjust_spines(ax, ['bottom'],xticks=[0, 1.0], yticks=[0, 675, 3000], tick_length=3, linewidth=lw)\n",
    "fifi.mpl_functions.set_fontsize(ax, fs)"
   ]
  },
  {
   "cell_type": "code",
   "execution_count": 60,
   "metadata": {},
   "outputs": [],
   "source": [
    "ax=layout.axes[('wt', 'gs')]"
   ]
  },
  {
   "cell_type": "code",
   "execution_count": 61,
   "metadata": {},
   "outputs": [],
   "source": [
    "#Grab population mean and error boundaries for both flash and sham subsets of wt flies\n",
    "t, m, u, l= slice_means_gs(wt100, 'ground speed')\n",
    "t0, m0, u0, l0=slice_means_gs(wt0, 'ground speed')"
   ]
  },
  {
   "cell_type": "code",
   "execution_count": 62,
   "metadata": {},
   "outputs": [],
   "source": [
    "ax.plot(m, t, color = 'red', label = 'Orco>csChrimson', linewidth =.5)\n",
    "ax.plot(m0, t0, color ='k', label = 'Control', linewidth=.5)\n",
    "\n",
    "ax.fill_betweenx(t0, u0, l0, color = 'k', alpha = 0.2, label = '', linewidth =0)\n",
    "\n",
    "ax.fill_betweenx(t, u, l, color = 'red', alpha = 0.2, label = '', linewidth =0)\n",
    "ax.set_ylim(-100, 3000)\n",
    "ax.axhspan(0, 675, color = 'red', alpha = 0.1)\n",
    "ax.set_yticklabels([' ',' ', ' '])\n",
    "ax.set_xticklabels([' ',' '])\n",
    "fifi.mpl_functions.adjust_spines(ax, ['left', 'bottom'],xticks=[0, .6], yticks=[0, 675, 3000], tick_length=3, linewidth=lw)\n",
    "fifi.mpl_functions.set_fontsize(ax, fs)"
   ]
  },
  {
   "cell_type": "code",
   "execution_count": 63,
   "metadata": {},
   "outputs": [],
   "source": [
    "ax=layout.axes[('wt', 'alt')]"
   ]
  },
  {
   "cell_type": "code",
   "execution_count": 64,
   "metadata": {},
   "outputs": [],
   "source": [
    "#Grab population mean and error boundaries for both flash and sham subsets of wt flies\n",
    "t, m, u, l= slice_means_gs(wt100, 'z')\n",
    "t0, m0, u0, l0=slice_means_gs(wt0, 'z')"
   ]
  },
  {
   "cell_type": "code",
   "execution_count": 65,
   "metadata": {},
   "outputs": [],
   "source": [
    "ax.plot(m, t, color = 'red', label = 'Orco>csChrimson', linewidth =.5)\n",
    "ax.plot(m0, t0, color ='k', label = 'Control', linewidth=.5)\n",
    "#ax.set_ylabel(\"Ground Speed (m/s)\")\n",
    "ax.fill_betweenx(t0, u0, l0, color = 'k', alpha = 0.2, label = '', linewidth =0)\n",
    "ax.fill_betweenx(t, u, l, color = 'red', alpha = 0.2, label = '', linewidth =0)\n",
    "ax.set_ylim(-100, 3000)\n",
    "ax.axhspan(0, 675, color = 'red', alpha = 0.1)\n",
    "ax.set_yticklabels([' ',' ', ' '])\n",
    "ax.set_xticklabels([' ',' '])\n",
    "fifi.mpl_functions.adjust_spines(ax, ['left', 'bottom'],xticks=[0, .5], yticks=[0, 675, 3000], tick_length=3, linewidth=lw)\n",
    "fifi.mpl_functions.set_fontsize(ax, fs)"
   ]
  },
  {
   "cell_type": "markdown",
   "metadata": {},
   "source": [
    "# CsChrimson Heterozygotes"
   ]
  },
  {
   "cell_type": "code",
   "execution_count": 66,
   "metadata": {},
   "outputs": [],
   "source": [
    "ax=layout.axes[('u1wt', 'hm_f')]"
   ]
  },
  {
   "cell_type": "code",
   "execution_count": 67,
   "metadata": {},
   "outputs": [],
   "source": [
    "cmap_reversed = plt.cm.get_cmap('bone_r')\n",
    "ax.axhspan(0, 675, color = 'red', alpha = 0.1)\n",
    "ax.set_xlim(-3.2, 3.2)\n",
    "a = np.arange(-100,3000,10)\n",
    "b = np.linspace(-np.pi, np.pi, 180)\n",
    "x = np.arange(-100,3010, 10)\n",
    "y = np.linspace(-np.pi, np.pi, 181)\n",
    "bin_values,_,__ = np.histogram2d(u1wt100['time stamp'], u1wt100['heading'],  bins =(x, y))\n",
    "\n",
    "newdf = pd.DataFrame(bin_values.T, columns=a, index=b)\n",
    "sumz = newdf.sum(axis=0)\n",
    "\n",
    "newdf_normed= newdf\n",
    "for i in range(0,len(sumz)):\n",
    "    newdf_normed.iloc[:,i] = newdf.iloc[:,i]/sumz.iloc[i]\n",
    "X,Y = np.meshgrid(x,y)\n",
    "# Plot the heatmap\n",
    "ax.pcolormesh(Y, X, newdf_normed, vmin=0, vmax=0.04, cmap='bone_r', shading='flat', rasterized=True)\n",
    "\n",
    "\n",
    "ax.set_xticklabels([r'-$\\pi$', r'-$\\pi/2$', '0',r'$\\pi/2$', r'$\\pi$' ])\n",
    "ax.set_yticklabels([])\n",
    "\n",
    "fifi.mpl_functions.adjust_spines(ax, ['left','bottom'], xticks =[-3.14, -3.14/2, 0, 3.14/2, 3.14], yticks=[0, 675, 3000],  tick_length=3, linewidth=.5)\n",
    "fifi.mpl_functions.set_fontsize(ax, fs)\n"
   ]
  },
  {
   "cell_type": "code",
   "execution_count": 68,
   "metadata": {},
   "outputs": [],
   "source": [
    "ax=layout.axes[('u1wt', 'prop_f')]"
   ]
  },
  {
   "cell_type": "code",
   "execution_count": 69,
   "metadata": {},
   "outputs": [],
   "source": [
    "u1wt_t100, u1wt_uw100, u1wt_cw100, u1wt_dw100= slice_head_prop(u1wt100)\n",
    "\n",
    "ax.plot(u1wt_uw100,u1wt_t100, color = 'green', linewidth =.5)\n",
    "ax.plot(u1wt_cw100, u1wt_t100, color ='blue', linewidth=.5)\n",
    "ax.plot(u1wt_dw100, u1wt_t100, color = 'orange', linewidth =.5)\n",
    "ax.set_ylim(-100, 3000)\n",
    "ax.axhspan(0, 675, color = 'red', alpha = 0.1)\n",
    "ax.set_yticklabels([' ',' ', ' '])\n",
    "ax.set_xticklabels([' ',' '])\n",
    "fifi.mpl_functions.adjust_spines(ax, ['bottom'],xticks=[0, 1.0], yticks=[0, 675, 3000], tick_length=3, linewidth=lw)\n",
    "fifi.mpl_functions.set_fontsize(ax, fs)"
   ]
  },
  {
   "cell_type": "code",
   "execution_count": 70,
   "metadata": {},
   "outputs": [],
   "source": [
    "ax=layout.axes[('u1wt', 'hm_s')]"
   ]
  },
  {
   "cell_type": "code",
   "execution_count": 71,
   "metadata": {},
   "outputs": [],
   "source": [
    "cmap_reversed = plt.cm.get_cmap('bone_r')\n",
    "\n",
    "ax.set_xlim(-3.2, 3.2)\n",
    "a = np.arange(-100,3000,10)\n",
    "b = np.linspace(-np.pi, np.pi, 180)\n",
    "x = np.arange(-100,3010, 10)\n",
    "y = np.linspace(-np.pi, np.pi, 181)\n",
    "bin_values,_,__ = np.histogram2d(u1wt0['time stamp'], u1wt0['heading'],  bins =(x, y))\n",
    "\n",
    "newdf = pd.DataFrame(bin_values.T, columns=a, index=b)\n",
    "sumz = newdf.sum(axis=0)\n",
    "\n",
    "newdf_normed= newdf\n",
    "for i in range(0,len(sumz)):\n",
    "    newdf_normed.iloc[:,i] = newdf.iloc[:,i]/sumz.iloc[i]\n",
    "X,Y = np.meshgrid(x,y)\n",
    "# Plot the heatmap\n",
    "ax.pcolormesh(Y, X, newdf_normed, vmin=0, vmax=0.04, cmap='bone_r', shading='flat', rasterized=True)\n",
    "\n",
    "\n",
    "ax.set_xticklabels([])\n",
    "ax.set_yticklabels([])\n",
    "\n",
    "fifi.mpl_functions.adjust_spines(ax, ['left','bottom'], xticks =[-3.14, -3.14/2, 0, 3.14/2, 3.14], yticks=[0, 675, 3000],  tick_length=3, linewidth=.5)\n",
    "fifi.mpl_functions.set_fontsize(ax, fs)\n"
   ]
  },
  {
   "cell_type": "code",
   "execution_count": 72,
   "metadata": {},
   "outputs": [],
   "source": [
    "ax=layout.axes[('u1wt', 'prop_s')]"
   ]
  },
  {
   "cell_type": "code",
   "execution_count": 73,
   "metadata": {},
   "outputs": [],
   "source": [
    "u1wt_t0, u1wt_uw0, u1wt_cw0, u1wt_dw0= slice_head_prop(u1wt0)\n",
    "\n",
    "ax.plot(u1wt_uw0,u1wt_t0, color = 'green', linewidth =.5)\n",
    "ax.plot(u1wt_cw0, u1wt_t0, color ='blue', linewidth=.5)\n",
    "ax.plot(u1wt_dw0, u1wt_t0, color = 'orange', linewidth =.5)\n",
    "ax.set_ylim(-100, 3000)\n",
    "#ax.axhspan(0, 675, color = 'red', alpha = 0.1)\n",
    "ax.set_yticklabels([' ',' ', ' '])\n",
    "ax.set_xticklabels([' ',' '])\n",
    "fifi.mpl_functions.adjust_spines(ax, ['bottom'],xticks=[0, 1.0], yticks=[0, 675, 3000], tick_length=3, linewidth=lw)\n",
    "fifi.mpl_functions.set_fontsize(ax, fs)"
   ]
  },
  {
   "cell_type": "code",
   "execution_count": 74,
   "metadata": {},
   "outputs": [],
   "source": [
    "ax=layout.axes[('u1wt', 'gs')]"
   ]
  },
  {
   "cell_type": "code",
   "execution_count": 75,
   "metadata": {},
   "outputs": [],
   "source": [
    "#Grab population mean and error boundaries for both flash and sham subsets of csChrimson hets (u1 is an itnernal lab name for bloomington 55135)\n",
    "t, m, u, l= slice_means_gs(u1wt100, 'ground speed')\n",
    "t0, m0, u0, l0=slice_means_gs(u1wt0, 'ground speed')"
   ]
  },
  {
   "cell_type": "code",
   "execution_count": 76,
   "metadata": {},
   "outputs": [],
   "source": [
    "ax.plot(m, t, color = 'red', label = 'Orco>csChrimson', linewidth =.5)\n",
    "ax.plot(m0, t0, color ='k', label = 'Control', linewidth=.5)\n",
    "\n",
    "ax.fill_betweenx(t0, u0, l0, color = 'k', alpha = 0.2, label = '', linewidth =0)\n",
    "\n",
    "ax.fill_betweenx(t, u, l, color = 'red', alpha = 0.2, label = '', linewidth =0)\n",
    "ax.set_ylim(-100, 3000)\n",
    "ax.axhspan(0, 675, color = 'red', alpha = 0.1)\n",
    "ax.set_yticklabels([' ',' ', ' '])\n",
    "ax.set_xticklabels([' ',' '])\n",
    "fifi.mpl_functions.adjust_spines(ax, ['left', 'bottom'],xticks=[0, .6], yticks=[0, 675, 3000], tick_length=3, linewidth=lw)\n",
    "fifi.mpl_functions.set_fontsize(ax, fs)"
   ]
  },
  {
   "cell_type": "code",
   "execution_count": 77,
   "metadata": {},
   "outputs": [],
   "source": [
    "ax=layout.axes[('u1wt', 'alt')]"
   ]
  },
  {
   "cell_type": "code",
   "execution_count": 78,
   "metadata": {},
   "outputs": [],
   "source": [
    "t, m, u, l= slice_means_gs(u1wt100, 'z')\n",
    "t0, m0, u0, l0=slice_means_gs(u1wt0, 'z')"
   ]
  },
  {
   "cell_type": "code",
   "execution_count": 79,
   "metadata": {},
   "outputs": [],
   "source": [
    "ax.plot(m, t, color = 'red', label = 'Orco>csChrimson', linewidth =.5)\n",
    "ax.plot(m0, t0, color ='k', label = 'Control', linewidth=.5)\n",
    "#ax.set_ylabel(\"Ground Speed (m/s)\")\n",
    "ax.fill_betweenx(t0, u0, l0, color = 'k', alpha = 0.2, label = '', linewidth =0)\n",
    "ax.fill_betweenx(t, u, l, color = 'red', alpha = 0.2, label = '', linewidth =0)\n",
    "ax.set_ylim(-100, 3000)\n",
    "ax.axhspan(0, 675, color = 'red', alpha = 0.1)\n",
    "ax.set_yticklabels(['','', ''])\n",
    "ax.set_xticklabels([ '', '', ''])\n",
    "fifi.mpl_functions.adjust_spines(ax, ['left', 'bottom'],xticks=[0, .5], yticks=[0, 675, 3000], tick_length=3, linewidth=lw)\n",
    "fifi.mpl_functions.set_fontsize(ax, fs)"
   ]
  },
  {
   "cell_type": "markdown",
   "metadata": {},
   "source": [
    "# Ethanol Course Direction Heat Map Comparison from van Breugel 2014, plotted in same format"
   ]
  },
  {
   "cell_type": "code",
   "execution_count": 80,
   "metadata": {},
   "outputs": [],
   "source": [
    "ax=layout.axes[('etoh', 'hm_etoh')]"
   ]
  },
  {
   "cell_type": "code",
   "execution_count": 81,
   "metadata": {},
   "outputs": [],
   "source": [
    "cmap_reversed = plt.cm.get_cmap('bone_r')\n",
    "\n",
    "#ax.axhspan(0, .675, color = 'red', alpha = 0.2)\n",
    "ax.set_xlim(-3.2, 3.2)\n",
    "a = np.arange(-.100,3.000,.05)\n",
    "b = np.linspace(-np.pi, np.pi, 180)\n",
    "x = np.arange(-.100,3.010, .05)\n",
    "y = np.linspace(-np.pi, np.pi, 181)\n",
    "bin_values,_,__ = np.histogram2d(etoh['time_since_odor_onset'], wrap_angle(etoh.course+np.pi),  bins =(x, y))\n",
    "#print(bin_values)\n",
    "newdf = pd.DataFrame(bin_values.T, columns=a, index=b)\n",
    "#print(newdf)\n",
    "sumz = newdf.sum(axis=0)\n",
    "#print(sumz)\n",
    "newdf_normed= newdf\n",
    "for i in range(0,len(sumz)):\n",
    "    newdf_normed.iloc[:,i] = newdf.iloc[:,i]/sumz.iloc[i]\n",
    "X,Y = np.meshgrid(x,y)\n",
    "# Plot the heatmap\n",
    "ax.pcolormesh(Y, X, newdf_normed, vmin=0.002, vmax=0.04, cmap='bone_r', shading='flat', rasterized=True)\n",
    "\n",
    "\n",
    "ax.set_xticklabels([])\n",
    "ax.set_yticklabels([])\n",
    "\n",
    "fifi.mpl_functions.adjust_spines(ax, ['left','bottom'], xticks =[-3.14, -3.14/2, 0, 3.14/2, 3.14], yticks=[0, .675, 3.000], tick_length=3, linewidth=lw)\n",
    "fifi.mpl_functions.set_fontsize(ax, fs)"
   ]
  },
  {
   "cell_type": "markdown",
   "metadata": {},
   "source": [
    "# Clean Course Direction Heat Map Comparison from van Breugel 2014, plotted in same format"
   ]
  },
  {
   "cell_type": "code",
   "execution_count": 82,
   "metadata": {},
   "outputs": [],
   "source": [
    "ax=layout.axes[('etoh', 'ca', 'hm_ca')]"
   ]
  },
  {
   "cell_type": "code",
   "execution_count": 83,
   "metadata": {},
   "outputs": [],
   "source": [
    "cmap_reversed = plt.cm.get_cmap('bone_r')\n",
    "\n",
    "#ax.axhspan(0, .675, color = 'red', alpha = 0.2)\n",
    "ax.set_xlim(-3.2, 3.2)\n",
    "a = np.arange(-.100,3.000,.05)\n",
    "b = np.linspace(-np.pi, np.pi, 180)\n",
    "x = np.arange(-.100,3.010, .05)\n",
    "y = np.linspace(-np.pi, np.pi, 181)\n",
    "bin_values,_,__ = np.histogram2d(no_odor['time_since_odor_onset'], wrap_angle(no_odor.course+np.pi),  bins =(x, y))\n",
    "#print(bin_values)\n",
    "newdf = pd.DataFrame(bin_values.T, columns=a, index=b)\n",
    "#print(newdf)\n",
    "sumz = newdf.sum(axis=0)\n",
    "#print(sumz)\n",
    "newdf_normed= newdf\n",
    "for i in range(0,len(sumz)):\n",
    "    newdf_normed.iloc[:,i] = newdf.iloc[:,i]/sumz.iloc[i]\n",
    "X,Y = np.meshgrid(x,y)\n",
    "# Plot the heatmap\n",
    "ax.pcolormesh(Y, X, newdf_normed, vmin=0.002, vmax=0.04, cmap='bone_r', shading='flat', rasterized=True)\n",
    "\n",
    "#ax.set_ylabel(\"Time (ms)\")\n",
    "ax.set_xticklabels([])\n",
    "ax.set_yticklabels([])\n",
    "#ax.set_xlabel(\"Heading\")\n",
    "#ax.set_title(\"Orco>csChrimson\")\n",
    "#ax.hist2d(orco100['heading'],(orco100['time stamp']), cmap = cmap_reversed, bins =(180, 310), vmin =0, vmax =15)\n",
    "fifi.mpl_functions.adjust_spines(ax, ['left','bottom'], xticks =[-3.14, -3.14/2, 0, 3.14/2, 3.14], yticks=[0, .675, 3.000], tick_length=3, linewidth=lw)\n",
    "fifi.mpl_functions.set_fontsize(ax, fs)"
   ]
  },
  {
   "cell_type": "markdown",
   "metadata": {},
   "source": [
    "# Ethanol Ground Speed"
   ]
  },
  {
   "cell_type": "code",
   "execution_count": 85,
   "metadata": {},
   "outputs": [],
   "source": [
    "ax=layout.axes[('etoh', 'gs_etoh')]"
   ]
  },
  {
   "cell_type": "code",
   "execution_count": 86,
   "metadata": {},
   "outputs": [],
   "source": [
    "t_, m_, u_, l_= slice_means_time_lumping(etoh, 'ground speed' , time_key=\"time_since_odor_onset\", start = 0.0, stop = 3.0, bin_size=.01)\n",
    "t0, m0, u0, l0=slice_means_time_lumping(etoh, 'ground speed' , time_key=\"time_before_odor_onset\", start = -.5, stop = 0, bin_size=.01)"
   ]
  },
  {
   "cell_type": "code",
   "execution_count": 87,
   "metadata": {},
   "outputs": [],
   "source": [
    "ax.plot(m_, t_, color = 'red', label = 'Light Pulse', linewidth =.5)\n",
    "ax.plot(m0, t0, color ='red', label = 'No Pulse', linewidth=.5)\n",
    "#ax.set_ylabel(\"Ground Speed (m/s)\")\n",
    "ax.fill_betweenx(t0, u0, l0, color = 'red', alpha = 0.2, label = '', linewidth =0)\n",
    "ax.fill_betweenx(t_, u_, l_, color = 'red', alpha = 0.2, label = '', linewidth =0)\n",
    "#ax.legend()\n",
    "#ax.set_xlabel(\"Time Relative to Trigger (ms)\")\n",
    "#ax.set_ylabel(\"Ground Speed (m/s)\")\n",
    "#ax.set_title(\"EtOH\")\n",
    "#ax.set_xlabel(\"Time Relative to Plume Entry\")\n",
    "#ax.axvspan(0, .675, color = 'red', alpha = 0.1)\n",
    "ax.set_xlim(0, .6)\n",
    "ax.set_ylim(-.1, 3)\n",
    "ax.set_xticklabels([])\n",
    "ax.set_yticklabels([])\n",
    "fifi.mpl_functions.adjust_spines(ax, ['bottom', 'left'],yticks=[0, .675, 3.000], xticks=[0, .6], tick_length=3, linewidth=lw)\n",
    "fifi.mpl_functions.set_fontsize(ax, fs)\n"
   ]
  },
  {
   "cell_type": "markdown",
   "metadata": {},
   "source": [
    "# Clean Air ground speed"
   ]
  },
  {
   "cell_type": "code",
   "execution_count": 88,
   "metadata": {},
   "outputs": [],
   "source": [
    "t_, m_, u_, l_= slice_means_time_lumping(no_odor, 'ground speed' , time_key=\"time_since_odor_onset\", start = 0.0, stop = 3.0, bin_size=.01)\n",
    "t0, m0, u0, l0=slice_means_time_lumping(no_odor, 'ground speed' , time_key=\"time_before_odor_onset\", start = -.5, stop = 0, bin_size=.01)"
   ]
  },
  {
   "cell_type": "code",
   "execution_count": 89,
   "metadata": {},
   "outputs": [],
   "source": [
    "ax.plot(m_, t_, color = 'k', label = 'Light Pulse', linewidth =.5)\n",
    "ax.plot(m0, t0, color ='k', label = 'No Pulse', linewidth=.5)\n",
    "\n",
    "ax.fill_betweenx(t0, u0, l0, color = 'k', alpha = 0.2, label = '', linewidth =0)\n",
    "ax.fill_betweenx(t_, u_, l_, color = 'k', alpha = 0.2, label = '', linewidth =0)\n",
    "\n",
    "ax.set_xlim(0, .6)\n",
    "ax.set_ylim(-.100, 3.000)\n",
    "ax.set_xticklabels([])\n",
    "ax.set_yticklabels([])\n",
    "fifi.mpl_functions.adjust_spines(ax, ['bottom', 'left'],yticks=[0, .675, 3.000], xticks=[0, .6], tick_length=3, linewidth=lw)\n",
    "fifi.mpl_functions.set_fontsize(ax, fs)\n"
   ]
  },
  {
   "cell_type": "markdown",
   "metadata": {},
   "source": [
    "# Ethanol and clean air altitude plots"
   ]
  },
  {
   "cell_type": "code",
   "execution_count": 90,
   "metadata": {},
   "outputs": [],
   "source": [
    "ax=layout.axes[('etoh', 'alt_etoh')]"
   ]
  },
  {
   "cell_type": "code",
   "execution_count": 91,
   "metadata": {},
   "outputs": [],
   "source": [
    "t_, m_, u_, l_= slice_means_time_lumping(etoh, 'z' , time_key=\"time_since_odor_onset\", start = 0.0, stop = 3.0, bin_size=.01)\n",
    "t0, m0, u0, l0=slice_means_time_lumping(etoh, 'z' , time_key=\"time_before_odor_onset\", start = -.5, stop = 0, bin_size=.01)"
   ]
  },
  {
   "cell_type": "code",
   "execution_count": 92,
   "metadata": {},
   "outputs": [],
   "source": [
    "ax.plot(m_, t_, color = 'red', label = 'Light Pulse', linewidth =.5)\n",
    "ax.plot(m0, t0, color ='red', label = 'No Pulse', linewidth=.5)\n",
    "\n",
    "ax.fill_betweenx(t0, u0, l0, color = 'red', alpha = 0.2, label = '', linewidth =0)\n",
    "ax.fill_betweenx(t_, u_, l_, color = 'red', alpha = 0.2, label = '', linewidth =0)\n",
    "\n",
    "ax.set_xlim(0, .5)\n",
    "ax.set_ylim(-.1, 3)\n",
    "ax.set_xticklabels([])\n",
    "ax.set_yticklabels([])\n",
    "fifi.mpl_functions.adjust_spines(ax, ['bottom', 'left'],yticks=[0, .675, 3.000], xticks=[0, .5], tick_length=3, linewidth=lw)\n",
    "fifi.mpl_functions.set_fontsize(ax, fs)\n"
   ]
  },
  {
   "cell_type": "code",
   "execution_count": 93,
   "metadata": {},
   "outputs": [],
   "source": [
    "t_, m_, u_, l_= slice_means_time_lumping(no_odor, 'z' , time_key=\"time_since_odor_onset\", start = 0.0, stop = 3.0, bin_size=.01)\n",
    "t0, m0, u0, l0=slice_means_time_lumping(no_odor, 'z' , time_key=\"time_before_odor_onset\", start = -.5, stop = 0, bin_size=.01)"
   ]
  },
  {
   "cell_type": "code",
   "execution_count": 94,
   "metadata": {},
   "outputs": [],
   "source": [
    "ax.plot(m_, t_, color = 'k', label = 'Light Pulse', linewidth =.5)\n",
    "ax.plot(m0, t0, color ='k', label = 'No Pulse', linewidth=.5)\n",
    "\n",
    "ax.fill_betweenx(t0, u0, l0, color = 'k', alpha = 0.2, label = '', linewidth =0)\n",
    "ax.fill_betweenx(t_, u_, l_, color = 'k', alpha = 0.2, label = '', linewidth =0)\n",
    "\n",
    "ax.set_xlim(0, .5)\n",
    "ax.set_ylim(-.1, 3)\n",
    "ax.set_xticklabels([])\n",
    "ax.set_yticklabels([])\n",
    "fifi.mpl_functions.adjust_spines(ax, ['bottom', 'left'],yticks=[0, .675, 3.000], xticks=[0, .5], tick_length=3, linewidth=lw)\n",
    "fifi.mpl_functions.set_fontsize(ax, fs)\n"
   ]
  },
  {
   "cell_type": "code",
   "execution_count": 95,
   "metadata": {},
   "outputs": [],
   "source": [
    "ax=layout.axes[('etoh', 'prop_etoh')]"
   ]
  },
  {
   "cell_type": "code",
   "execution_count": 96,
   "metadata": {},
   "outputs": [
    {
     "name": "stderr",
     "output_type": "stream",
     "text": [
      "/home/flybot/.local/lib/python2.7/site-packages/ipykernel_launcher.py:12: SettingWithCopyWarning: \n",
      "A value is trying to be set on a copy of a slice from a DataFrame.\n",
      "Try using .loc[row_indexer,col_indexer] = value instead\n",
      "\n",
      "See the caveats in the documentation: http://pandas.pydata.org/pandas-docs/stable/indexing.html#indexing-view-versus-copy\n",
      "  if sys.path[0] == '':\n"
     ]
    }
   ],
   "source": [
    "et_t,et_u, et_c, et_d=slice_props_time_lumping(etoh, 'course' , time_key=\"time_since_odor_onset\", start = 0.0, stop = 3.0, bin_size=.01)"
   ]
  },
  {
   "cell_type": "code",
   "execution_count": 97,
   "metadata": {},
   "outputs": [],
   "source": [
    "#Upwind and Downwind are flipped in floris's data so green and orange traces are swapped here\n",
    "ax.plot(et_u,et_t, color = 'orange', linewidth =.5)\n",
    "ax.plot(et_c, et_t, color ='blue', linewidth=.5)\n",
    "ax.plot(et_d, et_t, color = 'green', linewidth =.5)\n",
    "ax.set_ylim(-.100, 3.000)\n",
    "#ax.axhspan(0, 675, color = 'red', alpha = 0.1)\n",
    "ax.set_yticklabels([' ',' ', ' '])\n",
    "ax.set_xticklabels([' ',' '])\n",
    "fifi.mpl_functions.adjust_spines(ax, ['bottom'],xticks=[0, 1.0], yticks=[0, .675, 3.000], tick_length=3, linewidth=lw)\n",
    "fifi.mpl_functions.set_fontsize(ax, fs)"
   ]
  },
  {
   "cell_type": "code",
   "execution_count": 98,
   "metadata": {},
   "outputs": [],
   "source": [
    "ax=layout.axes[('etoh', 'ca', 'prop_ca')]"
   ]
  },
  {
   "cell_type": "code",
   "execution_count": 99,
   "metadata": {},
   "outputs": [
    {
     "name": "stderr",
     "output_type": "stream",
     "text": [
      "/home/flybot/.local/lib/python2.7/site-packages/ipykernel_launcher.py:12: SettingWithCopyWarning: \n",
      "A value is trying to be set on a copy of a slice from a DataFrame.\n",
      "Try using .loc[row_indexer,col_indexer] = value instead\n",
      "\n",
      "See the caveats in the documentation: http://pandas.pydata.org/pandas-docs/stable/indexing.html#indexing-view-versus-copy\n",
      "  if sys.path[0] == '':\n"
     ]
    }
   ],
   "source": [
    "ca_t,ca_u, ca_c, ca_d=slice_props_time_lumping(no_odor, 'course' , time_key=\"time_since_odor_onset\", start = 0.0, stop = 3.0, bin_size=.01)"
   ]
  },
  {
   "cell_type": "code",
   "execution_count": 100,
   "metadata": {},
   "outputs": [],
   "source": [
    "ax.plot(ca_u,ca_t, color = 'orange', linewidth =.5)\n",
    "ax.plot(ca_c, ca_t, color ='blue', linewidth=.5)\n",
    "ax.plot(ca_d, ca_t, color = 'green', linewidth =.5)\n",
    "ax.set_ylim(-.100, 3.000)\n",
    "\n",
    "ax.set_yticklabels([' ',' ', ' '])\n",
    "ax.set_xticklabels([' ',' '])\n",
    "fifi.mpl_functions.adjust_spines(ax, ['bottom'],xticks=[0, 1.0], yticks=[0, .675, 3.000], tick_length=3, linewidth=lw)\n",
    "fifi.mpl_functions.set_fontsize(ax, fs)"
   ]
  },
  {
   "cell_type": "markdown",
   "metadata": {},
   "source": [
    "# Figure first throw plots onto inkscape scg"
   ]
  },
  {
   "cell_type": "code",
   "execution_count": 101,
   "metadata": {},
   "outputs": [],
   "source": [
    "layout.append_figure_to_layer(layout.figures['orco'], 'orco', cleartarget=True)\n",
    "layout.append_figure_to_layer(layout.figures['no_atr'], 'no_atr', cleartarget=True)\n",
    "layout.append_figure_to_layer(layout.figures['wt'], 'wt', cleartarget=True)\n",
    "layout.append_figure_to_layer(layout.figures['u1wt'], 'u1wt', cleartarget=True)\n",
    "layout.append_figure_to_layer(layout.figures['etoh'], 'etoh', cleartarget=True)"
   ]
  },
  {
   "cell_type": "markdown",
   "metadata": {},
   "source": [
    "# Save svg\n"
   ]
  },
  {
   "cell_type": "code",
   "execution_count": 102,
   "metadata": {},
   "outputs": [],
   "source": [
    "layout.write_svg(template)"
   ]
  },
  {
   "cell_type": "code",
   "execution_count": null,
   "metadata": {},
   "outputs": [],
   "source": []
  },
  {
   "cell_type": "code",
   "execution_count": null,
   "metadata": {},
   "outputs": [],
   "source": []
  },
  {
   "cell_type": "code",
   "execution_count": null,
   "metadata": {},
   "outputs": [],
   "source": []
  },
  {
   "cell_type": "code",
   "execution_count": null,
   "metadata": {},
   "outputs": [],
   "source": []
  },
  {
   "cell_type": "code",
   "execution_count": null,
   "metadata": {},
   "outputs": [],
   "source": []
  },
  {
   "cell_type": "code",
   "execution_count": null,
   "metadata": {},
   "outputs": [],
   "source": []
  },
  {
   "cell_type": "code",
   "execution_count": null,
   "metadata": {},
   "outputs": [],
   "source": []
  },
  {
   "cell_type": "code",
   "execution_count": null,
   "metadata": {},
   "outputs": [],
   "source": []
  },
  {
   "cell_type": "code",
   "execution_count": null,
   "metadata": {},
   "outputs": [],
   "source": []
  },
  {
   "cell_type": "code",
   "execution_count": null,
   "metadata": {},
   "outputs": [],
   "source": []
  },
  {
   "cell_type": "code",
   "execution_count": null,
   "metadata": {},
   "outputs": [],
   "source": []
  },
  {
   "cell_type": "code",
   "execution_count": null,
   "metadata": {},
   "outputs": [],
   "source": []
  }
 ],
 "metadata": {
  "kernelspec": {
   "display_name": "Python 2",
   "language": "python",
   "name": "python2"
  },
  "language_info": {
   "codemirror_mode": {
    "name": "ipython",
    "version": 2
   },
   "file_extension": ".py",
   "mimetype": "text/x-python",
   "name": "python",
   "nbconvert_exporter": "python",
   "pygments_lexer": "ipython2",
   "version": "2.7.12"
  }
 },
 "nbformat": 4,
 "nbformat_minor": 2
}
