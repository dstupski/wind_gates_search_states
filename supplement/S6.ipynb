{
 "cells": [
  {
   "cell_type": "code",
   "execution_count": 1,
   "metadata": {},
   "outputs": [
    {
     "name": "stdout",
     "output_type": "stream",
     "text": [
      "2.2.4\n",
      "recommended version: 1.1.1 or greater\n"
     ]
    }
   ],
   "source": [
    "import fly_plot_lib.plot as fpl\n",
    "import numpy as np\n",
    "import matplotlib.pyplot as plt\n",
    "import pandas as pd\n",
    "import figurefirst as fifi\n",
    "from scipy import stats\n",
    "#import statsmodels.api as sm"
   ]
  },
  {
   "cell_type": "code",
   "execution_count": 3,
   "metadata": {},
   "outputs": [],
   "source": [
    "template = '../figure_first_templates/double_flash_genetic_control.svg'"
   ]
  },
  {
   "cell_type": "code",
   "execution_count": 4,
   "metadata": {},
   "outputs": [
    {
     "data": {
      "image/png": "[encoded data removed]",
      "text/plain": [
       "<Figure size 432x288 with 3 Axes>"
      ]
     },
     "metadata": {
      "needs_background": "light"
     },
     "output_type": "display_data"
    },
    {
     "data": {
      "image/png": "[encoded data removed]",
      "text/plain": [
       "<Figure size 432x288 with 3 Axes>"
      ]
     },
     "metadata": {
      "needs_background": "light"
     },
     "output_type": "display_data"
    }
   ],
   "source": [
    "layout =fifi.svg_to_axes.FigureLayout(template, autogenlayers=True, make_mplfigures=True, hide_layers=[])"
   ]
  },
  {
   "cell_type": "code",
   "execution_count": 74,
   "metadata": {},
   "outputs": [],
   "source": [
    "fs=6"
   ]
  },
  {
   "cell_type": "code",
   "execution_count": 75,
   "metadata": {},
   "outputs": [],
   "source": [
    "ax=layout.axes[('orco', 'double')]"
   ]
  },
  {
   "cell_type": "code",
   "execution_count": 76,
   "metadata": {},
   "outputs": [],
   "source": [
    "double_orco=pd.read_csv('../trimmed_data/trimmed_double_flash/orco_double_pulse_distilled_response.csv')"
   ]
  },
  {
   "cell_type": "code",
   "execution_count": 77,
   "metadata": {},
   "outputs": [],
   "source": [
    "bins = [double_orco['duration 1 mean'].to_numpy(), double_orco['post 1 mean'].to_numpy(), double_orco['duration 2 mean'].to_numpy(), double_orco['post 2 mean'].to_numpy()]\n",
    "labs = [\" \" , \" \",  \" \",' ', ' ', \" \"]\n",
    "colors = ['red', 'gray' ,'red', 'gray']\n",
    "for i in range(len(bins)):\n",
    "    fpl.scatter_box(ax, i-1, bins[i], color=colors[i], xwidth=0.25, markersize=.75)\n",
    "\n",
    "ax.spines['bottom'].set_visible(False)\n",
    "ax.set_ylim(0, 12)\n",
    "fifi.mpl_functions.adjust_spines(ax, ['left', 'bottom'],xticks=[0, 1, 2, 3, 4], yticks=[0, 12])\n",
    "#ax.set_ylim(-0.1, 15)\n",
    "ax.set_xticklabels(labs)\n",
    "#ax.set_title(\"Double Pulse\")\n",
    "#ax.set_xticks([])\n",
    "fifi.mpl_functions.set_fontsize(ax, fs)\n"
   ]
  },
  {
   "cell_type": "code",
   "execution_count": 78,
   "metadata": {},
   "outputs": [],
   "source": [
    "ax=layout.axes[('orco', 'single')]"
   ]
  },
  {
   "cell_type": "code",
   "execution_count": 79,
   "metadata": {},
   "outputs": [],
   "source": [
    "single_orco=pd.read_csv('../trimmed_data/trimmed_double_flash/orco_single_distilled.csv')"
   ]
  },
  {
   "cell_type": "code",
   "execution_count": 80,
   "metadata": {},
   "outputs": [],
   "source": [
    "# plot all the scatter boxes\n",
    "bins = [single_orco['duration 1 mean'].to_numpy(), single_orco['post 1 mean'].to_numpy(), single_orco['duration 2 mean'].to_numpy(), single_orco['post 2 mean'].to_numpy()]\n",
    "labs = [\" \" , \"Pulse 1\", \"Post 1\", 'Pulse 2', 'Post 2', \" \"]\n",
    "colors = ['red', 'gray', 'gray', 'gray']\n",
    "for i in range(len(bins)):\n",
    "    fpl.scatter_box(ax, i-1, bins[i], color=colors[i], xwidth=0.25, markersize=.75)\n",
    "#ax.set_xlabel(\"Time Frame\", fontsize = 30)\n",
    "#ax.set_ylabel(\"Mean Angular Velocity (rad/s)\", fontsize = 30)\n",
    "#ax.spines['right'].set_visible(False)\n",
    "ax.spines['bottom']. set_visible(False)\n",
    "ax.set_xticklabels(labs)\n",
    "#ax.set_ylabel(\"Angular Velocity (rad/s)\")\n",
    "#ax.spines['right'].set_visible(False)\n",
    "#ax.spines['top']. set_visible(False)\n",
    "\n",
    "\n",
    "#ax.set_xticklabels(labs)\n",
    "#ax.set_ylim(0, 12)\n",
    "fifi.mpl_functions.adjust_spines(ax, ['left', 'bottom' ],xticks =[0, 1, 2, 3, 4], yticks =[0,12])\n",
    "#ax.set_ylim(-0.1, 15)\n",
    "ax.set_xticklabels(labs)\n",
    "\n",
    "#ax.set_yticks([0, 6, 12])\n",
    "#ax.set_title(\"Single Pulse\")\n",
    "ax.set_xticklabels(labs)\n",
    "fifi.mpl_functions.set_fontsize(ax, fs)\n",
    "\n",
    "#plt.xticks([0,1,2,3])\n",
    "#plt.xticks(fontsize=17)\n",
    "#plt.yticks(fontsize=17)\n",
    "#plt.savefig(\"./kaylee_graph.svg\")"
   ]
  },
  {
   "cell_type": "code",
   "execution_count": 81,
   "metadata": {},
   "outputs": [],
   "source": [
    "ax=layout.axes[('orco', 'sham')]"
   ]
  },
  {
   "cell_type": "code",
   "execution_count": 82,
   "metadata": {},
   "outputs": [],
   "source": [
    "npdf =pd.read_csv('../trimmed_data/trimmed_double_flash/orco_shams_distilled_and_merged.csv')"
   ]
  },
  {
   "cell_type": "code",
   "execution_count": 83,
   "metadata": {},
   "outputs": [],
   "source": [
    "bins = [npdf['duration 1 mean'].to_numpy(), npdf['post 1 mean'].to_numpy(), npdf['duration 2 mean'].to_numpy(), npdf['post 2 mean'].to_numpy()]\n",
    "labs = [ \"\", \"Pulse 1\", \"Post 1\", 'Pulse 2', 'Post 2', \"\"]\n",
    "colors = ['gray', 'gray', 'gray', 'gray']\n",
    "for i in range(len(bins)):\n",
    "    fpl.scatter_box(ax, i-1, bins[i], color=colors[i], xwidth=0.25, markersize=.75)\n",
    "\n",
    "#ax.spines['right'].set_visible(False)\n",
    "#ax.spines['top']. set_visible(False)\n",
    "ax.set_xticklabels(labs)\n",
    "ax.set_ylabel(\"Angular Velocity (rad/s)\")\n",
    "#ax.spines['right'].set_visible(False)\n",
    "#ax.spines['top']. set_visible(False)\n",
    "ax.spines['bottom'].set_visible(False)\n",
    "\n",
    "#ax.set_xticklabels(labs)\n",
    "ax.set_ylim(0, 12)\n",
    "fifi.mpl_functions.adjust_spines(ax, ['left', 'bottom' ],xticks=[0, 1, 2, 3, 4], yticks =[0,12])\n",
    "#ax.set_ylim(-0.1, 15)\n",
    "ax.set_xticklabels(labs)\n",
    "\n",
    "#ax.set_yticks([0, 6, 12])\n",
    "#ax.set_title(\"No Pulse\")\n",
    "#ax.set_xticks([])\n",
    "fifi.mpl_functions.set_fontsize(ax, fs)\n",
    "\n",
    "#plt.xticks([0,1,2,3])\n",
    "#plt.xticks(fontsize=17)\n",
    "#plt.yticks(fontsize=17)\n",
    "#plt.savefig(\"./kaylee_graph.svg\")"
   ]
  },
  {
   "cell_type": "code",
   "execution_count": 84,
   "metadata": {},
   "outputs": [],
   "source": [
    "ax=layout.axes[('wt', 'double')]"
   ]
  },
  {
   "cell_type": "code",
   "execution_count": 85,
   "metadata": {},
   "outputs": [],
   "source": [
    "#double_wt = pd.read_csv(repo_path + '/wt_double_flash_distilled.csv')\n",
    "double_wt = pd.read_csv('../trimmed_data/trimmed_double_flash/wt_double_flash_distilled.csv')"
   ]
  },
  {
   "cell_type": "code",
   "execution_count": 86,
   "metadata": {},
   "outputs": [],
   "source": [
    "bins = [double_wt['duration 1 mean'].to_numpy(), double_wt['post 1 mean'].to_numpy(), double_wt['duration 2 mean'].to_numpy(), double_wt['post 2 mean'].to_numpy()]\n",
    "labs = [\" \" , \" \",  \" \",' ', ' ', \" \"]\n",
    "colors = ['red', 'gray' ,'red', 'gray']\n",
    "for i in range(len(bins)):\n",
    "    fpl.scatter_box(ax, i-1, bins[i], color=colors[i], xwidth=0.25, markersize=.75)\n",
    "\n",
    "ax.spines['bottom'].set_visible(False)\n",
    "\n",
    "fifi.mpl_functions.adjust_spines(ax, ['left', 'bottom'],xticks=[0, 1, 2, 3, 4], yticks=[0, 12])\n",
    "#ax.set_ylim(-0.1, 15)\n",
    "ax.set_xticklabels(labs)\n",
    "#ax.set_title(\"Double Pulse\")\n",
    "#ax.set_xticks([])\n",
    "fifi.mpl_functions.set_fontsize(ax, fs)\n"
   ]
  },
  {
   "cell_type": "code",
   "execution_count": 87,
   "metadata": {},
   "outputs": [],
   "source": [
    "ax=layout.axes[('wt', 'single')]"
   ]
  },
  {
   "cell_type": "code",
   "execution_count": 6,
   "metadata": {},
   "outputs": [],
   "source": [
    "single_wt = pd.read_csv('../trimmed_data/trimmed_double_flash/single_flash_wt_distilled.csv')"
   ]
  },
  {
   "cell_type": "code",
   "execution_count": 89,
   "metadata": {},
   "outputs": [],
   "source": [
    "# plot all the scatter boxes\n",
    "bins = [single_wt['duration 1 mean'].to_numpy(), single_wt['post 1 mean'].to_numpy(), single_wt['duration 2 mean'].to_numpy(), single_wt['post 2 mean'].to_numpy()]\n",
    "labs = [\" \" , \"Pulse 1\", \"Post 1\", 'Pulse 2', 'Post 2', \" \"]\n",
    "colors = ['red', 'gray', 'gray', 'gray']\n",
    "for i in range(len(bins)):\n",
    "    fpl.scatter_box(ax, i-1, bins[i], color=colors[i], xwidth=0.25, markersize=.75)\n",
    "#ax.set_xlabel(\"Time Frame\", fontsize = 30)\n",
    "#ax.set_ylabel(\"Mean Angular Velocity (rad/s)\", fontsize = 30)\n",
    "#ax.spines['right'].set_visible(False)\n",
    "ax.spines['bottom']. set_visible(False)\n",
    "ax.set_xticklabels(labs)\n",
    "#ax.set_ylabel(\"Angular Velocity (rad/s)\")\n",
    "#ax.spines['right'].set_visible(False)\n",
    "#ax.spines['top']. set_visible(False)\n",
    "\n",
    "\n",
    "#ax.set_xticklabels(labs)\n",
    "#ax.set_ylim(0, 12)\n",
    "fifi.mpl_functions.adjust_spines(ax, ['left', 'bottom' ],xticks =[0, 1, 2, 3, 4], yticks =[0,12])\n",
    "#ax.set_ylim(-0.1, 15)\n",
    "ax.set_xticklabels(labs)\n",
    "\n",
    "#ax.set_yticks([0, 6, 12])\n",
    "#ax.set_title(\"Single Pulse\")\n",
    "ax.set_xticklabels(labs)\n",
    "fifi.mpl_functions.set_fontsize(ax, fs)\n",
    "\n",
    "#plt.xticks([0,1,2,3])\n",
    "#plt.xticks(fontsize=17)\n",
    "#plt.yticks(fontsize=17)\n",
    "#plt.savefig(\"./kaylee_graph.svg\")"
   ]
  },
  {
   "cell_type": "code",
   "execution_count": 90,
   "metadata": {},
   "outputs": [],
   "source": [
    "ax=layout.axes[('wt', 'sham')]"
   ]
  },
  {
   "cell_type": "code",
   "execution_count": 91,
   "metadata": {},
   "outputs": [],
   "source": [
    "npdf_wt = pd.read_csv('../trimmed_data/trimmed_double_flash/no_wind_wt_shams_merged_distilled.csv')"
   ]
  },
  {
   "cell_type": "code",
   "execution_count": 92,
   "metadata": {},
   "outputs": [],
   "source": [
    "bins = [npdf_wt['duration 1 mean'].to_numpy(), npdf_wt['post 1 mean'].to_numpy(), npdf_wt['duration 2 mean'].to_numpy(), npdf_wt['post 2 mean'].to_numpy()]\n",
    "labs = [ \"\", \"Pulse 1\", \"Post 1\", 'Pulse 2', 'Post 2', \"\"]\n",
    "colors = ['gray', 'gray', 'gray', 'gray']\n",
    "for i in range(len(bins)):\n",
    "    fpl.scatter_box(ax, i-1, bins[i], color=colors[i], xwidth=0.25, markersize=.75)\n",
    "\n",
    "#ax.spines['right'].set_visible(False)\n",
    "#ax.spines['top']. set_visible(False)\n",
    "ax.set_xticklabels(labs)\n",
    "ax.set_ylabel(\"Angular Velocity (rad/s)\")\n",
    "#ax.spines['right'].set_visible(False)\n",
    "#ax.spines['top']. set_visible(False)\n",
    "ax.spines['bottom'].set_visible(False)\n",
    "\n",
    "#ax.set_xticklabels(labs)\n",
    "ax.set_ylim(0, 12)\n",
    "fifi.mpl_functions.adjust_spines(ax, ['left', 'bottom' ],xticks=[0, 1, 2, 3, 4], yticks =[0,12])\n",
    "#ax.set_ylim(-0.1, 15)\n",
    "ax.set_xticklabels(labs)\n",
    "\n",
    "#ax.set_yticks([0, 6, 12])\n",
    "#ax.set_title(\"No Pulse\")\n",
    "#ax.set_xticks([])\n",
    "fifi.mpl_functions.set_fontsize(ax, fs)\n",
    "\n",
    "#plt.xticks([0,1,2,3])\n",
    "#plt.xticks(fontsize=17)\n",
    "#plt.yticks(fontsize=17)\n",
    "#plt.savefig(\"./kaylee_graph.svg\")"
   ]
  },
  {
   "cell_type": "code",
   "execution_count": 93,
   "metadata": {},
   "outputs": [],
   "source": [
    "layout.append_figure_to_layer(layout.figures['orco'], 'orco', cleartarget=True)\n",
    "layout.append_figure_to_layer(layout.figures['wt'], 'wt', cleartarget=True)\n",
    "\n",
    "layout.write_svg(path + '/double_pulse_genetic_control.svg')"
   ]
  },
  {
   "cell_type": "code",
   "execution_count": null,
   "metadata": {},
   "outputs": [],
   "source": []
  },
  {
   "cell_type": "code",
   "execution_count": null,
   "metadata": {},
   "outputs": [],
   "source": []
  },
  {
   "cell_type": "code",
   "execution_count": null,
   "metadata": {},
   "outputs": [],
   "source": []
  },
  {
   "cell_type": "code",
   "execution_count": null,
   "metadata": {},
   "outputs": [],
   "source": []
  },
  {
   "cell_type": "code",
   "execution_count": null,
   "metadata": {},
   "outputs": [],
   "source": []
  },
  {
   "cell_type": "code",
   "execution_count": null,
   "metadata": {},
   "outputs": [],
   "source": []
  },
  {
   "cell_type": "code",
   "execution_count": null,
   "metadata": {},
   "outputs": [],
   "source": []
  },
  {
   "cell_type": "code",
   "execution_count": null,
   "metadata": {},
   "outputs": [],
   "source": []
  },
  {
   "cell_type": "code",
   "execution_count": null,
   "metadata": {},
   "outputs": [],
   "source": []
  },
  {
   "cell_type": "code",
   "execution_count": null,
   "metadata": {},
   "outputs": [],
   "source": []
  },
  {
   "cell_type": "code",
   "execution_count": null,
   "metadata": {},
   "outputs": [],
   "source": []
  },
  {
   "cell_type": "code",
   "execution_count": null,
   "metadata": {},
   "outputs": [],
   "source": []
  },
  {
   "cell_type": "code",
   "execution_count": null,
   "metadata": {},
   "outputs": [],
   "source": []
  }
 ],
 "metadata": {
  "kernelspec": {
   "display_name": "Python 2",
   "language": "python",
   "name": "python2"
  },
  "language_info": {
   "codemirror_mode": {
    "name": "ipython",
    "version": 2
   },
   "file_extension": ".py",
   "mimetype": "text/x-python",
   "name": "python",
   "nbconvert_exporter": "python",
   "pygments_lexer": "ipython2",
   "version": "2.7.12"
  }
 },
 "nbformat": 4,
 "nbformat_minor": 2
}
