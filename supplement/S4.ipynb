{
 "cells": [
  {
   "cell_type": "code",
   "execution_count": 10,
   "metadata": {},
   "outputs": [],
   "source": [
    "import fly_plot_lib.plot as fpl\n",
    "import numpy as np\n",
    "import matplotlib.pyplot as plt\n",
    "import pandas as pd\n",
    "import figurefirst as fifi\n",
    "from scipy import stats\n",
    "#import statsmodels.api as sm"
   ]
  },
  {
   "cell_type": "code",
   "execution_count": 2,
   "metadata": {},
   "outputs": [],
   "source": [
    "#helper function for slicing means with standard errors\n",
    "def slice_means_gs(df, index, time_key= \"time stamp\", start=-100, stop=3000):\n",
    "    time_vec=[]\n",
    "    mean_vec=[]\n",
    "    upper_vec =[]\n",
    "    lower_vec =[]\n",
    "    df=df[df[time_key].between(start, stop)]\n",
    "    for i in df[time_key].unique():\n",
    "        dummy_df =df[df[time_key]==i]\n",
    "        dummy_df=dummy_df[dummy_df['ground speed'].between(0, 2.0)]\n",
    "        time_vec.append(i)\n",
    "        mean = dummy_df[index].mean()\n",
    "        upper= dummy_df[index].mean() + dummy_df[index].sem()*1.96\n",
    "        lower= dummy_df[index].mean() - dummy_df[index].sem()*1.96\n",
    "        mean_vec.append(mean)\n",
    "        upper_vec.append(upper)\n",
    "        lower_vec.append(lower)\n",
    "    return time_vec, mean_vec, upper_vec, lower_vec"
   ]
  },
  {
   "cell_type": "code",
   "execution_count": 3,
   "metadata": {},
   "outputs": [],
   "source": [
    "#proportion of trajectories at a given orientaion\n",
    "def slice_head_prop(df, index='heading', time_key= \"time stamp\", start=-90, stop=3000):\n",
    "    time_vec=[]\n",
    "    uw_vec =[]\n",
    "    cw_vec =[]\n",
    "    dw_vec =[]\n",
    "    df=df[df[time_key].between(start, stop)]\n",
    "    for i in df[time_key].unique():\n",
    "        dummy_df =df[df[time_key]==i]\n",
    "        dummy_df=dummy_df[dummy_df['ground speed'].between(0, 2.0)]\n",
    "        time_vec.append(i)\n",
    "        tot =float(len(dummy_df))\n",
    "        dummy_df['abs head'] =np.abs(dummy_df[index])\n",
    "        #df[df < 2.0 ].count() \n",
    "        uw = dummy_df[dummy_df['abs head']<np.pi/4.].count()\n",
    "        cw =dummy_df[dummy_df['abs head'].between(np.pi/4., 3.*np.pi/4)].count()\n",
    "        dw =dummy_df[dummy_df['abs head']>3*np.pi/4.].count()\n",
    "        uw_vec.append(uw/tot)\n",
    "        cw_vec.append(cw/tot)\n",
    "        dw_vec.append(dw/tot)\n",
    "    return time_vec, uw_vec, cw_vec, dw_vec\n",
    "    "
   ]
  },
  {
   "cell_type": "code",
   "execution_count": 4,
   "metadata": {},
   "outputs": [],
   "source": [
    "\n",
    "orco= pd.read_csv('../trimmed_data/main/Orco_CsChrimson_still_air_merged.csv')\n",
    "orco100=orco[orco['duration']==100]\n",
    "orco0=orco[orco['duration']==0]"
   ]
  },
  {
   "cell_type": "code",
   "execution_count": 11,
   "metadata": {},
   "outputs": [],
   "source": [
    "wt = pd.read_csv('../trimmed_data/main/wildtype_still_air_merged.csv')\n",
    "wt100= wt[wt['duration']==100]\n",
    "wt0=wt[wt['duration']==0]"
   ]
  },
  {
   "cell_type": "code",
   "execution_count": 16,
   "metadata": {},
   "outputs": [],
   "source": [
    "orco100['ground speed']=(orco100['xvel']**2+orco100['yvel']**2)**0.5\n",
    "orco0['ground speed']=(orco0['xvel']**2+orco0['yvel']**2)**0.5\n",
    "wt100['ground speed']=(wt100['xvel']**2+wt100['yvel']**2)**0.5\n",
    "wt0['ground speed']=(wt0['xvel']**2+wt0['yvel']**2)**0.5\n"
   ]
  },
  {
   "cell_type": "code",
   "execution_count": 8,
   "metadata": {},
   "outputs": [],
   "source": [
    "ms =4\n",
    "lw= .5\n",
    "fs =6"
   ]
  },
  {
   "cell_type": "code",
   "execution_count": 4,
   "metadata": {},
   "outputs": [
    {
     "data": {
      "image/png": "[encoded data removed]",
      "text/plain": [
       "<Figure size 432x360 with 6 Axes>"
      ]
     },
     "metadata": {
      "needs_background": "light"
     },
     "output_type": "display_data"
    },
    {
     "data": {
      "image/png": "[encoded data removed]",
      "text/plain": [
       "<Figure size 432x360 with 6 Axes>"
      ]
     },
     "metadata": {
      "needs_background": "light"
     },
     "output_type": "display_data"
    }
   ],
   "source": [
    "template = '../figure_first_templates/still_air_with_control.svg'\n",
    "layout =fifi.svg_to_axes.FigureLayout(template, autogenlayers=True, make_mplfigures=True, hide_layers=[])"
   ]
  },
  {
   "cell_type": "code",
   "execution_count": 49,
   "metadata": {},
   "outputs": [],
   "source": [
    "ax=layout.axes[('orco', 'hm_f')]"
   ]
  },
  {
   "cell_type": "code",
   "execution_count": 50,
   "metadata": {},
   "outputs": [],
   "source": [
    "cmap_reversed = plt.cm.get_cmap('bone_r')\n",
    "ax.axhspan(0, 675, color = 'red', alpha = 0.1)\n",
    "ax.set_xlim(-3.2, 3.2)\n",
    "a = np.arange(-100,3000,10)\n",
    "b = np.linspace(-np.pi, np.pi, 180)\n",
    "x = np.arange(-100,3010, 10)\n",
    "y = np.linspace(-np.pi, np.pi, 181)\n",
    "bin_values,_,__ = np.histogram2d(orco100['time stamp'], orco100['heading'],  bins =(x, y))\n",
    "\n",
    "newdf = pd.DataFrame(bin_values.T, columns=a, index=b)\n",
    "sumz = newdf.sum(axis=0)\n",
    "\n",
    "newdf_normed= newdf\n",
    "for i in range(0,len(sumz)):\n",
    "    newdf_normed.iloc[:,i] = newdf.iloc[:,i]/sumz.iloc[i]\n",
    "X,Y = np.meshgrid(x,y)\n",
    "# Plot the heatmap\n",
    "ax.pcolormesh(Y, X, newdf_normed, vmin=0, vmax=0.04, cmap='bone_r', shading='flat', rasterized=True)\n",
    "ax.set_xticklabels([r'-$\\pi$', r'-$\\pi/2$', '0',r'$\\pi/2$', r'$\\pi$' ])\n",
    "\n",
    "ax.set_yticklabels([])\n",
    "\n",
    "fifi.mpl_functions.adjust_spines(ax, ['left','bottom'], xticks =[-3.14, -3.14/2, 0, 3.14/2, 3.14], yticks=[0, 675, 3000],  tick_length=3, linewidth=.5)\n",
    "fifi.mpl_functions.set_fontsize(ax, fs)"
   ]
  },
  {
   "cell_type": "code",
   "execution_count": 51,
   "metadata": {},
   "outputs": [],
   "source": [
    "ax=layout.axes[('wt', 'hm_f')]"
   ]
  },
  {
   "cell_type": "code",
   "execution_count": 52,
   "metadata": {},
   "outputs": [],
   "source": [
    "cmap_reversed = plt.cm.get_cmap('bone_r')\n",
    "ax.axhspan(0, 675, color = 'red', alpha = 0.1)\n",
    "ax.set_xlim(-3.2, 3.2)\n",
    "a = np.arange(-100,3000,10)\n",
    "b = np.linspace(-np.pi, np.pi, 180)\n",
    "x = np.arange(-100,3010, 10)\n",
    "y = np.linspace(-np.pi, np.pi, 181)\n",
    "bin_values,_,__ = np.histogram2d(wt100['time stamp'], wt100['heading'],  bins =(x, y))\n",
    "\n",
    "newdf = pd.DataFrame(bin_values.T, columns=a, index=b)\n",
    "sumz = newdf.sum(axis=0)\n",
    "\n",
    "newdf_normed= newdf\n",
    "for i in range(0,len(sumz)):\n",
    "    newdf_normed.iloc[:,i] = newdf.iloc[:,i]/sumz.iloc[i]\n",
    "X,Y = np.meshgrid(x,y)\n",
    "# Plot the heatmap\n",
    "ax.pcolormesh(Y, X, newdf_normed, vmin=0, vmax=0.04, cmap='bone_r', shading='flat', rasterized=True)\n",
    "ax.set_xticklabels([r'-$\\pi$', r'-$\\pi/2$', '0',r'$\\pi/2$', r'$\\pi$' ])\n",
    "\n",
    "ax.set_yticklabels([])\n",
    "\n",
    "fifi.mpl_functions.adjust_spines(ax, ['left','bottom'], xticks =[-3.14, -3.14/2, 0, 3.14/2, 3.14], yticks=[0, 675, 3000],  tick_length=3, linewidth=.5)\n",
    "fifi.mpl_functions.set_fontsize(ax, fs)"
   ]
  },
  {
   "cell_type": "code",
   "execution_count": 53,
   "metadata": {},
   "outputs": [],
   "source": [
    "ax=layout.axes[('orco', 'hm_s')]"
   ]
  },
  {
   "cell_type": "code",
   "execution_count": 54,
   "metadata": {},
   "outputs": [],
   "source": [
    "cmap_reversed = plt.cm.get_cmap('bone_r')\n",
    "#ax.axhspan(0, 675, color = 'red', alpha = 0.1)\n",
    "ax.set_xlim(-3.2, 3.2)\n",
    "a = np.arange(-100,3000,10)\n",
    "b = np.linspace(-np.pi, np.pi, 180)\n",
    "x = np.arange(-100,3010, 10)\n",
    "y = np.linspace(-np.pi, np.pi, 181)\n",
    "bin_values,_,__ = np.histogram2d(orco0['time stamp'], orco0['heading'],  bins =(x, y))\n",
    "\n",
    "newdf = pd.DataFrame(bin_values.T, columns=a, index=b)\n",
    "sumz = newdf.sum(axis=0)\n",
    "\n",
    "newdf_normed= newdf\n",
    "for i in range(0,len(sumz)):\n",
    "    newdf_normed.iloc[:,i] = newdf.iloc[:,i]/sumz.iloc[i]\n",
    "X,Y = np.meshgrid(x,y)\n",
    "# Plot the heatmap\n",
    "ax.pcolormesh(Y, X, newdf_normed, vmin=0, vmax=0.04, cmap='bone_r', shading='flat', rasterized=True)\n",
    "\n",
    "\n",
    "ax.set_xticklabels([])\n",
    "ax.set_yticklabels([])\n",
    "\n",
    "fifi.mpl_functions.adjust_spines(ax, ['left','bottom'], xticks =[-3.14, -3.14/2, 0, 3.14/2, 3.14], yticks=[0, 675, 3000],  tick_length=3, linewidth=.5)\n",
    "fifi.mpl_functions.set_fontsize(ax, fs)"
   ]
  },
  {
   "cell_type": "code",
   "execution_count": 55,
   "metadata": {},
   "outputs": [],
   "source": [
    "ax=layout.axes[('wt', 'hm_s')]"
   ]
  },
  {
   "cell_type": "code",
   "execution_count": 56,
   "metadata": {},
   "outputs": [],
   "source": [
    "cmap_reversed = plt.cm.get_cmap('bone_r')\n",
    "#ax.axhspan(0, 675, color = 'red', alpha = 0.1)\n",
    "ax.set_xlim(-3.2, 3.2)\n",
    "a = np.arange(-100,3000,10)\n",
    "b = np.linspace(-np.pi, np.pi, 180)\n",
    "x = np.arange(-100,3010, 10)\n",
    "y = np.linspace(-np.pi, np.pi, 181)\n",
    "bin_values,_,__ = np.histogram2d(wt0['time stamp'], wt0['heading'],  bins =(x, y))\n",
    "\n",
    "newdf = pd.DataFrame(bin_values.T, columns=a, index=b)\n",
    "sumz = newdf.sum(axis=0)\n",
    "\n",
    "newdf_normed= newdf\n",
    "for i in range(0,len(sumz)):\n",
    "    newdf_normed.iloc[:,i] = newdf.iloc[:,i]/sumz.iloc[i]\n",
    "X,Y = np.meshgrid(x,y)\n",
    "# Plot the heatmap\n",
    "ax.pcolormesh(Y, X, newdf_normed, vmin=0, vmax=0.04, cmap='bone_r', shading='flat', rasterized=True)\n",
    "\n",
    "\n",
    "ax.set_xticklabels([])\n",
    "ax.set_yticklabels([])\n",
    "\n",
    "fifi.mpl_functions.adjust_spines(ax, ['left','bottom'], xticks =[-3.14, -3.14/2, 0, 3.14/2, 3.14], yticks=[0, 675, 3000],  tick_length=3, linewidth=.5)\n",
    "fifi.mpl_functions.set_fontsize(ax, fs)"
   ]
  },
  {
   "cell_type": "code",
   "execution_count": 57,
   "metadata": {},
   "outputs": [],
   "source": [
    "ax=layout.axes[('orco', 'gs')]"
   ]
  },
  {
   "cell_type": "code",
   "execution_count": 58,
   "metadata": {},
   "outputs": [],
   "source": [
    "#Grab population mean and error boundaries for both flash and sham subsets for orco flies\n",
    "t, m, u, l= slice_means_gs(orco100, 'ground speed')\n",
    "t0, m0, u0, l0=slice_means_gs(orco0, 'ground speed')"
   ]
  },
  {
   "cell_type": "code",
   "execution_count": 59,
   "metadata": {},
   "outputs": [],
   "source": [
    "ax.plot(m, t, color = 'red', label = 'Orco>csChrimson', linewidth =.5)\n",
    "ax.plot(m0, t0, color ='k', label = 'Control', linewidth=.5)\n",
    "\n",
    "ax.fill_betweenx(t0, u0, l0, color = 'k', alpha = 0.2, label = '', linewidth =0)\n",
    "\n",
    "ax.fill_betweenx(t, u, l, color = 'red', alpha = 0.2, label = '', linewidth =0)\n",
    "ax.set_ylim(-100, 3000)\n",
    "ax.axhspan(0, 675, color = 'red', alpha = 0.1)\n",
    "ax.set_yticklabels([' ',' ', ' '])\n",
    "ax.set_xticklabels([' ',' '])\n",
    "fifi.mpl_functions.adjust_spines(ax, ['left', 'bottom'],xticks=[0, .6], yticks=[0, 675, 3000], tick_length=3, linewidth=lw)\n",
    "fifi.mpl_functions.set_fontsize(ax, fs)\n"
   ]
  },
  {
   "cell_type": "code",
   "execution_count": 60,
   "metadata": {},
   "outputs": [],
   "source": [
    "ax=layout.axes[('wt', 'gs')]"
   ]
  },
  {
   "cell_type": "code",
   "execution_count": 61,
   "metadata": {},
   "outputs": [],
   "source": [
    "#Grab population mean and error boundaries for both flash and sham subsets for wtflies\n",
    "t, m, u, l= slice_means_gs(wt100, 'ground speed')\n",
    "t0, m0, u0, l0=slice_means_gs(wt0, 'ground speed')"
   ]
  },
  {
   "cell_type": "code",
   "execution_count": 62,
   "metadata": {},
   "outputs": [],
   "source": [
    "ax.plot(m, t, color = 'red', label = 'Orco>csChrimson', linewidth =.5)\n",
    "ax.plot(m0, t0, color ='k', label = 'Control', linewidth=.5)\n",
    "\n",
    "ax.fill_betweenx(t0, u0, l0, color = 'k', alpha = 0.2, label = '', linewidth =0)\n",
    "\n",
    "ax.fill_betweenx(t, u, l, color = 'red', alpha = 0.2, label = '', linewidth =0)\n",
    "ax.set_ylim(-100, 3000)\n",
    "ax.axhspan(0, 675, color = 'red', alpha = 0.1)\n",
    "ax.set_yticklabels([' ',' ', ' '])\n",
    "ax.set_xticklabels([' ',' '])\n",
    "fifi.mpl_functions.adjust_spines(ax, ['left', 'bottom'],xticks=[0, .6], yticks=[0, 675, 3000], tick_length=3, linewidth=lw)\n",
    "fifi.mpl_functions.set_fontsize(ax, fs)\n"
   ]
  },
  {
   "cell_type": "code",
   "execution_count": 63,
   "metadata": {},
   "outputs": [],
   "source": [
    "ax=layout.axes[('orco', 'alt')]"
   ]
  },
  {
   "cell_type": "code",
   "execution_count": 64,
   "metadata": {},
   "outputs": [],
   "source": [
    "#Grab population mean and error boundaries for both flash and sham subsets for orco flies\n",
    "t, m, u, l= slice_means_gs(orco100, 'z')\n",
    "t0, m0, u0, l0=slice_means_gs(orco0, 'z')"
   ]
  },
  {
   "cell_type": "code",
   "execution_count": 65,
   "metadata": {},
   "outputs": [],
   "source": [
    "ax.plot(m, t, color = 'red', label = 'Orco>csChrimson', linewidth =.5)\n",
    "ax.plot(m0, t0, color ='k', label = 'Control', linewidth=.5)\n",
    "#ax.set_ylabel(\"Ground Speed (m/s)\")\n",
    "ax.fill_betweenx(t0, u0, l0, color = 'k', alpha = 0.2, label = '', linewidth =0)\n",
    "ax.fill_betweenx(t, u, l, color = 'red', alpha = 0.2, label = '', linewidth =0)\n",
    "ax.set_ylim(-100, 3000)\n",
    "ax.axhspan(0, 675, color = 'red', alpha = 0.1)\n",
    "ax.set_yticklabels([' ',' ', ' '])\n",
    "ax.set_xticklabels([' ',' '])\n",
    "fifi.mpl_functions.adjust_spines(ax, ['left', 'bottom'],xticks=[0, .5], yticks=[0, 675, 3000], tick_length=3, linewidth=lw)\n",
    "fifi.mpl_functions.set_fontsize(ax, fs)\n"
   ]
  },
  {
   "cell_type": "code",
   "execution_count": 66,
   "metadata": {},
   "outputs": [],
   "source": [
    "ax=layout.axes[('wt', 'alt')]"
   ]
  },
  {
   "cell_type": "code",
   "execution_count": 67,
   "metadata": {},
   "outputs": [],
   "source": [
    "#Grab population mean and error boundaries for both flash and sham subsets for orco flies\n",
    "t, m, u, l= slice_means_gs(wt100, 'z')\n",
    "t0, m0, u0, l0=slice_means_gs(wt0, 'z')"
   ]
  },
  {
   "cell_type": "code",
   "execution_count": 68,
   "metadata": {},
   "outputs": [],
   "source": [
    "ax.plot(m, t, color = 'red', label = 'Orco>csChrimson', linewidth =.5)\n",
    "ax.plot(m0, t0, color ='k', label = 'Control', linewidth=.5)\n",
    "#ax.set_ylabel(\"Ground Speed (m/s)\")\n",
    "ax.fill_betweenx(t0, u0, l0, color = 'k', alpha = 0.2, label = '', linewidth =0)\n",
    "ax.fill_betweenx(t, u, l, color = 'red', alpha = 0.2, label = '', linewidth =0)\n",
    "ax.set_ylim(-100, 3000)\n",
    "ax.axhspan(0, 675, color = 'red', alpha = 0.1)\n",
    "ax.set_yticklabels([' ',' ', ' '])\n",
    "ax.set_xticklabels([' ',' '])\n",
    "fifi.mpl_functions.adjust_spines(ax, ['left', 'bottom'],xticks=[0, .5], yticks=[0, 675, 3000], tick_length=3, linewidth=lw)\n",
    "fifi.mpl_functions.set_fontsize(ax, fs)\n"
   ]
  },
  {
   "cell_type": "code",
   "execution_count": 69,
   "metadata": {},
   "outputs": [],
   "source": [
    "ax=layout.axes[('orco', 'prop_f')]"
   ]
  },
  {
   "cell_type": "code",
   "execution_count": 70,
   "metadata": {},
   "outputs": [],
   "source": [
    "t, uw, cw, dw= slice_head_prop(orco100)"
   ]
  },
  {
   "cell_type": "code",
   "execution_count": 71,
   "metadata": {},
   "outputs": [],
   "source": [
    "ax.plot(uw, t, color = 'green', linewidth =.5)\n",
    "ax.plot(cw, t, color ='blue', linewidth=.5)\n",
    "ax.plot(dw, t, color = 'orange', linewidth =.5)\n",
    "ax.set_ylim(-100, 3000)\n",
    "ax.axhspan(0, 675, color = 'red', alpha = 0.1)\n",
    "ax.set_yticklabels([' ',' ', ' '])\n",
    "ax.set_xticklabels([' ',' '])\n",
    "fifi.mpl_functions.adjust_spines(ax, ['bottom'],xticks=[0, 1.0], yticks=[0, 675, 3000], tick_length=3, linewidth=lw)\n",
    "fifi.mpl_functions.set_fontsize(ax, fs)\n"
   ]
  },
  {
   "cell_type": "code",
   "execution_count": 72,
   "metadata": {},
   "outputs": [],
   "source": [
    "ax=layout.axes[('wt', 'prop_f')]"
   ]
  },
  {
   "cell_type": "code",
   "execution_count": 73,
   "metadata": {},
   "outputs": [],
   "source": [
    "t, uw, cw, dw= slice_head_prop(wt100)"
   ]
  },
  {
   "cell_type": "code",
   "execution_count": 74,
   "metadata": {},
   "outputs": [],
   "source": [
    "ax.plot(uw, t, color = 'green', linewidth =.5)\n",
    "ax.plot(cw, t, color ='blue', linewidth=.5)\n",
    "ax.plot(dw, t, color = 'orange', linewidth =.5)\n",
    "ax.set_ylim(-100, 3000)\n",
    "ax.axhspan(0, 675, color = 'red', alpha = 0.1)\n",
    "ax.set_yticklabels([' ',' ', ' '])\n",
    "ax.set_xticklabels([' ',' '])\n",
    "fifi.mpl_functions.adjust_spines(ax, ['bottom'],xticks=[0, 1.0], yticks=[0, 675, 3000], tick_length=3, linewidth=lw)\n",
    "fifi.mpl_functions.set_fontsize(ax, fs)\n"
   ]
  },
  {
   "cell_type": "code",
   "execution_count": 75,
   "metadata": {},
   "outputs": [],
   "source": [
    "ax=layout.axes[('orco', 'prop_s')]"
   ]
  },
  {
   "cell_type": "code",
   "execution_count": 76,
   "metadata": {},
   "outputs": [],
   "source": [
    "t0, uw0, cw0, dw0= slice_head_prop(orco0)"
   ]
  },
  {
   "cell_type": "code",
   "execution_count": 77,
   "metadata": {},
   "outputs": [],
   "source": [
    "ax.plot(uw0, t0, color = 'green', linewidth =.5)\n",
    "ax.plot(cw0, t0, color ='blue', linewidth=.5)\n",
    "ax.plot(dw0, t0, color = 'orange', linewidth =.5)\n",
    "ax.set_ylim(-100, 3000)\n",
    "#ax.axhspan(0, 675, color = 'red', alpha = 0.1)\n",
    "ax.set_yticklabels([' ',' ', ' '])\n",
    "ax.set_xticklabels([' ',' '])\n",
    "fifi.mpl_functions.adjust_spines(ax, ['bottom'],xticks=[0, 1.0], yticks=[0, 675, 3000], tick_length=3, linewidth=lw)\n",
    "fifi.mpl_functions.set_fontsize(ax, fs)\n"
   ]
  },
  {
   "cell_type": "code",
   "execution_count": 78,
   "metadata": {},
   "outputs": [],
   "source": [
    "ax=layout.axes[('wt', 'prop_s')]"
   ]
  },
  {
   "cell_type": "code",
   "execution_count": 79,
   "metadata": {},
   "outputs": [],
   "source": [
    "t0, uw0, cw0, dw0= slice_head_prop(wt0)"
   ]
  },
  {
   "cell_type": "code",
   "execution_count": 80,
   "metadata": {},
   "outputs": [],
   "source": [
    "ax.plot(uw0, t0, color = 'green', linewidth =.5)\n",
    "ax.plot(cw0, t0, color ='blue', linewidth=.5)\n",
    "ax.plot(dw0, t0, color = 'orange', linewidth =.5)\n",
    "ax.set_ylim(-100, 3000)\n",
    "#ax.axhspan(0, 675, color = 'red', alpha = 0.1)\n",
    "ax.set_yticklabels([' ',' ', ' '])\n",
    "ax.set_xticklabels([' ',' '])\n",
    "fifi.mpl_functions.adjust_spines(ax, ['bottom'],xticks=[0, 1.0], yticks=[0, 675, 3000], tick_length=3, linewidth=lw)\n",
    "fifi.mpl_functions.set_fontsize(ax, fs)\n"
   ]
  },
  {
   "cell_type": "markdown",
   "metadata": {},
   "source": [
    "# FigureFirst saving function"
   ]
  },
  {
   "cell_type": "code",
   "execution_count": 81,
   "metadata": {},
   "outputs": [],
   "source": [
    "layout.append_figure_to_layer(layout.figures['orco'], 'orco', cleartarget=True)\n",
    "layout.append_figure_to_layer(layout.figures['wt'], 'wt', cleartarget=True)\n",
    "layout.write_svg(template)"
   ]
  },
  {
   "cell_type": "code",
   "execution_count": null,
   "metadata": {},
   "outputs": [],
   "source": []
  },
  {
   "cell_type": "code",
   "execution_count": null,
   "metadata": {},
   "outputs": [],
   "source": []
  },
  {
   "cell_type": "code",
   "execution_count": null,
   "metadata": {},
   "outputs": [],
   "source": []
  },
  {
   "cell_type": "code",
   "execution_count": null,
   "metadata": {},
   "outputs": [],
   "source": []
  },
  {
   "cell_type": "code",
   "execution_count": null,
   "metadata": {},
   "outputs": [],
   "source": []
  },
  {
   "cell_type": "code",
   "execution_count": null,
   "metadata": {},
   "outputs": [],
   "source": []
  },
  {
   "cell_type": "code",
   "execution_count": null,
   "metadata": {},
   "outputs": [],
   "source": []
  },
  {
   "cell_type": "code",
   "execution_count": null,
   "metadata": {},
   "outputs": [],
   "source": []
  },
  {
   "cell_type": "code",
   "execution_count": null,
   "metadata": {},
   "outputs": [],
   "source": []
  }
 ],
 "metadata": {
  "kernelspec": {
   "display_name": "Python 2",
   "language": "python",
   "name": "python2"
  },
  "language_info": {
   "codemirror_mode": {
    "name": "ipython",
    "version": 2
   },
   "file_extension": ".py",
   "mimetype": "text/x-python",
   "name": "python",
   "nbconvert_exporter": "python",
   "pygments_lexer": "ipython2",
   "version": "2.7.12"
  }
 },
 "nbformat": 4,
 "nbformat_minor": 2
}
