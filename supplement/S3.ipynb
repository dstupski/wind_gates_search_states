{
 "cells": [
  {
   "cell_type": "code",
   "execution_count": 1,
   "metadata": {},
   "outputs": [
    {
     "name": "stdout",
     "output_type": "stream",
     "text": [
      "2.2.4\n",
      "recommended version: 1.1.1 or greater\n"
     ]
    }
   ],
   "source": [
    "import fly_plot_lib.plot as fpl\n",
    "import numpy as np\n",
    "import matplotlib.pyplot as plt\n",
    "import pandas as pd\n",
    "import figurefirst as fifi\n",
    "from scipy import stats\n",
    "#import statsmodels.api as sm\n"
   ]
  },
  {
   "cell_type": "code",
   "execution_count": 7,
   "metadata": {},
   "outputs": [],
   "source": [
    "#helper function for slicing means with standard errors\n",
    "def slice_means_gs(df, index, time_key= \"time stamp\", start=-100, stop=3000):\n",
    "    time_vec=[]\n",
    "    mean_vec=[]\n",
    "    upper_vec =[]\n",
    "    lower_vec =[]\n",
    "    df=df[df[time_key].between(start, stop)]\n",
    "    times =df[time_key].unique()\n",
    "    times_sorted=sorted(times)\n",
    "    for i in times_sorted:\n",
    "        dummy_df =df[df[time_key]==i]\n",
    "        dummy_df=dummy_df[dummy_df['ground speed'].between(0, 2.0)]\n",
    "        time_vec.append(i)\n",
    "        mean = dummy_df[index].mean()\n",
    "        upper= dummy_df[index].mean() + dummy_df[index].sem()*1.96\n",
    "        lower= dummy_df[index].mean() - dummy_df[index].sem()*1.96\n",
    "        mean_vec.append(mean)\n",
    "        upper_vec.append(upper)\n",
    "        lower_vec.append(lower)\n",
    "    return time_vec, mean_vec, upper_vec, lower_vec"
   ]
  },
  {
   "cell_type": "code",
   "execution_count": 8,
   "metadata": {},
   "outputs": [],
   "source": [
    "#Standardize a couple size things so figures all pltos come out the same\n",
    "ms=4\n",
    "lw=.5\n",
    "fs=6\n",
    "linew=.5\n",
    "tl=3"
   ]
  },
  {
   "cell_type": "code",
   "execution_count": 2,
   "metadata": {},
   "outputs": [],
   "source": [
    "orco= pd.read_csv('../trimmed_data/main/Orco_CsChrimson_still_air_merged.csv')\n",
    "no_opto= pd.read_csv('../trimmed_data/supp/no_wind_no_grid_orco.csv')"
   ]
  },
  {
   "cell_type": "code",
   "execution_count": 10,
   "metadata": {},
   "outputs": [],
   "source": [
    "orco100=orco[orco['duration']==100]\n",
    "orco0=orco[orco['duration']==0]\n",
    "\n",
    "no_opto100=no_opto[no_opto['duration']==100]\n",
    "no_opto0=no_opto[no_opto['duration']==0]"
   ]
  },
  {
   "cell_type": "code",
   "execution_count": 11,
   "metadata": {},
   "outputs": [],
   "source": [
    "orco100['ground speed']=(orco100['xvel']**2+orco100['yvel']**2)**0.5\n",
    "orco0['ground speed']=(orco0['xvel']**2+orco0['yvel']**2)**0.5\n",
    "no_opto100['ground speed']=(no_opto100['xvel']**2+no_opto100['yvel']**2)**0.5"
   ]
  },
  {
   "cell_type": "code",
   "execution_count": 12,
   "metadata": {},
   "outputs": [],
   "source": [
    "no_opto=no_opto[no_opto['time stamp'].between(-100, 3000)]"
   ]
  },
  {
   "cell_type": "code",
   "execution_count": null,
   "metadata": {},
   "outputs": [],
   "source": []
  },
  {
   "cell_type": "code",
   "execution_count": 129,
   "metadata": {
    "scrolled": true
   },
   "outputs": [
    {
     "data": {
      "image/png": "[encoded data removed]",
      "text/plain": [
       "<Figure size 360x216 with 2 Axes>"
      ]
     },
     "metadata": {
      "needs_background": "light"
     },
     "output_type": "display_data"
    }
   ],
   "source": [
    "#Fifi initiatialization\n",
    "template='../figure_first_templates/altitude_control.svg'\n",
    "layout =fifi.svg_to_axes.FigureLayout(template, autogenlayers=True, make_mplfigures=True, hide_layers=[])"
   ]
  },
  {
   "cell_type": "code",
   "execution_count": 131,
   "metadata": {},
   "outputs": [],
   "source": [
    "ax=layout.axes[('z', 'grid')]"
   ]
  },
  {
   "cell_type": "code",
   "execution_count": 132,
   "metadata": {},
   "outputs": [],
   "source": [
    "#Grab population mean and error boundaries for both flash and sham subsets for orco flies for altitude\n",
    "t, m, u, l= slice_means_gs(orco100, 'z')\n",
    "t0, m0, u0, l0=slice_means_gs(orco0, 'z')"
   ]
  },
  {
   "cell_type": "code",
   "execution_count": 133,
   "metadata": {},
   "outputs": [],
   "source": [
    "ax.plot(t, m, color = 'red', label = 'Orco>csChrimson', linewidth =.5)\n",
    "ax.plot(t0, m0, color ='k', label = 'Control', linewidth=.5)\n",
    "#ax.set_ylabel(\"Ground Speed (m/s)\")\n",
    "ax.fill_between(t0, u0, l0, color = 'k', alpha = 0.2, label = '', linewidth =0)\n",
    "ax.fill_between(t, u, l, color = 'red', alpha = 0.2, label = '', linewidth =0)\n",
    "ax.set_xlim(-100, 3000)\n",
    "ax.axvspan(0, 675, color = 'red', alpha = 0.1)\n",
    "ax.set_yticklabels([' ',' ', ' '])\n",
    "ax.set_xticklabels([' ',' '])\n",
    "fifi.mpl_functions.adjust_spines(ax, ['left', 'bottom'],xticks=[0, 675, 3000], yticks=[0, .5], tick_length=3, linewidth=lw)\n",
    "fifi.mpl_functions.set_fontsize(ax, fs)\n"
   ]
  },
  {
   "cell_type": "code",
   "execution_count": 134,
   "metadata": {},
   "outputs": [],
   "source": [
    "ax=layout.axes[('z', 'no_grid')]"
   ]
  },
  {
   "cell_type": "code",
   "execution_count": 135,
   "metadata": {},
   "outputs": [],
   "source": [
    "#Grab population mean and error boundaries for both flash and sham subsets for orco flies for altitude\n",
    "t, m, u, l= slice_means_gs(no_opto100, 'z')\n",
    "t0, m0, u0, l0=slice_means_gs(no_opto0, 'z')"
   ]
  },
  {
   "cell_type": "code",
   "execution_count": 136,
   "metadata": {},
   "outputs": [],
   "source": [
    "ax.plot(t, m, color = 'red', label = 'Orco>csChrimson', linewidth =.5)\n",
    "ax.plot(t0, m0, color ='k', label = 'Control', linewidth=.5)\n",
    "#ax.set_ylabel(\"Ground Speed (m/s)\")\n",
    "ax.fill_between(t0, u0, l0, color = 'k', alpha = 0.2, label = '', linewidth =0)\n",
    "ax.fill_between(t, u, l, color = 'red', alpha = 0.2, label = '', linewidth =0)\n",
    "ax.set_xlim(-100, 3000)\n",
    "ax.axvspan(0, 675, color = 'red', alpha = 0.1)\n",
    "ax.set_yticklabels([' ',' ', ' '])\n",
    "ax.set_xticklabels([' ',' '])\n",
    "fifi.mpl_functions.adjust_spines(ax, ['left', 'bottom'],xticks=[0, 675, 3000], yticks=[0, .5], tick_length=3, linewidth=lw)\n",
    "fifi.mpl_functions.set_fontsize(ax, fs)\n"
   ]
  },
  {
   "cell_type": "code",
   "execution_count": 137,
   "metadata": {},
   "outputs": [],
   "source": [
    "layout.append_figure_to_layer(layout.figures['z'], 'z', cleartarget=True)\n",
    "layout.write_svg(template)"
   ]
  },
  {
   "cell_type": "code",
   "execution_count": null,
   "metadata": {},
   "outputs": [],
   "source": []
  },
  {
   "cell_type": "code",
   "execution_count": null,
   "metadata": {},
   "outputs": [],
   "source": []
  },
  {
   "cell_type": "code",
   "execution_count": 6,
   "metadata": {},
   "outputs": [
    {
     "name": "stdout",
     "output_type": "stream",
     "text": [
      "20230717\n"
     ]
    }
   ],
   "source": []
  },
  {
   "cell_type": "code",
   "execution_count": 9,
   "metadata": {},
   "outputs": [
    {
     "name": "stdout",
     "output_type": "stream",
     "text": [
      "set(['20230717', '20230718'])\n"
     ]
    }
   ],
   "source": []
  },
  {
   "cell_type": "code",
   "execution_count": null,
   "metadata": {},
   "outputs": [],
   "source": []
  },
  {
   "cell_type": "code",
   "execution_count": null,
   "metadata": {},
   "outputs": [],
   "source": []
  },
  {
   "cell_type": "code",
   "execution_count": null,
   "metadata": {},
   "outputs": [],
   "source": []
  },
  {
   "cell_type": "code",
   "execution_count": null,
   "metadata": {},
   "outputs": [],
   "source": []
  },
  {
   "cell_type": "code",
   "execution_count": null,
   "metadata": {},
   "outputs": [],
   "source": []
  },
  {
   "cell_type": "code",
   "execution_count": null,
   "metadata": {},
   "outputs": [],
   "source": []
  }
 ],
 "metadata": {
  "kernelspec": {
   "display_name": "Python 2",
   "language": "python",
   "name": "python2"
  },
  "language_info": {
   "codemirror_mode": {
    "name": "ipython",
    "version": 2
   },
   "file_extension": ".py",
   "mimetype": "text/x-python",
   "name": "python",
   "nbconvert_exporter": "python",
   "pygments_lexer": "ipython2",
   "version": "2.7.12"
  }
 },
 "nbformat": 4,
 "nbformat_minor": 2
}
