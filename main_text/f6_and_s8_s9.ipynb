{
 "cells": [
  {
   "cell_type": "code",
   "execution_count": 1,
   "metadata": {},
   "outputs": [
    {
     "name": "stderr",
     "output_type": "stream",
     "text": [
      "2024-02-02 11:26:12,157 [INFO] \n",
      "Limited Linear Model Support Detected! \n",
      "---> PYCHEBFUN is not installed. \n",
      "---> Install pychebfun to use chebfun derivatives (https://github.com/pychebfun/pychebfun/) \n",
      "You can still use other methods \n",
      "\n"
     ]
    }
   ],
   "source": [
    "import fly_plot_lib.plot as fpl\n",
    "import numpy as np\n",
    "import matplotlib.pyplot as plt\n",
    "import pandas as pd\n",
    "import figurefirst as fifi\n",
    "from scipy import stats\n",
    "import pynumdiff\n",
    "import seaborn as sns\n",
    "import scipy.signal\n",
    "import fly_plot_lib.flymath as flymath\n",
    "# from statsmodels.stats import proportions_ztest"
   ]
  },
  {
   "cell_type": "code",
   "execution_count": 3,
   "metadata": {},
   "outputs": [],
   "source": [
    "import seaborn as sns"
   ]
  },
  {
   "cell_type": "code",
   "execution_count": 77,
   "metadata": {},
   "outputs": [],
   "source": [
    "def wrap_angle(a):\n",
    "    return np.arctan2(np.sin(a), np.cos(a))\n"
   ]
  },
  {
   "cell_type": "code",
   "execution_count": 4,
   "metadata": {},
   "outputs": [],
   "source": [
    "#Home for helper functions\n",
    "def get_longer_traj(df, time_min = 1680, id_key='obj_id_unique'):\n",
    "    catcher =[]\n",
    "    for i in df[id_key].unique():\n",
    "        d = df[df[id_key]==i]\n",
    "        d = d[d['time stamp'].between(-100, 5000)]\n",
    "        if d['time stamp'].max() >time_min:\n",
    "            catcher.append(d)\n",
    "    final_df =pd.concat(catcher)\n",
    "    return final_df\n",
    "        \n"
   ]
  },
  {
   "cell_type": "code",
   "execution_count": 5,
   "metadata": {},
   "outputs": [],
   "source": [
    "def remove_discontinuities(x, y, jump=2):\n",
    "    \"\"\"\n",
    "    Returns an array with np.nan inserted between all discontinuities (defined by the size of jump), this prevents plotting functions from plotting the connecting line, which looks ugly.\n",
    "    \n",
    "    x    -- numpy array (1 dim)\n",
    "    y    -- numpy array with the discontinuities (1 dim)\n",
    "    jump -- size of discontinuity to break\n",
    "    \n",
    "    \"\"\"\n",
    "\n",
    "    pos = np.where(np.abs(np.diff(y)) >= jump)[0]+1\n",
    "    x = np.insert(x, pos, np.nan)\n",
    "    y = np.insert(y, pos, np.nan)\n",
    "    \n",
    "    return x, y\n",
    "    "
   ]
  },
  {
   "cell_type": "code",
   "execution_count": 6,
   "metadata": {},
   "outputs": [],
   "source": [
    "#helper function for slicing means with 95% CI's\n",
    "def slice_means_gs(df, index, time_key='time stamp', tmin=-100, tmax = 3000,):\n",
    "    time_vec=[]\n",
    "    mean_vec=[]\n",
    "    upper_vec =[]\n",
    "    lower_vec =[]\n",
    "    df=df[df[time_key].between(tmin, tmax)]\n",
    "    time_vec_ =df[time_key].unique()\n",
    "    time_vec_ = sorted(time_vec_)\n",
    "    for i in  time_vec_:\n",
    "        dummy_df =df[df[time_key]==i]\n",
    "        dummy_df=dummy_df[dummy_df['ground speed'].between(0, 2.0)]\n",
    "        time_vec.append(i)\n",
    "        mean = dummy_df[index].mean()\n",
    "        upper= dummy_df[index].mean() + dummy_df[index].sem()*1.96\n",
    "        lower= dummy_df[index].mean() - dummy_df[index].sem()*1.96\n",
    "        mean_vec.append(mean)\n",
    "        upper_vec.append(upper)\n",
    "        lower_vec.append(lower)\n",
    "        #print(i)\n",
    "    return time_vec, mean_vec, upper_vec, lower_vec\n"
   ]
  },
  {
   "cell_type": "code",
   "execution_count": 7,
   "metadata": {},
   "outputs": [],
   "source": [
    "#applying centering function, not for any analyses but helps center trajectories in plots for alignment\n",
    "def establish_end_as_origin(df, end_time =680, id_key = 'obj_id_unique'):\n",
    "    df_catcher= []\n",
    "    for i in df[id_key].unique():\n",
    "        d_ =df[df['obj_id_unique']==i]\n",
    "        d_=d_[d_['time stamp'].between(-5000, 5000)]\n",
    "        if d_['time stamp'].max()>1680:\n",
    "            try:\n",
    "                ind = np.where(d_['time stamp']==680)[0][0]\n",
    "                ind0 =np.where(d_['time stamp']==0)[0][0]\n",
    "\n",
    "                x_ref =d_['x'].iloc[ind]\n",
    "                y_ref = d_['y'].iloc[ind]\n",
    "                d_['norm x']=d_['x']-x_ref\n",
    "                d_['norm y']=d_['y']-y_ref\n",
    "                df_catcher.append(d_)\n",
    "            except:\n",
    "                pass\n",
    "    df_fin= pd.concat(df_catcher)\n",
    "    return df_fin"
   ]
  },
  {
   "cell_type": "code",
   "execution_count": 8,
   "metadata": {},
   "outputs": [],
   "source": [
    "def unwrap_angle(z, correction_window_for_2pi=100, n_range=2, plot=False):\n",
    "\n",
    "        \n",
    "    smooth_zs = np.array(z[0:2])\n",
    "    for i in range(2, len(z)):\n",
    "        first_ix = np.max([0, i-correction_window_for_2pi])\n",
    "        last_ix = i\n",
    "\n",
    "        nbase = np.round( (smooth_zs[-1] - z[i])/(2*np.pi) )\n",
    "\n",
    "        candidates = []\n",
    "        for n in range(-1*n_range, n_range):\n",
    "            candidates.append(n*2*np.pi+nbase*2*np.pi+z[i])\n",
    "        error = np.abs(candidates - np.mean(smooth_zs[first_ix:last_ix])) \n",
    "        smooth_zs = np.hstack(( smooth_zs, [candidates[np.argmin(error)]] ))\n",
    "    if plot:\n",
    "        plt.plot(smooth_zs, '.', color='black', markersize=1)\n",
    "        \n",
    "    return smooth_zs"
   ]
  },
  {
   "cell_type": "markdown",
   "metadata": {},
   "source": [
    "# Helper function for isolating and plotting two turn sequence on course direction plots"
   ]
  },
  {
   "cell_type": "code",
   "execution_count": 49,
   "metadata": {},
   "outputs": [],
   "source": [
    "#Used in final version of figure\n",
    "def plot_raw_course_single_ax(head_pos_interp_g1, ax1,c_base ='gray',c1 =c1, c2=c2, direction='pos', linewidth=0.2, alpha =0.4):\n",
    "\n",
    "    threshold = 0.004\n",
    "    dt = 10\n",
    "    \n",
    "    #fig = plt.figure(figsize=(10,3))\n",
    "    #ax1 = fig.add_subplot(121)\n",
    "    #ax1.set_xlim(-500, 3000)\n",
    "\n",
    "    #ax2 = fig.add_subplot(122)\n",
    "    #ax2.set_xlim(-100, 3000)\n",
    "\n",
    "    n_with_2_turns = 0\n",
    "    n_without_2_turns = 0\n",
    "\n",
    "    anemometric_saccade_info = {'peak_angular_velocity': [],\n",
    "                                'amplitude': [],\n",
    "                                'duration': [],\n",
    "                                'end_point': [],\n",
    "                                'start_point': []}\n",
    "\n",
    "    anemotaxis_saccade_info = { 'peak_angular_velocity': [],\n",
    "                                'amplitude': [],\n",
    "                                'duration': [],\n",
    "                                'end_point': [],\n",
    "                                'start_point': []}\n",
    "\n",
    "    for r in range(len(head_pos_interp_g1)):\n",
    "\n",
    "        if direction == 'pos':\n",
    "            a = unwrap_angle(head_pos_interp_g1[r] - np.pi, 5)\n",
    "        else:\n",
    "            a = unwrap_angle(head_pos_interp_g1[r] + np.pi, 5)\n",
    "        smootha, da = pynumdiff.linear_model.savgoldiff(a, dt, [3,10,10])\n",
    "        rawsmootha, rawda = pynumdiff.linear_model.savgoldiff(a, dt, [3,4,4]) #pynumdiff.finite_difference.first_order(a, dt)\n",
    "        \n",
    "        # anemometric\n",
    "        if direction == 'pos':\n",
    "            p = scipy.signal.find_peaks_cwt(da, [4, 8])\n",
    "        else:\n",
    "            p = scipy.signal.find_peaks_cwt(-1*da, [4, 8])\n",
    "            \n",
    "        last_ix = np.where(t_interp<450)[0][-1]\n",
    "        first_ix = np.where(t_interp>10)[0][0]\n",
    "        p = p[ (p<last_ix)*(p>first_ix)]\n",
    "        if len(p)>0:\n",
    "            ix_anemometric = p[0]\n",
    "\n",
    "        if direction == 'pos':\n",
    "            chunks, breaks = flymath.get_continuous_chunks( np.where(da>threshold)[0] )\n",
    "        else:\n",
    "            chunks, breaks = flymath.get_continuous_chunks( np.where(da<-1*threshold)[0] )\n",
    "        anemometric_saccade = None\n",
    "        for chunk in chunks:\n",
    "            if ix_anemometric in chunk:\n",
    "                anemometric_saccade = chunk\n",
    "                break\n",
    "\n",
    "        \n",
    "\n",
    "        # anemotaxis\n",
    "        if direction == 'pos':\n",
    "            p = scipy.signal.find_peaks_cwt(-1*da, [4, 8])\n",
    "        else:\n",
    "            p = scipy.signal.find_peaks_cwt(da, [4, 8])\n",
    "        first_ix = ix_anemometric\n",
    "        last_ix = np.where(t_interp<750)[0][-1]\n",
    "        p = p[ (p>first_ix)*(p<last_ix)]\n",
    "        ix_anemotaxis = p[0]\n",
    "\n",
    "        if direction == 'pos':\n",
    "            chunks, breaks = flymath.get_continuous_chunks( np.where(da<-1*threshold)[0] )\n",
    "        else:\n",
    "            chunks, breaks = flymath.get_continuous_chunks( np.where(da>threshold)[0] )\n",
    "        anemotaxis_saccade = None\n",
    "        for chunk in chunks:\n",
    "            if ix_anemotaxis in chunk:\n",
    "                anemotaxis_saccade = chunk\n",
    "                break\n",
    "\n",
    "        if anemotaxis_saccade is not None and anemometric_saccade is not None:\n",
    "            peak = np.max( np.abs(rawda[anemometric_saccade]) )\n",
    "            amplitude = (np.cumsum(rawda[anemometric_saccade])*dt)[-1]\n",
    "            duration = t_interp[anemometric_saccade][-1] - t_interp[anemometric_saccade][0]\n",
    "            end_point = head_pos_interp_g1[r][anemometric_saccade][-1]\n",
    "            start_point = head_pos_interp_g1[r][anemometric_saccade][0]\n",
    "            anemometric_saccade_info['peak_angular_velocity'].append( np.abs(peak) )\n",
    "            anemometric_saccade_info['amplitude'].append(amplitude)\n",
    "            anemometric_saccade_info['duration'].append(duration)\n",
    "            anemometric_saccade_info['end_point'].append(end_point)\n",
    "            anemometric_saccade_info['start_point'].append(start_point)\n",
    "            \n",
    "            peak = np.max( np.abs(rawda[anemotaxis_saccade]) )\n",
    "            amplitude = (np.cumsum(rawda[anemotaxis_saccade])*dt)[-1]\n",
    "            duration = t_interp[anemotaxis_saccade][-1] - t_interp[anemotaxis_saccade][0]\n",
    "            end_point = head_pos_interp_g1[r][anemotaxis_saccade][-1]\n",
    "            start_point = head_pos_interp_g1[r][anemotaxis_saccade][0]\n",
    "\n",
    "            anemotaxis_saccade_info['peak_angular_velocity'].append(np.abs(peak))\n",
    "            anemotaxis_saccade_info['amplitude'].append(amplitude)\n",
    "            anemotaxis_saccade_info['duration'].append(duration)\n",
    "            anemotaxis_saccade_info['end_point'].append(end_point)\n",
    "            anemotaxis_saccade_info['start_point'].append(start_point)\n",
    "        #ix_middle = int( (ix_anemotaxis - ix_anemometric)/2) + ix_anemometric\n",
    "        #ax1.plot(t_interp[ixp], head_pos_interp_g1[r][ixp], '*')\n",
    "\n",
    "\n",
    "\n",
    "        if anemometric_saccade is not None and anemotaxis_saccade is not None:\n",
    "            n_with_2_turns += 1\n",
    "\n",
    "            # before anemometric\n",
    "            t_plot = t_interp[0:anemometric_saccade[0]]\n",
    "            h_plot = head_pos_interp_g1[r][0:anemometric_saccade[0]]\n",
    "            x, y = remove_discontinuities(t_plot, h_plot)\n",
    "            ax1.plot(x, y, color = c_base, linewidth = linewidth, alpha =alpha)\n",
    "\n",
    "            # anemometric\n",
    "            t_plot = t_interp[anemometric_saccade]\n",
    "            h_plot = head_pos_interp_g1[r][anemometric_saccade]\n",
    "            x, y = remove_discontinuities(t_plot, h_plot)\n",
    "            ax1.plot(x, y, color = c1, linewidth = linewidth, alpha =alpha)\n",
    "\n",
    "             # in between time\n",
    "            t_plot = t_interp[anemometric_saccade[-1]:anemotaxis_saccade[0]]\n",
    "            h_plot = head_pos_interp_g1[r][anemometric_saccade[-1]:anemotaxis_saccade[0]]\n",
    "            x, y = remove_discontinuities(t_plot, h_plot)\n",
    "            ax1.plot(x, y, color = c_base, linewidth = linewidth, alpha =alpha)\n",
    "\n",
    "            # anemotaxis\n",
    "            t_plot = t_interp[anemotaxis_saccade]\n",
    "            h_plot = head_pos_interp_g1[r][anemotaxis_saccade]\n",
    "            x, y = remove_discontinuities(t_plot, h_plot)\n",
    "            ax1.plot(x, y, color = c2, linewidth = linewidth, alpha =alpha)\n",
    "\n",
    "            # after anemotaxis\n",
    "            t_plot = t_interp[anemotaxis_saccade[-1]:] \n",
    "            h_plot = head_pos_interp_g1[r][anemotaxis_saccade[-1]:]\n",
    "            x, y = remove_discontinuities(t_plot, h_plot)\n",
    "            ax1.plot(x, y, color = c_base, linewidth = linewidth, alpha =0.5)\n",
    "\n",
    "        else:\n",
    "            #print(r)\n",
    "            n_without_2_turns += 1\n",
    "            x, y = remove_discontinuities(t_interp, head_pos_interp_g1[r])\n",
    "            ax1.plot(x, y, color = c_base, linewidth = linewidth, alpha =alpha)\n",
    "    #ax1.plot(t_interp, np.mean(head_pos_interp_g1, axis=0), color='red')\n",
    "\n",
    "    #print(n_with_2_turns)\n",
    "    #print(n_without_2_turns)\n",
    "\n",
    "    return anemometric_saccade_info, anemotaxis_saccade_info, n_with_2_turns, n_without_2_turns\n",
    "\n",
    "def mean_angle(angle, axis=0):\n",
    "    return np.arctan2(np.nanmean(np.sin(angle), axis=axis), np.nanmean(np.cos(angle), axis=axis))"
   ]
  },
  {
   "cell_type": "markdown",
   "metadata": {},
   "source": [
    "# Helper function for plotting isolated saccades"
   ]
  },
  {
   "cell_type": "code",
   "execution_count": 40,
   "metadata": {},
   "outputs": [],
   "source": [
    "\n",
    "def plot_split_trajecs_turn_aligner(head_pos_interp_g1, ax1, ax2, direction='pos', \n",
    "                                    linewidth=0.2, alpha = 0.4, c1= 'orange', c2='crimson'):\n",
    "\n",
    "    threshold = 0.004\n",
    "    dt = 10\n",
    "    \n",
    "    #fig = plt.figure(figsize=(10,3))\n",
    "    #ax1 = fig.add_subplot(121)\n",
    "    #ax1.set_xlim(-500, 3000)\n",
    "\n",
    "    #ax2 = fig.add_subplot(122)\n",
    "    #ax2.set_xlim(-100, 3000)\n",
    "\n",
    "    n_with_2_turns = 0\n",
    "    n_without_2_turns = 0\n",
    "\n",
    "    anemometric_saccade_info = {'peak_angular_velocity': [],\n",
    "                                'amplitude': [],\n",
    "                                'duration': [],\n",
    "                                'end_point': [],\n",
    "                                'start_point': []}\n",
    "\n",
    "    anemotaxis_saccade_info = { 'peak_angular_velocity': [],\n",
    "                                'amplitude': [],\n",
    "                                'duration': [],\n",
    "                                'end_point': [],\n",
    "                                'start_point': []}\n",
    "\n",
    "    for r in range(len(head_pos_interp_g1)):\n",
    "\n",
    "        if direction == 'pos':\n",
    "            a = unwrap_angle(head_pos_interp_g1[r] - np.pi, 5)\n",
    "        else:\n",
    "            a = unwrap_angle(head_pos_interp_g1[r] + np.pi, 5)\n",
    "        smootha, da = pynumdiff.linear_model.savgoldiff(a, dt, [3,10,10])\n",
    "        rawsmootha, rawda = pynumdiff.linear_model.savgoldiff(a, dt, [3,4,4]) #pynumdiff.finite_difference.first_order(a, dt)\n",
    "        \n",
    "        # anemometric\n",
    "        if direction == 'pos':\n",
    "            p = scipy.signal.find_peaks_cwt(da, [4, 8])\n",
    "        else:\n",
    "            p = scipy.signal.find_peaks_cwt(-1*da, [4, 8])\n",
    "            \n",
    "        last_ix = np.where(t_interp<450)[0][-1]\n",
    "        first_ix = np.where(t_interp>10)[0][0]\n",
    "        p = p[ (p<last_ix)*(p>first_ix)]\n",
    "        ix_anemometric = p[0]\n",
    "\n",
    "        if direction == 'pos':\n",
    "            chunks, breaks = flymath.get_continuous_chunks( np.where(da>threshold)[0] )\n",
    "        else:\n",
    "            chunks, breaks = flymath.get_continuous_chunks( np.where(da<-1*threshold)[0] )\n",
    "        anemometric_saccade = None\n",
    "        for chunk in chunks:\n",
    "            if ix_anemometric in chunk:\n",
    "                anemometric_saccade = chunk\n",
    "                break\n",
    "\n",
    "        \n",
    "\n",
    "        # anemotaxis\n",
    "        if direction == 'pos':\n",
    "            p = scipy.signal.find_peaks_cwt(-1*da, [4, 8])\n",
    "        else:\n",
    "            p = scipy.signal.find_peaks_cwt(da, [4, 8])\n",
    "        first_ix = ix_anemometric\n",
    "        last_ix = np.where(t_interp<750)[0][-1]\n",
    "        p = p[ (p>first_ix)*(p<last_ix)]\n",
    "        ix_anemotaxis = p[0]\n",
    "\n",
    "        if direction == 'pos':\n",
    "            chunks, breaks = flymath.get_continuous_chunks( np.where(da<-1*threshold)[0] )\n",
    "        else:\n",
    "            chunks, breaks = flymath.get_continuous_chunks( np.where(da>threshold)[0] )\n",
    "        anemotaxis_saccade = None\n",
    "        for chunk in chunks:\n",
    "            if ix_anemotaxis in chunk:\n",
    "                anemotaxis_saccade = chunk\n",
    "                break\n",
    "\n",
    "        if anemotaxis_saccade is not None and anemometric_saccade is not None:\n",
    "            peak = np.max( np.abs(rawda[anemometric_saccade]) )\n",
    "            amplitude = (np.cumsum(rawda[anemometric_saccade])*dt)[-1]\n",
    "            duration = t_interp[anemometric_saccade][-1] - t_interp[anemometric_saccade][0]\n",
    "            end_point = head_pos_interp_g1[r][anemometric_saccade][-1]\n",
    "            start_point = head_pos_interp_g1[r][anemometric_saccade][0]\n",
    "\n",
    "            anemometric_saccade_info['peak_angular_velocity'].append( np.abs(peak) )\n",
    "            anemometric_saccade_info['amplitude'].append(amplitude)\n",
    "            anemometric_saccade_info['duration'].append(duration)\n",
    "            anemometric_saccade_info['end_point'].append(end_point)\n",
    "            anemometric_saccade_info['start_point'].append(start_point)\n",
    "            \n",
    "            peak = np.max( np.abs(rawda[anemotaxis_saccade]) )\n",
    "            amplitude = (np.cumsum(rawda[anemotaxis_saccade])*dt)[-1]\n",
    "            duration = t_interp[anemotaxis_saccade][-1] - t_interp[anemotaxis_saccade][0]\n",
    "            end_point = head_pos_interp_g1[r][anemotaxis_saccade][-1]\n",
    "            start_point = head_pos_interp_g1[r][anemotaxis_saccade][0]\n",
    "\n",
    "            anemotaxis_saccade_info['peak_angular_velocity'].append(np.abs(peak))\n",
    "            anemotaxis_saccade_info['amplitude'].append(amplitude)\n",
    "            anemotaxis_saccade_info['duration'].append(duration)\n",
    "            anemotaxis_saccade_info['end_point'].append(end_point)\n",
    "            anemotaxis_saccade_info['start_point'].append(start_point)\n",
    "        #ix_middle = int( (ix_anemotaxis - ix_anemometric)/2) + ix_anemometric\n",
    "        #ax1.plot(t_interp[ixp], head_pos_interp_g1[r][ixp], '*')\n",
    "\n",
    "\n",
    "\n",
    "        if anemometric_saccade is not None and anemotaxis_saccade is not None:\n",
    "            n_with_2_turns += 1\n",
    "\n",
    "            # before anemometric\n",
    "            #t_plot = t_interp[0:anemometric_saccade[0]]\n",
    "            #h_plot = head_pos_interp_g1[r][0:anemometric_saccade[0]]\n",
    "            #x, y = remove_discontinuities(t_plot - np.mean(t_plot), h_plot)\n",
    "            #ax1.plot(x, y, color = 'pink', linewidth = linewidth, alpha =0.4)\n",
    "\n",
    "            # anemometric\n",
    "            if direction == 'pos':\n",
    "                ind= np.where(rawda[anemometric_saccade]==rawda[anemometric_saccade].max())[0][0]\n",
    "            else:\n",
    "                ind= np.where(rawda[anemometric_saccade]==rawda[anemometric_saccade].min())[0][0]\n",
    "            t_len = len(anemometric_saccade)\n",
    "            #print(\"index is \" +str(t_len))\n",
    "            align_time = np.arange(-1*ind, t_len-ind, 1)\n",
    "            #print(align_time)\n",
    "            align_time= align_time*10.\n",
    "            align_time.astype(float)\n",
    "            #print(align_time)\n",
    "            t_plot = t_interp[anemometric_saccade]\n",
    "            #print(t_plot)\n",
    "            h_plot = head_pos_interp_g1[r][anemometric_saccade]\n",
    "            #print(len(h_plot))\n",
    "            #x, y = remove_discontinuities(t_plot - np.mean(t_plot) + 300, h_plot)\n",
    "            x, y = remove_discontinuities(t_plot-np.mean(t_plot), h_plot, jump =np.pi/2.)\n",
    "            ax1.plot(x, y, color = c1, linewidth = linewidth, alpha =alpha)\n",
    "\n",
    "            # in between time\n",
    "#             t_plot = t_interp[anemometric_saccade[-1]:anemotaxis_saccade[0]]\n",
    "#             h_plot = head_pos_interp_g1[r][anemometric_saccade[-1]:anemotaxis_saccade[0]]\n",
    "#             x, y = remove_discontinuities(t_plot - np.mean(t_plot) + 600, h_plot)\n",
    "#             ax1.plot(x, y, color = 'scarlet', linewidth = linewidth, alpha =0.4)\n",
    "\n",
    "            # anemotaxis\n",
    "            #fix direction switch\n",
    "            #abs_da =np.abs(rawda[anemotaxis])\n",
    "            if direction == 'pos':\n",
    "                ind= np.where(rawda[anemotaxis_saccade]==rawda[anemotaxis_saccade].min())[0][0]\n",
    "            else:\n",
    "                ind= np.where(rawda[anemotaxis_saccade]==rawda[anemotaxis_saccade].max())[0][0]\n",
    "            t_len = len(anemotaxis_saccade)\n",
    "            align_time = np.arange(-1*ind, t_len-ind, 1)\n",
    "            align_time= align_time*10.\n",
    "            align_time.astype(float)\n",
    "            t_plot = t_interp[anemotaxis_saccade]\n",
    "            h_plot = head_pos_interp_g1[r][anemotaxis_saccade]\n",
    "            #x, y = remove_discontinuities(t_plot - np.mean(t_plot) + 900, h_plot)\n",
    "            x, y = remove_discontinuities(t_plot-np.mean(t_plot), h_plot, jump = np.pi/2)\n",
    "            ax2.plot(x, y, color = c2, linewidth = linewidth, alpha =alpha, markeredgecolor = None)\n",
    "\n",
    "#             # after anemotaxis\n",
    "#             t_plot = t_interp[anemotaxis_saccade[-1]:] - t_interp[anemotaxis_saccade[-1]:][0]\n",
    "#             h_plot = head_pos_interp_g1[r][anemotaxis_saccade[-1]:]\n",
    "#             x, y = remove_discontinuities(t_plot + 1200, h_plot)\n",
    "#             ax1.plot(x, y, color = 'pink', linewidth = linewidth, alpha =0.4)\n",
    "\n",
    "        else:\n",
    "            #print(r)\n",
    "            n_without_2_turns += 1\n",
    "            x, y = remove_discontinuities(t_interp, head_pos_interp_g1[r])\n",
    "            #ax2.plot(x, y, color = 'lightskyblue', linewidth = linewidth, alpha =0.4)\n",
    "    #ax1.plot(t_interp, np.mean(head_pos_interp_g1, axis=0), color='red')\n",
    "\n",
    "    #print(n_with_2_turns)\n",
    "    #print(n_without_2_turns)\n",
    "\n",
    "    return anemometric_saccade_info, anemotaxis_saccade_info, n_with_2_turns, n_without_2_turns\n",
    "\n",
    "def mean_angle(angle, axis=0):\n",
    "    return np.arctan2(np.nanmean(np.sin(angle), axis=axis), np.nanmean(np.cos(angle), axis=axis))"
   ]
  },
  {
   "cell_type": "code",
   "execution_count": 11,
   "metadata": {},
   "outputs": [],
   "source": []
  },
  {
   "cell_type": "code",
   "execution_count": 12,
   "metadata": {},
   "outputs": [],
   "source": [
    "#maybe used in supplement?\n",
    "def plot_split_trajecs_no_wind_version_turn_align(head_pos_interp_g1, ax1, ax2, direction='pos', linewidth=0.2, c= 'purple', alpha = 0.5):\n",
    "    # fig = plt.figure(figsize=(10,3))\n",
    "    # ax1 = fig.add_subplot(121)\n",
    "    # #ax1.set_xlim(-500, 3000)\n",
    "    # ax1.set_ylim(-6.28, 6.28)\n",
    "\n",
    "    # ax2 = fig.add_subplot(122)\n",
    "    # #ax2.set_xlim(-100, 3000)\n",
    "    # ax2.set_ylim(-6.28, 6.28)\n",
    "\n",
    "    threshold = 0.004\n",
    "    \n",
    "    anemometric_saccade_info = {'peak_angular_velocity': [],\n",
    "                                'amplitude': [],\n",
    "                                'duration': [],\n",
    "                                'end_point': []}\n",
    "    \n",
    "    n_with_1_turn = 0\n",
    "    n_without_1_turn = 0\n",
    "    \n",
    "    for r in range(len(head_pos_interp_g1)):\n",
    "\n",
    "        a = head_pos_interp_g1[r]\n",
    "        smootha, da = pynumdiff.linear_model.savgoldiff(a, dt, [3,10,10])\n",
    "        rawsmootha, rawda = pynumdiff.linear_model.savgoldiff(a, dt, [3,4,4]) #pynumdiff.finite_difference.first_order(a, dt)\n",
    "\n",
    "        # anemometric\n",
    "        if direction == 'pos':\n",
    "            p = scipy.signal.find_peaks_cwt(da, [4])\n",
    "        else:\n",
    "            p = scipy.signal.find_peaks_cwt(-1*da, [4])\n",
    "\n",
    "        last_ix = np.where( (t_interp<600) )[0][-1]\n",
    "        first_ix = np.where( (t_interp>0) )[0][0]\n",
    "        p = p[ (p<last_ix)*(p>first_ix)]\n",
    "        if len(p)>0:\n",
    "            ix_anemometric = p[0]\n",
    "        else:\n",
    "            ix_anemometric = -1\n",
    "\n",
    "        chunks = []\n",
    "        if direction == 'pos':\n",
    "            ix = np.where(da>threshold)[0]\n",
    "            if len(ix) > 0:\n",
    "                chunks, breaks = flymath.get_continuous_chunks( ix )\n",
    "        else:\n",
    "            ix = np.where(da<-1*threshold)[0]\n",
    "            if len(ix) > 0:\n",
    "                chunks, breaks = flymath.get_continuous_chunks( ix )\n",
    "        anemometric_saccade = None\n",
    "        for chunk in chunks:\n",
    "            if ix_anemometric in chunk:\n",
    "                anemometric_saccade = chunk\n",
    "                break\n",
    "\n",
    "        if anemometric_saccade is not None:\n",
    "            peak = np.max( np.abs(rawda[anemometric_saccade]) )\n",
    "            amplitude = (np.cumsum(rawda[anemometric_saccade])*dt)[-1]\n",
    "            duration = t_interp[anemometric_saccade][-1] - t_interp[anemometric_saccade][0]\n",
    "            end_point = head_pos_interp_g1[r][anemometric_saccade][-1]\n",
    "\n",
    "            anemometric_saccade_info['peak_angular_velocity'].append( np.abs(peak) )\n",
    "            anemometric_saccade_info['amplitude'].append(amplitude)\n",
    "            anemometric_saccade_info['duration'].append(duration)\n",
    "            anemometric_saccade_info['end_point'].append(end_point)\n",
    "\n",
    "        if anemometric_saccade is not None:\n",
    "            n_with_1_turn += 1\n",
    "            \n",
    "            if direction == 'pos':\n",
    "                ind= np.where(np.abs(rawda[anemometric_saccade])==np.abs(rawda[anemometric_saccade]).max())[0][0]\n",
    "            else:\n",
    "                ind= np.where(np.abs(rawda[anemometric_saccade])==np.abs(rawda[anemometric_saccade]).max())[0][0]\n",
    "            t_len = len(anemometric_saccade)\n",
    "            #print(\"index is \" +str(t_len))\n",
    "            align_time = np.arange(-1*ind, t_len-ind, 1)\n",
    "            #print(align_time)\n",
    "            align_time= align_time*10.\n",
    "            align_time.astype(float)\n",
    "            # before anemometric\n",
    "#             t_plot = t_interp[0:anemometric_saccade[0]]\n",
    "#             h_plot = head_pos_interp_g1[r][0:anemometric_saccade[0]]\n",
    "#             x, y = remove_discontinuities(t_plot - np.mean(t_plot), h_plot)\n",
    "#             ax1.plot(x, y, color = 'pink', linewidth = linewidth, alpha =0.4)\n",
    "\n",
    "            # anemometric\n",
    "            t_plot = t_interp[anemometric_saccade]\n",
    "            h_plot = head_pos_interp_g1[r][anemometric_saccade]\n",
    "            x, y = remove_discontinuities(t_plot-np.mean(t_plot), h_plot)\n",
    "            ax1.plot(x, y, color = c, linewidth = linewidth, alpha =alpha, markeredgecolor=None)\n",
    "\n",
    "            # after anemotaxis\n",
    "#             t_plot = t_interp[anemometric_saccade[-1]:]\n",
    "#             t_plot = t_plot - t_plot[0] + 600\n",
    "#             #print(anemometric_saccade[-1])\n",
    "#             #t_plot -= t_plot[0]\n",
    "#             h_plot = head_pos_interp_g1[r][anemometric_saccade[-1]:]\n",
    "#             x, y = remove_discontinuities(t_plot, h_plot)\n",
    "#             ax1.plot(x, y, color = 'pink', linewidth = linewidth, alpha =0.4)\n",
    "\n",
    "        else:\n",
    "            print(r)\n",
    "            n_without_1_turn += 1\n",
    "            x, y = remove_discontinuities(t_interp, head_pos_interp_g1[r])\n",
    "            #ax2.plot(x, y, color = 'lightskyblue', linewidth = linewidth, alpha =0.4)\n",
    "    #ax1.plot(t_interp, np.mean(head_pos_interp_g1, axis=0), color='red')\n",
    "\n",
    "    return anemometric_saccade_info, n_with_1_turn, n_without_1_turn"
   ]
  },
  {
   "cell_type": "markdown",
   "metadata": {},
   "source": [
    "# Load in data sets"
   ]
  },
  {
   "cell_type": "code",
   "execution_count": 9,
   "metadata": {},
   "outputs": [],
   "source": [
    "####Load in data sets\n",
    "orco=pd.read_csv('../trimmed_data/main/OrcoCsChrimson_laminar_wind_merged.csv')\n",
    "nw = pd.read_csv('../trimmed_data/main/Orco_CsChrimson_still_air_merged.csv')"
   ]
  },
  {
   "cell_type": "code",
   "execution_count": 11,
   "metadata": {},
   "outputs": [
    {
     "name": "stderr",
     "output_type": "stream",
     "text": [
      "2024-01-29 16:00:14,552 [INFO] Note: NumExpr detected 32 cores but \"NUMEXPR_MAX_THREADS\" not set, so enforcing safe limit of 8.\n",
      "2024-01-29 16:00:14,554 [INFO] NumExpr defaulting to 8 threads.\n"
     ]
    }
   ],
   "source": [
    "####Some basic calcs and trimming\n",
    "nw=nw[nw['time stamp'].between(-5000, 5000)]\n",
    "nw['ground speed']=(nw['xvel']**2+nw['yvel']**2)**0.5\n",
    "\n",
    "orco['ground speed']=(orco['xvel']**2+orco['yvel']**2)**0.5\n",
    "orco=orco[orco['time stamp'].between(-5000, 5000)]"
   ]
  },
  {
   "cell_type": "code",
   "execution_count": 12,
   "metadata": {},
   "outputs": [],
   "source": [
    "#get trajectories with at least one full second after stimulus end\n",
    "nw=get_longer_traj(nw)\n",
    "orco=get_longer_traj(orco)"
   ]
  },
  {
   "cell_type": "code",
   "execution_count": 13,
   "metadata": {},
   "outputs": [],
   "source": [
    "#Manual trajectory inspection found these to be bogies (dead fly on bottom or roof that has an altitude error and sends it through trigger zone)\n",
    "nw_remove_vec =['7887_20220813_165621', '16132_20220813_165621', '17547_20220813_165621', '18884_20220813_165621', '24498_20220813_165621'\n",
    "            ,'24498_20220813_165621' '48280_20220813_16562', '51293_20220813_165621', '52041_20220813_165621', '59859_20220813_165621',\n",
    "             '3422_20220814_165127', '11784_20220814_165127', '26952_20220814_165127', '33917_20220814_165127', '2057_20220815_162329',\n",
    "             '2258_20220815_162329', '3752_20220815_162329', '6963_20220815_162329', '14331_20220815_162329', '16448_20220815_162329', '19357_20220815_162329',\n",
    "             '22286_20220815_162329', '24581_20220815_162329', '34034_20220815_162329', '44894_20220815_162329', '9897_20220817_173045'\n",
    "             ,'22348_20220817_173045', '22515_20220817_173045']\n",
    "nw=nw[nw['obj_id_unique'].isin(nw_remove_vec)==False]"
   ]
  },
  {
   "cell_type": "code",
   "execution_count": 14,
   "metadata": {},
   "outputs": [],
   "source": [
    "#separate into flash and sham\n",
    "lw100=orco[orco['duration']==100]\n",
    "lw0=orco[orco['duration']==0]\n",
    "nw100=nw[nw['duration']==100]\n",
    "nw0=nw[nw['duration']==0]"
   ]
  },
  {
   "cell_type": "markdown",
   "metadata": {},
   "source": [
    "# Split laminar wind by a flies orientation at the time of their stimulus"
   ]
  },
  {
   "cell_type": "code",
   "execution_count": 15,
   "metadata": {},
   "outputs": [
    {
     "name": "stderr",
     "output_type": "stream",
     "text": [
      "/home/flybot/PyNumDiff_ENV/lib/python3.5/site-packages/ipykernel_launcher.py:2: SettingWithCopyWarning: \n",
      "A value is trying to be set on a copy of a slice from a DataFrame.\n",
      "Try using .loc[row_indexer,col_indexer] = value instead\n",
      "\n",
      "See the caveats in the documentation: http://pandas.pydata.org/pandas-docs/stable/indexing.html#indexing-view-versus-copy\n",
      "  \n"
     ]
    }
   ],
   "source": [
    "#split laminar wind into upwind cw and dw data sets\n",
    "lw100['abs ang vel']=np.abs(lw100['theta dot smooth'])\n",
    "cw=[]\n",
    "uw=[]\n",
    "dw=[]\n",
    "for i in lw100['obj_id_unique'].unique():\n",
    "    d =lw100[lw100['obj_id_unique']==i]\n",
    "    ind=np.where(d['time stamp']==0)[0][0]\n",
    "    o=np.abs(d['heading'].iloc[ind])\n",
    "    #print(o)\n",
    "    if o<=np.pi/4:\n",
    "        uw.append(i)\n",
    "    if o> np.pi/4 and o <=(3.*np.pi/4):\n",
    "        cw.append(i)\n",
    "    elif o >(3.*np.pi/4):\n",
    "        dw.append(i)\n",
    "\n",
    "\n",
    "#Subslice the laminar wind data set        \n",
    "cw_orco=lw100[lw100['obj_id_unique'].isin(cw)]\n",
    "uw_orco=lw100[lw100['obj_id_unique'].isin(uw)]\n",
    "dw_orco=lw100[lw100['obj_id_unique'].isin(dw)]\n"
   ]
  },
  {
   "cell_type": "code",
   "execution_count": 16,
   "metadata": {},
   "outputs": [],
   "source": [
    "#Example crosswind trajectories for figure\n",
    "cw_add_ons =['202_20220926_173927','6303_20220926_173927', '6312_20220926_173927', '8101_20220926_173927'\n",
    "            ]"
   ]
  },
  {
   "cell_type": "code",
   "execution_count": 22,
   "metadata": {},
   "outputs": [
    {
     "name": "stderr",
     "output_type": "stream",
     "text": [
      "/home/flybot/PyNumDiff_ENV/lib/python3.5/site-packages/ipykernel_launcher.py:1: SettingWithCopyWarning: \n",
      "A value is trying to be set on a copy of a slice from a DataFrame.\n",
      "Try using .loc[row_indexer,col_indexer] = value instead\n",
      "\n",
      "See the caveats in the documentation: http://pandas.pydata.org/pandas-docs/stable/indexing.html#indexing-view-versus-copy\n",
      "  \"\"\"Entry point for launching an IPython kernel.\n"
     ]
    }
   ],
   "source": [
    "nw100['abs ang vel']=np.abs(nw100['theta dot smooth'])"
   ]
  },
  {
   "cell_type": "code",
   "execution_count": 23,
   "metadata": {},
   "outputs": [],
   "source": [
    "no_wind_test_traj =['2743_20220813_165621', '5098_20220813_165621', '5911_20220813_165621',  '16906_20220813_165621','467_20220814_165127', '791_20220814_165127'\n",
    "                   ,'4720_20220814_165127','11977_20220814_165127' ]"
   ]
  },
  {
   "cell_type": "code",
   "execution_count": null,
   "metadata": {},
   "outputs": [],
   "source": []
  },
  {
   "cell_type": "code",
   "execution_count": 5528,
   "metadata": {},
   "outputs": [],
   "source": []
  },
  {
   "cell_type": "code",
   "execution_count": null,
   "metadata": {},
   "outputs": [],
   "source": []
  },
  {
   "cell_type": "code",
   "execution_count": null,
   "metadata": {},
   "outputs": [],
   "source": []
  },
  {
   "cell_type": "code",
   "execution_count": 6530,
   "metadata": {},
   "outputs": [],
   "source": []
  },
  {
   "cell_type": "code",
   "execution_count": 20,
   "metadata": {},
   "outputs": [],
   "source": [
    "#Standardize a couple size and color things so figures all come out the same\n",
    "ms=4\n",
    "lw=.25\n",
    "fs=6\n",
    "linew=.5\n",
    "tl=3\n",
    "\n",
    "#Color scheme here\n",
    "#set one\n",
    "# c1='#ff4475'\n",
    "# c2 = '#2a52be'\n",
    "# cnw='#854abb'\n",
    "\n",
    "# #set two\n",
    "# c1='#ff6361'\n",
    "# c2='#003f5c'\n",
    "# cnw='#bc5090'\n",
    "\n",
    "#set three\n",
    "# c1='#fbb36a'\n",
    "# c2='#488f31'\n",
    "# cnw='#de425b'\n",
    "\n",
    "#Set four\n",
    "c1='blue'\n",
    "cnw = '#007ba7'\n",
    "c2='purple'"
   ]
  },
  {
   "cell_type": "code",
   "execution_count": 18,
   "metadata": {},
   "outputs": [],
   "source": [
    "#upwind candidate ID's\n",
    "#Id's of examplar trajectories, 5 fit in figure 12439 is best shape for the annotatoed parts\n",
    "t_vec =['12439_20220926_173927', '530_20220927_170437',  '4864_20220927_170437',  '2983_20220927_170437']"
   ]
  },
  {
   "cell_type": "code",
   "execution_count": 17,
   "metadata": {},
   "outputs": [],
   "source": [
    "template = '../figure_first_templates/f6.svg'"
   ]
  },
  {
   "cell_type": "markdown",
   "metadata": {},
   "source": [
    "# Trajectories Block"
   ]
  },
  {
   "cell_type": "code",
   "execution_count": 21,
   "metadata": {},
   "outputs": [
    {
     "data": {
      "image/png": "[encoded data removed]",
      "text/plain": [
       "<Figure size 432x396 with 2 Axes>"
      ]
     },
     "metadata": {
      "needs_background": "light"
     },
     "output_type": "display_data"
    },
    {
     "data": {
      "image/png": "[encoded data removed]",
      "text/plain": [
       "<Figure size 432x396 with 3 Axes>"
      ]
     },
     "metadata": {
      "needs_background": "light"
     },
     "output_type": "display_data"
    },
    {
     "data": {
      "image/png": "[encoded data removed]",
      "text/plain": [
       "<Figure size 432x396 with 6 Axes>"
      ]
     },
     "metadata": {
      "needs_background": "light"
     },
     "output_type": "display_data"
    },
    {
     "data": {
      "image/png": "[encoded data removed]",
      "text/plain": [
       "<Figure size 432x396 with 6 Axes>"
      ]
     },
     "metadata": {
      "needs_background": "light"
     },
     "output_type": "display_data"
    },
    {
     "data": {
      "image/png": "[encoded data removed]",
      "text/plain": [
       "<Figure size 432x396 with 2 Axes>"
      ]
     },
     "metadata": {
      "needs_background": "light"
     },
     "output_type": "display_data"
    },
    {
     "data": {
      "image/png": "[encoded data removed]",
      "text/plain": [
       "<Figure size 432x396 with 2 Axes>"
      ]
     },
     "metadata": {
      "needs_background": "light"
     },
     "output_type": "display_data"
    },
    {
     "data": {
      "image/png": "[encoded data removed]",
      "text/plain": [
       "<Figure size 432x396 with 6 Axes>"
      ]
     },
     "metadata": {
      "needs_background": "light"
     },
     "output_type": "display_data"
    },
    {
     "data": {
      "image/png": "[encoded data removed]",
      "text/plain": [
       "<Figure size 432x396 with 2 Axes>"
      ]
     },
     "metadata": {
      "needs_background": "light"
     },
     "output_type": "display_data"
    }
   ],
   "source": [
    "layout =fifi.svg_to_axes.FigureLayout(template, autogenlayers=True, make_mplfigures=True, hide_layers=[])\n",
    "#First Trajectory\n",
    "ax=layout.axes[('traj', 't1')]\n",
    "traj =lw100[lw100['obj_id_unique']==t_vec[0]]\n",
    "traj=establish_end_as_origin(traj)\n",
    "traj=traj[traj['time stamp'].between(-100, 1000)]\n",
    "sub=traj[traj['time stamp'].between(300, 600)]\n",
    "\n",
    "#Trajectory 1 traj plot\n",
    "pre =traj[traj['time stamp']<=0]\n",
    "dur = traj[traj['time stamp'].between(0, 680)]\n",
    "post =traj[traj['time stamp'] >=680]\n",
    "ax.plot(pre['norm x'], pre['norm y'], color ='k', linewidth = lw+.2)\n",
    "ax.plot(dur['norm x'], dur['norm y'], color = 'red', linewidth = lw+.2)\n",
    "ax.plot(post['norm x'], post['norm y'], color = 'k', linewidth = lw+.2)\n",
    "ax.set_xlim(-.2, .2)\n",
    "ax.set_ylim(-.1, .1)\n",
    "\n",
    "# ax.scatter(traj['norm x'].iloc[0],traj['norm y'].iloc[0], marker = (3, 0, 120),s=ms, color ='k')\n",
    "# #ax.scatter(traj['norm x'].iloc[35],traj['norm y'].iloc[35], marker = (3, 0, 65),s=ms, color ='r')\n",
    "# ax.scatter(traj['norm x'].iloc[-1],traj['norm y'].iloc[-1], marker = (3, 0, 120),s=ms, color ='k')\n",
    "\n",
    "ax.set_xticklabels([])\n",
    "#ax.set_rasterization_zorder(1000)\n",
    "\n",
    "\n",
    "#Trajectory 1 Heading plot\n",
    "axh1=layout.axes[('traj', 'h1')]\n",
    "#turn shading\n",
    "axh1.plot(dur['time stamp'].iloc[13:23], dur['heading'].iloc[13:23], color = c1, linewidth = lw+1.75, alpha = 1) \n",
    "axh1.plot(dur['time stamp'].iloc[35:44], dur['heading'].iloc[35:44], color = c2, linewidth = lw+1.75, alpha = 1)\n",
    "#rest\n",
    "axh1.plot(pre['time stamp'], pre['heading'], color ='k', linewidth = lw+.25)\n",
    "axh1.plot(dur['time stamp'], dur['heading'], color = 'red', linewidth = lw+.25 )\n",
    "axh1.plot(post['time stamp'], post['heading'], color = 'k', linewidth = lw+.25)\n",
    "# axh1.axvline(x=175, color = c1, linewidth =0.5, linestyle = '--')\n",
    "# axh1.axvline(x=380, color = c2, linewidth =0.5, linestyle = '--')\n",
    "axh1.plot([0,200], [3.14,3.14], color = 'k', linewidth =0.5)\n",
    "axh1.axhline(y=0, color = 'k', linestyle = \"--\", alpha = 0.5, linewidth = lw)\n",
    "axh1.set_yticklabels(['',' ',' ', ' ', ' '])\n",
    "\n",
    "\n",
    "#Trajectory 2 traj plot\n",
    "axt2=layout.axes[('traj', 't2')]\n",
    "\n",
    "traj =lw100[lw100['obj_id_unique']==t_vec[3]]\n",
    "traj=establish_end_as_origin(traj)\n",
    "traj=traj[traj['time stamp'].between(-100, 1000)]\n",
    "\n",
    "sub=traj[traj['time stamp'].between(300, 600)]\n",
    "pre =traj[traj['time stamp']<=0]\n",
    "dur = traj[traj['time stamp'].between(0, 680)]\n",
    "post =traj[traj['time stamp'] >=680]\n",
    "\n",
    "axt2.plot(pre['norm x'], pre['norm y'], color ='k', linewidth = lw+.2)\n",
    "axt2.plot(dur['norm x'], dur['norm y'], color = 'red', linewidth = lw+.2)\n",
    "axt2.plot(post['norm x'], post['norm y'], color = 'k', linewidth = lw+.2)\n",
    "axt2.set_xlim(-.25, .25)\n",
    "axt2.set_ylim(-.125, .125)\n",
    "\n",
    "# axt2.scatter(traj['norm x'].iloc[0],traj['norm y'].iloc[0], marker = (3, 0, 135),s=ms, color ='k')\n",
    "# #axt2.scatter(traj['norm x'].iloc[68],traj['norm y'].iloc[68], marker = (3, 0, 158),s=ms, color ='r')\n",
    "# axt2.scatter(traj['norm x'].iloc[-1],traj['norm y'].iloc[-1], marker = (3, 0, 20),s=ms, color ='k')\n",
    "\n",
    "axt2.set_xticklabels([])\n",
    "#axt2.set_rasterization_zorder(1000)\n",
    "\n",
    "\n",
    "#Trajectory 2 heading plot\n",
    "axh2=layout.axes[('traj', 'h2')]\n",
    "\n",
    "axh2.plot(dur['time stamp'].iloc[15:23], dur['heading'].iloc[15:23], color = c1, linewidth = lw+1.75, alpha = 1) \n",
    "axh2.plot(dur['time stamp'].iloc[36:45], dur['heading'].iloc[36:45], color = c2, linewidth = lw+1.75, alpha = 1)\n",
    "\n",
    "axh2.plot(pre['time stamp'], pre['heading'], color ='k', linewidth = lw+.25)\n",
    "axh2.plot(dur['time stamp'], dur['heading'], color = 'red', linewidth = lw+.25 )\n",
    "axh2.plot(post['time stamp'], post['heading'], color = 'k', linewidth = lw+.25)\n",
    "\n",
    "axh2.axhline(y=0, color = 'k', linestyle = \"--\", alpha = 0.5, linewidth = lw)\n",
    "# axh2.axvline(x=200, color = c1, linewidth =0.5, linestyle = '--')\n",
    "# axh2.axvline(x=405, color = c2, linewidth =0.5, linestyle = '--')\n",
    "\n",
    "axh2.set_yticklabels(['',' ',' ', ' ', ' '])\n",
    "\n",
    "\n",
    "#Trajectory 3 trajectory plot\n",
    "axt3=layout.axes[('traj', 't3')]\n",
    "traj =lw100[lw100['obj_id_unique']==t_vec[2]]\n",
    "traj=establish_end_as_origin(traj)\n",
    "traj=traj[traj['time stamp'].between(-100, 1000)]\n",
    "\n",
    "sub=traj[traj['time stamp'].between(300, 600)]\n",
    "pre =traj[traj['time stamp']<=0]\n",
    "dur = traj[traj['time stamp'].between(0, 680)]\n",
    "post =traj[traj['time stamp'] >=680]\n",
    "\n",
    "axt3.plot(pre['norm x'], pre['norm y'], color ='k', linewidth = lw+.2)\n",
    "axt3.plot(dur['norm x'], dur['norm y'], color = 'red', linewidth = lw+.2)\n",
    "axt3.plot(post['norm x'], post['norm y'], color = 'k', linewidth = lw+.2)\n",
    "\n",
    "axt2.plot([-.20,-.1], [.09, .09], color = 'k', linewidth = .5)\n",
    "axt2.plot([-.2, -.2],[.09, -.01], color = 'k', linewidth=0.5)\n",
    "\n",
    "axt3.set_xlim(-.25, .25)\n",
    "axt3.set_ylim(-.125, .125)\n",
    "\n",
    "# axt3.scatter(traj['norm x'].iloc[0],traj['norm y'].iloc[0], marker = (3, 0, 35),s=ms, color ='k')\n",
    "# #axt3.scatter(traj['norm x'].iloc[60],traj['norm y'].iloc[60], marker = (3, 0, 30),s=ms, color ='r')\n",
    "# axt3.scatter(traj['norm x'].iloc[-1],traj['norm y'].iloc[-1], marker = (3, 0, 120),s=ms, color ='k')\n",
    "\n",
    "\n",
    "ax.set_xticklabels([])\n",
    "#ax.set_rasterization_zorder(1000)\n",
    "\n",
    "#trajectory 3 heading plot\n",
    "axh3=layout.axes[('traj', 'h3')]\n",
    "\n",
    "axh3.plot(dur['time stamp'].iloc[11:22], dur['heading'].iloc[11:22], color = c1, linewidth = lw+1.75, alpha = 1) \n",
    "axh3.plot(dur['time stamp'].iloc[36:46], dur['heading'].iloc[36:46], color = c2, linewidth = lw+1.75, alpha = 1)\n",
    "\n",
    "axh3.plot(pre['time stamp'], pre['heading'], color ='k', linewidth = lw+.25)\n",
    "axh3.plot(dur['time stamp'], dur['heading'], color = 'red', linewidth = lw +.25)\n",
    "axh3.plot(post['time stamp'], post['heading'], color = 'k', linewidth = lw+.25)\n",
    "\n",
    "axh3.axhline(y=0, color = 'k', linestyle = \"--\", alpha = 0.5, linewidth = lw)\n",
    "# axh3.axvline(x=210, color = c1, linewidth =0.5, linestyle = '--')\n",
    "# axh3.axvline(x=420, color = c2, linewidth =0.5, linestyle = '--')\n",
    "\n",
    "axh3.set_yticklabels(['',' ',' ', ' ', ' '])\n",
    "\n",
    "\n",
    "fifi.mpl_functions.adjust_spines(axh2, ['left'], xticks =[], yticks=[-1*np.pi,-1*0.5*np.pi,  0, np.pi*0.5, 3.14], tick_length=3, linewidth=lw)\n",
    "fifi.mpl_functions.adjust_spines(axt2, [], xticks =[], yticks=[])\n",
    "fifi.mpl_functions.adjust_spines(axh1, ['left'], xticks =[], yticks=[-1*np.pi,-1*0.5*np.pi,  0, np.pi*0.5, 3.14], tick_length=3, linewidth=lw)\n",
    "fifi.mpl_functions.adjust_spines(ax, [], xticks =[], yticks=[])\n",
    "fifi.mpl_functions.adjust_spines(axh2, ['left'], xticks =[], yticks=[-1*np.pi,-1*0.5*np.pi,  0, np.pi*0.5, 3.14], tick_length=3, linewidth=lw)\n",
    "fifi.mpl_functions.adjust_spines(axt2, [], xticks =[], yticks=[])\n",
    "fifi.mpl_functions.adjust_spines(axh3, ['left'], xticks =[], yticks=[-1*np.pi,-1*0.5*np.pi,  0, np.pi*0.5, 3.14], tick_length=3, linewidth=lw)\n",
    "fifi.mpl_functions.adjust_spines(axt3, [], xticks =[], yticks=[])\n",
    "\n",
    "layout.append_figure_to_layer(layout.figures['traj'], 'traj', cleartarget=True)\n",
    "layout.write_svg(template)"
   ]
  },
  {
   "cell_type": "markdown",
   "metadata": {},
   "source": [
    "# Crosswind at Stimulus trajectories"
   ]
  },
  {
   "cell_type": "code",
   "execution_count": 22,
   "metadata": {},
   "outputs": [],
   "source": [
    "cw_vec=['600_20220929_174113', '202_20220926_173927', '6312_20220926_173927' ]"
   ]
  },
  {
   "cell_type": "code",
   "execution_count": 23,
   "metadata": {},
   "outputs": [
    {
     "data": {
      "image/png": "[encoded data removed]",
      "text/plain": [
       "<Figure size 432x396 with 2 Axes>"
      ]
     },
     "metadata": {
      "needs_background": "light"
     },
     "output_type": "display_data"
    },
    {
     "data": {
      "image/png": "[encoded data removed]",
      "text/plain": [
       "<Figure size 432x396 with 3 Axes>"
      ]
     },
     "metadata": {
      "needs_background": "light"
     },
     "output_type": "display_data"
    },
    {
     "data": {
      "image/png": "[encoded data removed]",
      "text/plain": [
       "<Figure size 432x396 with 6 Axes>"
      ]
     },
     "metadata": {
      "needs_background": "light"
     },
     "output_type": "display_data"
    },
    {
     "data": {
      "image/png": "[encoded data removed]",
      "text/plain": [
       "<Figure size 432x396 with 6 Axes>"
      ]
     },
     "metadata": {
      "needs_background": "light"
     },
     "output_type": "display_data"
    },
    {
     "data": {
      "image/png": "[encoded data removed]",
      "text/plain": [
       "<Figure size 432x396 with 2 Axes>"
      ]
     },
     "metadata": {
      "needs_background": "light"
     },
     "output_type": "display_data"
    },
    {
     "data": {
      "image/png": "[encoded data removed]",
      "text/plain": [
       "<Figure size 432x396 with 2 Axes>"
      ]
     },
     "metadata": {
      "needs_background": "light"
     },
     "output_type": "display_data"
    },
    {
     "data": {
      "image/png": "[encoded data removed]",
      "text/plain": [
       "<Figure size 432x396 with 6 Axes>"
      ]
     },
     "metadata": {
      "needs_background": "light"
     },
     "output_type": "display_data"
    },
    {
     "data": {
      "image/png": "[encoded data removed]",
      "text/plain": [
       "<Figure size 432x396 with 2 Axes>"
      ]
     },
     "metadata": {
      "needs_background": "light"
     },
     "output_type": "display_data"
    }
   ],
   "source": [
    "layout =fifi.svg_to_axes.FigureLayout(template, autogenlayers=True, make_mplfigures=True, hide_layers=[])\n",
    "#First Trajectory\n",
    "ax=layout.axes[('cwtraj', 't1')]\n",
    "traj =lw100[lw100['obj_id_unique']==cw_vec[0]]\n",
    "traj=establish_end_as_origin(traj)\n",
    "traj=traj[traj['time stamp'].between(-60, 1000)]\n",
    "sub=traj[traj['time stamp'].between(300, 600)]\n",
    "\n",
    "#Trajectory 1 traj plot\n",
    "pre =traj[traj['time stamp']<=0]\n",
    "dur = traj[traj['time stamp'].between(0, 680)]\n",
    "post =traj[traj['time stamp'] >=680]\n",
    "ax.plot(pre['norm x'], pre['norm y'], color ='k', linewidth = lw+.2)\n",
    "ax.plot(dur['norm x'], dur['norm y'], color = 'red', linewidth = lw+.2)\n",
    "ax.plot(post['norm x'], post['norm y'], color = 'k', linewidth = lw+.2)\n",
    "ax.set_xlim(-.2, .2)\n",
    "ax.set_ylim(-.1, .1)\n",
    "# ax.scatter(traj['norm x'].iloc[2],traj['norm y'].iloc[0], marker = (3, 0, 68),s=ms, color ='k')\n",
    "# #ax.scatter(traj['norm x'].iloc[35],traj['norm y'].iloc[35], marker = (3, 0, 65),s=ms, color ='r')\n",
    "# ax.scatter(traj['norm x'].iloc[-1],traj['norm y'].iloc[-1], marker = (3, 0, 120),s=ms, color ='k')\n",
    "\n",
    "ax.set_xticklabels([])\n",
    "#ax.set_rasterization_zorder(1000)\n",
    "\n",
    "\n",
    "#Trajectory 1 Heading plot\n",
    "axh1=layout.axes[('cwtraj', 'h1')]\n",
    "#turn shading\n",
    "axh1.plot(dur['time stamp'].iloc[16:25], dur['heading'].iloc[16:25], color = c1, linewidth = lw+1.75, alpha = 1) \n",
    "axh1.plot(dur['time stamp'].iloc[36:46], dur['heading'].iloc[36:46], color = c2, linewidth = lw+1.75, alpha = 1)\n",
    "#rest\n",
    "axh1.plot(pre['time stamp'], pre['heading'], color ='k', linewidth = lw+.25)\n",
    "axh1.plot(dur['time stamp'], dur['heading'], color = 'red', linewidth = lw+.25 )\n",
    "axh1.plot(post['time stamp'], post['heading'], color = 'k', linewidth = lw+.25)\n",
    "# axh1.axvline(x=175, color = c1, linewidth =0.5, linestyle = '--')\n",
    "# axh1.axvline(x=380, color = c2, linewidth =0.5, linestyle = '--')\n",
    "\n",
    "axh1.axhline(y=0, color = 'k', linestyle = \"--\", alpha = 0.5, linewidth = lw)\n",
    "axh1.set_yticklabels(['',' ',' ', ' ', ' '])\n",
    "\n",
    "\n",
    "#Trajectory 2 traj plot\n",
    "axt2=layout.axes[('cwtraj', 't2')]\n",
    "\n",
    "traj =lw100[lw100['obj_id_unique']==cw_vec[1]]\n",
    "traj=establish_end_as_origin(traj)\n",
    "traj=traj[traj['time stamp'].between(-100, 1000)]\n",
    "\n",
    "sub=traj[traj['time stamp'].between(300, 600)]\n",
    "pre =traj[traj['time stamp']<=0]\n",
    "dur = traj[traj['time stamp'].between(0, 680)]\n",
    "post =traj[traj['time stamp'] >=680]\n",
    "\n",
    "axt2.plot(pre['norm x'], pre['norm y'], color ='k', linewidth = lw+.2)\n",
    "axt2.plot(dur['norm x'], dur['norm y'], color = 'red', linewidth = lw+.2)\n",
    "axt2.plot(post['norm x'], post['norm y'], color = 'k', linewidth = lw+.2)\n",
    "axt2.set_xlim(-.25, .25)\n",
    "axt2.set_ylim(-.125, .125)\n",
    "\n",
    "# axt2.scatter(traj['norm x'].iloc[0],traj['norm y'].iloc[0], marker = (3, 0, 135),s=ms, color ='k')\n",
    "# #axt2.scatter(traj['norm x'].iloc[68],traj['norm y'].iloc[68], marker = (3, 0, 158),s=ms, color ='r')\n",
    "# axt2.scatter(traj['norm x'].iloc[-1],traj['norm y'].iloc[-1], marker = (3, 0, 20),s=ms, color ='k')\n",
    "\n",
    "axt2.set_xticklabels([])\n",
    "#axt2.set_rasterization_zorder(1000)\n",
    "\n",
    "\n",
    "#Trajectory 2 heading plot\n",
    "axh2=layout.axes[('cwtraj', 'h2')]\n",
    "\n",
    "axh2.plot(dur['time stamp'].iloc[15:21], dur['heading'].iloc[15:21], color = c1, linewidth = lw+1.75, alpha = 1) \n",
    "axh2.plot(dur['time stamp'].iloc[30:37], dur['heading'].iloc[30:37], color = c2, linewidth = lw+1.75, alpha = 1)\n",
    "\n",
    "axh2.plot(pre['time stamp'], pre['heading'], color ='k', linewidth = lw+.25)\n",
    "axh2.plot(dur['time stamp'], dur['heading'], color = 'red', linewidth = lw+.25 )\n",
    "axh2.plot(post['time stamp'], post['heading'], color = 'k', linewidth = lw+.25)\n",
    "\n",
    "axh2.axhline(y=0, color = 'k', linestyle = \"--\", alpha = 0.5, linewidth = lw)\n",
    "# axh2.axvline(x=200, color = c1, linewidth =0.5, linestyle = '--')\n",
    "# axh2.axvline(x=405, color = c2, linewidth =0.5, linestyle = '--')\n",
    "\n",
    "axh2.set_yticklabels(['',' ',' ', ' ', ' '])\n",
    "\n",
    "\n",
    "#Trajectory 3 trajectory plot\n",
    "axt3=layout.axes[('cwtraj', 't3')]\n",
    "traj =lw100[lw100['obj_id_unique']==cw_vec[2]]\n",
    "traj=establish_end_as_origin(traj)\n",
    "traj=traj[traj['time stamp'].between(-100, 1000)]\n",
    "\n",
    "sub=traj[traj['time stamp'].between(300, 600)]\n",
    "pre =traj[traj['time stamp']<=0]\n",
    "dur = traj[traj['time stamp'].between(0, 680)]\n",
    "post =traj[traj['time stamp'] >=680]\n",
    "\n",
    "axt3.plot(pre['norm x'], pre['norm y'], color ='k', linewidth = lw+.2)\n",
    "axt3.plot(dur['norm x'], dur['norm y'], color = 'red', linewidth = lw+.2)\n",
    "axt3.plot(post['norm x'], post['norm y'], color = 'k', linewidth = lw+.2)\n",
    "\n",
    "axt3.set_xlim(-.25, .25)\n",
    "axt3.set_ylim(-.125, .125)\n",
    "\n",
    "# axt3.scatter(traj['norm x'].iloc[0],traj['norm y'].iloc[0], marker = (3, 0, 50),s=ms, color ='k')\n",
    "# #axt3.scatter(traj['norm x'].iloc[60],traj['norm y'].iloc[60], marker = (3, 0, 30),s=ms, color ='r')\n",
    "# axt3.scatter(traj['norm x'].iloc[-1],traj['norm y'].iloc[-1], marker = (3, 0, 120),s=ms, color ='k')\n",
    "\n",
    "\n",
    "ax.set_xticklabels([])\n",
    "#ax.set_rasterization_zorder(1000)\n",
    "\n",
    "#trajectory 3 heading plot\n",
    "axh3=layout.axes[('cwtraj', 'h3')]\n",
    "\n",
    "axh3.plot(dur['time stamp'].iloc[11:18], dur['heading'].iloc[11:18], color = c1, linewidth = lw+1.75, alpha = 1) \n",
    "axh3.plot(dur['time stamp'].iloc[25:30], dur['heading'].iloc[25:30], color = c2, linewidth = lw+1.75, alpha = 1)\n",
    "\n",
    "axh3.plot(pre['time stamp'], pre['heading'], color ='k', linewidth = lw+.25)\n",
    "axh3.plot(dur['time stamp'], dur['heading'], color = 'red', linewidth = lw +.25)\n",
    "axh3.plot(post['time stamp'], post['heading'], color = 'k', linewidth = lw+.25)\n",
    "\n",
    "axh3.axhline(y=0, color = 'k', linestyle = \"--\", alpha = 0.5, linewidth = lw)\n",
    "# axh3.axvline(x=210, color = c1, linewidth =0.5, linestyle = '--')\n",
    "# axh3.axvline(x=420, color = c2, linewidth =0.5, linestyle = '--')\n",
    "\n",
    "axh3.set_yticklabels(['',' ',' ', ' ', ' '])\n",
    "\n",
    "\n",
    "fifi.mpl_functions.adjust_spines(axh2, ['left'], xticks =[], yticks=[-1*np.pi,-1*0.5*np.pi,  0, np.pi*0.5, 3.14], tick_length=3, linewidth=lw)\n",
    "fifi.mpl_functions.adjust_spines(axt2, [], xticks =[], yticks=[])\n",
    "fifi.mpl_functions.adjust_spines(axh1, ['left'], xticks =[], yticks=[-1*np.pi,-1*0.5*np.pi,  0, np.pi*0.5, 3.14], tick_length=3, linewidth=lw)\n",
    "fifi.mpl_functions.adjust_spines(ax, [], xticks =[], yticks=[])\n",
    "fifi.mpl_functions.adjust_spines(axh2, ['left'], xticks =[], yticks=[-1*np.pi,-1*0.5*np.pi,  0, np.pi*0.5, 3.14], tick_length=3, linewidth=lw)\n",
    "fifi.mpl_functions.adjust_spines(axt2, [], xticks =[], yticks=[])\n",
    "fifi.mpl_functions.adjust_spines(axh3, ['left'], xticks =[], yticks=[-1*np.pi,-1*0.5*np.pi,  0, np.pi*0.5, 3.14], tick_length=3, linewidth=lw)\n",
    "fifi.mpl_functions.adjust_spines(axt3, [], xticks =[], yticks=[])\n",
    "\n",
    "layout.append_figure_to_layer(layout.figures['cwtraj'], 'cwtraj', cleartarget=True)\n",
    "layout.write_svg(template)"
   ]
  },
  {
   "cell_type": "code",
   "execution_count": 24,
   "metadata": {},
   "outputs": [],
   "source": [
    "#Smoothing function for mean angular velocity and ground speed plots\n",
    "def filter_testing(traj, head_key='heading', filter_params =[1, 2, 8], dt=.01 ):\n",
    "    head_vec = traj[head_key].to_numpy()\n",
    "    head_vec = np.unwrap(head_vec)\n",
    "    traj=traj[traj['time stamp'].between(-100, 5000)]\n",
    "    traj['head unwrap']=head_vec\n",
    "    traj['raw angvel']=traj['head unwrap'].diff()/dt\n",
    "    traj['raw angvel']=np.abs(traj['raw angvel'])\n",
    "    raw_angvel= np.abs(np.diff(head_vec)/dt)\n",
    "    smootha, da =pynumdiff.linear_model.savgoldiff(head_vec, dt, filter_params)\n",
    "    np.insert(da, [0], np.nan)\n",
    "    filter_param_tag =\"\"\n",
    "    for i in filter_params:\n",
    "        filter_param_tag+=str(i)\n",
    "    traj['smoothed_angvel_params_'+filter_param_tag]=np.abs(da)\n",
    "    return traj"
   ]
  },
  {
   "cell_type": "code",
   "execution_count": 25,
   "metadata": {},
   "outputs": [],
   "source": [
    "#Applies smoothing to every unique trajectory in the data set\n",
    "def filter_angvel_whole_data_set(df, filter_params=[1, 2, 8], dt=.01, id_key='obj_id_unique', head_key='heading'):\n",
    "    collector =[]\n",
    "    c=0\n",
    "    for i in df[id_key].unique():\n",
    "        if c%5==0:\n",
    "            print(\"trajectory \"+str(c)+ ' out of '+str(len(df[id_key].unique())))\n",
    "        c+=1\n",
    "        d =df[df[id_key]==i]\n",
    "        d=d[d['time stamp'].between(-100, 5000)]\n",
    "        d= filter_testing(d, head_key=head_key, filter_params=filter_params, dt=dt)\n",
    "        collector.append(d)\n",
    "    fin=pd.concat(collector)\n",
    "    return fin"
   ]
  },
  {
   "cell_type": "code",
   "execution_count": 26,
   "metadata": {},
   "outputs": [
    {
     "name": "stdout",
     "output_type": "stream",
     "text": [
      "trajectory 0 out of 83\n",
      "trajectory 5 out of 83\n",
      "trajectory 10 out of 83\n",
      "trajectory 15 out of 83\n",
      "trajectory 20 out of 83\n",
      "trajectory 25 out of 83\n",
      "trajectory 30 out of 83\n",
      "trajectory 35 out of 83\n",
      "trajectory 40 out of 83\n",
      "trajectory 45 out of 83\n",
      "trajectory 50 out of 83\n",
      "trajectory 55 out of 83\n",
      "trajectory 60 out of 83\n",
      "trajectory 65 out of 83\n",
      "trajectory 70 out of 83\n",
      "trajectory 75 out of 83\n",
      "trajectory 80 out of 83\n",
      "trajectory 0 out of 123\n",
      "trajectory 5 out of 123\n",
      "trajectory 10 out of 123\n",
      "trajectory 15 out of 123\n",
      "trajectory 20 out of 123\n",
      "trajectory 25 out of 123\n",
      "trajectory 30 out of 123\n",
      "trajectory 35 out of 123\n",
      "trajectory 40 out of 123\n",
      "trajectory 45 out of 123\n",
      "trajectory 50 out of 123\n",
      "trajectory 55 out of 123\n",
      "trajectory 60 out of 123\n",
      "trajectory 65 out of 123\n",
      "trajectory 70 out of 123\n",
      "trajectory 75 out of 123\n",
      "trajectory 80 out of 123\n",
      "trajectory 85 out of 123\n",
      "trajectory 90 out of 123\n",
      "trajectory 95 out of 123\n",
      "trajectory 100 out of 123\n",
      "trajectory 105 out of 123\n",
      "trajectory 110 out of 123\n",
      "trajectory 115 out of 123\n",
      "trajectory 120 out of 123\n",
      "trajectory 0 out of 26\n",
      "trajectory 5 out of 26\n",
      "trajectory 10 out of 26\n",
      "trajectory 15 out of 26\n",
      "trajectory 20 out of 26\n",
      "trajectory 25 out of 26\n"
     ]
    }
   ],
   "source": [
    "# Separating out upwind, crosswind and downwind Orco\n",
    "#split laminar wind into upwind cw and dw data sets\n",
    "#and adding angular velocity filter\n",
    "\n",
    "cw=[]\n",
    "uw=[]\n",
    "dw=[]\n",
    "for i in lw100['obj_id_unique'].unique():\n",
    "    d =lw100[lw100['obj_id_unique']==i]\n",
    "    ind=np.where(d['time stamp']==0)[0][0]\n",
    "    o=np.abs(d['heading'].iloc[ind])\n",
    "    #print(o)\n",
    "    if o<=np.pi/4:\n",
    "        uw.append(i)\n",
    "    if o> np.pi/4 and o <=(3.*np.pi/4):\n",
    "        cw.append(i)\n",
    "    elif o >(3.*np.pi/4):\n",
    "        dw.append(i)\n",
    "\n",
    "\n",
    "#Subslice the laminar wind data set        \n",
    "cw_orco=lw100[lw100['obj_id_unique'].isin(cw)]\n",
    "uw_orco=lw100[lw100['obj_id_unique'].isin(uw)]\n",
    "dw_orco=lw100[lw100['obj_id_unique'].isin(dw)]\n",
    "\n",
    "cw_orco=filter_angvel_whole_data_set(cw_orco)\n",
    "uw_orco= filter_angvel_whole_data_set(uw_orco)\n",
    "dw_orco=filter_angvel_whole_data_set(dw_orco)"
   ]
  },
  {
   "cell_type": "code",
   "execution_count": 28,
   "metadata": {},
   "outputs": [],
   "source": [
    "#Read in and apply same trajecoty inclusion for wild type controls\n",
    "wt=pd.read_csv('../trimmed_data/main/wild_type_laminar_merged.csv')\n",
    "wt=wt[wt['time stamp'].between(-100, 5000)]\n",
    "wt['ground speed']=(wt['xvel']**2+wt['yvel']**2)**.5\n",
    "wt100=wt[wt['duration']==100]\n",
    "holder_vec =[]\n",
    "#longer trajectories only\n",
    "for i in wt100['obj_id_unique'].unique():\n",
    "    d =wt100[wt100['obj_id_unique']==i]\n",
    "    if d['time stamp'].max()>1680:\n",
    "        holder_vec.append(d)\n",
    "wt100=pd.concat(holder_vec)"
   ]
  },
  {
   "cell_type": "code",
   "execution_count": 29,
   "metadata": {},
   "outputs": [
    {
     "name": "stdout",
     "output_type": "stream",
     "text": [
      "trajectory 0 out of 113\n",
      "trajectory 5 out of 113\n",
      "trajectory 10 out of 113\n",
      "trajectory 15 out of 113\n",
      "trajectory 20 out of 113\n",
      "trajectory 25 out of 113\n",
      "trajectory 30 out of 113\n",
      "trajectory 35 out of 113\n",
      "trajectory 40 out of 113\n",
      "trajectory 45 out of 113\n",
      "trajectory 50 out of 113\n",
      "trajectory 55 out of 113\n",
      "trajectory 60 out of 113\n",
      "trajectory 65 out of 113\n",
      "trajectory 70 out of 113\n",
      "trajectory 75 out of 113\n",
      "trajectory 80 out of 113\n",
      "trajectory 85 out of 113\n",
      "trajectory 90 out of 113\n",
      "trajectory 95 out of 113\n",
      "trajectory 100 out of 113\n",
      "trajectory 105 out of 113\n",
      "trajectory 110 out of 113\n",
      "trajectory 0 out of 229\n",
      "trajectory 5 out of 229\n",
      "trajectory 10 out of 229\n",
      "trajectory 15 out of 229\n",
      "trajectory 20 out of 229\n",
      "trajectory 25 out of 229\n",
      "trajectory 30 out of 229\n",
      "trajectory 35 out of 229\n",
      "trajectory 40 out of 229\n",
      "trajectory 45 out of 229\n",
      "trajectory 50 out of 229\n",
      "trajectory 55 out of 229\n",
      "trajectory 60 out of 229\n",
      "trajectory 65 out of 229\n",
      "trajectory 70 out of 229\n",
      "trajectory 75 out of 229\n",
      "trajectory 80 out of 229\n",
      "trajectory 85 out of 229\n",
      "trajectory 90 out of 229\n",
      "trajectory 95 out of 229\n",
      "trajectory 100 out of 229\n",
      "trajectory 105 out of 229\n",
      "trajectory 110 out of 229\n",
      "trajectory 115 out of 229\n",
      "trajectory 120 out of 229\n",
      "trajectory 125 out of 229\n",
      "trajectory 130 out of 229\n",
      "trajectory 135 out of 229\n",
      "trajectory 140 out of 229\n",
      "trajectory 145 out of 229\n",
      "trajectory 150 out of 229\n",
      "trajectory 155 out of 229\n",
      "trajectory 160 out of 229\n",
      "trajectory 165 out of 229\n",
      "trajectory 170 out of 229\n",
      "trajectory 175 out of 229\n",
      "trajectory 180 out of 229\n",
      "trajectory 185 out of 229\n",
      "trajectory 190 out of 229\n",
      "trajectory 195 out of 229\n",
      "trajectory 200 out of 229\n",
      "trajectory 205 out of 229\n",
      "trajectory 210 out of 229\n",
      "trajectory 215 out of 229\n",
      "trajectory 220 out of 229\n",
      "trajectory 225 out of 229\n",
      "trajectory 0 out of 62\n",
      "trajectory 5 out of 62\n",
      "trajectory 10 out of 62\n",
      "trajectory 15 out of 62\n",
      "trajectory 20 out of 62\n",
      "trajectory 25 out of 62\n",
      "trajectory 30 out of 62\n",
      "trajectory 35 out of 62\n",
      "trajectory 40 out of 62\n",
      "trajectory 45 out of 62\n",
      "trajectory 50 out of 62\n",
      "trajectory 55 out of 62\n",
      "trajectory 60 out of 62\n"
     ]
    }
   ],
   "source": [
    "#split wild type data into similar, upwind, crosswind, and downwind data sets\n",
    "#Then apply same smoothing function\n",
    "cw=[]\n",
    "uw=[]\n",
    "dw=[]\n",
    "for i in wt100['obj_id_unique'].unique():\n",
    "    d =wt100[wt100['obj_id_unique']==i]\n",
    "    ind=np.where(d['time stamp']==0)[0][0]\n",
    "    o=np.abs(d['heading'].iloc[ind])\n",
    "    #print(o)\n",
    "    if o<=np.pi/4:\n",
    "        uw.append(i)\n",
    "    if o> np.pi/4 and o <=(3.*np.pi/4):\n",
    "        cw.append(i)\n",
    "    elif o >(3.*np.pi/4):\n",
    "        dw.append(i)\n",
    "\n",
    "\n",
    "#Subslice the laminar wind data set        \n",
    "cw_wt=wt100[wt100['obj_id_unique'].isin(cw)]\n",
    "uw_wt=wt100[wt100['obj_id_unique'].isin(uw)]\n",
    "dw_wt=wt100[wt100['obj_id_unique'].isin(dw)]\n",
    "\n",
    "cw_wt =filter_angvel_whole_data_set(cw_wt)\n",
    "uw_wt=filter_angvel_whole_data_set(uw_wt)\n",
    "dw_wt =filter_angvel_whole_data_set(dw_wt)"
   ]
  },
  {
   "cell_type": "code",
   "execution_count": 34,
   "metadata": {},
   "outputs": [
    {
     "name": "stdout",
     "output_type": "stream",
     "text": [
      "trajectory 0 out of 275\n",
      "trajectory 5 out of 275\n",
      "trajectory 10 out of 275\n",
      "trajectory 15 out of 275\n",
      "trajectory 20 out of 275\n",
      "trajectory 25 out of 275\n",
      "trajectory 30 out of 275\n",
      "trajectory 35 out of 275\n",
      "trajectory 40 out of 275\n",
      "trajectory 45 out of 275\n",
      "trajectory 50 out of 275\n",
      "trajectory 55 out of 275\n",
      "trajectory 60 out of 275\n",
      "trajectory 65 out of 275\n",
      "trajectory 70 out of 275\n",
      "trajectory 75 out of 275\n",
      "trajectory 80 out of 275\n",
      "trajectory 85 out of 275\n",
      "trajectory 90 out of 275\n",
      "trajectory 95 out of 275\n",
      "trajectory 100 out of 275\n",
      "trajectory 105 out of 275\n",
      "trajectory 110 out of 275\n",
      "trajectory 115 out of 275\n",
      "trajectory 120 out of 275\n",
      "trajectory 125 out of 275\n",
      "trajectory 130 out of 275\n",
      "trajectory 135 out of 275\n",
      "trajectory 140 out of 275\n",
      "trajectory 145 out of 275\n",
      "trajectory 150 out of 275\n",
      "trajectory 155 out of 275\n",
      "trajectory 160 out of 275\n",
      "trajectory 165 out of 275\n",
      "trajectory 170 out of 275\n",
      "trajectory 175 out of 275\n",
      "trajectory 180 out of 275\n",
      "trajectory 185 out of 275\n",
      "trajectory 190 out of 275\n",
      "trajectory 195 out of 275\n",
      "trajectory 200 out of 275\n",
      "trajectory 205 out of 275\n",
      "trajectory 210 out of 275\n",
      "trajectory 215 out of 275\n",
      "trajectory 220 out of 275\n",
      "trajectory 225 out of 275\n",
      "trajectory 230 out of 275\n",
      "trajectory 235 out of 275\n",
      "trajectory 240 out of 275\n",
      "trajectory 245 out of 275\n",
      "trajectory 250 out of 275\n",
      "trajectory 255 out of 275\n",
      "trajectory 260 out of 275\n",
      "trajectory 265 out of 275\n",
      "trajectory 270 out of 275\n"
     ]
    }
   ],
   "source": [
    "nw100=filter_angvel_whole_data_set(nw100)"
   ]
  },
  {
   "cell_type": "code",
   "execution_count": 31,
   "metadata": {},
   "outputs": [
    {
     "name": "stdout",
     "output_type": "stream",
     "text": [
      "trajectory 0 out of 187\n",
      "trajectory 5 out of 187\n",
      "trajectory 10 out of 187\n",
      "trajectory 15 out of 187\n",
      "trajectory 20 out of 187\n",
      "trajectory 25 out of 187\n",
      "trajectory 30 out of 187\n",
      "trajectory 35 out of 187\n",
      "trajectory 40 out of 187\n",
      "trajectory 45 out of 187\n",
      "trajectory 50 out of 187\n",
      "trajectory 55 out of 187\n",
      "trajectory 60 out of 187\n",
      "trajectory 65 out of 187\n",
      "trajectory 70 out of 187\n",
      "trajectory 75 out of 187\n",
      "trajectory 80 out of 187\n",
      "trajectory 85 out of 187\n",
      "trajectory 90 out of 187\n",
      "trajectory 95 out of 187\n",
      "trajectory 100 out of 187\n",
      "trajectory 105 out of 187\n",
      "trajectory 110 out of 187\n",
      "trajectory 115 out of 187\n",
      "trajectory 120 out of 187\n",
      "trajectory 125 out of 187\n",
      "trajectory 130 out of 187\n",
      "trajectory 135 out of 187\n",
      "trajectory 140 out of 187\n",
      "trajectory 145 out of 187\n",
      "trajectory 150 out of 187\n",
      "trajectory 155 out of 187\n",
      "trajectory 160 out of 187\n",
      "trajectory 165 out of 187\n",
      "trajectory 170 out of 187\n",
      "trajectory 175 out of 187\n",
      "trajectory 180 out of 187\n",
      "trajectory 185 out of 187\n"
     ]
    }
   ],
   "source": [
    "wt_nw = pd.read_csv('../trimmed_data/main/wildtype_still_air_merged.csv')\n",
    "wt_nw100= wt_nw[wt_nw['duration']==100]\n",
    "wt_nw100=filter_angvel_whole_data_set(wt_nw100)"
   ]
  },
  {
   "cell_type": "code",
   "execution_count": 32,
   "metadata": {},
   "outputs": [],
   "source": [
    "wt_nw100['ground speed']=(wt_nw100['xvel']**2+wt_nw100['yvel']**2)**0.5"
   ]
  },
  {
   "cell_type": "markdown",
   "metadata": {},
   "source": [
    "# ground speed and angular velocity plot section"
   ]
  },
  {
   "cell_type": "code",
   "execution_count": 35,
   "metadata": {},
   "outputs": [
    {
     "data": {
      "image/png": "[encoded data removed]",
      "text/plain": [
       "<Figure size 432x396 with 2 Axes>"
      ]
     },
     "metadata": {
      "needs_background": "light"
     },
     "output_type": "display_data"
    },
    {
     "data": {
      "image/png": "[encoded data removed]",
      "text/plain": [
       "<Figure size 432x396 with 3 Axes>"
      ]
     },
     "metadata": {
      "needs_background": "light"
     },
     "output_type": "display_data"
    },
    {
     "data": {
      "image/png": "[encoded data removed]",
      "text/plain": [
       "<Figure size 432x396 with 12 Axes>"
      ]
     },
     "metadata": {
      "needs_background": "light"
     },
     "output_type": "display_data"
    },
    {
     "data": {
      "image/png": "[encoded data removed]",
      "text/plain": [
       "<Figure size 432x396 with 6 Axes>"
      ]
     },
     "metadata": {
      "needs_background": "light"
     },
     "output_type": "display_data"
    },
    {
     "data": {
      "image/png": "[encoded data removed]",
      "text/plain": [
       "<Figure size 432x396 with 2 Axes>"
      ]
     },
     "metadata": {
      "needs_background": "light"
     },
     "output_type": "display_data"
    },
    {
     "data": {
      "image/png": "[encoded data removed]",
      "text/plain": [
       "<Figure size 432x396 with 2 Axes>"
      ]
     },
     "metadata": {
      "needs_background": "light"
     },
     "output_type": "display_data"
    },
    {
     "data": {
      "image/png": "[encoded data removed]",
      "text/plain": [
       "<Figure size 432x396 with 6 Axes>"
      ]
     },
     "metadata": {
      "needs_background": "light"
     },
     "output_type": "display_data"
    },
    {
     "data": {
      "image/png": "[encoded data removed]",
      "text/plain": [
       "<Figure size 432x396 with 2 Axes>"
      ]
     },
     "metadata": {
      "needs_background": "light"
     },
     "output_type": "display_data"
    }
   ],
   "source": [
    "####Setting up fifi layout\n",
    "layout =fifi.svg_to_axes.FigureLayout(template, autogenlayers=True, make_mplfigures=True, hide_layers=[])\n",
    "#print(layout.axes)\n",
    "\n",
    "#Generating axes and corresponding twin ax to plot both curves at the same time\n",
    "ax =layout.axes[('gs_ang', 'uw_orco')]\n",
    "ax_=ax.twinx()\n",
    "ax1=layout.axes[('gs_ang', 'uw_wt')]\n",
    "ax1_=ax1.twinx()\n",
    "ax2=layout.axes[('gs_ang', 'cw_orco')]\n",
    "ax2_=ax2.twinx()\n",
    "ax3=layout.axes[('gs_ang', 'cw_wt')]\n",
    "ax3_=ax3.twinx()\n",
    "ax4=layout.axes[('gs_ang', 'nw_orco')]\n",
    "ax4_=ax4.twinx()\n",
    "ax5=layout.axes[('gs_ang', 'nw_wt')]\n",
    "ax5_=ax5.twinx()\n",
    "\n",
    "#####Generate mean population angular veloctiy and ground speed for upwind set, decided savgold filter params [1,2,8]\n",
    "t, m, u, l = slice_means_gs(uw_orco, 'smoothed_angvel_params_128')\n",
    "tgs, mgs, ugs, lgs =slice_means_gs(uw_orco, 'ground speed')\n",
    "\n",
    "ax.plot(t, m, linewidth = lw, color = 'sienna')\n",
    "ax.fill_between(t, u, l, color = 'sienna', alpha = 0.2, label = '', linewidth =0)\n",
    "ax.set_xlim(0, 680)\n",
    "ax.set_ylim(0, 16)\n",
    "ax_.set_ylim(0, .6)\n",
    "ax.set_yticklabels([])\n",
    "ax_.set_yticklabels([])\n",
    "ax_.plot(tgs, mgs, color = 'steelblue', linewidth =lw)\n",
    "ax_.fill_between(tgs, ugs, lgs, color ='steelblue', alpha = 0.1, linewidth =0)\n",
    "\n",
    "######################################################################################################\n",
    "# upwind_wt\n",
    "uw_wt['smoothed_angvel_params_128']=np.abs(uw_wt['smoothed_angvel_params_128'])\n",
    "t, m, u, l = slice_means_gs(uw_wt, 'smoothed_angvel_params_128')\n",
    "tgs, mgs, ugs, lgs =slice_means_gs(uw_wt, 'ground speed')\n",
    "\n",
    "ax1.plot(t, m, linewidth = lw, color = 'sienna')\n",
    "ax1.fill_between(t, u, l, color = 'sienna', alpha = 0.2, label = '', linewidth =0)\n",
    "ax1.set_xlim(0, 680)\n",
    "ax1.set_ylim(0, 16)\n",
    "ax1.set_yticklabels([])\n",
    "ax1_.set_yticklabels([])\n",
    "ax1_.set_ylim(0, .6)\n",
    "ax1_.plot(tgs, mgs, color = 'steelblue', linewidth =lw)\n",
    "ax1_.fill_between(tgs, ugs, lgs, color ='steelblue', alpha = 0.1, linewidth =0)\n",
    "\n",
    "\n",
    "######################################################################################################\n",
    "#Crosswind subset\n",
    "\n",
    "cw_orco['smoothed_angvel_params_128']=np.abs(cw_orco['smoothed_angvel_params_128'])\n",
    "t, m, u, l = slice_means_gs(cw_orco, 'smoothed_angvel_params_128')\n",
    "tgs, mgs, ugs, lgs =slice_means_gs(cw_orco, 'ground speed')\n",
    "\n",
    "ax2.plot(t, m, linewidth = lw, color = 'sienna')\n",
    "ax2.fill_between(t, u, l, color = 'sienna', alpha = 0.2, label = '', linewidth =0)\n",
    "ax2.set_xlim(0, 680)\n",
    "ax2.set_ylim(0, 16)\n",
    "ax2_.set_ylim(0, .6)\n",
    "ax2.set_yticklabels([])\n",
    "ax2_.set_yticklabels([])\n",
    "ax2_.set_ylim()\n",
    "ax2_.plot(tgs, mgs, color = 'steelblue', linewidth =lw)\n",
    "ax2_.fill_between(tgs, ugs, lgs, color ='steelblue', alpha = 0.1, linewidth =0)\n",
    "\n",
    "######################################################################################################\n",
    "# cwpwt\n",
    "cw_wt['smoothed_angvel_params_128']=np.abs(cw_wt['smoothed_angvel_params_128'])\n",
    "t, m, u, l = slice_means_gs(cw_wt, 'smoothed_angvel_params_128')\n",
    "tgs, mgs, ugs, lgs =slice_means_gs(cw_wt, 'ground speed')\n",
    "\n",
    "ax3.plot(t, m, linewidth = lw, color = 'sienna')\n",
    "ax3.fill_between(t, u, l, color = 'sienna', alpha = 0.2, label = '', linewidth =0)\n",
    "ax3.set_xlim(0, 680)\n",
    "ax3.set_ylim(0, 16)\n",
    "ax3.set_yticklabels([])\n",
    "ax3_.set_yticklabels([])\n",
    "ax3_.set_ylim(0, .6)\n",
    "ax3_.plot(tgs, mgs, color = 'steelblue', linewidth =lw)\n",
    "ax3_.fill_between(tgs, ugs, lgs, color ='steelblue', alpha = 0.1, linewidth =0)\n",
    "###########################################\n",
    "#nw orco\n",
    "nw100['smoothed_angvel_params_128']=np.abs(nw100['smoothed_angvel_params_128'])\n",
    "t, m, u, l = slice_means_gs(nw100, 'smoothed_angvel_params_128')\n",
    "tgs, mgs, ugs, lgs =slice_means_gs(nw100, 'ground speed')\n",
    "\n",
    "ax4.plot(t, m, linewidth = lw, color = 'sienna')\n",
    "ax4.fill_between(t, u, l, color = 'sienna', alpha = 0.2, label = '', linewidth =0)\n",
    "ax4.set_xlim(0, 680)\n",
    "ax4.set_ylim(0, 16)\n",
    "ax4.set_yticklabels([])\n",
    "ax4_.set_yticklabels([])\n",
    "ax4_.set_ylim(0, .6)\n",
    "ax4_.plot(tgs, mgs, color = 'steelblue', linewidth =lw)\n",
    "ax4_.fill_between(tgs, ugs, lgs, color ='steelblue', alpha = 0.1, linewidth =0)\n",
    "###########################################\n",
    "#nw wt\n",
    "wt_nw100['smoothed_angvel_params_128']=np.abs(wt_nw100['smoothed_angvel_params_128'])\n",
    "t, m, u, l = slice_means_gs(wt_nw100, 'smoothed_angvel_params_128')\n",
    "tgs, mgs, ugs, lgs =slice_means_gs(wt_nw100, 'ground speed')\n",
    "\n",
    "ax5.plot(t, m, linewidth = lw, color = 'sienna')\n",
    "ax5.fill_between(t, u, l, color = 'sienna', alpha = 0.2, label = '', linewidth =0)\n",
    "ax5.set_xlim(0, 680)\n",
    "ax5.set_ylim(0, 16)\n",
    "ax5.set_yticklabels([])\n",
    "ax5_.set_yticklabels([])\n",
    "ax5_.set_ylim(0, .6)\n",
    "ax5_.plot(tgs, mgs, color = 'steelblue', linewidth =lw)\n",
    "ax5_.fill_between(tgs, ugs, lgs, color ='steelblue', alpha = 0.1, linewidth =0)\n",
    "######################\n",
    "fifi.mpl_functions.adjust_spines(ax, ['left'], xticks=[], yticks=[0, 18], tick_length=3, linewidth=lw)\n",
    "fifi.mpl_functions.adjust_spines(ax_, [], xticks=[], yticks=[], tick_length=3, linewidth=lw)\n",
    "fifi.mpl_functions.adjust_spines(ax1, ['left'], xticks=[], yticks=[0, 18], tick_length=3, linewidth=lw)\n",
    "fifi.mpl_functions.adjust_spines(ax1_, [], xticks=[], yticks=[], tick_length=3, linewidth=lw)\n",
    "fifi.mpl_functions.adjust_spines(ax2, ['left'], xticks=[], yticks=[0, 18], tick_length=3, linewidth=lw)\n",
    "fifi.mpl_functions.adjust_spines(ax2_, [], xticks=[], yticks=[], tick_length=3, linewidth=lw)\n",
    "fifi.mpl_functions.adjust_spines(ax3, ['left'], xticks=[], yticks=[0, 18], tick_length=3, linewidth=lw)\n",
    "fifi.mpl_functions.adjust_spines(ax3_, [], xticks=[], yticks=[], tick_length=3, linewidth=lw)\n",
    "fifi.mpl_functions.adjust_spines(ax4, ['left'], xticks=[], yticks=[0, 18], tick_length=3, linewidth=lw)\n",
    "fifi.mpl_functions.adjust_spines(ax4_, [], xticks=[], yticks=[], tick_length=3, linewidth=lw)\n",
    "fifi.mpl_functions.adjust_spines(ax5, ['left'], xticks=[], yticks=[0, 18], tick_length=3, linewidth=lw)\n",
    "fifi.mpl_functions.adjust_spines(ax5_, [], xticks=[], yticks=[], tick_length=3, linewidth=lw)\n",
    "\n",
    "\n",
    "\n",
    "layout.append_figure_to_layer(layout.figures['gs_ang'], 'gs_ang', cleartarget=True)\n",
    "layout.write_svg(template)   "
   ]
  },
  {
   "cell_type": "markdown",
   "metadata": {},
   "source": [
    "# Upwind Flies Raw Trajectories where turns are shaded +Isolated Turns\n"
   ]
  },
  {
   "cell_type": "code",
   "execution_count": 36,
   "metadata": {},
   "outputs": [],
   "source": [
    "#Used in final version of figure\n",
    "def plot_raw_course_single_ax(head_pos_interp_g1, ax1,c_base ='gray',c1 =c1, c2=c2, direction='pos', linewidth=0.2, alpha =0.4):\n",
    "\n",
    "    threshold = 0.004\n",
    "    dt = 10\n",
    "    \n",
    "    #fig = plt.figure(figsize=(10,3))\n",
    "    #ax1 = fig.add_subplot(121)\n",
    "    #ax1.set_xlim(-500, 3000)\n",
    "\n",
    "    #ax2 = fig.add_subplot(122)\n",
    "    #ax2.set_xlim(-100, 3000)\n",
    "\n",
    "    n_with_2_turns = 0\n",
    "    n_without_2_turns = 0\n",
    "\n",
    "    anemometric_saccade_info = {'peak_angular_velocity': [],\n",
    "                                'amplitude': [],\n",
    "                                'duration': [],\n",
    "                                'end_point': [],\n",
    "                                'start_point': []}\n",
    "\n",
    "    anemotaxis_saccade_info = { 'peak_angular_velocity': [],\n",
    "                                'amplitude': [],\n",
    "                                'duration': [],\n",
    "                                'end_point': [],\n",
    "                                'start_point': []}\n",
    "\n",
    "    for r in range(len(head_pos_interp_g1)):\n",
    "\n",
    "        if direction == 'pos':\n",
    "            a = unwrap_angle(head_pos_interp_g1[r] - np.pi, 5)\n",
    "        else:\n",
    "            a = unwrap_angle(head_pos_interp_g1[r] + np.pi, 5)\n",
    "        smootha, da = pynumdiff.linear_model.savgoldiff(a, dt, [3,10,10])\n",
    "        rawsmootha, rawda = pynumdiff.linear_model.savgoldiff(a, dt, [3,4,4]) #pynumdiff.finite_difference.first_order(a, dt)\n",
    "        \n",
    "        # anemometric\n",
    "        if direction == 'pos':\n",
    "            p = scipy.signal.find_peaks_cwt(da, [4, 8])\n",
    "        else:\n",
    "            p = scipy.signal.find_peaks_cwt(-1*da, [4, 8])\n",
    "            \n",
    "        last_ix = np.where(t_interp<450)[0][-1]\n",
    "        first_ix = np.where(t_interp>10)[0][0]\n",
    "        p = p[ (p<last_ix)*(p>first_ix)]\n",
    "        if len(p)>0:\n",
    "            ix_anemometric = p[0]\n",
    "\n",
    "        if direction == 'pos':\n",
    "            chunks, breaks = flymath.get_continuous_chunks( np.where(da>threshold)[0] )\n",
    "        else:\n",
    "            chunks, breaks = flymath.get_continuous_chunks( np.where(da<-1*threshold)[0] )\n",
    "        anemometric_saccade = None\n",
    "        for chunk in chunks:\n",
    "            if ix_anemometric in chunk:\n",
    "                anemometric_saccade = chunk\n",
    "                break\n",
    "\n",
    "        \n",
    "\n",
    "        # anemotaxis\n",
    "        if direction == 'pos':\n",
    "            p = scipy.signal.find_peaks_cwt(-1*da, [4, 8])\n",
    "        else:\n",
    "            p = scipy.signal.find_peaks_cwt(da, [4, 8])\n",
    "        first_ix = ix_anemometric\n",
    "        last_ix = np.where(t_interp<750)[0][-1]\n",
    "        p = p[ (p>first_ix)*(p<last_ix)]\n",
    "        ix_anemotaxis = p[0]\n",
    "\n",
    "        if direction == 'pos':\n",
    "            chunks, breaks = flymath.get_continuous_chunks( np.where(da<-1*threshold)[0] )\n",
    "        else:\n",
    "            chunks, breaks = flymath.get_continuous_chunks( np.where(da>threshold)[0] )\n",
    "        anemotaxis_saccade = None\n",
    "        for chunk in chunks:\n",
    "            if ix_anemotaxis in chunk:\n",
    "                anemotaxis_saccade = chunk\n",
    "                break\n",
    "\n",
    "        if anemotaxis_saccade is not None and anemometric_saccade is not None:\n",
    "            peak = np.max( np.abs(rawda[anemometric_saccade]) )\n",
    "            amplitude = (np.cumsum(rawda[anemometric_saccade])*dt)[-1]\n",
    "            duration = t_interp[anemometric_saccade][-1] - t_interp[anemometric_saccade][0]\n",
    "            end_point = head_pos_interp_g1[r][anemometric_saccade][-1]\n",
    "            start_point = head_pos_interp_g1[r][anemometric_saccade][0]\n",
    "            anemometric_saccade_info['peak_angular_velocity'].append( np.abs(peak) )\n",
    "            anemometric_saccade_info['amplitude'].append(amplitude)\n",
    "            anemometric_saccade_info['duration'].append(duration)\n",
    "            anemometric_saccade_info['end_point'].append(end_point)\n",
    "            anemometric_saccade_info['start_point'].append(start_point)\n",
    "            \n",
    "            peak = np.max( np.abs(rawda[anemotaxis_saccade]) )\n",
    "            amplitude = (np.cumsum(rawda[anemotaxis_saccade])*dt)[-1]\n",
    "            duration = t_interp[anemotaxis_saccade][-1] - t_interp[anemotaxis_saccade][0]\n",
    "            end_point = head_pos_interp_g1[r][anemotaxis_saccade][-1]\n",
    "            start_point = head_pos_interp_g1[r][anemotaxis_saccade][0]\n",
    "\n",
    "            anemotaxis_saccade_info['peak_angular_velocity'].append(np.abs(peak))\n",
    "            anemotaxis_saccade_info['amplitude'].append(amplitude)\n",
    "            anemotaxis_saccade_info['duration'].append(duration)\n",
    "            anemotaxis_saccade_info['end_point'].append(end_point)\n",
    "            anemotaxis_saccade_info['start_point'].append(start_point)\n",
    "        #ix_middle = int( (ix_anemotaxis - ix_anemometric)/2) + ix_anemometric\n",
    "        #ax1.plot(t_interp[ixp], head_pos_interp_g1[r][ixp], '*')\n",
    "\n",
    "\n",
    "\n",
    "        if anemometric_saccade is not None and anemotaxis_saccade is not None:\n",
    "            n_with_2_turns += 1\n",
    "\n",
    "            # before anemometric\n",
    "            t_plot = t_interp[0:anemometric_saccade[0]]\n",
    "            h_plot = head_pos_interp_g1[r][0:anemometric_saccade[0]]\n",
    "            x, y = remove_discontinuities(t_plot, h_plot)\n",
    "            ax1.plot(x, y, color = c_base, linewidth = linewidth, alpha =alpha)\n",
    "\n",
    "            # anemometric\n",
    "            t_plot = t_interp[anemometric_saccade]\n",
    "            h_plot = head_pos_interp_g1[r][anemometric_saccade]\n",
    "            x, y = remove_discontinuities(t_plot, h_plot)\n",
    "            ax1.plot(x, y, color = c1, linewidth = linewidth, alpha =alpha)\n",
    "\n",
    "             # in between time\n",
    "            t_plot = t_interp[anemometric_saccade[-1]:anemotaxis_saccade[0]]\n",
    "            h_plot = head_pos_interp_g1[r][anemometric_saccade[-1]:anemotaxis_saccade[0]]\n",
    "            x, y = remove_discontinuities(t_plot, h_plot)\n",
    "            ax1.plot(x, y, color = c_base, linewidth = linewidth, alpha =alpha)\n",
    "\n",
    "            # anemotaxis\n",
    "            t_plot = t_interp[anemotaxis_saccade]\n",
    "            h_plot = head_pos_interp_g1[r][anemotaxis_saccade]\n",
    "            x, y = remove_discontinuities(t_plot, h_plot)\n",
    "            ax1.plot(x, y, color = c2, linewidth = linewidth, alpha =alpha)\n",
    "\n",
    "            # after anemotaxis\n",
    "            t_plot = t_interp[anemotaxis_saccade[-1]:] \n",
    "            h_plot = head_pos_interp_g1[r][anemotaxis_saccade[-1]:]\n",
    "            x, y = remove_discontinuities(t_plot, h_plot)\n",
    "            ax1.plot(x, y, color = c_base, linewidth = linewidth, alpha =0.5)\n",
    "\n",
    "        else:\n",
    "            #print(r)\n",
    "            n_without_2_turns += 1\n",
    "            x, y = remove_discontinuities(t_interp, head_pos_interp_g1[r])\n",
    "            ax1.plot(x, y, color = c_base, linewidth = linewidth, alpha =alpha)\n",
    "    #ax1.plot(t_interp, np.mean(head_pos_interp_g1, axis=0), color='red')\n",
    "\n",
    "    #print(n_with_2_turns)\n",
    "    #print(n_without_2_turns)\n",
    "\n",
    "    return anemometric_saccade_info, anemotaxis_saccade_info, n_with_2_turns, n_without_2_turns\n",
    "\n",
    "def mean_angle(angle, axis=0):\n",
    "    return np.arctan2(np.nanmean(np.sin(angle), axis=axis), np.nanmean(np.cos(angle), axis=axis))"
   ]
  },
  {
   "cell_type": "code",
   "execution_count": 41,
   "metadata": {},
   "outputs": [
    {
     "name": "stdout",
     "output_type": "stream",
     "text": [
      "Function is starting with 123\n",
      "First data pruning step\n",
      "After first step there are 123 trajectories in tact\n",
      "N trajecs in raw panel pos:  66\n",
      "N trajecs in raw panel neg:  57\n",
      "data structure of head_interp_groups is\n",
      "10\n",
      "data structure of head_interp_groups is\n",
      "9\n",
      "mean and std of anemometric saccade duration\n",
      "114.8936170212766\n",
      "40.52172206678268\n",
      "\n",
      "mean and std of anemotaxis saccade duration\n",
      "119.7872340425532\n",
      "44.60175369618342\n",
      "Final count with two turns in negative group is 38\n",
      "Final count with two turns in positive group is 47\n",
      "Final count without two turns in negative group is 10\n",
      "Final count without two turns in positive group is 9\n",
      "function is ending with 104 trajectories\n"
     ]
    },
    {
     "data": {
      "image/png": "[encoded data removed]",
      "text/plain": [
       "<Figure size 432x396 with 2 Axes>"
      ]
     },
     "metadata": {
      "needs_background": "light"
     },
     "output_type": "display_data"
    },
    {
     "data": {
      "image/png": "[encoded data removed]",
      "text/plain": [
       "<Figure size 432x396 with 3 Axes>"
      ]
     },
     "metadata": {
      "needs_background": "light"
     },
     "output_type": "display_data"
    },
    {
     "data": {
      "image/png": "[encoded data removed]",
      "text/plain": [
       "<Figure size 432x396 with 6 Axes>"
      ]
     },
     "metadata": {
      "needs_background": "light"
     },
     "output_type": "display_data"
    },
    {
     "data": {
      "image/png": "[encoded data removed]",
      "text/plain": [
       "<Figure size 432x396 with 6 Axes>"
      ]
     },
     "metadata": {
      "needs_background": "light"
     },
     "output_type": "display_data"
    },
    {
     "data": {
      "image/png": "[encoded data removed]",
      "text/plain": [
       "<Figure size 432x396 with 2 Axes>"
      ]
     },
     "metadata": {
      "needs_background": "light"
     },
     "output_type": "display_data"
    },
    {
     "data": {
      "image/png": "[encoded data removed]",
      "text/plain": [
       "<Figure size 432x396 with 2 Axes>"
      ]
     },
     "metadata": {
      "needs_background": "light"
     },
     "output_type": "display_data"
    },
    {
     "data": {
      "image/png": "[encoded data removed]",
      "text/plain": [
       "<Figure size 432x396 with 6 Axes>"
      ]
     },
     "metadata": {
      "needs_background": "light"
     },
     "output_type": "display_data"
    },
    {
     "data": {
      "image/png": "[encoded data removed]",
      "text/plain": [
       "<Figure size 432x396 with 2 Axes>"
      ]
     },
     "metadata": {},
     "output_type": "display_data"
    }
   ],
   "source": [
    "#Flies turning towards positive or negative direction\n",
    "#10 ms between frames\n",
    "dt=.01\n",
    "#Return to these cells to print out relevant information for reporting\n",
    "head_pos = []\n",
    "time_pos = []\n",
    "\n",
    "head_neg = []\n",
    "time_neg = []\n",
    "######################################################\n",
    "\n",
    "\n",
    "pos_tt_count =0\n",
    "neg_tt_count =0\n",
    "\n",
    "for i in uw_orco['obj_id_unique'].unique():\n",
    "\n",
    "    c=uw_orco[uw_orco['obj_id_unique']==i]\n",
    "    time_vec = c['time stamp'].values\n",
    "    head_vec= c['heading'].values\n",
    "\n",
    "    initial_head = np.median( head_vec[(time_vec>-50)*(time_vec<0)] )\n",
    "    sign = np.sign( initial_head )\n",
    "    #head_vec *= sign\n",
    "    #initial_head *= sign\n",
    "    \n",
    "    # signed ang vel\n",
    "    a = unwrap_angle(c['heading'].values, 5)\n",
    "    smootha, da = pynumdiff.linear_model.savgoldiff(a, dt, [3,5,5])\n",
    "    \n",
    "    \n",
    "    ix_plot = np.where( (time_vec>-50)*(time_vec<3000) )\n",
    "    ix_da = np.where( (time_vec>50)*(time_vec<200) )[0]\n",
    "    if np.mean(da[ix_da]) > 0:\n",
    "        \n",
    "        h, t, breaks = flymath.get_continuous_chunks(head_vec, time_vec, jump=np.pi/2.)\n",
    "        h_flipped = []\n",
    "        for chunk in range(len(h)):\n",
    "            if len(h[chunk]) > 0:\n",
    "                if t[chunk][0] > 0: # if time is after stimulus, consider flipping\n",
    "                    if h[chunk][0] < 0:\n",
    "                        #ax1.plot( np.array(t[chunk]), -1*np.array(h[chunk]), color = 'gray', linewidth = 1.5, alpha =0.15)\n",
    "                        h_flipped = np.hstack((h_flipped, -1*np.array(h[chunk])))\n",
    "                    else:\n",
    "                        #ax1.plot(t[chunk], h[chunk], color = 'gray', linewidth = 1.5, alpha =0.15)\n",
    "                        h_flipped = np.hstack((h_flipped, h[chunk]))\n",
    "                else:\n",
    "                    #ax1.plot(t[chunk], h[chunk], color = 'gray', linewidth = 1.5, alpha =0.15)\n",
    "                    h_flipped = np.hstack((h_flipped, h[chunk]))\n",
    "        \n",
    "        \n",
    "        head_pos.append(h_flipped[ix_plot])\n",
    "        time_pos.append(time_vec[ix_plot])\n",
    "#         x, y =remove_discontinuities(time_vec, h_flipped, jump=np.pi/2)\n",
    "#         ax1.plot(x, y, color = 'gray', linewidth = 1.5, alpha =0.15)\n",
    "    else:\n",
    "        \n",
    "        h, t, breaks = flymath.get_continuous_chunks(head_vec, time_vec, jump=np.pi/2.)\n",
    "        h_flipped = []\n",
    "        for chunk in range(len(h)):\n",
    "            if len(h[chunk]) > 0:\n",
    "                if t[chunk][0] > 0: # if time is after stimulus, consider flipping\n",
    "                    if h[chunk][0] > 0:\n",
    "                        #ax1.plot( np.array(t[chunk]), -1*np.array(h[chunk]), color = 'gray', linewidth = 1.5, alpha =0.15)\n",
    "                        h_flipped = np.hstack((h_flipped, -1*np.array(h[chunk])))\n",
    "                    else:\n",
    "                        #ax1.plot(t[chunk], h[chunk], color = 'gray', linewidth = 1.5, alpha =0.15)\n",
    "                        h_flipped = np.hstack((h_flipped, h[chunk]))\n",
    "                else:\n",
    "                    #ax1.plot(t[chunk], h[chunk], color = 'gray', linewidth = 1.5, alpha =0.15)\n",
    "                    h_flipped = np.hstack((h_flipped, h[chunk]))\n",
    "                    \n",
    "        head_neg.append(h_flipped[ix_plot])\n",
    "        time_neg.append(time_vec[ix_plot])\n",
    ")\n",
    "\n",
    "        \n",
    "#######################################################################################\n",
    "t_interp = np.arange(-50, 3000, 10)\n",
    "\n",
    "head_pos_interp = []\n",
    "for r in range(len(head_pos)):\n",
    "    head_interp = np.interp(t_interp, time_pos[r], head_pos[r])\n",
    "    head_pos_interp.append(head_interp)\n",
    "    \n",
    "head_neg_interp = []\n",
    "for r in range(len(head_neg)):\n",
    "    head_interp = np.interp(t_interp, time_neg[r], head_neg[r])\n",
    "    head_neg_interp.append(head_interp)\n",
    "head_neg_interp = np.vstack( head_neg_interp )\n",
    "\n",
    "head_pos_interp = np.vstack( head_pos_interp )\n",
    "#print(\"After first step there are \" +str(len(head_neg_interp)+len(head_pos_interp))+ \" trajectories in tact\")\n",
    "\n",
    "\n",
    "########################################################################################\n",
    "# group 1 -- flies deviate more than the difference between heading and upwind\n",
    "head_pos_interp_g1 = []\n",
    "head_pos_interp_g0 = []\n",
    "\n",
    "ix = np.where(t_interp < 500)\n",
    "for r in range(head_pos_interp.shape[0]):\n",
    "    h = head_pos_interp[r,:]\n",
    "    if np.max(h[ix]) > (h[0]+0.3925): # <<<< arbitrary\n",
    "        head_pos_interp_g1.append(h)\n",
    "    else:\n",
    "        head_pos_interp_g0.append(h)\n",
    "        \n",
    "head_pos_interp_g1 = np.vstack(head_pos_interp_g1)\n",
    "head_pos_interp_g0 = np.vstack(head_pos_interp_g0)\n",
    "\n",
    "# group 1 -- flies deviate more than the difference between heading and upwind\n",
    "head_neg_interp_g1 = []\n",
    "head_neg_interp_g0 = []\n",
    "\n",
    "ix = np.where(t_interp < 500)\n",
    "for r in range(head_neg_interp.shape[0]):\n",
    "    h = head_neg_interp[r,:]\n",
    "    if np.min(h[ix]) < h[0]-0.3925: # <<<< arbitrary\n",
    "        head_neg_interp_g1.append(h)\n",
    "    else:\n",
    "        head_neg_interp_g0.append(h)\n",
    "        \n",
    "head_neg_interp_g1 = np.vstack(head_neg_interp_g1)\n",
    "head_neg_interp_g0 = np.vstack(head_neg_interp_g0)\n",
    "\n",
    "###########################################################################################\n",
    "t_interp = t_interp.astype(float)\n",
    "###########################################################################################\n",
    "\n",
    "#Setting up the upwind axexs for raw plots\n",
    "layout =fifi.svg_to_axes.FigureLayout(template, autogenlayers=True, make_mplfigures=True, hide_layers=[])\n",
    "ax=layout.axes[('lw_r', 'pos')]\n",
    "ax1= layout.axes[('lw_r', 'neg')]\n",
    "\n",
    "#Isolated Turns Axes\n",
    "ax2 =layout.axes[('uw_tt', 'pos')]\n",
    "ax3 =layout.axes[('uw_tt', 'neg')]\n",
    "ax2.plot([-125, -25], [3.3, 3.3], color = 'k', linewidth =.5)\n",
    "\n",
    "\n",
    "\n",
    "############################################################################################\n",
    "yticks = [-3.14, -1.57, 0, 1.57, 3.14]\n",
    "\n",
    "ax.set_yticklabels([])\n",
    "\n",
    "ax.set_xlim(-50, 1000)\n",
    "ax.set_ylim(-3.4, 3.4)\n",
    "ax.plot([0, 675], [3.3, 3.3], color = 'red', linewidth = .5)\n",
    "xticks = [0, 675, 1000]\n",
    "\n",
    "r = plot_raw_course_single_ax(head_pos_interp_g1, ax,  linewidth=.2, alpha = 0.5,c1=c1, c2 =c2)\n",
    "anemometric_saccade_info_uwpos, anemotaxis_saccade_info_uwpos, n_with_2_turns_uw_pos, n_without_2_turns_uw_pos = r\n",
    "\n",
    "r2 = plot_raw_course_single_ax(head_neg_interp_g1, ax1, linewidth=.2,alpha = 0.5, direction=None, c1=c1, c2=c2)\n",
    "anemometric_saccade_info_uwpos, anemotaxis_saccade_info_uwpos, n_with_2_turns_uw_neg, n_without_2_turns_uw_neg = r2\n",
    "\n",
    "#Plot centered isolated turns\n",
    "r3 = plot_split_trajecs_turn_aligner(head_pos_interp_g1, ax2, ax3, linewidth=.2, alpha = 0.5,c1=c1, c2 =c2)\n",
    "\n",
    "r4 = plot_split_trajecs_turn_aligner(head_neg_interp_g1, ax2, ax3, linewidth=.2,alpha = 0.5, direction=None, c1=c1, c2=c2)\n",
    "\n",
    "anemometric_saccade_info_uwpos, anemotaxis_saccade_info_uwpos, n_with_2_turns, n_without_2_turns = r\n",
    "anemometric_saccade_info_uwneg, anemotaxis_saccade_info_uwneg, n_with_2_turns, n_without_2_turns = r2\n",
    "\n",
    "ax.set_xlim(-50, 1000)\n",
    "ax1.set_xlim(-50, 1000)\n",
    "ax1.set_ylim(-3.4, 3.4)\n",
    "ax1.set_yticklabels([])\n",
    "xticks = [0, 675, 1000]\n",
    "\n",
    "fifi.mpl_functions.adjust_spines(ax, ['left'], xticks=xticks, yticks=yticks, tick_length=3, linewidth=lw)\n",
    "fifi.mpl_functions.adjust_spines(ax1, ['left'], xticks=xticks, yticks=yticks, tick_length=3, linewidth=lw)\n",
    "fifi.mpl_functions.adjust_spines(ax2, [], xticks=[], yticks=yticks)\n",
    "fifi.mpl_functions.adjust_spines(ax3, [], xticks=[], yticks=yticks)\n",
    "fifi.mpl_functions.adjust_spines(ax4, [], xticks=[], yticks=yticks)\n",
    "fifi.mpl_functions.adjust_spines(ax5, [], xticks=[], yticks=yticks)\n",
    "\n",
    "xticks = [0, 675, 1000]\n",
    "\n",
    "\n",
    "ax2.axvline(x=0, color = 'k', linestyle ='--', linewidth = .5, alpha =1)\n",
    "ax2.axvline(x=0, color = c1, linestyle ='--', linewidth =.5, alpha = 0.5)\n",
    "ax3.axvline(x=0, color = 'k', linestyle ='--', linewidth = .5, alpha =1)\n",
    "ax3.axvline(x=0, color = c2, linestyle ='--', linewidth =.5, alpha = 0.5)\n",
    "\n",
    "\n",
    "#####################################################################################################\n",
    "#Plotting leftover trajectories\n",
    "for r in range(len(head_neg_interp_g0)):\n",
    "    x, y = remove_discontinuities(t_interp, head_neg_interp_g0[r])\n",
    "    ax1.plot(x, y, color = 'gray', linewidth = .2, alpha =.5)\n",
    "\n",
    "for r in range(len(head_pos_interp_g0)):\n",
    "    x, y = remove_discontinuities(t_interp, head_pos_interp_g0[r])\n",
    "    ax.plot(x, y, color = 'gray', linewidth = .2, alpha =.5)\n",
    "\n",
    "fifi.mpl_functions.set_fontsize(ax, fs)\n",
    "\n",
    "layout.append_figure_to_layer(layout.figures['uw_tt'], 'uw_tt', cleartarget=True)\n",
    "#layout.append_figure_to_layer(layout.figures['uw_ant'], 'uw_ant', cleartarget=True)\n",
    "layout.append_figure_to_layer(layout.figures['lw_r'], 'lw_r', cleartarget=True)\n",
    "layout.write_svg(template)\n",
    "\n",
    "print('mean and std of anemometric saccade duration')\n",
    "print( np.mean(anemometric_saccade_info_uwpos['duration']) )\n",
    "print( np.std(anemometric_saccade_info_uwpos['duration']) )\n",
    "\n",
    "print()\n",
    "\n",
    "print('mean and std of anemotaxis saccade duration')\n",
    "print( np.mean(anemotaxis_saccade_info_uwpos['duration']) )\n",
    "print( np.std(anemotaxis_saccade_info_uwpos['duration']) )\n",
    "#\n",
    "print(\"Final count with two turns in negative group is \"+ str(n_with_2_turns_uw_neg))\n",
    "print(\"Final count with two turns in positive group is \"+ str(n_with_2_turns_uw_pos))\n",
    "print(\"Final count without two turns in negative group is \"+ str(n_without_2_turns_uw_neg))\n",
    "print(\"Final count without two turns in positive group is \"+ str(n_without_2_turns_uw_pos))\n",
    "print(\"function is ending with \" + str(n_with_2_turns_uw_neg+n_with_2_turns_uw_pos+n_without_2_turns_uw_neg\n",
    "                                     +n_without_2_turns_uw_pos) + \" trajectories\")"
   ]
  },
  {
   "cell_type": "markdown",
   "metadata": {},
   "source": [
    "# Crosswind flies at stimulus, new style of raw trajectory plots and isolated turns\n"
   ]
  },
  {
   "cell_type": "code",
   "execution_count": 42,
   "metadata": {},
   "outputs": [
    {
     "name": "stdout",
     "output_type": "stream",
     "text": [
      "26\n",
      "8\n",
      "34\n",
      "15\n",
      "N trajecs in raw panel:  34\n",
      "Two Turn Seqs detected = 46\n"
     ]
    },
    {
     "data": {
      "image/png": "[encoded data removed]",
      "text/plain": [
       "<Figure size 432x396 with 2 Axes>"
      ]
     },
     "metadata": {},
     "output_type": "display_data"
    },
    {
     "data": {
      "image/png": "[encoded data removed]",
      "text/plain": [
       "<Figure size 432x396 with 3 Axes>"
      ]
     },
     "metadata": {
      "needs_background": "light"
     },
     "output_type": "display_data"
    },
    {
     "data": {
      "image/png": "[encoded data removed]",
      "text/plain": [
       "<Figure size 432x396 with 6 Axes>"
      ]
     },
     "metadata": {
      "needs_background": "light"
     },
     "output_type": "display_data"
    },
    {
     "data": {
      "image/png": "[encoded data removed]",
      "text/plain": [
       "<Figure size 432x396 with 6 Axes>"
      ]
     },
     "metadata": {
      "needs_background": "light"
     },
     "output_type": "display_data"
    },
    {
     "data": {
      "image/png": "[encoded data removed]",
      "text/plain": [
       "<Figure size 432x396 with 2 Axes>"
      ]
     },
     "metadata": {
      "needs_background": "light"
     },
     "output_type": "display_data"
    },
    {
     "data": {
      "image/png": "[encoded data removed]",
      "text/plain": [
       "<Figure size 432x396 with 2 Axes>"
      ]
     },
     "metadata": {
      "needs_background": "light"
     },
     "output_type": "display_data"
    },
    {
     "data": {
      "image/png": "[encoded data removed]",
      "text/plain": [
       "<Figure size 432x396 with 6 Axes>"
      ]
     },
     "metadata": {
      "needs_background": "light"
     },
     "output_type": "display_data"
    },
    {
     "data": {
      "image/png": "[encoded data removed]",
      "text/plain": [
       "<Figure size 432x396 with 2 Axes>"
      ]
     },
     "metadata": {
      "needs_background": "light"
     },
     "output_type": "display_data"
    }
   ],
   "source": [
    "head_pos = []\n",
    "time_pos = []\n",
    "\n",
    "head_neg = []\n",
    "time_neg = []\n",
    "\n",
    "#########################################\n",
    "for i in cw_orco['obj_id_unique'].unique():\n",
    "\n",
    "    c=cw_orco[cw_orco['obj_id_unique']==i]\n",
    "    time_vec = c['time stamp'].values\n",
    "    head_vec= c['heading'].values\n",
    "\n",
    "    initial_head = np.median( head_vec[(time_vec>-50)*(time_vec<0)] )\n",
    "    sign = np.sign( initial_head )\n",
    "    head_vec *= sign\n",
    "    initial_head *= sign\n",
    "    \n",
    "    # signed ang vel\n",
    "    a = unwrap_angle(c['heading'].values, 5)\n",
    "    smootha, da = pynumdiff.linear_model.savgoldiff(a, dt, [3,5,5])\n",
    "    \n",
    "    \n",
    "    ix_plot = np.where( (time_vec>-50)*(time_vec<3000) )\n",
    "    ix_da = np.where( (time_vec>50)*(time_vec<200) )[0]\n",
    "    if np.mean(da[ix_da]) > 0:\n",
    "        \n",
    "        h, t, breaks = flymath.get_continuous_chunks(head_vec, time_vec, jump=np.pi/2.)\n",
    "        h_flipped = []\n",
    "        for chunk in range(len(h)):\n",
    "            if len(h[chunk]) > 0:\n",
    "                if t[chunk][0] > 0: # if time is after stimulus, consider flipping\n",
    "                    if h[chunk][0] < 0:\n",
    "                        #ax1.plot( np.array(t[chunk]), -1*np.array(h[chunk]), color = 'gray', linewidth = 1.5, alpha =0.15)\n",
    "                        h_flipped = np.hstack((h_flipped, -1*np.array(h[chunk])))\n",
    "                    else:\n",
    "                        #ax1.plot(t[chunk], h[chunk], color = 'gray', linewidth = 1.5, alpha =0.15)\n",
    "                        h_flipped = np.hstack((h_flipped, h[chunk]))\n",
    "                else:\n",
    "                    #ax1.plot(t[chunk], h[chunk], color = 'gray', linewidth = 1.5, alpha =0.15)\n",
    "                    h_flipped = np.hstack((h_flipped, h[chunk]))\n",
    "        \n",
    "        \n",
    "        head_pos.append(h_flipped[ix_plot])\n",
    "        time_pos.append(time_vec[ix_plot])\n",
    "#         x, y =remove_discontinuities(time_vec, h_flipped, jump=np.pi/2)\n",
    "#         ax1.plot(x, y, color = 'gray', linewidth = 1.5, alpha =0.15)\n",
    "    else:\n",
    "        head_neg.append(head_vec[ix_plot])\n",
    "        time_neg.append(time_vec[ix_plot])\n",
    "#         x, y =remove_discontinuities(time_vec, head_vec, jump=np.pi/2)\n",
    "#         ax2.plot(x, y, color = 'gray', linewidth = 1.5, alpha =0.15)\n",
    "\n",
    "####################################################################################################\n",
    "t_interp = np.arange(-50, 3000, 10)\n",
    "\n",
    "head_pos_interp = []\n",
    "for r in range(len(head_pos)):\n",
    "    head_interp = np.interp(t_interp, time_pos[r], head_pos[r])\n",
    "    head_pos_interp.append(head_interp)\n",
    "    \n",
    "head_neg_interp = []\n",
    "for r in range(len(head_neg)):\n",
    "    head_interp = np.interp(t_interp, time_neg[r], head_neg[r])\n",
    "    head_neg_interp.append(head_interp)\n",
    "head_neg_interp = np.vstack( head_neg_interp )\n",
    "\n",
    "head_pos_interp = np.vstack( head_pos_interp )\n",
    "# group 1 -- flies deviate more than the difference between heading and upwind\n",
    "head_pos_interp_g1 = []\n",
    "head_pos_interp_g0 = []\n",
    "\n",
    "ix = np.where(t_interp < 500)\n",
    "\n",
    "for r in range(head_pos_interp.shape[0]):\n",
    "    h = head_pos_interp[r,:]\n",
    "    if np.max(h[ix]) > (1.57+0.3925): # <<<< arbitrary\n",
    "        head_pos_interp_g1.append(h)\n",
    "    else:\n",
    "        head_pos_interp_g0.append(h)\n",
    "        \n",
    "head_pos_interp_g1 = np.vstack(head_pos_interp_g1)\n",
    "head_pos_interp_g0 = np.vstack(head_pos_interp_g0)\n",
    "\n",
    "print(len(head_pos_interp_g1))\n",
    "print(len(head_pos_interp_g0))\n",
    "# group 1 -- flies deviate more than the difference between heading and upwind\n",
    "head_neg_interp_g1 = []\n",
    "head_neg_interp_g0 = []\n",
    "\n",
    "ix = np.where(t_interp < 500)\n",
    "for r in range(head_neg_interp.shape[0]):\n",
    "    h = head_neg_interp[r,:]\n",
    "    if np.min(h[ix]) < -0.3925: # <<<< arbitrary\n",
    "        head_neg_interp_g1.append(h)\n",
    "    else:\n",
    "        head_neg_interp_g0.append(h)\n",
    "        \n",
    "head_neg_interp_g1 = np.vstack(head_neg_interp_g1)\n",
    "head_neg_interp_g0 = np.vstack(head_neg_interp_g0)\n",
    "\n",
    "print(len(head_neg_interp_g1))\n",
    "print(len(head_neg_interp_g0))\n",
    "\n",
    "##################################################################################\n",
    "t_interp = t_interp.astype(float)\n",
    "##################################################################################\n",
    "layout =fifi.svg_to_axes.FigureLayout(template, autogenlayers=True, make_mplfigures=True, hide_layers=[])\n",
    "ax=layout.axes[('cw_r', 'pos')]\n",
    "ax1= layout.axes[('cw_r', 'neg')]\n",
    "\n",
    "ax2 =layout.axes['cwspag', 'cw_tt']\n",
    "ax3 =layout.axes['cwspag', 'cw_nt']\n",
    "##################################################################################\n",
    "yticks = [-3.14, -1.57, 0, 1.57, 3.14]\n",
    "\n",
    "ax.set_yticklabels([])\n",
    "ax.set_xlim(-50, 1000)\n",
    "\n",
    "\n",
    "ax.set_xlim(-50, 1000)\n",
    "ax.set_ylim(-3.14, 3.14)\n",
    "xticks = [0, 675, 1000]\n",
    "\n",
    "ax1.set_xlim(-50, 1000)\n",
    "\n",
    "fifi.mpl_functions.adjust_spines(ax, ['left'], xticks=xticks, yticks=yticks, tick_length=3, linewidth=lw)\n",
    "\n",
    "\n",
    "# plot the broken and leftover trajectories\n",
    "\n",
    "r = plot_raw_course_single_ax(head_pos_interp_g1, ax, c1=c1, c2=c2, alpha = 0.5)\n",
    "r2 = plot_raw_course_single_ax(head_neg_interp_g1, ax1, alpha = 0.5, direction=None, c1=c1, c2= c2)\n",
    "\n",
    "r3 = plot_split_trajecs_turn_aligner(head_pos_interp_g1, ax2, ax3, c1=c1, c2=c2, alpha = 0.5)\n",
    "r4 = plot_split_trajecs_turn_aligner(head_neg_interp_g1, ax2, ax3, alpha = 0.5, direction=None, c1=c1, c2= c2)\n",
    "\n",
    "\n",
    "anemometric_saccade_info_cwpos, anemotaxis_saccade_info_cwpos, n_with_2_turns_cw_pos, n_without_2_turns = r\n",
    "anemometric_saccade_info_cwneg, anemotaxis_saccade_info_cwneg, n_with_2_turns_cw_neg, n_without_2_turns = r2\n",
    "\n",
    "for r in range(len(head_neg_interp_g0)):\n",
    "    x, y = remove_discontinuities(t_interp, head_neg_interp_g0[r])\n",
    "    ax1.plot(x, y, color = 'gray', linewidth = .2, alpha =.5)\n",
    "\n",
    "for r in range(len(head_pos_interp_g0)):\n",
    "    x, y = remove_discontinuities(t_interp, head_pos_interp_g0[r])\n",
    "    ax.plot(x, y, color = 'gray', linewidth = .2, alpha =.5)\n",
    "\n",
    "\n",
    "ax2.axvline(x=0, color = 'k', linestyle ='--', linewidth = .5, alpha =1)\n",
    "ax2.axvline(x=0, color = c1, linestyle ='--', linewidth =.5, alpha = 0.5)\n",
    "ax3.axvline(x=0, color = 'k', linestyle ='--', linewidth = .5, alpha =1)\n",
    "ax3.axvline(x=0, color = c2, linestyle = \"--\", linewidth =0.5)\n",
    "\n",
    "ax1.set_ylim(-3.4, 3.4)\n",
    "ax1.set_yticklabels([])\n",
    "xticks = [0, 675, 1000]\n",
    "\n",
    "fifi.mpl_functions.adjust_spines(ax1, ['left'], xticks=[], yticks=yticks, linewidth = lw, tick_length=3 )\n",
    "fifi.mpl_functions.adjust_spines(ax2, [], xticks=[], yticks=yticks)\n",
    "fifi.mpl_functions.adjust_spines(ax3, [], xticks=[], yticks=yticks)\n",
    "\n",
    "\n",
    "print(\"Two Turn Seqs detected = \" + str(n_with_2_turns_cw_neg+n_with_2_turns_cw_pos))\n",
    "fifi.mpl_functions.set_fontsize(ax, fs)\n",
    "\n",
    "\n",
    "layout.append_figure_to_layer(layout.figures['cw_r'], 'cw_r', cleartarget=True)\n",
    "layout.append_figure_to_layer(layout.figures['cwspag'], 'cwspag', cleartarget=True)\n",
    "layout.write_svg(template)\n",
    "#layout.append_figure_to_layer(layout.figures['upwind_pos'], 'upwind_pos', cleartarget=True)\n",
    "#layout.write_svg('anemo_metric_taxis.svg')\n"
   ]
  },
  {
   "cell_type": "markdown",
   "metadata": {},
   "source": [
    "# No wind fly subset up to date plotting functions"
   ]
  },
  {
   "cell_type": "code",
   "execution_count": 6828,
   "metadata": {},
   "outputs": [],
   "source": [
    "#No wind modified trajectory plotter, modified to only detect saccades that would otherwise meet \"anemometric\"\n",
    "#standards.  No \"anemotactic\" saccade required to also include\n",
    "def plot_raw_trajecs_single_axis_no_wind(head_pos_interp_g1, ax1,  direction='pos', linewidth=0.2, cnw= cnw,cbase='gray', alpha = 0.5):\n",
    "    threshold = 0.004\n",
    "    \n",
    "    anemometric_saccade_info = {'peak_angular_velocity': [],\n",
    "                                'amplitude': [],\n",
    "                                'duration': [],\n",
    "                                'end_point': []}\n",
    "    \n",
    "    n_with_1_turn = 0\n",
    "    n_without_1_turn = 0\n",
    "    \n",
    "    for r in range(len(head_pos_interp_g1)):\n",
    "\n",
    "        a = head_pos_interp_g1[r]\n",
    "        smootha, da = pynumdiff.linear_model.savgoldiff(a, dt, [3,10,10])\n",
    "        rawsmootha, rawda = pynumdiff.linear_model.savgoldiff(a, dt, [3,4,4]) #pynumdiff.finite_difference.first_order(a, dt)\n",
    "\n",
    "        # anemometric\n",
    "        if direction == 'pos':\n",
    "            p = scipy.signal.find_peaks_cwt(da, [4])\n",
    "        else:\n",
    "            p = scipy.signal.find_peaks_cwt(-1*da, [4])\n",
    "\n",
    "        last_ix = np.where( (t_interp<600) )[0][-1]\n",
    "        first_ix = np.where( (t_interp>0) )[0][0]\n",
    "        p = p[ (p<last_ix)*(p>first_ix)]\n",
    "        if len(p)>0:\n",
    "            ix_anemometric = p[0]\n",
    "        else:\n",
    "            ix_anemometric = -1\n",
    "\n",
    "        chunks = []\n",
    "        if direction == 'pos':\n",
    "            ix = np.where(da>threshold)[0]\n",
    "            if len(ix) > 0:\n",
    "                chunks, breaks = flymath.get_continuous_chunks( ix )\n",
    "        else:\n",
    "            ix = np.where(da<-1*threshold)[0]\n",
    "            if len(ix) > 0:\n",
    "                chunks, breaks = flymath.get_continuous_chunks( ix )\n",
    "        anemometric_saccade = None\n",
    "        for chunk in chunks:\n",
    "            if ix_anemometric in chunk:\n",
    "                anemometric_saccade = chunk\n",
    "                break\n",
    "\n",
    "        if anemometric_saccade is not None:\n",
    "            peak = np.max( np.abs(rawda[anemometric_saccade]) )\n",
    "            amplitude = (np.cumsum(rawda[anemometric_saccade])*dt)[-1]\n",
    "            duration = t_interp[anemometric_saccade][-1] - t_interp[anemometric_saccade][0]\n",
    "            end_point = head_pos_interp_g1[r][anemometric_saccade][-1]\n",
    "\n",
    "            anemometric_saccade_info['peak_angular_velocity'].append( np.abs(peak) )\n",
    "            anemometric_saccade_info['amplitude'].append(amplitude)\n",
    "            anemometric_saccade_info['duration'].append(duration)\n",
    "            anemometric_saccade_info['end_point'].append(end_point)\n",
    "\n",
    "        if anemometric_saccade is not None:\n",
    "            n_with_1_turn += 1\n",
    "            \n",
    "            if direction == 'pos':\n",
    "                ind= np.where(np.abs(rawda[anemometric_saccade])==np.abs(rawda[anemometric_saccade]).max())[0][0]\n",
    "            else:\n",
    "                ind= np.where(np.abs(rawda[anemometric_saccade])==np.abs(rawda[anemometric_saccade]).max())[0][0]\n",
    "            t_len = len(anemometric_saccade)\n",
    "            #print(\"index is \" +str(t_len))\n",
    "#             align_time = np.arange(-1*ind, t_len-ind, 1)\n",
    "#             #print(align_time)\n",
    "#             align_time= align_time*10.\n",
    "#             align_time.astype(float)\n",
    "            #before anemometric\n",
    "            t_plot = t_interp[0:anemometric_saccade[0]]\n",
    "            h_plot = head_pos_interp_g1[r][0:anemometric_saccade[0]]\n",
    "            x, y = remove_discontinuities(t_plot, h_plot)\n",
    "            ax1.plot(x, y, color = cbase, linewidth = linewidth, alpha =0.4)\n",
    "\n",
    "            # anemometric\n",
    "            t_plot = t_interp[anemometric_saccade]\n",
    "            h_plot = head_pos_interp_g1[r][anemometric_saccade]\n",
    "            x, y = remove_discontinuities(t_plot, h_plot)\n",
    "            ax1.plot(x, y, color = cnw, linewidth = linewidth, alpha =alpha, markeredgecolor=None)\n",
    "\n",
    "            # after anemotaxis\n",
    "            t_plot = t_interp[anemometric_saccade[-1]:]\n",
    "            #print(anemometric_saccade[-1])\n",
    "            #t_plot -= t_plot[0]\n",
    "            h_plot = head_pos_interp_g1[r][anemometric_saccade[-1]:]\n",
    "            x, y = remove_discontinuities(t_plot, h_plot)\n",
    "            ax1.plot(x, y, color = cbase, linewidth = linewidth, alpha =0.4)\n",
    "\n",
    "        else:\n",
    "            print(r)\n",
    "            n_without_1_turn += 1\n",
    "            x, y = remove_discontinuities(t_interp, head_pos_interp_g1[r])\n",
    "            ax1.plot(x, y, color = cbase, linewidth = linewidth, alpha =0.4)\n",
    "    #ax1.plot(t_interp, np.mean(head_pos_interp_g1, axis=0), color='red')\n",
    "\n",
    "    return anemometric_saccade_info, n_with_1_turn, n_without_1_turn"
   ]
  },
  {
   "cell_type": "markdown",
   "metadata": {},
   "source": [
    "# Saccade Kinematics Section"
   ]
  },
  {
   "cell_type": "code",
   "execution_count": 43,
   "metadata": {},
   "outputs": [],
   "source": [
    "#compound saccade data calculated from earlier plots\n",
    "#nw_saccades =[anemometric_saccade_info_nwneg, anemometric_saccade_info_nwpos]: moved to supplement\n",
    "\n",
    "anemometric_saccades = [anemometric_saccade_info_cwpos,\n",
    "                        anemometric_saccade_info_cwneg,\n",
    "                        anemometric_saccade_info_uwpos,\n",
    "                        anemometric_saccade_info_uwneg]\n",
    "\n",
    "anemotaxis_saccades = [anemotaxis_saccade_info_cwpos,\n",
    "                        anemotaxis_saccade_info_cwneg,\n",
    "                        anemotaxis_saccade_info_uwpos,\n",
    "                        anemotaxis_saccade_info_uwneg]\n"
   ]
  },
  {
   "cell_type": "code",
   "execution_count": 46,
   "metadata": {},
   "outputs": [
    {
     "name": "stdout",
     "output_type": "stream",
     "text": [
      "LinregressResult(slope=-0.5078081021734923, intercept=2.5831014275735393, rvalue=-0.33366373498373164, pvalue=9.837297945282864e-05, stderr=0.1263181218719898)\n"
     ]
    }
   ],
   "source": [
    "#Collecting some saccade info to make dist plot more easily and basic linear regression params\n",
    "#quick linear regression to test relationship\n",
    "\n",
    "#start vectory\n",
    "start_v =[]\n",
    "#magnitude vector\n",
    "mag_v =[]\n",
    "\n",
    "for anemometric_saccade in anemometric_saccades:\n",
    "    start_v.append(np.abs(anemometric_saccade['start_point']))\n",
    "    mag_v.append(np.abs(anemometric_saccade['amplitude']))\n",
    "\n",
    "start =[]\n",
    "mag =[]\n",
    "for i in start_v:\n",
    "    for j in i:\n",
    "        start.append(j)\n",
    "    \n",
    "for i in mag_v:\n",
    "    for j in i:\n",
    "        mag.append(j) \n",
    "\n",
    "# mag_v_nw =[]\n",
    "# for nw_saccade in nw_saccades:\n",
    "#     mag_v_nw.append(np.abs(nw_saccade['amplitude'])) \n",
    " \n",
    "# mag_nw =[]    \n",
    "# for i in mag_v_nw:\n",
    "#     for j in i:\n",
    "#         mag_nw.append(j)\n",
    "#print(mag_nw)\n",
    "m =stats.linregress(start, mag)\n",
    "print(m)\n",
    "    "
   ]
  },
  {
   "cell_type": "code",
   "execution_count": 48,
   "metadata": {},
   "outputs": [
    {
     "data": {
      "image/png": "[encoded data removed]",
      "text/plain": [
       "<Figure size 432x396 with 2 Axes>"
      ]
     },
     "metadata": {
      "needs_background": "light"
     },
     "output_type": "display_data"
    },
    {
     "data": {
      "image/png": "[encoded data removed]",
      "text/plain": [
       "<Figure size 432x396 with 3 Axes>"
      ]
     },
     "metadata": {
      "needs_background": "light"
     },
     "output_type": "display_data"
    },
    {
     "data": {
      "image/png": "[encoded data removed]",
      "text/plain": [
       "<Figure size 432x396 with 6 Axes>"
      ]
     },
     "metadata": {
      "needs_background": "light"
     },
     "output_type": "display_data"
    },
    {
     "data": {
      "image/png": "[encoded data removed]",
      "text/plain": [
       "<Figure size 432x396 with 6 Axes>"
      ]
     },
     "metadata": {
      "needs_background": "light"
     },
     "output_type": "display_data"
    },
    {
     "data": {
      "image/png": "[encoded data removed]",
      "text/plain": [
       "<Figure size 432x396 with 2 Axes>"
      ]
     },
     "metadata": {
      "needs_background": "light"
     },
     "output_type": "display_data"
    },
    {
     "data": {
      "image/png": "[encoded data removed]",
      "text/plain": [
       "<Figure size 432x396 with 2 Axes>"
      ]
     },
     "metadata": {
      "needs_background": "light"
     },
     "output_type": "display_data"
    },
    {
     "data": {
      "image/png": "[encoded data removed]",
      "text/plain": [
       "<Figure size 432x396 with 6 Axes>"
      ]
     },
     "metadata": {
      "needs_background": "light"
     },
     "output_type": "display_data"
    },
    {
     "data": {
      "image/png": "[encoded data removed]",
      "text/plain": [
       "<Figure size 432x396 with 2 Axes>"
      ]
     },
     "metadata": {
      "needs_background": "light"
     },
     "output_type": "display_data"
    }
   ],
   "source": [
    "####Headings distribution subplot\n",
    "layout =fifi.svg_to_axes.FigureLayout(template, autogenlayers=True, make_mplfigures=True, hide_layers=[])\n",
    "\n",
    "ax =layout.axes[('kin', 'ori')]\n",
    "# ax1 =layout.axes[('dist', 'stim')]\n",
    "#ax2 =layout.axes[('dist', 'metric')]\n",
    "ax4 =layout.axes[('kin', 'peak')]\n",
    "ax5 =layout.axes[('kin', 'dur')]\n",
    "\n",
    "\n",
    "\n",
    "ax.set_yticklabels([])\n",
    "fifi.mpl_functions.adjust_spines(ax, ['left', 'bottom'], xticks=[0, 3*np.pi/4], yticks=[0 ,np.pi/2, 3.14], tick_length=3, linewidth=lw)\n",
    "ax.set_xticklabels([])\n",
    "##########################################################################################################################\n",
    "#Anemometric saccade amplitude as a function of course direction\n",
    "for anemometric_saccade in anemometric_saccades:\n",
    "    ax.scatter(  np.abs(anemometric_saccade['start_point']), \n",
    "              np.abs(anemometric_saccade['amplitude']),\n",
    "              color=c1, s=3.5, alpha =0.6, linewidth =0)\n",
    "#regression params: slope=-0.5078081021734923, intercept=2.5831014275735393\n",
    "t=np.linspace(0, 3.*3.14/4., 100)\n",
    "reg = -.507*t+2.583\n",
    "ax.plot(t, reg, color = c1, linewidth = lw*2)\n",
    "\n",
    "###################################################################################################################\n",
    "#Distribution plot of saccade magnitudes between the two cases\n",
    "# sns.distplot(mag, ax=ax1, color=c1, hist=False, vertical =True)\n",
    "# sns.distplot(mag_nw,ax=ax1,  color=cnw, hist=False, vertical =True)\n",
    "# ax1.set_ylim(0, 5)\n",
    "# #ax2.set_ylim(0, 3.14)\n",
    "# ax1.set_yticklabels([])\n",
    "# fifi.mpl_functions.adjust_spines(ax1, ['left'], xticks=[], yticks=[0 , 3.14], tick_length=3, linewidth=lw)\n",
    "#fifi.mpl_functions.adjust_spines(ax2, [], xticks=[], yticks=[], tick_length=3, linewidth=lw)\n",
    "##################################################################################################################################\n",
    "#Peak Angular Velocity plots\n",
    "\n",
    "\n",
    "for anemometric_saccade in anemometric_saccades:\n",
    "    ax4.scatter(  np.abs(anemometric_saccade['amplitude'])*180/np.pi, \n",
    "              np.abs(anemometric_saccade['peak_angular_velocity'])*1000*180/np.pi,\n",
    "              color=c1, s=3.5, alpha =0.6, linewidth =0)\n",
    "    \n",
    "for anemotaxis_saccade in anemotaxis_saccades:\n",
    "    ax4.scatter(  np.abs(anemotaxis_saccade['amplitude'])*180/np.pi, \n",
    "              np.abs(anemotaxis_saccade['peak_angular_velocity'])*1000*180/np.pi,\n",
    "              color=c2,s=3.5, alpha = 0.6, linewidth =0)\n",
    "# for sac in nw_saccades:\n",
    "#     ax4.scatter(np.abs(sac['amplitude'])*180/np.pi, \n",
    "#               np.abs(sac['peak_angular_velocity'])*1000*180/np.pi,\n",
    "#               color=cnw, s=3.5, alpha = 0.6, linewidth =0)\n",
    "    \n",
    "\n",
    "ax4.set_yscale('log')\n",
    "ax4.minorticks_off()\n",
    "ax4.set_ylim(100, 10000)\n",
    "ax4.set_xlim(0, 230)\n",
    "\n",
    "ax4.set_yticklabels([])\n",
    "ax4.set_xticklabels([])\n",
    "\n",
    "xticks = [0, 90, 180]\n",
    "yticks = [100, 1000, 10000]\n",
    "fifi.mpl_functions.adjust_spines(ax4, ['left', 'bottom'], xticks=xticks, yticks=yticks, tick_length=3, linewidth=lw)\n",
    "#################################################################################\n",
    "for anemometric_saccade in anemometric_saccades:\n",
    "    ax5.scatter(  np.abs(anemometric_saccade['amplitude'])*180/np.pi,\n",
    "              np.abs(anemometric_saccade['duration']), color=c1, s=3.5, alpha = 0.6, linewidth=0)\n",
    "    \n",
    "for anemotaxis_saccade in anemotaxis_saccades:\n",
    "    ax5.scatter(  np.abs(anemotaxis_saccade['amplitude'])*180/np.pi, \n",
    "              np.abs(anemotaxis_saccade['duration']),marker='o', color=c2, s=3.5, alpha = 0.6, linewidth =0)\n",
    "# for sac in nw_saccades:\n",
    "#     ax5.scatter(  np.abs(sac['amplitude'])*180/np.pi, \n",
    "#               np.abs(sac['duration']),color=cnw, s=3.5,marker ='o', alpha = 0.6, linewidth =0)\n",
    "    \n",
    "ax5.set_yscale('log')\n",
    "ax5.minorticks_off()\n",
    "ax5.set_ylim(10, 1000)\n",
    "ax5.set_xlim(0, 230)\n",
    "xticks = [0, 90, 180]\n",
    "yticks = [10, 100, 1000]\n",
    "ax5.set_yticklabels([])\n",
    "ax5.set_xticklabels([])\n",
    "fifi.mpl_functions.adjust_spines(ax5, ['left'], xticks=xticks, yticks=yticks, tick_length=3, linewidth=lw)\n",
    "\n",
    "\n",
    "layout.append_figure_to_layer(layout.figures['kin'], 'kin', cleartarget=True)\n",
    "layout.append_figure_to_layer(layout.figures['kin'], 'kin', cleartarget=True)\n",
    "#layout.append_figure_to_layer(layout.figures['dist'], 'dist', cleartarget=True)\n",
    "layout.write_svg(template)   \n"
   ]
  },
  {
   "cell_type": "markdown",
   "metadata": {},
   "source": [
    "# Start supplemental figure section"
   ]
  },
  {
   "cell_type": "code",
   "execution_count": 50,
   "metadata": {},
   "outputs": [],
   "source": [
    "s8_template='../figure_first_templates/s8.svg'"
   ]
  },
  {
   "cell_type": "markdown",
   "metadata": {},
   "source": [
    "# Orco Responses from main fig for easier visualization: Upwind Subset"
   ]
  },
  {
   "cell_type": "code",
   "execution_count": 51,
   "metadata": {},
   "outputs": [
    {
     "name": "stdout",
     "output_type": "stream",
     "text": [
      "Function is starting with 123\n",
      "First data pruning step\n",
      "After first step there are 123 trajectories in tact\n",
      "N trajecs in raw panel pos:  66\n",
      "N trajecs in raw panel neg:  57\n",
      "data structure of head_interp_groups is\n",
      "10\n",
      "data structure of head_interp_groups is\n",
      "9\n"
     ]
    },
    {
     "data": {
      "image/png": "[encoded data removed]",
      "text/plain": [
       "<Figure size 432x432 with 2 Axes>"
      ]
     },
     "metadata": {
      "needs_background": "light"
     },
     "output_type": "display_data"
    },
    {
     "data": {
      "image/png": "[encoded data removed]",
      "text/plain": [
       "<Figure size 432x432 with 2 Axes>"
      ]
     },
     "metadata": {
      "needs_background": "light"
     },
     "output_type": "display_data"
    },
    {
     "data": {
      "image/png": "[encoded data removed]",
      "text/plain": [
       "<Figure size 432x432 with 2 Axes>"
      ]
     },
     "metadata": {
      "needs_background": "light"
     },
     "output_type": "display_data"
    },
    {
     "data": {
      "image/png": "[encoded data removed]",
      "text/plain": [
       "<Figure size 432x432 with 2 Axes>"
      ]
     },
     "metadata": {
      "needs_background": "light"
     },
     "output_type": "display_data"
    },
    {
     "data": {
      "image/png": "[encoded data removed]",
      "text/plain": [
       "<Figure size 432x432 with 2 Axes>"
      ]
     },
     "metadata": {
      "needs_background": "light"
     },
     "output_type": "display_data"
    },
    {
     "data": {
      "image/png": "[encoded data removed]",
      "text/plain": [
       "<Figure size 432x432 with 3 Axes>"
      ]
     },
     "metadata": {
      "needs_background": "light"
     },
     "output_type": "display_data"
    },
    {
     "data": {
      "image/png": "[encoded data removed]",
      "text/plain": [
       "<Figure size 432x432 with 2 Axes>"
      ]
     },
     "metadata": {
      "needs_background": "light"
     },
     "output_type": "display_data"
    }
   ],
   "source": [
    "\n",
    "\n",
    "#Return to these cells to print out relevant information for reporting\n",
    "head_pos = []\n",
    "time_pos = []\n",
    "\n",
    "head_neg = []\n",
    "time_neg = []\n",
    "######################################################\n",
    "\n",
    "\n",
    "pos_tt_count =0\n",
    "neg_tt_count =0\n",
    "#Removed Plotting Intermediate for figure NB\n",
    "\n",
    "# fig = plt.figure(figsize=(10,3))\n",
    "# ax1 = fig.add_subplot(121)\n",
    "# ax1.set_xlim(-100, 3000)\n",
    "\n",
    "# ax2 = fig.add_subplot(122)\n",
    "# ax2.set_xlim(-100, 3000)\n",
    "print(\"Function is starting with \" + str(len(uw_orco['obj_id_unique'].unique())))\n",
    "print(\"First data pruning step\")\n",
    "for i in uw_orco['obj_id_unique'].unique():\n",
    "\n",
    "    c=uw_orco[uw_orco['obj_id_unique']==i]\n",
    "    time_vec = c['time stamp'].values\n",
    "    head_vec= c['heading'].values\n",
    "\n",
    "    initial_head = np.median( head_vec[(time_vec>-50)*(time_vec<0)] )\n",
    "    sign = np.sign( initial_head )\n",
    "    #head_vec *= sign\n",
    "    #initial_head *= sign\n",
    "    \n",
    "    # signed ang vel\n",
    "    a = unwrap_angle(c['heading'].values, 5)\n",
    "    smootha, da = pynumdiff.linear_model.savgoldiff(a, dt, [3,5,5])\n",
    "    \n",
    "    \n",
    "    ix_plot = np.where( (time_vec>-50)*(time_vec<3000) )\n",
    "    ix_da = np.where( (time_vec>50)*(time_vec<200) )[0]\n",
    "    if np.mean(da[ix_da]) > 0:\n",
    "        \n",
    "        h, t, breaks = flymath.get_continuous_chunks(head_vec, time_vec, jump=np.pi/2.)\n",
    "        h_flipped = []\n",
    "        for chunk in range(len(h)):\n",
    "            if len(h[chunk]) > 0:\n",
    "                if t[chunk][0] > 0: # if time is after stimulus, consider flipping\n",
    "                    if h[chunk][0] < 0:\n",
    "                        #ax1.plot( np.array(t[chunk]), -1*np.array(h[chunk]), color = 'gray', linewidth = 1.5, alpha =0.15)\n",
    "                        h_flipped = np.hstack((h_flipped, -1*np.array(h[chunk])))\n",
    "                    else:\n",
    "                        #ax1.plot(t[chunk], h[chunk], color = 'gray', linewidth = 1.5, alpha =0.15)\n",
    "                        h_flipped = np.hstack((h_flipped, h[chunk]))\n",
    "                else:\n",
    "                    #ax1.plot(t[chunk], h[chunk], color = 'gray', linewidth = 1.5, alpha =0.15)\n",
    "                    h_flipped = np.hstack((h_flipped, h[chunk]))\n",
    "        \n",
    "        \n",
    "        head_pos.append(h_flipped[ix_plot])\n",
    "        time_pos.append(time_vec[ix_plot])\n",
    "#         x, y =remove_discontinuities(time_vec, h_flipped, jump=np.pi/2)\n",
    "#         ax1.plot(x, y, color = 'gray', linewidth = 1.5, alpha =0.15)\n",
    "    else:\n",
    "        \n",
    "        h, t, breaks = flymath.get_continuous_chunks(head_vec, time_vec, jump=np.pi/2.)\n",
    "        h_flipped = []\n",
    "        for chunk in range(len(h)):\n",
    "            if len(h[chunk]) > 0:\n",
    "                if t[chunk][0] > 0: # if time is after stimulus, consider flipping\n",
    "                    if h[chunk][0] > 0:\n",
    "                        #ax1.plot( np.array(t[chunk]), -1*np.array(h[chunk]), color = 'gray', linewidth = 1.5, alpha =0.15)\n",
    "                        h_flipped = np.hstack((h_flipped, -1*np.array(h[chunk])))\n",
    "                    else:\n",
    "                        #ax1.plot(t[chunk], h[chunk], color = 'gray', linewidth = 1.5, alpha =0.15)\n",
    "                        h_flipped = np.hstack((h_flipped, h[chunk]))\n",
    "                else:\n",
    "                    #ax1.plot(t[chunk], h[chunk], color = 'gray', linewidth = 1.5, alpha =0.15)\n",
    "                    h_flipped = np.hstack((h_flipped, h[chunk]))\n",
    "                    \n",
    "        head_neg.append(h_flipped[ix_plot])\n",
    "        time_neg.append(time_vec[ix_plot])\n",
    "        #x, y =remove_discontinuities(time_vec, h_flipped, jump=np.pi/2)\n",
    "        #ax2.plot(x, y, color = 'gray', linewidth = 1.5, alpha =0.15)\n",
    "\n",
    "        \n",
    "#######################################################################################\n",
    "t_interp = np.arange(-50, 3000, 10)\n",
    "\n",
    "head_pos_interp = []\n",
    "for r in range(len(head_pos)):\n",
    "    head_interp = np.interp(t_interp, time_pos[r], head_pos[r])\n",
    "    head_pos_interp.append(head_interp)\n",
    "    \n",
    "head_neg_interp = []\n",
    "for r in range(len(head_neg)):\n",
    "    head_interp = np.interp(t_interp, time_neg[r], head_neg[r])\n",
    "    head_neg_interp.append(head_interp)\n",
    "head_neg_interp = np.vstack( head_neg_interp )\n",
    "\n",
    "head_pos_interp = np.vstack( head_pos_interp )\n",
    "print(\"After first step there are \" +str(len(head_neg_interp)+len(head_pos_interp))+ \" trajectories in tact\")\n",
    "\n",
    "\n",
    "########################################################################################\n",
    "# group 1 -- flies deviate more than the difference between heading and upwind\n",
    "head_pos_interp_g1 = []\n",
    "head_pos_interp_g0 = []\n",
    "\n",
    "ix = np.where(t_interp < 500)\n",
    "for r in range(head_pos_interp.shape[0]):\n",
    "    h = head_pos_interp[r,:]\n",
    "    if np.max(h[ix]) > (h[0]+0.3925): # <<<< arbitrary\n",
    "        head_pos_interp_g1.append(h)\n",
    "    else:\n",
    "        head_pos_interp_g0.append(h)\n",
    "        \n",
    "head_pos_interp_g1 = np.vstack(head_pos_interp_g1)\n",
    "head_pos_interp_g0 = np.vstack(head_pos_interp_g0)\n",
    "\n",
    "# print(len(head_pos_interp_g1))\n",
    "# print(len(head_pos_interp_g0))\n",
    "# group 1 -- flies deviate more than the difference between heading and upwind\n",
    "head_neg_interp_g1 = []\n",
    "head_neg_interp_g0 = []\n",
    "\n",
    "ix = np.where(t_interp < 500)\n",
    "for r in range(head_neg_interp.shape[0]):\n",
    "    h = head_neg_interp[r,:]\n",
    "    if np.min(h[ix]) < h[0]-0.3925: # <<<< arbitrary\n",
    "        head_neg_interp_g1.append(h)\n",
    "    else:\n",
    "        head_neg_interp_g0.append(h)\n",
    "        \n",
    "head_neg_interp_g1 = np.vstack(head_neg_interp_g1)\n",
    "head_neg_interp_g0 = np.vstack(head_neg_interp_g0)\n",
    "\n",
    "# print(\"Lenght of head neg interp  group 1 vector is \" +str(len(head_neg_interp_g1)))\n",
    "# print(\"Lenght of head neg interp  group 0 vector is \" +str(len(head_neg_interp_g0)))\n",
    "###########################################################################################\n",
    "t_interp = t_interp.astype(float)\n",
    "###########################################################################################\n",
    "\n",
    "#Setting up the upwind axexs for raw plots\n",
    "layout =fifi.svg_to_axes.FigureLayout(s8_template, \n",
    "                                      autogenlayers=True, make_mplfigures=True, hide_layers=[])\n",
    "ax=layout.axes[('orco_uw', 'pos')]\n",
    "ax1= layout.axes[('orco_uw', 'neg')]\n",
    "\n",
    "############################################################################################\n",
    "yticks = [-3.14, -1.57, 0, 1.57, 3.14]\n",
    "#fig, ax = plt.subplots(3, 1, figsize = (3, 8))\n",
    "\n",
    "ax.set_yticklabels([])\n",
    "# plot raw\n",
    "\n",
    "ax.set_xlim(-50, 1000)\n",
    "ax.set_ylim(-3.4, 3.4)\n",
    "ax.plot([0, 675], [3.3, 3.3], color = 'red', linewidth = .5)\n",
    "xticks = [0, 675, 1000]\n",
    "\n",
    "print('N trajecs in raw panel pos: ', head_pos_interp_g1.shape[0] + head_pos_interp_g0.shape[0])\n",
    "print('N trajecs in raw panel neg: ', head_neg_interp_g1.shape[0] + head_neg_interp_g0.shape[0])\n",
    "\n",
    "\n",
    "r = plot_raw_course_single_ax(head_pos_interp_g1, ax,  linewidth=.2, alpha = 0.5,c1=c1, c2 =c2)\n",
    "#anemometric_saccade_info_uwpos, anemotaxis_saccade_info_uwpos, n_with_2_turns_uw_pos, n_without_2_turns_uw_pos = r\n",
    "\n",
    "r2 = plot_raw_course_single_ax(head_neg_interp_g1, ax1, linewidth=.2,alpha = 0.5, direction=None, c1=c1, c2=c2)\n",
    "#anemometric_saccade_info_uwpos, anemotaxis_saccade_info_uwpos, n_with_2_turns_uw_neg, n_without_2_turns_uw_neg = r2\n",
    "\n",
    "#Plot centered isolated turns\n",
    "#r3 = plot_split_trajecs_turn_aligner(head_pos_interp_g1, ax2, ax3, linewidth=.2, alpha = 0.5,c1=c1, c2 =c2)\n",
    "\n",
    "\n",
    "#r4 = plot_split_trajecs_turn_aligner(head_neg_interp_g1, ax2, ax3, linewidth=.2,alpha = 0.5, direction=None, c1=c1, c2=c2)\n",
    "print(\"data structure of head_interp_groups is\")\n",
    "print(len(head_pos_interp_g0))\n",
    "print(\"data structure of head_interp_groups is\")\n",
    "print(len(head_neg_interp_g0))\n",
    "\n",
    "# r = plot_split_trajecs_turn_aligner(head_pos_interp_g1, ax1, ax2)\n",
    "# r2 = plot_split_trajecs_turn_aligner(head_neg_interp_g1, ax1, ax2, direction=None)\n",
    "\n",
    "anemometric_saccade_info_uwpos, anemotaxis_saccade_info_uwpos, n_with_2_turns, n_without_2_turns = r\n",
    "anemometric_saccade_info_uwneg, anemotaxis_saccade_info_uwneg, n_with_2_turns, n_without_2_turns = r2\n",
    "#for r in range(head_pos_interp_g0.shape[0]):\n",
    "#    ax2.plot(t_interp, head_pos_interp_g0[r], linewidth=0.5, color='lightskyblue', alpha=0.5)\n",
    "ax.set_xlim(-50, 1000)\n",
    "ax1.set_xlim(-50, 1000)\n",
    "ax1.set_ylim(-3.4, 3.4)\n",
    "ax1.set_yticklabels([])\n",
    "xticks = [0, 675, 1000]\n",
    "#print('N trajecs in raw panel: ', head_pos_interp_g1.shape[0] + head_pos_interp_g0.shape[0])\n",
    "fifi.mpl_functions.adjust_spines(ax, ['left'], xticks=xticks, yticks=yticks, tick_length=3, linewidth=lw)\n",
    "fifi.mpl_functions.adjust_spines(ax1, ['left'], xticks=xticks, yticks=yticks, tick_length=3, linewidth=lw)\n",
    "\n",
    "\n",
    "xticks = [0, 675, 1000]\n",
    "\n",
    "#####################################################################################################\n",
    "#Plotting leftover trajectoryes\n",
    "for r in range(len(head_neg_interp_g0)):\n",
    "    x, y = remove_discontinuities(t_interp, head_neg_interp_g0[r])\n",
    "    ax1.plot(x, y, color = 'gray', linewidth = .2, alpha =.5)\n",
    "\n",
    "for r in range(len(head_pos_interp_g0)):\n",
    "    x, y = remove_discontinuities(t_interp, head_pos_interp_g0[r])\n",
    "    ax.plot(x, y, color = 'gray', linewidth = .2, alpha =.5)\n",
    "\n",
    "fifi.mpl_functions.set_fontsize(ax, fs)\n",
    "\n",
    "layout.append_figure_to_layer(layout.figures['orco_uw'], 'orco_uw', cleartarget=True)\n",
    "\n",
    "layout.write_svg(s8_template)\n",
    "\n",
    "#\n"
   ]
  },
  {
   "cell_type": "markdown",
   "metadata": {},
   "source": [
    "# Orco Crosswind Subset"
   ]
  },
  {
   "cell_type": "code",
   "execution_count": 6968,
   "metadata": {},
   "outputs": [
    {
     "name": "stdout",
     "output_type": "stream",
     "text": [
      "26\n",
      "8\n",
      "34\n",
      "15\n",
      "N trajecs in raw panel:  34\n",
      "Two Turn Seqs detected = 46\n"
     ]
    },
    {
     "data": {
      "image/png": "[encoded data removed]",
      "text/plain": [
       "<Figure size 432x432 with 2 Axes>"
      ]
     },
     "metadata": {
      "needs_background": "light"
     },
     "output_type": "display_data"
    },
    {
     "data": {
      "image/png": "[encoded data removed]",
      "text/plain": [
       "<Figure size 432x432 with 2 Axes>"
      ]
     },
     "metadata": {
      "needs_background": "light"
     },
     "output_type": "display_data"
    },
    {
     "data": {
      "image/png": "[encoded data removed]",
      "text/plain": [
       "<Figure size 432x432 with 2 Axes>"
      ]
     },
     "metadata": {
      "needs_background": "light"
     },
     "output_type": "display_data"
    },
    {
     "data": {
      "image/png": "[encoded data removed]",
      "text/plain": [
       "<Figure size 432x432 with 2 Axes>"
      ]
     },
     "metadata": {
      "needs_background": "light"
     },
     "output_type": "display_data"
    },
    {
     "data": {
      "image/png": "[encoded data removed]",
      "text/plain": [
       "<Figure size 432x432 with 2 Axes>"
      ]
     },
     "metadata": {
      "needs_background": "light"
     },
     "output_type": "display_data"
    },
    {
     "data": {
      "image/png": "[encoded data removed]",
      "text/plain": [
       "<Figure size 432x432 with 2 Axes>"
      ]
     },
     "metadata": {
      "needs_background": "light"
     },
     "output_type": "display_data"
    },
    {
     "data": {
      "image/png": "[encoded data removed]",
      "text/plain": [
       "<Figure size 432x432 with 2 Axes>"
      ]
     },
     "metadata": {
      "needs_background": "light"
     },
     "output_type": "display_data"
    },
    {
     "data": {
      "image/png": "[encoded data removed]",
      "text/plain": [
       "<Figure size 432x432 with 2 Axes>"
      ]
     },
     "metadata": {
      "needs_background": "light"
     },
     "output_type": "display_data"
    }
   ],
   "source": [
    "head_pos = []\n",
    "time_pos = []\n",
    "\n",
    "head_neg = []\n",
    "time_neg = []\n",
    "\n",
    "#########################################\n",
    "for i in cw_orco['obj_id_unique'].unique():\n",
    "\n",
    "    c=cw_orco[cw_orco['obj_id_unique']==i]\n",
    "    time_vec = c['time stamp'].values\n",
    "    head_vec= c['heading'].values\n",
    "\n",
    "    initial_head = np.median( head_vec[(time_vec>-50)*(time_vec<0)] )\n",
    "    sign = np.sign( initial_head )\n",
    "    head_vec *= sign\n",
    "    initial_head *= sign\n",
    "    \n",
    "    # signed ang vel\n",
    "    a = unwrap_angle(c['heading'].values, 5)\n",
    "    smootha, da = pynumdiff.linear_model.savgoldiff(a, dt, [3,5,5])\n",
    "    \n",
    "    \n",
    "    ix_plot = np.where( (time_vec>-50)*(time_vec<3000) )\n",
    "    ix_da = np.where( (time_vec>50)*(time_vec<200) )[0]\n",
    "    if np.mean(da[ix_da]) > 0:\n",
    "        \n",
    "        h, t, breaks = flymath.get_continuous_chunks(head_vec, time_vec, jump=np.pi/2.)\n",
    "        h_flipped = []\n",
    "        for chunk in range(len(h)):\n",
    "            if len(h[chunk]) > 0:\n",
    "                if t[chunk][0] > 0: # if time is after stimulus, consider flipping\n",
    "                    if h[chunk][0] < 0:\n",
    "                        #ax1.plot( np.array(t[chunk]), -1*np.array(h[chunk]), color = 'gray', linewidth = 1.5, alpha =0.15)\n",
    "                        h_flipped = np.hstack((h_flipped, -1*np.array(h[chunk])))\n",
    "                    else:\n",
    "                        #ax1.plot(t[chunk], h[chunk], color = 'gray', linewidth = 1.5, alpha =0.15)\n",
    "                        h_flipped = np.hstack((h_flipped, h[chunk]))\n",
    "                else:\n",
    "                    #ax1.plot(t[chunk], h[chunk], color = 'gray', linewidth = 1.5, alpha =0.15)\n",
    "                    h_flipped = np.hstack((h_flipped, h[chunk]))\n",
    "        \n",
    "        \n",
    "        head_pos.append(h_flipped[ix_plot])\n",
    "        time_pos.append(time_vec[ix_plot])\n",
    "#         x, y =remove_discontinuities(time_vec, h_flipped, jump=np.pi/2)\n",
    "#         ax1.plot(x, y, color = 'gray', linewidth = 1.5, alpha =0.15)\n",
    "    else:\n",
    "        head_neg.append(head_vec[ix_plot])\n",
    "        time_neg.append(time_vec[ix_plot])\n",
    "#         x, y =remove_discontinuities(time_vec, head_vec, jump=np.pi/2)\n",
    "#         ax2.plot(x, y, color = 'gray', linewidth = 1.5, alpha =0.15)\n",
    "\n",
    "####################################################################################################\n",
    "t_interp = np.arange(-50, 3000, 10)\n",
    "\n",
    "head_pos_interp = []\n",
    "for r in range(len(head_pos)):\n",
    "    head_interp = np.interp(t_interp, time_pos[r], head_pos[r])\n",
    "    head_pos_interp.append(head_interp)\n",
    "    \n",
    "head_neg_interp = []\n",
    "for r in range(len(head_neg)):\n",
    "    head_interp = np.interp(t_interp, time_neg[r], head_neg[r])\n",
    "    head_neg_interp.append(head_interp)\n",
    "head_neg_interp = np.vstack( head_neg_interp )\n",
    "\n",
    "head_pos_interp = np.vstack( head_pos_interp )\n",
    "# group 1 -- flies deviate more than the difference between heading and upwind\n",
    "head_pos_interp_g1 = []\n",
    "head_pos_interp_g0 = []\n",
    "\n",
    "ix = np.where(t_interp < 500)\n",
    "\n",
    "for r in range(head_pos_interp.shape[0]):\n",
    "    h = head_pos_interp[r,:]\n",
    "    if np.max(h[ix]) > (1.57+0.3925): # <<<< arbitrary\n",
    "        head_pos_interp_g1.append(h)\n",
    "    else:\n",
    "        head_pos_interp_g0.append(h)\n",
    "        \n",
    "head_pos_interp_g1 = np.vstack(head_pos_interp_g1)\n",
    "head_pos_interp_g0 = np.vstack(head_pos_interp_g0)\n",
    "\n",
    "print(len(head_pos_interp_g1))\n",
    "print(len(head_pos_interp_g0))\n",
    "# group 1 -- flies deviate more than the difference between heading and upwind\n",
    "head_neg_interp_g1 = []\n",
    "head_neg_interp_g0 = []\n",
    "\n",
    "ix = np.where(t_interp < 500)\n",
    "for r in range(head_neg_interp.shape[0]):\n",
    "    h = head_neg_interp[r,:]\n",
    "    if np.min(h[ix]) < -0.3925: # <<<< arbitrary\n",
    "        head_neg_interp_g1.append(h)\n",
    "    else:\n",
    "        head_neg_interp_g0.append(h)\n",
    "        \n",
    "head_neg_interp_g1 = np.vstack(head_neg_interp_g1)\n",
    "head_neg_interp_g0 = np.vstack(head_neg_interp_g0)\n",
    "\n",
    "print(len(head_neg_interp_g1))\n",
    "print(len(head_neg_interp_g0))\n",
    "\n",
    "##################################################################################\n",
    "t_interp = t_interp.astype(float)\n",
    "##################################################################################\n",
    "layout =fifi.svg_to_axes.FigureLayout(s8_template, \n",
    "                                      autogenlayers=True, make_mplfigures=True, hide_layers=[])\n",
    "ax=layout.axes[('orco_cw', 'pos')]\n",
    "ax1= layout.axes[('orco_cw', 'neg')]\n",
    "\n",
    "\n",
    "##################################################################################\n",
    "yticks = [-3.14, -1.57, 0, 1.57, 3.14]\n",
    "#fig, ax = plt.subplots(3, 1, figsize = (3, 8))\n",
    "ax.set_yticklabels([])\n",
    "ax.set_xlim(-50, 1000)\n",
    "# plot raw\n",
    "# for i in cw_orco['obj_id_unique'].unique():\n",
    "#     c = cw_orco[cw_orco['obj_id_unique']==i]\n",
    "#     x =c['time stamp'].to_numpy()\n",
    "#     y=c['heading'].to_numpy()\n",
    "#     x, y = remove_discontinuities(x, y, jump=np.pi/2)\n",
    "#     ax.plot(x, y, color = 'gray',linewidth = 0.5, alpha = 0.2,  markeredgecolor = None)\n",
    "\n",
    "ax.set_xlim(-50, 1000)\n",
    "ax.set_ylim(-3.14, 3.14)\n",
    "xticks = [0, 675, 1000]\n",
    "\n",
    "ax1.set_xlim(-50, 1000)\n",
    "print('N trajecs in raw panel: ', head_pos_interp_g1.shape[0] + head_pos_interp_g0.shape[0])\n",
    "fifi.mpl_functions.adjust_spines(ax, ['left'], xticks=xticks, yticks=yticks, tick_length=3, linewidth=lw)\n",
    "\n",
    "\n",
    "# plot the broken and leftover trajectories\n",
    "\n",
    "r = plot_raw_course_single_ax(head_pos_interp_g1, ax, c1=c1, c2=c2, alpha = 0.5)\n",
    "r2 = plot_raw_course_single_ax(head_neg_interp_g1, ax1, alpha = 0.5, direction=None, c1=c1, c2= c2)\n",
    "\n",
    "# anemometric_saccade_info_cwpos, anemotaxis_saccade_info_cwpos, n_with_2_turns_cw_pos, n_without_2_turns = r\n",
    "# anemometric_saccade_info_cwneg, anemotaxis_saccade_info_cwneg, n_with_2_turns_cw_neg, n_without_2_turns = r2\n",
    "\n",
    "for r in range(len(head_neg_interp_g0)):\n",
    "    x, y = remove_discontinuities(t_interp, head_neg_interp_g0[r])\n",
    "    ax1.plot(x, y, color = 'gray', linewidth = .2, alpha =.5)\n",
    "\n",
    "for r in range(len(head_pos_interp_g0)):\n",
    "    x, y = remove_discontinuities(t_interp, head_pos_interp_g0[r])\n",
    "    ax.plot(x, y, color = 'gray', linewidth = .2, alpha =.5)\n",
    "\n",
    "\n",
    "\n",
    "#ax1.set_xlim(-150, 150)\n",
    "ax1.set_ylim(-3.4, 3.4)\n",
    "ax1.set_yticklabels([])\n",
    "xticks = [0, 675, 1000]\n",
    "\n",
    "fifi.mpl_functions.adjust_spines(ax1, ['left'], xticks=[], yticks=yticks, linewidth = lw, tick_length=3 )\n",
    "fifi.mpl_functions.adjust_spines(ax2, [], xticks=[], yticks=yticks)\n",
    "fifi.mpl_functions.adjust_spines(ax3, [], xticks=[], yticks=yticks)\n",
    "\n",
    "\n",
    "\n",
    "\n",
    "\n",
    "print(\"Two Turn Seqs detected = \" + str(n_with_2_turns_cw_neg+n_with_2_turns_cw_pos))\n",
    "fifi.mpl_functions.set_fontsize(ax, fs)\n",
    "\n",
    "\n",
    "layout.append_figure_to_layer(layout.figures['orco_cw'], 'orco_cw', cleartarget=True)\n",
    "\n",
    "layout.write_svg(s8_template)\n",
    "#layout.append_figure_to_layer(layout.figures['upwind_pos'], 'upwind_pos', cleartarget=True)\n",
    "#layout.write_svg('anemo_metric_taxis.svg')\n"
   ]
  },
  {
   "cell_type": "markdown",
   "metadata": {},
   "source": [
    "# No wind Orco For Supplement- not in latest figure version"
   ]
  },
  {
   "cell_type": "code",
   "execution_count": 52,
   "metadata": {},
   "outputs": [
    {
     "name": "stdout",
     "output_type": "stream",
     "text": [
      "Starting with n=275\n",
      "dropping short trajec:  909_20220814_165127\n"
     ]
    },
    {
     "name": "stderr",
     "output_type": "stream",
     "text": [
      "/home/flybot/PyNumDiff_ENV/lib/python3.5/site-packages/numpy/core/fromnumeric.py:3335: RuntimeWarning: Mean of empty slice.\n",
      "  out=out, **kwargs)\n",
      "/home/flybot/PyNumDiff_ENV/lib/python3.5/site-packages/numpy/core/_methods.py:161: RuntimeWarning: invalid value encountered in double_scalars\n",
      "  ret = ret.dtype.type(ret / rcount)\n"
     ]
    },
    {
     "name": "stdout",
     "output_type": "stream",
     "text": [
      "dropping short trajec:  27591_20220814_165127\n",
      "dropping short trajec:  5417_20220815_162329\n",
      "dropping short trajec:  45875_20220815_162329\n",
      "dropping short trajec:  1297_20220817_173045\n",
      "dropping short trajec:  3029_20220817_173045\n"
     ]
    },
    {
     "ename": "KeyError",
     "evalue": "('orco_nw', 'pos')",
     "output_type": "error",
     "traceback": [
      "\u001b[0;31m---------------------------------------------------------------------------\u001b[0m",
      "\u001b[0;31mKeyError\u001b[0m                                  Traceback (most recent call last)",
      "\u001b[0;32m<ipython-input-52-fcb4b8e536a8>\u001b[0m in \u001b[0;36m<module>\u001b[0;34m\u001b[0m\n\u001b[1;32m    121\u001b[0m layout =fifi.svg_to_axes.FigureLayout(s8_template,\n\u001b[1;32m    122\u001b[0m                                       autogenlayers=True, make_mplfigures=True, hide_layers=[])\n\u001b[0;32m--> 123\u001b[0;31m \u001b[0max\u001b[0m \u001b[0;34m=\u001b[0m \u001b[0mlayout\u001b[0m\u001b[0;34m.\u001b[0m\u001b[0maxes\u001b[0m\u001b[0;34m[\u001b[0m\u001b[0;34m(\u001b[0m\u001b[0;34m'orco_nw'\u001b[0m\u001b[0;34m,\u001b[0m \u001b[0;34m'pos'\u001b[0m\u001b[0;34m)\u001b[0m\u001b[0;34m]\u001b[0m\u001b[0;34m\u001b[0m\u001b[0m\n\u001b[0m\u001b[1;32m    124\u001b[0m \u001b[0max1\u001b[0m \u001b[0;34m=\u001b[0m \u001b[0mlayout\u001b[0m\u001b[0;34m.\u001b[0m\u001b[0maxes\u001b[0m\u001b[0;34m[\u001b[0m\u001b[0;34m(\u001b[0m\u001b[0;34m'orco_nw'\u001b[0m\u001b[0;34m,\u001b[0m \u001b[0;34m'neg'\u001b[0m\u001b[0;34m)\u001b[0m\u001b[0;34m]\u001b[0m\u001b[0;34m\u001b[0m\u001b[0m\n\u001b[1;32m    125\u001b[0m \u001b[0;34m\u001b[0m\u001b[0m\n",
      "\u001b[0;31mKeyError\u001b[0m: ('orco_nw', 'pos')"
     ]
    },
    {
     "data": {
      "image/png": "[encoded data removed]",
      "text/plain": [
       "<Figure size 432x432 with 2 Axes>"
      ]
     },
     "metadata": {
      "needs_background": "light"
     },
     "output_type": "display_data"
    },
    {
     "data": {
      "image/png": "[encoded data removed]",
      "text/plain": [
       "<Figure size 432x432 with 2 Axes>"
      ]
     },
     "metadata": {
      "needs_background": "light"
     },
     "output_type": "display_data"
    },
    {
     "data": {
      "image/png": "[encoded data removed]",
      "text/plain": [
       "<Figure size 432x432 with 2 Axes>"
      ]
     },
     "metadata": {
      "needs_background": "light"
     },
     "output_type": "display_data"
    },
    {
     "data": {
      "image/png": "[encoded data removed]",
      "text/plain": [
       "<Figure size 432x432 with 2 Axes>"
      ]
     },
     "metadata": {
      "needs_background": "light"
     },
     "output_type": "display_data"
    },
    {
     "data": {
      "image/png": "[encoded data removed]",
      "text/plain": [
       "<Figure size 432x432 with 2 Axes>"
      ]
     },
     "metadata": {
      "needs_background": "light"
     },
     "output_type": "display_data"
    },
    {
     "data": {
      "image/png": "[encoded data removed]",
      "text/plain": [
       "<Figure size 432x432 with 3 Axes>"
      ]
     },
     "metadata": {
      "needs_background": "light"
     },
     "output_type": "display_data"
    },
    {
     "data": {
      "image/png": "[encoded data removed]",
      "text/plain": [
       "<Figure size 432x432 with 2 Axes>"
      ]
     },
     "metadata": {
      "needs_background": "light"
     },
     "output_type": "display_data"
    }
   ],
   "source": [
    "# head_pos = []\n",
    "# time_pos = []\n",
    "# objid_pos = []\n",
    "\n",
    "# head_neg = []\n",
    "# time_neg = []\n",
    "# objid_neg = []\n",
    "# print(\"Starting with n=\" +str(len(nw100['obj_id_unique'].unique())))\n",
    "# ########################################################\n",
    "# for i in nw100['obj_id_unique'].unique():\n",
    "    \n",
    "#     c=nw100[nw100['obj_id_unique']==i]\n",
    "    \n",
    "#     if c.shape[0] < 200:\n",
    "#         print('dropping short trajec: ', i)\n",
    "#         continue\n",
    "        \n",
    "    \n",
    "#     time_vec = c['time stamp'].values\n",
    "#     head_vec= c['heading'].values\n",
    "\n",
    "#     ix_plot = np.where( (time_vec>-200)*(time_vec<3000) )\n",
    "    \n",
    "#     time_vec = time_vec[ix_plot]\n",
    "#     head_vec = head_vec[ix_plot]\n",
    "#     head_vec = unwrap_angle(head_vec, 4)\n",
    "    \n",
    "#     ix = np.where( (time_vec>-50)*(time_vec<0) )\n",
    "#     head_vec -= np.mean(head_vec[ix])\n",
    "#     #head_vec = wrap_angle(head_vec)\n",
    "    \n",
    "#     # signed ang vel\n",
    "#     smootha, da = pynumdiff.linear_model.savgoldiff(head_vec, dt, [3,20,20])\n",
    "    \n",
    "#     ix = np.where( (time_vec>0)*(time_vec<200) )\n",
    "#     if np.mean(da[ix]) > 0:\n",
    "# #         x, y =remove_discontinuities(time_vec, head_vec, jump=np.pi/2)\n",
    "# #         ax1.plot(x, y, color = 'gray', linewidth = 1.5, alpha =0.15)\n",
    "#         head_pos.append(head_vec)\n",
    "#         time_pos.append(time_vec)\n",
    "#         objid_pos.append(i)\n",
    "#     else:\n",
    "# #         x, y =remove_discontinuities(time_vec, head_vec, jump=np.pi/2)\n",
    "# #         ax2.plot(x, y, color = 'gray', linewidth = 1.5, alpha =0.15)\n",
    "#         head_neg.append(head_vec)\n",
    "#         time_neg.append(time_vec)\n",
    "#         objid_neg.append(i)\n",
    "        \n",
    "# #########################################################################\n",
    "# t_interp = np.arange(-50, 1000, 10)\n",
    "\n",
    "# head_pos_interp = []\n",
    "# for r in range(len(head_pos)):\n",
    "#     head_interp = np.interp(t_interp, time_pos[r], head_pos[r])\n",
    "#     ix = np.where(t_interp < np.min(time_pos[r]) )\n",
    "#     head_interp[ix] = np.nan\n",
    "#     ix = np.where(t_interp > np.max(time_pos[r]) )\n",
    "#     head_interp[ix] = np.nan\n",
    "#     head_pos_interp.append(head_interp)\n",
    "    \n",
    "# head_neg_interp = []\n",
    "# for r in range(len(head_neg)):\n",
    "#     head_interp = np.interp(t_interp, time_neg[r], head_neg[r])\n",
    "#     ix = np.where(t_interp < np.min(time_neg[r]) )\n",
    "#     head_interp[ix] = np.nan\n",
    "#     ix = np.where(t_interp > np.max(time_neg[r]) )\n",
    "#     head_interp[ix] = np.nan\n",
    "#     head_neg_interp.append(head_interp)\n",
    "    \n",
    "    \n",
    "# #########################################################################\n",
    "\n",
    "# head_neg_interp = np.vstack( head_neg_interp )\n",
    "# head_pos_interp = np.vstack( head_pos_interp )\n",
    "\n",
    "# ##########################################################################\n",
    "\n",
    "# # group 1 -- flies deviate more than the difference between heading and upwind\n",
    "# head_pos_interp_g1 = []\n",
    "# last_odor_pos_g1 = []\n",
    "# head_pos_interp_g0 = []\n",
    "# last_odor_pos_g0 = []\n",
    "\n",
    "# ix = np.where( (t_interp>-50)*(t_interp < 300) )\n",
    "# for r in range(head_pos_interp.shape[0]):\n",
    "#     c=nw100[nw100['obj_id_unique']==objid_pos[r]]\n",
    "#     h = head_pos_interp[r,:]\n",
    "#     if np.max(h[ix]) > (0.3925): # <<<< arbitrary\n",
    "#         head_pos_interp_g1.append(h)\n",
    "#         last_odor_pos_g1.append(c.last_flash.mean())\n",
    "#     else:\n",
    "#         head_pos_interp_g0.append(h)\n",
    "#         last_odor_pos_g0.append(c.last_flash.mean())\n",
    "        \n",
    "# head_pos_interp_g1 = np.vstack(head_pos_interp_g1)\n",
    "# head_pos_interp_g0 = np.vstack(head_pos_interp_g0)\n",
    "\n",
    "# # print(len(head_pos_interp_g1))\n",
    "# # print(len(head_pos_interp_g0))\n",
    "# #########################################################################\n",
    "\n",
    "\n",
    "# head_neg_interp_g1 = []\n",
    "# head_neg_interp_g0 = []\n",
    "\n",
    "# ix = np.where( (t_interp>-50)*(t_interp < 300) )\n",
    "# for r in range(head_neg_interp.shape[0]):\n",
    "#     h = head_neg_interp[r,:]\n",
    "#     if np.min(h[ix]) < -0.3925: # <<<< arbitrary\n",
    "#         head_neg_interp_g1.append(h)\n",
    "#     else:\n",
    "#         head_neg_interp_g0.append(h)\n",
    "        \n",
    "# head_neg_interp_g1 = np.vstack(head_neg_interp_g1)\n",
    "# head_neg_interp_g0 = np.vstack(head_neg_interp_g0)\n",
    "\n",
    "\n",
    "# ###########################################################################\n",
    "# t_interp = t_interp.astype(float)\n",
    "# ###########################################################################\n",
    "# layout =fifi.svg_to_axes.FigureLayout(s8_template,\n",
    "#                                       autogenlayers=True, make_mplfigures=True, hide_layers=[])\n",
    "# ax = layout.axes[('orco_nw', 'pos')]\n",
    "# ax1 = layout.axes[('orco_nw', 'neg')]\n",
    "\n",
    "# ############################################################################\n",
    "\n",
    "# for r in range(len(head_neg_interp_g0)):\n",
    "#     x, y = remove_discontinuities(t_interp, head_neg_interp_g0[r])\n",
    "#     ax1.plot(x, y, color = 'gray', linewidth = .2, alpha =.4)\n",
    "\n",
    "# for r in range(len(head_pos_interp_g0)):\n",
    "#     x, y = remove_discontinuities(t_interp, head_pos_interp_g0[r])\n",
    "#     ax.plot(x, y, color = 'gray', linewidth = .2, alpha =.4)\n",
    "\n",
    "# ax.set_xlim(-50, 1000)\n",
    "# ax.set_ylim(-4, 4)\n",
    "# xticks = [0, 675, 1000]\n",
    "# ax.set_yticklabels([])\n",
    "# print('N trajecs in raw panel: ', head_pos_interp_g1.shape[0] + head_pos_interp_g0.shape[0])\n",
    "# fifi.mpl_functions.adjust_spines(ax, ['left'], xticks=xticks, yticks=yticks)\n",
    "\n",
    "\n",
    "# r = plot_raw_trajecs_single_axis_no_wind(head_pos_interp_g1, ax, linewidth=.2, alpha = 0.6,cnw=cnw)\n",
    "# anemometric_saccade_info_nwpos, n_with_1_turn_nw_pos, n_without_1_turn = r\n",
    "# r2 = plot_raw_trajecs_single_axis_no_wind(head_neg_interp_g1, ax1, linewidth=.2, alpha = 0.6,cnw=cnw, direction=None)\n",
    "# anemometric_saccade_info_nwneg, n_with_1_turn_nw_neg, n_without_1_turn = r2\n",
    "\n",
    "# ax1.set_xlim(-50, 1000)\n",
    "# ax1.set_ylim(-4, 4)\n",
    "# xticks = [0, 675, 1000]\n",
    "\n",
    "# ax1.set_yticklabels([])\n",
    "\n",
    "\n",
    "\n",
    "# fifi.mpl_functions.set_fontsize(ax, 5)\n",
    "\n",
    "\n",
    "# ax.set_xlim(-50, 1000)\n",
    "# ax.set_ylim(-4, 4)\n",
    "# xticks = [0, 675, 1000]\n",
    "\n",
    "# print('N trajecs in raw panel: ', head_neg_interp_g1.shape[0] + head_neg_interp_g0.shape[0])\n",
    "\n",
    "\n",
    "\n",
    "# ax1.set_xlim(-50, 1000)\n",
    "# ax1.set_ylim(-4, 4)\n",
    "# xticks = [0, 675, 1000]\n",
    "\n",
    "# #print('N trajecs in raw panel: ', head_neg_interp_g1.shape[0] + head_neg_interp_g0.shape[0])\n",
    "# fifi.mpl_functions.adjust_spines(ax, ['left'], xticks=[], yticks=yticks, tick_length=3, linewidth = lw)\n",
    "# fifi.mpl_functions.adjust_spines(ax1, ['left'], xticks=[], yticks=yticks, tick_length =3, linewidth = lw)\n",
    "\n",
    "\n",
    "# #ax2.set_xlim(-50, 1000)\n",
    "# #ax2.set_ylim(-4, 4)\n",
    "\n",
    "# print(\"No wind course change count = \" +str(n_with_1_turn_nw_neg +n_with_1_turn_nw_pos))\n",
    "# ##########################################################################\n",
    "# layout.append_figure_to_layer(layout.figures['orco_nw'], 'orco_nw', cleartarget=True)\n",
    "\n",
    "# layout.write_svg(s8_template)\n"
   ]
  },
  {
   "cell_type": "markdown",
   "metadata": {},
   "source": [
    "# No wind Orco shams for baseline turn probability based on the algorithm\n",
    "# Not in final Version"
   ]
  },
  {
   "cell_type": "code",
   "execution_count": 53,
   "metadata": {},
   "outputs": [],
   "source": [
    "# head_pos = []\n",
    "# time_pos = []\n",
    "# objid_pos = []\n",
    "\n",
    "# head_neg = []\n",
    "# time_neg = []\n",
    "# objid_neg = []\n",
    "# print(\"Starting with n=\" +str(len(nw0['obj_id_unique'].unique())))\n",
    "# ########################################################\n",
    "# for i in nw0['obj_id_unique'].unique():\n",
    "    \n",
    "#     c=nw0[nw0['obj_id_unique']==i]\n",
    "    \n",
    "#     if c.shape[0] < 200:\n",
    "#         print('dropping short trajec: ', i)\n",
    "#         continue\n",
    "        \n",
    "    \n",
    "#     time_vec = c['time stamp'].values\n",
    "#     head_vec= c['heading'].values\n",
    "\n",
    "#     ix_plot = np.where( (time_vec>-200)*(time_vec<3000) )\n",
    "    \n",
    "#     time_vec = time_vec[ix_plot]\n",
    "#     head_vec = head_vec[ix_plot]\n",
    "#     head_vec = unwrap_angle(head_vec, 4)\n",
    "    \n",
    "#     ix = np.where( (time_vec>-50)*(time_vec<0) )\n",
    "#     head_vec -= np.mean(head_vec[ix])\n",
    "#     #head_vec = wrap_angle(head_vec)\n",
    "    \n",
    "#     # signed ang vel\n",
    "#     smootha, da = pynumdiff.linear_model.savgoldiff(head_vec, dt, [3,20,20])\n",
    "    \n",
    "#     ix = np.where( (time_vec>0)*(time_vec<200) )\n",
    "#     if np.mean(da[ix]) > 0:\n",
    "# #         x, y =remove_discontinuities(time_vec, head_vec, jump=np.pi/2)\n",
    "# #         ax1.plot(x, y, color = 'gray', linewidth = 1.5, alpha =0.15)\n",
    "#         head_pos.append(head_vec)\n",
    "#         time_pos.append(time_vec)\n",
    "#         objid_pos.append(i)\n",
    "#     else:\n",
    "# #         x, y =remove_discontinuities(time_vec, head_vec, jump=np.pi/2)\n",
    "# #         ax2.plot(x, y, color = 'gray', linewidth = 1.5, alpha =0.15)\n",
    "#         head_neg.append(head_vec)\n",
    "#         time_neg.append(time_vec)\n",
    "#         objid_neg.append(i)\n",
    "        \n",
    "# #########################################################################\n",
    "# t_interp = np.arange(-50, 1000, 10)\n",
    "\n",
    "# head_pos_interp = []\n",
    "# for r in range(len(head_pos)):\n",
    "#     head_interp = np.interp(t_interp, time_pos[r], head_pos[r])\n",
    "#     ix = np.where(t_interp < np.min(time_pos[r]) )\n",
    "#     head_interp[ix] = np.nan\n",
    "#     ix = np.where(t_interp > np.max(time_pos[r]) )\n",
    "#     head_interp[ix] = np.nan\n",
    "#     head_pos_interp.append(head_interp)\n",
    "    \n",
    "# head_neg_interp = []\n",
    "# for r in range(len(head_neg)):\n",
    "#     head_interp = np.interp(t_interp, time_neg[r], head_neg[r])\n",
    "#     ix = np.where(t_interp < np.min(time_neg[r]) )\n",
    "#     head_interp[ix] = np.nan\n",
    "#     ix = np.where(t_interp > np.max(time_neg[r]) )\n",
    "#     head_interp[ix] = np.nan\n",
    "#     head_neg_interp.append(head_interp)\n",
    "    \n",
    "    \n",
    "# #########################################################################\n",
    "\n",
    "# head_neg_interp = np.vstack( head_neg_interp )\n",
    "# head_pos_interp = np.vstack( head_pos_interp )\n",
    "\n",
    "# ##########################################################################\n",
    "\n",
    "# # group 1 -- flies deviate more than the difference between heading and upwind\n",
    "# head_pos_interp_g1 = []\n",
    "# last_odor_pos_g1 = []\n",
    "# head_pos_interp_g0 = []\n",
    "# last_odor_pos_g0 = []\n",
    "\n",
    "# ix = np.where( (t_interp>-50)*(t_interp < 200) )\n",
    "# for r in range(head_pos_interp.shape[0]):\n",
    "#     c=nw100[nw100['obj_id_unique']==objid_pos[r]]\n",
    "#     h = head_pos_interp[r,:]\n",
    "#     if np.max(h[ix]) > (0.3925): # <<<< arbitrary\n",
    "#         head_pos_interp_g1.append(h)\n",
    "#         last_odor_pos_g1.append(c.last_flash.mean())\n",
    "#     else:\n",
    "#         head_pos_interp_g0.append(h)\n",
    "#         last_odor_pos_g0.append(c.last_flash.mean())\n",
    "        \n",
    "# head_pos_interp_g1 = np.vstack(head_pos_interp_g1)\n",
    "# head_pos_interp_g0 = np.vstack(head_pos_interp_g0)\n",
    "\n",
    "# # print(len(head_pos_interp_g1))\n",
    "# # print(len(head_pos_interp_g0))\n",
    "# #########################################################################\n",
    "\n",
    "\n",
    "# head_neg_interp_g1 = []\n",
    "# head_neg_interp_g0 = []\n",
    "\n",
    "# ix = np.where( (t_interp>-50)*(t_interp < 200) )\n",
    "# for r in range(head_neg_interp.shape[0]):\n",
    "#     h = head_neg_interp[r,:]\n",
    "#     if np.min(h[ix]) < -0.3925: # <<<< arbitrary\n",
    "#         head_neg_interp_g1.append(h)\n",
    "#     else:\n",
    "#         head_neg_interp_g0.append(h)\n",
    "        \n",
    "# head_neg_interp_g1 = np.vstack(head_neg_interp_g1)\n",
    "# head_neg_interp_g0 = np.vstack(head_neg_interp_g0)\n",
    "\n",
    "\n",
    "# ###########################################################################\n",
    "# t_interp = t_interp.astype(float)\n",
    "# ###########################################################################\n",
    "# fig, ax_= plt.subplots(2, 1, figsize= (4, 4))\n",
    "# ax=ax_[0]\n",
    "# ax1=ax_[1]\n",
    "# ############################################################################\n",
    "\n",
    "# for r in range(len(head_neg_interp_g0)):\n",
    "#     x, y = remove_discontinuities(t_interp, head_neg_interp_g0[r])\n",
    "#     ax1.plot(x, y, color = 'gray', linewidth = .2, alpha =.4)\n",
    "\n",
    "# for r in range(len(head_pos_interp_g0)):\n",
    "#     x, y = remove_discontinuities(t_interp, head_pos_interp_g0[r])\n",
    "#     ax.plot(x, y, color = 'gray', linewidth = .2, alpha =.4)\n",
    "\n",
    "# ax.set_xlim(-50, 1000)\n",
    "# ax.set_ylim(-4, 4)\n",
    "# xticks = [0, 675, 1000]\n",
    "# ax.set_yticklabels([])\n",
    "# print('N trajecs in raw panel: ', head_pos_interp_g1.shape[0] + head_pos_interp_g0.shape[0])\n",
    "# fifi.mpl_functions.adjust_spines(ax, ['left'], xticks=xticks, yticks=yticks)\n",
    "\n",
    "\n",
    "# r = plot_raw_trajecs_single_axis_no_wind(head_pos_interp_g1, ax, linewidth=.2, alpha = 0.6,cnw=cnw)\n",
    "# anemometric_saccade_info_nwpos, n_with_1_turn_nw_pos, n_without_1_turn = r\n",
    "# r2 = plot_raw_trajecs_single_axis_no_wind(head_neg_interp_g1, ax1, linewidth=.2, alpha = 0.6,cnw=cnw, direction=None)\n",
    "# anemometric_saccade_info_nwneg, n_with_1_turn_nw_neg, n_without_1_turn = r2\n",
    "\n",
    "# ax1.set_xlim(-50, 1000)\n",
    "# ax1.set_ylim(-4, 4)\n",
    "# xticks = [0, 675, 1000]\n",
    "\n",
    "# ax1.set_yticklabels([])\n",
    "\n",
    "\n",
    "\n",
    "# fifi.mpl_functions.set_fontsize(ax, 5)\n",
    "\n",
    "\n",
    "# ax.set_xlim(-50, 1000)\n",
    "# ax.set_ylim(-4, 4)\n",
    "# xticks = [0, 675, 1000]\n",
    "\n",
    "# print('N trajecs in raw panel: ', head_neg_interp_g1.shape[0] + head_neg_interp_g0.shape[0])\n",
    "\n",
    "\n",
    "\n",
    "# ax1.set_xlim(-50, 1000)\n",
    "# ax1.set_ylim(-4, 4)\n",
    "# xticks = [0, 675, 1000]\n",
    "\n",
    "# #print('N trajecs in raw panel: ', head_neg_interp_g1.shape[0] + head_neg_interp_g0.shape[0])\n",
    "# fifi.mpl_functions.adjust_spines(ax, ['left'], xticks=[], yticks=yticks, tick_length=3, linewidth = lw)\n",
    "# fifi.mpl_functions.adjust_spines(ax1, ['left'], xticks=[], yticks=yticks, tick_length =3, linewidth = lw)\n",
    "\n",
    "\n",
    "# #ax2.set_xlim(-50, 1000)\n",
    "# #ax2.set_ylim(-4, 4)\n",
    "\n",
    "# print(\"No wind course change count = \" +str(n_with_1_turn_nw_neg +n_with_1_turn_nw_pos))\n",
    "# ##########################################################################\n",
    "# # layout.append_figure_to_layer(layout.figures['orco_nw'], 'orco_nw', cleartarget=True)\n",
    "\n",
    "# # layout.write_svg(supp_path + 'startle_control.svg')\n"
   ]
  },
  {
   "cell_type": "markdown",
   "metadata": {},
   "source": [
    "# Wild type flies control to show pre-turn isnt a visually mediated startle response"
   ]
  },
  {
   "cell_type": "code",
   "execution_count": 55,
   "metadata": {},
   "outputs": [],
   "source": [
    "wt=pd.read_csv('../trimmed_data/main/wild_type_laminar_merged.csv')"
   ]
  },
  {
   "cell_type": "code",
   "execution_count": 56,
   "metadata": {},
   "outputs": [],
   "source": [
    "wt=wt[wt['time stamp'].between(-100, 5000)]\n",
    "wt['ground speed']=(wt['xvel']**2+wt['yvel']**2)**.5\n",
    "#get only subsret that recieved a flash\n",
    "wt100=wt[wt['duration']==100]\n",
    "holder_vec =[]\n",
    "#longer trajectories only\n",
    "for i in wt100['obj_id_unique'].unique():\n",
    "    d =wt100[wt100['obj_id_unique']==i]\n",
    "    if d['time stamp'].max()>1680:\n",
    "        holder_vec.append(d)\n",
    "wt100=pd.concat(holder_vec)"
   ]
  },
  {
   "cell_type": "code",
   "execution_count": 57,
   "metadata": {},
   "outputs": [],
   "source": [
    "#split wild type data into similar, upwind, crosswind, and downwind data sets\n",
    "wt100['abs ang vel']=np.abs(wt100['theta dot smooth'])\n",
    "cw=[]\n",
    "uw=[]\n",
    "dw=[]\n",
    "for i in wt100['obj_id_unique'].unique():\n",
    "    d =wt100[wt100['obj_id_unique']==i]\n",
    "    ind=np.where(d['time stamp']==0)[0][0]\n",
    "    o=np.abs(d['heading'].iloc[ind])\n",
    "    #print(o)\n",
    "    if o<=np.pi/4:\n",
    "        uw.append(i)\n",
    "    if o> np.pi/4 and o <=(3.*np.pi/4):\n",
    "        cw.append(i)\n",
    "    elif o >(3.*np.pi/4):\n",
    "        dw.append(i)\n",
    "\n",
    "\n",
    "#Subslice the laminar wind data set        \n",
    "cw_wt=wt100[wt100['obj_id_unique'].isin(cw)]\n",
    "uw_wt=wt100[wt100['obj_id_unique'].isin(uw)]\n",
    "dw_wt=wt100[wt100['obj_id_unique'].isin(dw)]\n"
   ]
  },
  {
   "cell_type": "markdown",
   "metadata": {},
   "source": [
    "# CsChrimson Heterozygotes to compare"
   ]
  },
  {
   "cell_type": "code",
   "execution_count": 64,
   "metadata": {},
   "outputs": [],
   "source": [
    "u1wt=pd.read_csv('../trimmed_data/supp/CsChrimson_hets.csv')"
   ]
  },
  {
   "cell_type": "code",
   "execution_count": 65,
   "metadata": {},
   "outputs": [],
   "source": [
    "u1wt100=u1wt[u1wt['duration']==100]\n",
    "cw=[]\n",
    "uw=[]\n",
    "dw=[]\n",
    "for i in u1wt100['obj_id_unique'].unique():\n",
    "    d =u1wt100[u1wt100['obj_id_unique']==i]\n",
    "    if d['time stamp'].max()>1680:\n",
    "        ind=np.where(d['time stamp']==0)[0][0]\n",
    "        o=np.abs(d['heading'].iloc[ind])\n",
    "    #print(o)\n",
    "        if o<=np.pi/4:\n",
    "            uw.append(i)\n",
    "        if o> np.pi/4 and o <=(3.*np.pi/4):\n",
    "            cw.append(i)\n",
    "        elif o >(3.*np.pi/4):\n",
    "            dw.append(i)\n",
    "\n",
    "\n",
    "#Subslice the laminar wind data set        \n",
    "cw_u1wt=u1wt100[u1wt100['obj_id_unique'].isin(cw)]\n",
    "uw_u1wt=u1wt100[u1wt100['obj_id_unique'].isin(uw)]\n",
    "dw_u1wt=u1wt100[u1wt100['obj_id_unique'].isin(dw)]\n"
   ]
  },
  {
   "cell_type": "markdown",
   "metadata": {},
   "source": [
    "# New function only detects turns that would meet \"anemometric saccade\" requirements, does not require a second saccade."
   ]
  },
  {
   "cell_type": "code",
   "execution_count": 59,
   "metadata": {},
   "outputs": [],
   "source": [
    "#Making a separate function just to detect sharp course changes, the other code requires two saccades\n",
    "def plot_raw_course_single_ax_wt(head_pos_interp_g1, ax1,c_base ='gray',c1 =c1, c2=c2, direction='pos', linewidth=0.2, alpha =0.4):\n",
    "\n",
    "    threshold = 0.004\n",
    "    dt = 10\n",
    "    \n",
    "    #fig = plt.figure(figsize=(10,3))\n",
    "    #ax1 = fig.add_subplot(121)\n",
    "    #ax1.set_xlim(-500, 3000)\n",
    "\n",
    "    #ax2 = fig.add_subplot(122)\n",
    "    #ax2.set_xlim(-100, 3000)\n",
    "\n",
    "    n_with_2_turns = 0\n",
    "    n_without_2_turns = 0\n",
    "\n",
    "    anemometric_saccade_info = {'peak_angular_velocity': [],\n",
    "                                'amplitude': [],\n",
    "                                'duration': [],\n",
    "                                'end_point': [],\n",
    "                                'start_point': []}\n",
    "\n",
    "    anemotaxis_saccade_info = { 'peak_angular_velocity': [],\n",
    "                                'amplitude': [],\n",
    "                                'duration': [],\n",
    "                                'end_point': [],\n",
    "                                'start_point': []}\n",
    "\n",
    "    for r in range(len(head_pos_interp_g1)):\n",
    "        if direction == 'pos':\n",
    "            a = unwrap_angle(head_pos_interp_g1[r] - np.pi, 5)\n",
    "        else:\n",
    "            a = unwrap_angle(head_pos_interp_g1[r] + np.pi, 5)\n",
    "        smootha, da = pynumdiff.linear_model.savgoldiff(a, dt, [3,10,10])\n",
    "        rawsmootha, rawda = pynumdiff.linear_model.savgoldiff(a, dt, [3,4,4]) #pynumdiff.finite_difference.first_order(a, dt)\n",
    "        \n",
    "        # anemometric\n",
    "        if direction == 'pos':\n",
    "            p = scipy.signal.find_peaks_cwt(da, [4, 8])\n",
    "        else:\n",
    "            p = scipy.signal.find_peaks_cwt(-1*da, [4, 8])\n",
    "            \n",
    "        last_ix = np.where(t_interp<450)[0][-1]\n",
    "        first_ix = np.where(t_interp>10)[0][0]\n",
    "        p = p[ (p<last_ix)*(p>first_ix)]\n",
    "        if len(p)>0:\n",
    "            ix_anemometric = p[0]\n",
    "\n",
    "        if direction == 'pos':\n",
    "            chunks, breaks = flymath.get_continuous_chunks( np.where(da>threshold)[0] )\n",
    "        else:\n",
    "            chunks, breaks = flymath.get_continuous_chunks( np.where(da<-1*threshold)[0] )\n",
    "        anemometric_saccade = None\n",
    "        for chunk in chunks:\n",
    "            if ix_anemometric in chunk:\n",
    "                anemometric_saccade = chunk\n",
    "                break\n",
    "\n",
    "        \n",
    "\n",
    "        # anemotaxis\n",
    "        if direction == 'pos':\n",
    "            p = scipy.signal.find_peaks_cwt(-1*da, [4, 8])\n",
    "        else:\n",
    "            p = scipy.signal.find_peaks_cwt(da, [4, 8])\n",
    "        first_ix = ix_anemometric\n",
    "        last_ix = np.where(t_interp<750)[0][-1]\n",
    "        p = p[ (p>first_ix)*(p<last_ix)]\n",
    "        ix_anemotaxis = p[0]\n",
    "\n",
    "        if direction == 'pos':\n",
    "            chunks, breaks = flymath.get_continuous_chunks( np.where(da<-1*threshold)[0] )\n",
    "        else:\n",
    "            chunks, breaks = flymath.get_continuous_chunks( np.where(da>threshold)[0] )\n",
    "        anemotaxis_saccade = None\n",
    "        for chunk in chunks:\n",
    "            if ix_anemotaxis in chunk:\n",
    "                anemotaxis_saccade = chunk\n",
    "                break\n",
    "\n",
    "        if anemometric_saccade is not None:\n",
    "            peak = np.max( np.abs(rawda[anemometric_saccade]) )\n",
    "            amplitude = (np.cumsum(rawda[anemometric_saccade])*dt)[-1]\n",
    "            duration = t_interp[anemometric_saccade][-1] - t_interp[anemometric_saccade][0]\n",
    "            end_point = head_pos_interp_g1[r][anemometric_saccade][-1]\n",
    "            start_point = head_pos_interp_g1[r][anemometric_saccade][0]\n",
    "            anemometric_saccade_info['peak_angular_velocity'].append( np.abs(peak) )\n",
    "            anemometric_saccade_info['amplitude'].append(amplitude)\n",
    "            anemometric_saccade_info['duration'].append(duration)\n",
    "            anemometric_saccade_info['end_point'].append(end_point)\n",
    "            anemometric_saccade_info['start_point'].append(start_point)\n",
    "            \n",
    "#             peak = np.max( np.abs(rawda[anemotaxis_saccade]) )\n",
    "#             amplitude = (np.cumsum(rawda[anemotaxis_saccade])*dt)[-1]\n",
    "#             duration = t_interp[anemotaxis_saccade][-1] - t_interp[anemotaxis_saccade][0]\n",
    "#             end_point = head_pos_interp_g1[r][anemotaxis_saccade][-1]\n",
    "#             start_point = head_pos_interp_g1[r][anemotaxis_saccade][0]\n",
    "\n",
    "#             anemotaxis_saccade_info['peak_angular_velocity'].append(np.abs(peak))\n",
    "#             anemotaxis_saccade_info['amplitude'].append(amplitude)\n",
    "#             anemotaxis_saccade_info['duration'].append(duration)\n",
    "#             anemotaxis_saccade_info['end_point'].append(end_point)\n",
    "#             anemotaxis_saccade_info['start_point'].append(start_point)\n",
    "        #ix_middle = int( (ix_anemotaxis - ix_anemometric)/2) + ix_anemometric\n",
    "        #ax1.plot(t_interp[ixp], head_pos_interp_g1[r][ixp], '*')\n",
    "\n",
    "\n",
    "\n",
    "        if anemometric_saccade is not None:\n",
    "            n_with_2_turns += 1\n",
    "\n",
    "            # before anemometric\n",
    "            t_plot = t_interp[0:anemometric_saccade[0]]\n",
    "            h_plot = head_pos_interp_g1[r][0:anemometric_saccade[0]]\n",
    "            x, y = remove_discontinuities(t_plot, h_plot)\n",
    "            ax1.plot(x, y, color = c_base, linewidth = linewidth, alpha =alpha)\n",
    "\n",
    "            # anemometric\n",
    "            t_plot = t_interp[anemometric_saccade]\n",
    "            h_plot = head_pos_interp_g1[r][anemometric_saccade]\n",
    "            x, y = remove_discontinuities(t_plot, h_plot)\n",
    "            ax1.plot(x, y, color = c1, linewidth = linewidth, alpha =alpha)\n",
    "\n",
    "             # rest of trajectory\n",
    "            t_plot = t_interp[anemometric_saccade[-1]:]\n",
    "            h_plot = head_pos_interp_g1[r][anemometric_saccade[-1]:]\n",
    "            x, y = remove_discontinuities(t_plot, h_plot)\n",
    "            ax1.plot(x, y, color = c_base, linewidth = linewidth, alpha =alpha)\n",
    "\n",
    "#             # anemotaxis\n",
    "#             t_plot = t_interp[anemotaxis_saccade]\n",
    "#             h_plot = head_pos_interp_g1[r][anemotaxis_saccade]\n",
    "#             x, y = remove_discontinuities(t_plot, h_plot)\n",
    "#             ax1.plot(x, y, color = c2, linewidth = linewidth, alpha =alpha)\n",
    "\n",
    "#             # after anemotaxis\n",
    "#             t_plot = t_interp[anemotaxis_saccade[-1]:] \n",
    "#             h_plot = head_pos_interp_g1[r][anemotaxis_saccade[-1]:]\n",
    "#             x, y = remove_discontinuities(t_plot, h_plot)\n",
    "#             ax1.plot(x, y, color = c_base, linewidth = linewidth, alpha =0.5)\n",
    "\n",
    "        else:\n",
    "            #print(r)\n",
    "            n_without_2_turns += 1\n",
    "            x, y = remove_discontinuities(t_interp, head_pos_interp_g1[r])\n",
    "            ax1.plot(x, y, color = c_base, linewidth = linewidth, alpha =alpha)\n",
    "    #ax1.plot(t_interp, np.mean(head_pos_interp_g1, axis=0), color='red')\n",
    "\n",
    "    #print(n_with_2_turns)\n",
    "    #print(n_without_2_turns)\n",
    "\n",
    "    return \n",
    "\n",
    "def mean_angle(angle, axis=0):\n",
    "    return np.arctan2(np.nanmean(np.sin(angle), axis=axis), np.nanmean(np.cos(angle), axis=axis))"
   ]
  },
  {
   "cell_type": "markdown",
   "metadata": {},
   "source": [
    "# Wild type upwind controls\n"
   ]
  },
  {
   "cell_type": "code",
   "execution_count": 60,
   "metadata": {},
   "outputs": [
    {
     "name": "stdout",
     "output_type": "stream",
     "text": [
      "First data pruning step\n"
     ]
    },
    {
     "name": "stderr",
     "output_type": "stream",
     "text": [
      "/home/flybot/PyNumDiff_ENV/lib/python3.5/site-packages/numpy/core/fromnumeric.py:3335: RuntimeWarning: Mean of empty slice.\n",
      "  out=out, **kwargs)\n",
      "/home/flybot/PyNumDiff_ENV/lib/python3.5/site-packages/numpy/core/_methods.py:161: RuntimeWarning: invalid value encountered in double_scalars\n",
      "  ret = ret.dtype.type(ret / rcount)\n"
     ]
    },
    {
     "name": "stdout",
     "output_type": "stream",
     "text": [
      "After first step there are 229 trajectories in tact\n",
      "N trajecs in raw panel pos:  101\n",
      "N trajecs in raw panel neg:  128\n",
      "data structure of head_interp_groups is\n",
      "37\n",
      "data structure of head_interp_groups is\n",
      "47\n"
     ]
    },
    {
     "data": {
      "image/png": "[encoded data removed]",
      "text/plain": [
       "<Figure size 432x432 with 2 Axes>"
      ]
     },
     "metadata": {
      "needs_background": "light"
     },
     "output_type": "display_data"
    },
    {
     "data": {
      "image/png": "[encoded data removed]",
      "text/plain": [
       "<Figure size 432x432 with 2 Axes>"
      ]
     },
     "metadata": {
      "needs_background": "light"
     },
     "output_type": "display_data"
    },
    {
     "data": {
      "image/png": "[encoded data removed]",
      "text/plain": [
       "<Figure size 432x432 with 2 Axes>"
      ]
     },
     "metadata": {
      "needs_background": "light"
     },
     "output_type": "display_data"
    },
    {
     "data": {
      "image/png": "[encoded data removed]",
      "text/plain": [
       "<Figure size 432x432 with 2 Axes>"
      ]
     },
     "metadata": {
      "needs_background": "light"
     },
     "output_type": "display_data"
    },
    {
     "data": {
      "image/png": "[encoded data removed]",
      "text/plain": [
       "<Figure size 432x432 with 2 Axes>"
      ]
     },
     "metadata": {
      "needs_background": "light"
     },
     "output_type": "display_data"
    },
    {
     "data": {
      "image/png": "[encoded data removed]",
      "text/plain": [
       "<Figure size 432x432 with 3 Axes>"
      ]
     },
     "metadata": {
      "needs_background": "light"
     },
     "output_type": "display_data"
    },
    {
     "data": {
      "image/png": "[encoded data removed]",
      "text/plain": [
       "<Figure size 432x432 with 2 Axes>"
      ]
     },
     "metadata": {
      "needs_background": "light"
     },
     "output_type": "display_data"
    }
   ],
   "source": [
    "\n",
    "\n",
    "#Return to these cells to print out relevant information for reporting\n",
    "head_pos = []\n",
    "time_pos = []\n",
    "\n",
    "head_neg = []\n",
    "time_neg = []\n",
    "######################################################\n",
    "\n",
    "\n",
    "pos_tt_count =0\n",
    "neg_tt_count =0\n",
    "#Removed Plotting Intermediate for figure NB\n",
    "\n",
    "# fig = plt.figure(figsize=(10,3))\n",
    "# ax1 = fig.add_subplot(121)\n",
    "# ax1.set_xlim(-100, 3000)\n",
    "\n",
    "# ax2 = fig.add_subplot(122)\n",
    "# ax2.set_xlim(-100, 3000)\n",
    "\n",
    "print(\"First data pruning step\")\n",
    "for i in uw_wt['obj_id_unique'].unique():\n",
    "\n",
    "    c=uw_wt[uw_wt['obj_id_unique']==i]\n",
    "    time_vec = c['time stamp'].values\n",
    "    head_vec= c['heading'].values\n",
    "\n",
    "    initial_head = np.median( head_vec[(time_vec>-50)*(time_vec<0)] )\n",
    "    sign = np.sign( initial_head )\n",
    "    #head_vec *= sign\n",
    "    #initial_head *= sign\n",
    "    \n",
    "    # signed ang vel\n",
    "    a = unwrap_angle(c['heading'].values, 5)\n",
    "    smootha, da = pynumdiff.linear_model.savgoldiff(a, dt, [3,5,5])\n",
    "    \n",
    "    \n",
    "    ix_plot = np.where( (time_vec>-50)*(time_vec<3000) )\n",
    "    ix_da = np.where( (time_vec>50)*(time_vec<200) )[0]\n",
    "    if np.mean(da[ix_da]) > 0:\n",
    "        \n",
    "        h, t, breaks = flymath.get_continuous_chunks(head_vec, time_vec, jump=np.pi/2.)\n",
    "        h_flipped = []\n",
    "        for chunk in range(len(h)):\n",
    "            if len(h[chunk]) > 0:\n",
    "                if t[chunk][0] > 0: # if time is after stimulus, consider flipping\n",
    "                    if h[chunk][0] < 0:\n",
    "                        #ax1.plot( np.array(t[chunk]), -1*np.array(h[chunk]), color = 'gray', linewidth = 1.5, alpha =0.15)\n",
    "                        h_flipped = np.hstack((h_flipped, -1*np.array(h[chunk])))\n",
    "                    else:\n",
    "                        #ax1.plot(t[chunk], h[chunk], color = 'gray', linewidth = 1.5, alpha =0.15)\n",
    "                        h_flipped = np.hstack((h_flipped, h[chunk]))\n",
    "                else:\n",
    "                    #ax1.plot(t[chunk], h[chunk], color = 'gray', linewidth = 1.5, alpha =0.15)\n",
    "                    h_flipped = np.hstack((h_flipped, h[chunk]))\n",
    "        \n",
    "        \n",
    "        head_pos.append(h_flipped[ix_plot])\n",
    "        time_pos.append(time_vec[ix_plot])\n",
    "#         x, y =remove_discontinuities(time_vec, h_flipped, jump=np.pi/2)\n",
    "#         ax1.plot(x, y, color = 'gray', linewidth = 1.5, alpha =0.15)\n",
    "    else:\n",
    "        \n",
    "        h, t, breaks = flymath.get_continuous_chunks(head_vec, time_vec, jump=np.pi/2.)\n",
    "        h_flipped = []\n",
    "        for chunk in range(len(h)):\n",
    "            if len(h[chunk]) > 0:\n",
    "                if t[chunk][0] > 0: # if time is after stimulus, consider flipping\n",
    "                    if h[chunk][0] > 0:\n",
    "                        #ax1.plot( np.array(t[chunk]), -1*np.array(h[chunk]), color = 'gray', linewidth = 1.5, alpha =0.15)\n",
    "                        h_flipped = np.hstack((h_flipped, -1*np.array(h[chunk])))\n",
    "                    else:\n",
    "                        #ax1.plot(t[chunk], h[chunk], color = 'gray', linewidth = 1.5, alpha =0.15)\n",
    "                        h_flipped = np.hstack((h_flipped, h[chunk]))\n",
    "                else:\n",
    "                    #ax1.plot(t[chunk], h[chunk], color = 'gray', linewidth = 1.5, alpha =0.15)\n",
    "                    h_flipped = np.hstack((h_flipped, h[chunk]))\n",
    "                    \n",
    "        head_neg.append(h_flipped[ix_plot])\n",
    "        time_neg.append(time_vec[ix_plot])\n",
    "        #x, y =remove_discontinuities(time_vec, h_flipped, jump=np.pi/2)\n",
    "        #ax2.plot(x, y, color = 'gray', linewidth = 1.5, alpha =0.15)\n",
    "\n",
    "        \n",
    "#######################################################################################\n",
    "t_interp = np.arange(-50, 3000, 10)\n",
    "\n",
    "head_pos_interp = []\n",
    "for r in range(len(head_pos)):\n",
    "    head_interp = np.interp(t_interp, time_pos[r], head_pos[r])\n",
    "    head_pos_interp.append(head_interp)\n",
    "    \n",
    "head_neg_interp = []\n",
    "for r in range(len(head_neg)):\n",
    "    head_interp = np.interp(t_interp, time_neg[r], head_neg[r])\n",
    "    head_neg_interp.append(head_interp)\n",
    "head_neg_interp = np.vstack( head_neg_interp )\n",
    "\n",
    "head_pos_interp = np.vstack( head_pos_interp )\n",
    "print(\"After first step there are \" +str(len(head_neg_interp)+len(head_pos_interp))+ \" trajectories in tact\")\n",
    "\n",
    "\n",
    "########################################################################################\n",
    "# group 1 -- flies deviate more than the difference between heading and upwind\n",
    "head_pos_interp_g1 = []\n",
    "head_pos_interp_g0 = []\n",
    "\n",
    "ix = np.where(t_interp < 500)\n",
    "for r in range(head_pos_interp.shape[0]):\n",
    "    h = head_pos_interp[r,:]\n",
    "    if np.max(h[ix]) > (h[0]+0.3925): # <<<< arbitrary\n",
    "        head_pos_interp_g1.append(h)\n",
    "    else:\n",
    "        head_pos_interp_g0.append(h)\n",
    "        \n",
    "head_pos_interp_g1 = np.vstack(head_pos_interp_g1)\n",
    "head_pos_interp_g0 = np.vstack(head_pos_interp_g0)\n",
    "\n",
    "# print(len(head_pos_interp_g1))\n",
    "# print(len(head_pos_interp_g0))\n",
    "# group 1 -- flies deviate more than the difference between heading and upwind\n",
    "head_neg_interp_g1 = []\n",
    "head_neg_interp_g0 = []\n",
    "\n",
    "ix = np.where(t_interp < 500)\n",
    "for r in range(head_neg_interp.shape[0]):\n",
    "    h = head_neg_interp[r,:]\n",
    "    if np.min(h[ix]) < h[0]-0.3925: # <<<< arbitrary\n",
    "        head_neg_interp_g1.append(h)\n",
    "    else:\n",
    "        head_neg_interp_g0.append(h)\n",
    "        \n",
    "head_neg_interp_g1 = np.vstack(head_neg_interp_g1)\n",
    "head_neg_interp_g0 = np.vstack(head_neg_interp_g0)\n",
    "\n",
    "# print(\"Lenght of head neg interp  group 1 vector is \" +str(len(head_neg_interp_g1)))\n",
    "# print(\"Lenght of head neg interp  group 0 vector is \" +str(len(head_neg_interp_g0)))\n",
    "###########################################################################################\n",
    "t_interp = t_interp.astype(float)\n",
    "###########################################################################################\n",
    "\n",
    "#Setting up the upwind axexs for raw plots\n",
    "layout =fifi.svg_to_axes.FigureLayout(s8_template, \n",
    "                                      autogenlayers=True, make_mplfigures=True, hide_layers=[])\n",
    "ax=layout.axes[('wt_uw', 'pos')]\n",
    "ax1= layout.axes[('wt_uw', 'neg')]\n",
    "\n",
    "############################################################################################\n",
    "yticks = [-3.14, -1.57, 0, 1.57, 3.14]\n",
    "#fig, ax = plt.subplots(3, 1, figsize = (3, 8))\n",
    "\n",
    "ax.set_yticklabels([])\n",
    "# plot raw\n",
    "\n",
    "ax.set_xlim(-50, 1000)\n",
    "ax.set_ylim(-3.4, 3.4)\n",
    "ax.plot([0, 675], [3.3, 3.3], color = 'red', linewidth = .5)\n",
    "xticks = [0, 675, 1000]\n",
    "\n",
    "print('N trajecs in raw panel pos: ', head_pos_interp_g1.shape[0] + head_pos_interp_g0.shape[0])\n",
    "print('N trajecs in raw panel neg: ', head_neg_interp_g1.shape[0] + head_neg_interp_g0.shape[0])\n",
    "\n",
    "\n",
    "r = plot_raw_course_single_ax_wt(head_pos_interp_g1, ax,  linewidth=.2, alpha = 0.5,c1=c1, c2 =c2)\n",
    "#anemometric_saccade_info_uwpos, anemotaxis_saccade_info_uwpos, n_with_2_turns_uw_pos, n_without_2_turns_uw_pos = r\n",
    "\n",
    "r2 = plot_raw_course_single_ax_wt(head_neg_interp_g1, ax1, linewidth=.2,alpha = 0.5, direction=None, c1=c1, c2=c2)\n",
    "#anemometric_saccade_info_uwpos, anemotaxis_saccade_info_uwpos, n_with_2_turns_uw_neg, n_without_2_turns_uw_neg = r2\n",
    "\n",
    "#Plot centered isolated turns\n",
    "#r3 = plot_split_trajecs_turn_aligner(head_pos_interp_g1, ax2, ax3, linewidth=.2, alpha = 0.5,c1=c1, c2 =c2)\n",
    "\n",
    "\n",
    "#r4 = plot_split_trajecs_turn_aligner(head_neg_interp_g1, ax2, ax3, linewidth=.2,alpha = 0.5, direction=None, c1=c1, c2=c2)\n",
    "print(\"data structure of head_interp_groups is\")\n",
    "print(len(head_pos_interp_g0))\n",
    "print(\"data structure of head_interp_groups is\")\n",
    "print(len(head_neg_interp_g0))\n",
    "\n",
    "# r = plot_split_trajecs_turn_aligner(head_pos_interp_g1, ax1, ax2)\n",
    "# r2 = plot_split_trajecs_turn_aligner(head_neg_interp_g1, ax1, ax2, direction=None)\n",
    "\n",
    "# anemometric_saccade_info_uwpos, anemotaxis_saccade_info_uwpos, n_with_2_turns, n_without_2_turns = r\n",
    "# anemometric_saccade_info_uwneg, anemotaxis_saccade_info_uwneg, n_with_2_turns, n_without_2_turns = r2\n",
    "#for r in range(head_pos_interp_g0.shape[0]):\n",
    "#    ax2.plot(t_interp, head_pos_interp_g0[r], linewidth=0.5, color='lightskyblue', alpha=0.5)\n",
    "ax.set_xlim(-50, 1000)\n",
    "ax1.set_xlim(-50, 1000)\n",
    "ax1.set_ylim(-3.4, 3.4)\n",
    "ax1.set_yticklabels([])\n",
    "xticks = [0, 675, 1000]\n",
    "#print('N trajecs in raw panel: ', head_pos_interp_g1.shape[0] + head_pos_interp_g0.shape[0])\n",
    "fifi.mpl_functions.adjust_spines(ax, ['left'], xticks=xticks, yticks=yticks, tick_length=3, linewidth=lw)\n",
    "fifi.mpl_functions.adjust_spines(ax1, ['left'], xticks=xticks, yticks=yticks, tick_length=3, linewidth=lw)\n",
    "\n",
    "\n",
    "xticks = [0, 675, 1000]\n",
    "\n",
    "#####################################################################################################\n",
    "#Plotting leftover trajectoryes\n",
    "for r in range(len(head_neg_interp_g0)):\n",
    "    x, y = remove_discontinuities(t_interp, head_neg_interp_g0[r])\n",
    "    ax1.plot(x, y, color = 'gray', linewidth = .2, alpha =.5)\n",
    "\n",
    "for r in range(len(head_pos_interp_g0)):\n",
    "    x, y = remove_discontinuities(t_interp, head_pos_interp_g0[r])\n",
    "    ax.plot(x, y, color = 'gray', linewidth = .2, alpha =.5)\n",
    "\n",
    "fifi.mpl_functions.set_fontsize(ax, fs)\n",
    "\n",
    "layout.append_figure_to_layer(layout.figures['wt_uw'], 'wt_uw', cleartarget=True)\n",
    "\n",
    "layout.write_svg(s8_template)\n",
    "\n",
    "#\n"
   ]
  },
  {
   "cell_type": "markdown",
   "metadata": {},
   "source": [
    "# Wild type crosswind controls "
   ]
  },
  {
   "cell_type": "code",
   "execution_count": 62,
   "metadata": {},
   "outputs": [
    {
     "name": "stderr",
     "output_type": "stream",
     "text": [
      "/home/flybot/PyNumDiff_ENV/lib/python3.5/site-packages/numpy/core/fromnumeric.py:3335: RuntimeWarning: Mean of empty slice.\n",
      "  out=out, **kwargs)\n",
      "/home/flybot/PyNumDiff_ENV/lib/python3.5/site-packages/numpy/core/_methods.py:161: RuntimeWarning: invalid value encountered in double_scalars\n",
      "  ret = ret.dtype.type(ret / rcount)\n"
     ]
    },
    {
     "name": "stdout",
     "output_type": "stream",
     "text": [
      "36\n",
      "13\n",
      "24\n",
      "40\n",
      "N trajecs in raw panel:  49\n"
     ]
    },
    {
     "name": "stderr",
     "output_type": "stream",
     "text": [
      "/home/flybot/PyNumDiff_ENV/lib/python3.5/site-packages/ipykernel_launcher.py:11: RuntimeWarning: invalid value encountered in greater_equal\n",
      "  # This is added back by InteractiveShellApp.init_path()\n"
     ]
    },
    {
     "name": "stdout",
     "output_type": "stream",
     "text": [
      "Two Turn Seqs detected = 46\n"
     ]
    },
    {
     "data": {
      "image/png": "[encoded data removed]",
      "text/plain": [
       "<Figure size 432x432 with 2 Axes>"
      ]
     },
     "metadata": {
      "needs_background": "light"
     },
     "output_type": "display_data"
    },
    {
     "data": {
      "image/png": "[encoded data removed]",
      "text/plain": [
       "<Figure size 432x432 with 2 Axes>"
      ]
     },
     "metadata": {
      "needs_background": "light"
     },
     "output_type": "display_data"
    },
    {
     "data": {
      "image/png": "[encoded data removed]",
      "text/plain": [
       "<Figure size 432x432 with 2 Axes>"
      ]
     },
     "metadata": {
      "needs_background": "light"
     },
     "output_type": "display_data"
    },
    {
     "data": {
      "image/png": "[encoded data removed]",
      "text/plain": [
       "<Figure size 432x432 with 2 Axes>"
      ]
     },
     "metadata": {
      "needs_background": "light"
     },
     "output_type": "display_data"
    },
    {
     "data": {
      "image/png": "[encoded data removed]",
      "text/plain": [
       "<Figure size 432x432 with 2 Axes>"
      ]
     },
     "metadata": {
      "needs_background": "light"
     },
     "output_type": "display_data"
    },
    {
     "data": {
      "image/png": "[encoded data removed]",
      "text/plain": [
       "<Figure size 432x432 with 3 Axes>"
      ]
     },
     "metadata": {
      "needs_background": "light"
     },
     "output_type": "display_data"
    },
    {
     "data": {
      "image/png": "[encoded data removed]",
      "text/plain": [
       "<Figure size 432x432 with 2 Axes>"
      ]
     },
     "metadata": {
      "needs_background": "light"
     },
     "output_type": "display_data"
    }
   ],
   "source": [
    "head_pos = []\n",
    "time_pos = []\n",
    "\n",
    "head_neg = []\n",
    "time_neg = []\n",
    "\n",
    "#########################################\n",
    "for i in cw_wt['obj_id_unique'].unique():\n",
    "\n",
    "    c=cw_wt[cw_wt['obj_id_unique']==i]\n",
    "    time_vec = c['time stamp'].values\n",
    "    head_vec= c['heading'].values\n",
    "\n",
    "    initial_head = np.median( head_vec[(time_vec>-50)*(time_vec<0)] )\n",
    "    sign = np.sign( initial_head )\n",
    "    head_vec *= sign\n",
    "    initial_head *= sign\n",
    "    \n",
    "    # signed ang vel\n",
    "    a = unwrap_angle(c['heading'].values, 5)\n",
    "    smootha, da = pynumdiff.linear_model.savgoldiff(a, dt, [3,5,5])\n",
    "    \n",
    "    \n",
    "    ix_plot = np.where( (time_vec>-50)*(time_vec<3000) )\n",
    "    ix_da = np.where( (time_vec>50)*(time_vec<200) )[0]\n",
    "    if np.mean(da[ix_da]) > 0:\n",
    "        \n",
    "        h, t, breaks = flymath.get_continuous_chunks(head_vec, time_vec, jump=np.pi/2.)\n",
    "        h_flipped = []\n",
    "        for chunk in range(len(h)):\n",
    "            if len(h[chunk]) > 0:\n",
    "                if t[chunk][0] > 0: # if time is after stimulus, consider flipping\n",
    "                    if h[chunk][0] < 0:\n",
    "                        #ax1.plot( np.array(t[chunk]), -1*np.array(h[chunk]), color = 'gray', linewidth = 1.5, alpha =0.15)\n",
    "                        h_flipped = np.hstack((h_flipped, -1*np.array(h[chunk])))\n",
    "                    else:\n",
    "                        #ax1.plot(t[chunk], h[chunk], color = 'gray', linewidth = 1.5, alpha =0.15)\n",
    "                        h_flipped = np.hstack((h_flipped, h[chunk]))\n",
    "                else:\n",
    "                    #ax1.plot(t[chunk], h[chunk], color = 'gray', linewidth = 1.5, alpha =0.15)\n",
    "                    h_flipped = np.hstack((h_flipped, h[chunk]))\n",
    "        \n",
    "        \n",
    "        head_pos.append(h_flipped[ix_plot])\n",
    "        time_pos.append(time_vec[ix_plot])\n",
    "#         x, y =remove_discontinuities(time_vec, h_flipped, jump=np.pi/2)\n",
    "#         ax1.plot(x, y, color = 'gray', linewidth = 1.5, alpha =0.15)\n",
    "    else:\n",
    "        head_neg.append(head_vec[ix_plot])\n",
    "        time_neg.append(time_vec[ix_plot])\n",
    "#         x, y =remove_discontinuities(time_vec, head_vec, jump=np.pi/2)\n",
    "#         ax2.plot(x, y, color = 'gray', linewidth = 1.5, alpha =0.15)\n",
    "\n",
    "####################################################################################################\n",
    "t_interp = np.arange(-50, 3000, 10)\n",
    "\n",
    "head_pos_interp = []\n",
    "for r in range(len(head_pos)):\n",
    "    head_interp = np.interp(t_interp, time_pos[r], head_pos[r])\n",
    "    head_pos_interp.append(head_interp)\n",
    "    \n",
    "head_neg_interp = []\n",
    "for r in range(len(head_neg)):\n",
    "    head_interp = np.interp(t_interp, time_neg[r], head_neg[r])\n",
    "    head_neg_interp.append(head_interp)\n",
    "head_neg_interp = np.vstack( head_neg_interp )\n",
    "\n",
    "head_pos_interp = np.vstack( head_pos_interp )\n",
    "# group 1 -- flies deviate more than the difference between heading and upwind\n",
    "head_pos_interp_g1 = []\n",
    "head_pos_interp_g0 = []\n",
    "\n",
    "ix = np.where(t_interp < 500)\n",
    "\n",
    "for r in range(head_pos_interp.shape[0]):\n",
    "    h = head_pos_interp[r,:]\n",
    "    if np.max(h[ix]) > (1.57+0.3925): # <<<< arbitrary\n",
    "        head_pos_interp_g1.append(h)\n",
    "    else:\n",
    "        head_pos_interp_g0.append(h)\n",
    "        \n",
    "head_pos_interp_g1 = np.vstack(head_pos_interp_g1)\n",
    "head_pos_interp_g0 = np.vstack(head_pos_interp_g0)\n",
    "\n",
    "print(len(head_pos_interp_g1))\n",
    "print(len(head_pos_interp_g0))\n",
    "# group 1 -- flies deviate more than the difference between heading and upwind\n",
    "head_neg_interp_g1 = []\n",
    "head_neg_interp_g0 = []\n",
    "\n",
    "ix = np.where(t_interp < 500)\n",
    "for r in range(head_neg_interp.shape[0]):\n",
    "    h = head_neg_interp[r,:]\n",
    "    if np.min(h[ix]) < -0.3925: # <<<< arbitrary\n",
    "        head_neg_interp_g1.append(h)\n",
    "    else:\n",
    "        head_neg_interp_g0.append(h)\n",
    "        \n",
    "head_neg_interp_g1 = np.vstack(head_neg_interp_g1)\n",
    "head_neg_interp_g0 = np.vstack(head_neg_interp_g0)\n",
    "\n",
    "print(len(head_neg_interp_g1))\n",
    "print(len(head_neg_interp_g0))\n",
    "\n",
    "##################################################################################\n",
    "t_interp = t_interp.astype(float)\n",
    "##################################################################################\n",
    "layout =fifi.svg_to_axes.FigureLayout(s8_template, \n",
    "                                      autogenlayers=True, make_mplfigures=True, hide_layers=[])\n",
    "ax=layout.axes[('wt_cw', 'pos')]\n",
    "ax1= layout.axes[('wt_cw', 'neg')]\n",
    "\n",
    "\n",
    "##################################################################################\n",
    "yticks = [-3.14, -1.57, 0, 1.57, 3.14]\n",
    "#fig, ax = plt.subplots(3, 1, figsize = (3, 8))\n",
    "ax.set_yticklabels([])\n",
    "ax.set_xlim(-50, 1000)\n",
    "# plot raw\n",
    "# for i in cw_orco['obj_id_unique'].unique():\n",
    "#     c = cw_orco[cw_orco['obj_id_unique']==i]\n",
    "#     x =c['time stamp'].to_numpy()\n",
    "#     y=c['heading'].to_numpy()\n",
    "#     x, y = remove_discontinuities(x, y, jump=np.pi/2)\n",
    "#     ax.plot(x, y, color = 'gray',linewidth = 0.5, alpha = 0.2,  markeredgecolor = None)\n",
    "\n",
    "ax.set_xlim(-50, 1000)\n",
    "ax.set_ylim(-3.14, 3.14)\n",
    "xticks = [0, 675, 1000]\n",
    "\n",
    "ax1.set_xlim(-50, 1000)\n",
    "print('N trajecs in raw panel: ', head_pos_interp_g1.shape[0] + head_pos_interp_g0.shape[0])\n",
    "fifi.mpl_functions.adjust_spines(ax, ['left'], xticks=xticks, yticks=yticks, tick_length=3, linewidth=lw)\n",
    "\n",
    "\n",
    "# plot the broken and leftover trajectories\n",
    "\n",
    "r = plot_raw_course_single_ax_wt(head_pos_interp_g1, ax, c1=c1, c2=c2, alpha = 0.5)\n",
    "r2 = plot_raw_course_single_ax_wt(head_neg_interp_g1, ax1, alpha = 0.5, direction=None, c1=c1, c2= c2)\n",
    "\n",
    "# anemometric_saccade_info_cwpos, anemotaxis_saccade_info_cwpos, n_with_2_turns_cw_pos, n_without_2_turns = r\n",
    "# anemometric_saccade_info_cwneg, anemotaxis_saccade_info_cwneg, n_with_2_turns_cw_neg, n_without_2_turns = r2\n",
    "\n",
    "for r in range(len(head_neg_interp_g0)):\n",
    "    x, y = remove_discontinuities(t_interp, head_neg_interp_g0[r])\n",
    "    ax1.plot(x, y, color = 'gray', linewidth = .2, alpha =.5)\n",
    "\n",
    "for r in range(len(head_pos_interp_g0)):\n",
    "    x, y = remove_discontinuities(t_interp, head_pos_interp_g0[r])\n",
    "    ax.plot(x, y, color = 'gray', linewidth = .2, alpha =.5)\n",
    "\n",
    "\n",
    "\n",
    "#ax1.set_xlim(-150, 150)\n",
    "ax1.set_ylim(-3.4, 3.4)\n",
    "ax1.set_yticklabels([])\n",
    "xticks = [0, 675, 1000]\n",
    "\n",
    "fifi.mpl_functions.adjust_spines(ax1, ['left'], xticks=[], yticks=yticks, linewidth = lw, tick_length=3 )\n",
    "fifi.mpl_functions.adjust_spines(ax2, [], xticks=[], yticks=yticks)\n",
    "fifi.mpl_functions.adjust_spines(ax3, [], xticks=[], yticks=yticks)\n",
    "\n",
    "\n",
    "\n",
    "\n",
    "\n",
    "print(\"Two Turn Seqs detected = \" + str(n_with_2_turns_cw_neg+n_with_2_turns_cw_pos))\n",
    "fifi.mpl_functions.set_fontsize(ax, fs)\n",
    "\n",
    "\n",
    "layout.append_figure_to_layer(layout.figures['wt_cw'], 'wt_cw', cleartarget=True)\n",
    "\n",
    "layout.write_svg(s8_template)\n",
    "#layout.append_figure_to_layer(layout.figures['upwind_pos'], 'upwind_pos', cleartarget=True)\n",
    "#layout.write_svg('anemo_metric_taxis.svg')\n"
   ]
  },
  {
   "cell_type": "markdown",
   "metadata": {},
   "source": [
    "# Downwind Raw Trajectories for completion: first Orco"
   ]
  },
  {
   "cell_type": "code",
   "execution_count": 67,
   "metadata": {},
   "outputs": [
    {
     "data": {
      "image/png": "[encoded data removed]",
      "text/plain": [
       "<Figure size 432x432 with 2 Axes>"
      ]
     },
     "metadata": {
      "needs_background": "light"
     },
     "output_type": "display_data"
    },
    {
     "data": {
      "image/png": "[encoded data removed]",
      "text/plain": [
       "<Figure size 432x432 with 2 Axes>"
      ]
     },
     "metadata": {
      "needs_background": "light"
     },
     "output_type": "display_data"
    },
    {
     "data": {
      "image/png": "[encoded data removed]",
      "text/plain": [
       "<Figure size 432x432 with 2 Axes>"
      ]
     },
     "metadata": {
      "needs_background": "light"
     },
     "output_type": "display_data"
    },
    {
     "data": {
      "image/png": "[encoded data removed]",
      "text/plain": [
       "<Figure size 432x432 with 2 Axes>"
      ]
     },
     "metadata": {
      "needs_background": "light"
     },
     "output_type": "display_data"
    },
    {
     "data": {
      "image/png": "[encoded data removed]",
      "text/plain": [
       "<Figure size 432x432 with 2 Axes>"
      ]
     },
     "metadata": {
      "needs_background": "light"
     },
     "output_type": "display_data"
    },
    {
     "data": {
      "image/png": "[encoded data removed]",
      "text/plain": [
       "<Figure size 432x432 with 3 Axes>"
      ]
     },
     "metadata": {
      "needs_background": "light"
     },
     "output_type": "display_data"
    },
    {
     "data": {
      "image/png": "[encoded data removed]",
      "text/plain": [
       "<Figure size 432x432 with 2 Axes>"
      ]
     },
     "metadata": {
      "needs_background": "light"
     },
     "output_type": "display_data"
    }
   ],
   "source": [
    "layout =fifi.svg_to_axes.FigureLayout(s8_template, \n",
    "                                      autogenlayers=True, make_mplfigures=True, hide_layers=[])\n",
    "##################\n",
    "#Orco unflipped\n",
    "ax=layout.axes[('dw', 'orco')]\n",
    "for i in dw_orco['obj_id_unique'].unique():\n",
    "    t=dw_orco[dw_orco['obj_id_unique']==i]\n",
    "    x, y = remove_discontinuities(t['time stamp'].to_numpy(), t['heading'].to_numpy())\n",
    "    ax.plot(x, y, color = 'gray', linewidth = .2, alpha =.5)\n",
    "\n",
    "\n",
    "ax1= layout.axes[('dw', 'wt')]\n",
    "\n",
    "#######\n",
    "#Wild type unflipped\n",
    "for i in dw_wt['obj_id_unique'].unique():\n",
    "    t=dw_wt[dw_wt['obj_id_unique']==i]\n",
    "    x, y = remove_discontinuities(t['time stamp'].to_numpy(), t['heading'].to_numpy())\n",
    "    ax1.plot(x, y, color = 'gray', linewidth = .2, alpha =.5)\n",
    "    \n",
    "    \n",
    "#u1wt unfipped\n",
    "ax2 =layout.axes[('dw', 'u1')]\n",
    "for i in dw_u1wt['obj_id_unique'].unique():\n",
    "    t=dw_u1wt[dw_u1wt['obj_id_unique']==i]\n",
    "    x, y = remove_discontinuities(t['time stamp'].to_numpy(), t['heading'].to_numpy())\n",
    "    ax2.plot(x, y, color = 'gray', linewidth = .2, alpha =.5)\n",
    "    \n",
    "    \n",
    "#axis regularizing\n",
    "ax.set_xlim(-50, 1000)\n",
    "ax1.set_xlim(-50, 1000)\n",
    "ax2.set_xlim(-50, 1000)\n",
    "\n",
    "ax.set_ylim(-3.4, 3.4)\n",
    "ax1.set_ylim(-3.4, 3.4)\n",
    "ax2.set_ylim(-3.4, 3.4)\n",
    "\n",
    "yticks = [-3.14, -1.57, 0, 1.57, 3.14]\n",
    "ax.set_yticklabels([])\n",
    "ax1.set_yticklabels([])\n",
    "ax2.set_yticklabels([])\n",
    "\n",
    "fifi.mpl_functions.adjust_spines(ax, ['left'], xticks=[], yticks=yticks, linewidth = lw, tick_length=3 )\n",
    "fifi.mpl_functions.adjust_spines(ax1, ['left'], xticks=[], yticks=yticks, linewidth = lw, tick_length=3 )\n",
    "fifi.mpl_functions.adjust_spines(ax2, ['left'], xticks=[], yticks=[], linewidth = lw, tick_length=3 )\n",
    "\n",
    "layout.append_figure_to_layer(layout.figures['wt_cw'], 'wt_cw', cleartarget=True)\n",
    "\n",
    "layout.write_svg(s8_template)\n",
    "#layout.append_figure_to_layer(layout.figures['upwind_pos'], 'upwind_pos', cleartarget=True)\n",
    "#layout.write_svg('anemo_metric_taxis.svg')"
   ]
  },
  {
   "cell_type": "markdown",
   "metadata": {},
   "source": [
    "# CsChrimson Heterozygote data"
   ]
  },
  {
   "cell_type": "code",
   "execution_count": 68,
   "metadata": {},
   "outputs": [],
   "source": [
    "#Making a separate function just to detect sharp course changes, the other code requires two saccades\n",
    "#Only difference here was a lazy try statement to get around some bogie throwing the entire function off\n",
    "def plot_raw_course_single_ax_u1wt(head_pos_interp_g1, ax1,c_base ='gray',c1 =c1, c2=c2, direction='pos', linewidth=0.2, alpha =0.4):\n",
    "\n",
    "    threshold = 0.004\n",
    "    dt = 10\n",
    "    \n",
    "    #fig = plt.figure(figsize=(10,3))\n",
    "    #ax1 = fig.add_subplot(121)\n",
    "    #ax1.set_xlim(-500, 3000)\n",
    "\n",
    "    #ax2 = fig.add_subplot(122)\n",
    "    #ax2.set_xlim(-100, 3000)\n",
    "\n",
    "    n_with_2_turns = 0\n",
    "    n_without_2_turns = 0\n",
    "\n",
    "    anemometric_saccade_info = {'peak_angular_velocity': [],\n",
    "                                'amplitude': [],\n",
    "                                'duration': [],\n",
    "                                'end_point': [],\n",
    "                                'start_point': []}\n",
    "\n",
    "    anemotaxis_saccade_info = { 'peak_angular_velocity': [],\n",
    "                                'amplitude': [],\n",
    "                                'duration': [],\n",
    "                                'end_point': [],\n",
    "                                'start_point': []}\n",
    "\n",
    "    for r in range(len(head_pos_interp_g1)):\n",
    "\n",
    "        if direction == 'pos':\n",
    "            a = unwrap_angle(head_pos_interp_g1[r] - np.pi, 5)\n",
    "        else:\n",
    "            a = unwrap_angle(head_pos_interp_g1[r] + np.pi, 5)\n",
    "        smootha, da = pynumdiff.linear_model.savgoldiff(a, dt, [3,10,10])\n",
    "        rawsmootha, rawda = pynumdiff.linear_model.savgoldiff(a, dt, [3,4,4]) #pynumdiff.finite_difference.first_order(a, dt)\n",
    "        \n",
    "        # anemometric\n",
    "        if direction == 'pos':\n",
    "            p = scipy.signal.find_peaks_cwt(da, [4, 8])\n",
    "        else:\n",
    "            p = scipy.signal.find_peaks_cwt(-1*da, [4, 8])\n",
    "            \n",
    "        last_ix = np.where(t_interp<450)[0][-1]\n",
    "        first_ix = np.where(t_interp>10)[0][0]\n",
    "        p = p[ (p<last_ix)*(p>first_ix)]\n",
    "        if len(p)>0:\n",
    "            ix_anemometric = p[0]\n",
    "        try:\n",
    "            if direction == 'pos':\n",
    "                chunks, breaks = flymath.get_continuous_chunks( np.where(da>threshold)[0] )\n",
    "            else:\n",
    "                chunks, breaks = flymath.get_continuous_chunks( np.where(da<-1*threshold)[0] )\n",
    "            anemometric_saccade = None\n",
    "            for chunk in chunks:\n",
    "                if ix_anemometric in chunk:\n",
    "                    anemometric_saccade = chunk\n",
    "                    break\n",
    "\n",
    "        \n",
    "\n",
    "        # anemotaxis\n",
    "            if direction == 'pos':\n",
    "                p = scipy.signal.find_peaks_cwt(-1*da, [4, 8])\n",
    "            else:\n",
    "                p = scipy.signal.find_peaks_cwt(da, [4, 8])\n",
    "            first_ix = ix_anemometric\n",
    "            last_ix = np.where(t_interp<750)[0][-1]\n",
    "            p = p[ (p>first_ix)*(p<last_ix)]\n",
    "            ix_anemotaxis = p[0]\n",
    "\n",
    "            if direction == 'pos':\n",
    "                chunks, breaks = flymath.get_continuous_chunks( np.where(da<-1*threshold)[0] )\n",
    "            else:\n",
    "                chunks, breaks = flymath.get_continuous_chunks( np.where(da>threshold)[0] )\n",
    "            anemotaxis_saccade = None\n",
    "            for chunk in chunks:\n",
    "                if ix_anemotaxis in chunk:\n",
    "                    anemotaxis_saccade = chunk\n",
    "                    break\n",
    "\n",
    "            if anemometric_saccade is not None:\n",
    "                peak = np.max( np.abs(rawda[anemometric_saccade]) )\n",
    "                amplitude = (np.cumsum(rawda[anemometric_saccade])*dt)[-1]\n",
    "                duration = t_interp[anemometric_saccade][-1] - t_interp[anemometric_saccade][0]\n",
    "                end_point = head_pos_interp_g1[r][anemometric_saccade][-1]\n",
    "                start_point = head_pos_interp_g1[r][anemometric_saccade][0]\n",
    "                anemometric_saccade_info['peak_angular_velocity'].append( np.abs(peak) )\n",
    "                anemometric_saccade_info['amplitude'].append(amplitude)\n",
    "                anemometric_saccade_info['duration'].append(duration)\n",
    "                anemometric_saccade_info['end_point'].append(end_point)\n",
    "                anemometric_saccade_info['start_point'].append(start_point)\n",
    "            \n",
    "#             peak = np.max( np.abs(rawda[anemotaxis_saccade]) )\n",
    "#             amplitude = (np.cumsum(rawda[anemotaxis_saccade])*dt)[-1]\n",
    "#             duration = t_interp[anemotaxis_saccade][-1] - t_interp[anemotaxis_saccade][0]\n",
    "#             end_point = head_pos_interp_g1[r][anemotaxis_saccade][-1]\n",
    "#             start_point = head_pos_interp_g1[r][anemotaxis_saccade][0]\n",
    "\n",
    "#             anemotaxis_saccade_info['peak_angular_velocity'].append(np.abs(peak))\n",
    "#             anemotaxis_saccade_info['amplitude'].append(amplitude)\n",
    "#             anemotaxis_saccade_info['duration'].append(duration)\n",
    "#             anemotaxis_saccade_info['end_point'].append(end_point)\n",
    "#             anemotaxis_saccade_info['start_point'].append(start_point)\n",
    "        #ix_middle = int( (ix_anemotaxis - ix_anemometric)/2) + ix_anemometric\n",
    "        #ax1.plot(t_interp[ixp], head_pos_interp_g1[r][ixp], '*')\n",
    "\n",
    "\n",
    "\n",
    "            if anemometric_saccade is not None:\n",
    "                n_with_2_turns += 1\n",
    "\n",
    "            # before anemometric\n",
    "                t_plot = t_interp[0:anemometric_saccade[0]]\n",
    "                h_plot = head_pos_interp_g1[r][0:anemometric_saccade[0]]\n",
    "                x, y = remove_discontinuities(t_plot, h_plot)\n",
    "                ax1.plot(x, y, color = c_base, linewidth = linewidth, alpha =alpha)\n",
    "\n",
    "            # anemometric\n",
    "                t_plot = t_interp[anemometric_saccade]\n",
    "                h_plot = head_pos_interp_g1[r][anemometric_saccade]\n",
    "                x, y = remove_discontinuities(t_plot, h_plot)\n",
    "                ax1.plot(x, y, color = c1, linewidth = linewidth, alpha =alpha)\n",
    "\n",
    "             # rest of trajectory\n",
    "                t_plot = t_interp[anemometric_saccade[-1]:]\n",
    "                h_plot = head_pos_interp_g1[r][anemometric_saccade[-1]:]\n",
    "                x, y = remove_discontinuities(t_plot, h_plot)\n",
    "                ax1.plot(x, y, color = c_base, linewidth = linewidth, alpha =alpha)\n",
    "\n",
    "#             # anemotaxis\n",
    "#             t_plot = t_interp[anemotaxis_saccade]\n",
    "#             h_plot = head_pos_interp_g1[r][anemotaxis_saccade]\n",
    "#             x, y = remove_discontinuities(t_plot, h_plot)\n",
    "#             ax1.plot(x, y, color = c2, linewidth = linewidth, alpha =alpha)\n",
    "\n",
    "#             # after anemotaxis\n",
    "#             t_plot = t_interp[anemotaxis_saccade[-1]:] \n",
    "#             h_plot = head_pos_interp_g1[r][anemotaxis_saccade[-1]:]\n",
    "#             x, y = remove_discontinuities(t_plot, h_plot)\n",
    "#             ax1.plot(x, y, color = c_base, linewidth = linewidth, alpha =0.5)\n",
    "\n",
    "            else:\n",
    "            #print(r)\n",
    "                n_without_2_turns += 1\n",
    "                x, y = remove_discontinuities(t_interp, head_pos_interp_g1[r])\n",
    "                ax1.plot(x, y, color = c_base, linewidth = linewidth, alpha =alpha)\n",
    "        except:\n",
    "            break\n",
    "    #ax1.plot(t_interp, np.mean(head_pos_interp_g1, axis=0), color='red')\n",
    "\n",
    "    #print(n_with_2_turns)\n",
    "    #print(n_without_2_turns)\n",
    "\n",
    "    return \n",
    "\n",
    "def mean_angle(angle, axis=0):\n",
    "    return np.arctan2(np.nanmean(np.sin(angle), axis=axis), np.nanmean(np.cos(angle), axis=axis))"
   ]
  },
  {
   "cell_type": "markdown",
   "metadata": {},
   "source": [
    "# Upwind subset"
   ]
  },
  {
   "cell_type": "code",
   "execution_count": 69,
   "metadata": {},
   "outputs": [
    {
     "name": "stdout",
     "output_type": "stream",
     "text": [
      "First data pruning step\n"
     ]
    },
    {
     "name": "stderr",
     "output_type": "stream",
     "text": [
      "/home/flybot/PyNumDiff_ENV/lib/python3.5/site-packages/numpy/core/fromnumeric.py:3335: RuntimeWarning: Mean of empty slice.\n",
      "  out=out, **kwargs)\n",
      "/home/flybot/PyNumDiff_ENV/lib/python3.5/site-packages/numpy/core/_methods.py:161: RuntimeWarning: invalid value encountered in double_scalars\n",
      "  ret = ret.dtype.type(ret / rcount)\n"
     ]
    },
    {
     "name": "stdout",
     "output_type": "stream",
     "text": [
      "After first step there are 370 trajectories in tact\n",
      "N trajecs in raw panel pos:  141\n",
      "N trajecs in raw panel neg:  229\n",
      "data structure of head_interp_groups is\n",
      "47\n",
      "data structure of head_interp_groups is\n",
      "78\n"
     ]
    },
    {
     "data": {
      "image/png": "[encoded data removed]",
      "text/plain": [
       "<Figure size 432x432 with 2 Axes>"
      ]
     },
     "metadata": {
      "needs_background": "light"
     },
     "output_type": "display_data"
    },
    {
     "data": {
      "image/png": "[encoded data removed]",
      "text/plain": [
       "<Figure size 432x432 with 2 Axes>"
      ]
     },
     "metadata": {
      "needs_background": "light"
     },
     "output_type": "display_data"
    },
    {
     "data": {
      "image/png": "[encoded data removed]",
      "text/plain": [
       "<Figure size 432x432 with 2 Axes>"
      ]
     },
     "metadata": {
      "needs_background": "light"
     },
     "output_type": "display_data"
    },
    {
     "data": {
      "image/png": "[encoded data removed]",
      "text/plain": [
       "<Figure size 432x432 with 2 Axes>"
      ]
     },
     "metadata": {
      "needs_background": "light"
     },
     "output_type": "display_data"
    },
    {
     "data": {
      "image/png": "[encoded data removed]",
      "text/plain": [
       "<Figure size 432x432 with 2 Axes>"
      ]
     },
     "metadata": {
      "needs_background": "light"
     },
     "output_type": "display_data"
    },
    {
     "data": {
      "image/png": "[encoded data removed]",
      "text/plain": [
       "<Figure size 432x432 with 3 Axes>"
      ]
     },
     "metadata": {
      "needs_background": "light"
     },
     "output_type": "display_data"
    },
    {
     "data": {
      "image/png": "[encoded data removed]",
      "text/plain": [
       "<Figure size 432x432 with 2 Axes>"
      ]
     },
     "metadata": {
      "needs_background": "light"
     },
     "output_type": "display_data"
    }
   ],
   "source": [
    "\n",
    "\n",
    "#Return to these cells to print out relevant information for reporting\n",
    "head_pos = []\n",
    "time_pos = []\n",
    "\n",
    "head_neg = []\n",
    "time_neg = []\n",
    "######################################################\n",
    "\n",
    "\n",
    "pos_tt_count =0\n",
    "neg_tt_count =0\n",
    "#Removed Plotting Intermediate for figure NB\n",
    "\n",
    "# fig = plt.figure(figsize=(10,3))\n",
    "# ax1 = fig.add_subplot(121)\n",
    "# ax1.set_xlim(-100, 3000)\n",
    "\n",
    "# ax2 = fig.add_subplot(122)\n",
    "# ax2.set_xlim(-100, 3000)\n",
    "\n",
    "print(\"First data pruning step\")\n",
    "for i in uw_u1wt['obj_id_unique'].unique():\n",
    "\n",
    "    c=uw_u1wt[uw_u1wt['obj_id_unique']==i]\n",
    "    time_vec = c['time stamp'].values\n",
    "    head_vec= c['heading'].values\n",
    "\n",
    "    initial_head = np.median( head_vec[(time_vec>-50)*(time_vec<0)] )\n",
    "    sign = np.sign( initial_head )\n",
    "    #head_vec *= sign\n",
    "    #initial_head *= sign\n",
    "    \n",
    "    # signed ang vel\n",
    "    a = unwrap_angle(c['heading'].values, 5)\n",
    "    smootha, da = pynumdiff.linear_model.savgoldiff(a, dt, [3,5,5])\n",
    "    \n",
    "    \n",
    "    ix_plot = np.where( (time_vec>-50)*(time_vec<3000) )\n",
    "    ix_da = np.where( (time_vec>50)*(time_vec<200) )[0]\n",
    "    if np.mean(da[ix_da]) > 0:\n",
    "        \n",
    "        h, t, breaks = flymath.get_continuous_chunks(head_vec, time_vec, jump=np.pi/2.)\n",
    "        h_flipped = []\n",
    "        for chunk in range(len(h)):\n",
    "            if len(h[chunk]) > 0:\n",
    "                if t[chunk][0] > 0: # if time is after stimulus, consider flipping\n",
    "                    if h[chunk][0] < 0:\n",
    "                        #ax1.plot( np.array(t[chunk]), -1*np.array(h[chunk]), color = 'gray', linewidth = 1.5, alpha =0.15)\n",
    "                        h_flipped = np.hstack((h_flipped, -1*np.array(h[chunk])))\n",
    "                    else:\n",
    "                        #ax1.plot(t[chunk], h[chunk], color = 'gray', linewidth = 1.5, alpha =0.15)\n",
    "                        h_flipped = np.hstack((h_flipped, h[chunk]))\n",
    "                else:\n",
    "                    #ax1.plot(t[chunk], h[chunk], color = 'gray', linewidth = 1.5, alpha =0.15)\n",
    "                    h_flipped = np.hstack((h_flipped, h[chunk]))\n",
    "        \n",
    "        \n",
    "        head_pos.append(h_flipped[ix_plot])\n",
    "        time_pos.append(time_vec[ix_plot])\n",
    "#         x, y =remove_discontinuities(time_vec, h_flipped, jump=np.pi/2)\n",
    "#         ax1.plot(x, y, color = 'gray', linewidth = 1.5, alpha =0.15)\n",
    "    else:\n",
    "        \n",
    "        h, t, breaks = flymath.get_continuous_chunks(head_vec, time_vec, jump=np.pi/2.)\n",
    "        h_flipped = []\n",
    "        for chunk in range(len(h)):\n",
    "            if len(h[chunk]) > 0:\n",
    "                if t[chunk][0] > 0: # if time is after stimulus, consider flipping\n",
    "                    if h[chunk][0] > 0:\n",
    "                        #ax1.plot( np.array(t[chunk]), -1*np.array(h[chunk]), color = 'gray', linewidth = 1.5, alpha =0.15)\n",
    "                        h_flipped = np.hstack((h_flipped, -1*np.array(h[chunk])))\n",
    "                    else:\n",
    "                        #ax1.plot(t[chunk], h[chunk], color = 'gray', linewidth = 1.5, alpha =0.15)\n",
    "                        h_flipped = np.hstack((h_flipped, h[chunk]))\n",
    "                else:\n",
    "                    #ax1.plot(t[chunk], h[chunk], color = 'gray', linewidth = 1.5, alpha =0.15)\n",
    "                    h_flipped = np.hstack((h_flipped, h[chunk]))\n",
    "                    \n",
    "        head_neg.append(h_flipped[ix_plot])\n",
    "        time_neg.append(time_vec[ix_plot])\n",
    "        #x, y =remove_discontinuities(time_vec, h_flipped, jump=np.pi/2)\n",
    "        #ax2.plot(x, y, color = 'gray', linewidth = 1.5, alpha =0.15)\n",
    "\n",
    "        \n",
    "#######################################################################################\n",
    "t_interp = np.arange(-50, 3000, 10)\n",
    "\n",
    "head_pos_interp = []\n",
    "for r in range(len(head_pos)):\n",
    "    head_interp = np.interp(t_interp, time_pos[r], head_pos[r])\n",
    "    head_pos_interp.append(head_interp)\n",
    "    \n",
    "head_neg_interp = []\n",
    "for r in range(len(head_neg)):\n",
    "    head_interp = np.interp(t_interp, time_neg[r], head_neg[r])\n",
    "    head_neg_interp.append(head_interp)\n",
    "head_neg_interp = np.vstack( head_neg_interp )\n",
    "\n",
    "head_pos_interp = np.vstack( head_pos_interp )\n",
    "print(\"After first step there are \" +str(len(head_neg_interp)+len(head_pos_interp))+ \" trajectories in tact\")\n",
    "\n",
    "\n",
    "########################################################################################\n",
    "# group 1 -- flies deviate more than the difference between heading and upwind\n",
    "head_pos_interp_g1 = []\n",
    "head_pos_interp_g0 = []\n",
    "\n",
    "ix = np.where(t_interp < 500)\n",
    "for r in range(head_pos_interp.shape[0]):\n",
    "    h = head_pos_interp[r,:]\n",
    "    if np.max(h[ix]) > (h[0]+0.3925): # <<<< arbitrary\n",
    "        head_pos_interp_g1.append(h)\n",
    "    else:\n",
    "        head_pos_interp_g0.append(h)\n",
    "        \n",
    "head_pos_interp_g1 = np.vstack(head_pos_interp_g1)\n",
    "head_pos_interp_g0 = np.vstack(head_pos_interp_g0)\n",
    "\n",
    "# print(len(head_pos_interp_g1))\n",
    "# print(len(head_pos_interp_g0))\n",
    "# group 1 -- flies deviate more than the difference between heading and upwind\n",
    "head_neg_interp_g1 = []\n",
    "head_neg_interp_g0 = []\n",
    "\n",
    "ix = np.where(t_interp < 500)\n",
    "for r in range(head_neg_interp.shape[0]):\n",
    "    h = head_neg_interp[r,:]\n",
    "    if np.min(h[ix]) < h[0]-0.3925: # <<<< arbitrary\n",
    "        head_neg_interp_g1.append(h)\n",
    "    else:\n",
    "        head_neg_interp_g0.append(h)\n",
    "        \n",
    "head_neg_interp_g1 = np.vstack(head_neg_interp_g1)\n",
    "head_neg_interp_g0 = np.vstack(head_neg_interp_g0)\n",
    "\n",
    "# print(\"Lenght of head neg interp  group 1 vector is \" +str(len(head_neg_interp_g1)))\n",
    "# print(\"Lenght of head neg interp  group 0 vector is \" +str(len(head_neg_interp_g0)))\n",
    "###########################################################################################\n",
    "t_interp = t_interp.astype(float)\n",
    "###########################################################################################\n",
    "\n",
    "#Setting up the upwind axexs for raw plots\n",
    "layout =fifi.svg_to_axes.FigureLayout(s8_template, \n",
    "                                      autogenlayers=True, make_mplfigures=True, hide_layers=[])\n",
    "ax=layout.axes[('u1_uw', 'pos')]\n",
    "ax1= layout.axes[('u1_uw', 'neg')]\n",
    "\n",
    "############################################################################################\n",
    "yticks = [-3.14, -1.57, 0, 1.57, 3.14]\n",
    "#fig, ax = plt.subplots(3, 1, figsize = (3, 8))\n",
    "\n",
    "ax.set_yticklabels([])\n",
    "# plot raw\n",
    "\n",
    "ax.set_xlim(-50, 1000)\n",
    "ax.set_ylim(-3.4, 3.4)\n",
    "ax.plot([0, 675], [3.3, 3.3], color = 'red', linewidth = .5)\n",
    "xticks = [0, 675, 1000]\n",
    "\n",
    "print('N trajecs in raw panel pos: ', head_pos_interp_g1.shape[0] + head_pos_interp_g0.shape[0])\n",
    "print('N trajecs in raw panel neg: ', head_neg_interp_g1.shape[0] + head_neg_interp_g0.shape[0])\n",
    "\n",
    "\n",
    "r = plot_raw_course_single_ax_u1wt(head_pos_interp_g1, ax,  linewidth=.2, alpha = 0.5,c1=c1, c2 =c2)\n",
    "#anemometric_saccade_info_uwpos, anemotaxis_saccade_info_uwpos, n_with_2_turns_uw_pos, n_without_2_turns_uw_pos = r\n",
    "\n",
    "r2 = plot_raw_course_single_ax_u1wt(head_neg_interp_g1, ax1, linewidth=.2,alpha = 0.5, direction=None, c1=c1, c2=c2)\n",
    "#anemometric_saccade_info_uwpos, anemotaxis_saccade_info_uwpos, n_with_2_turns_uw_neg, n_without_2_turns_uw_neg = r2\n",
    "\n",
    "#Plot centered isolated turns\n",
    "#r3 = plot_split_trajecs_turn_aligner(head_pos_interp_g1, ax2, ax3, linewidth=.2, alpha = 0.5,c1=c1, c2 =c2)\n",
    "\n",
    "\n",
    "#r4 = plot_split_trajecs_turn_aligner(head_neg_interp_g1, ax2, ax3, linewidth=.2,alpha = 0.5, direction=None, c1=c1, c2=c2)\n",
    "print(\"data structure of head_interp_groups is\")\n",
    "print(len(head_pos_interp_g0))\n",
    "print(\"data structure of head_interp_groups is\")\n",
    "print(len(head_neg_interp_g0))\n",
    "\n",
    "# r = plot_split_trajecs_turn_aligner(head_pos_interp_g1, ax1, ax2)\n",
    "# r2 = plot_split_trajecs_turn_aligner(head_neg_interp_g1, ax1, ax2, direction=None)\n",
    "\n",
    "# anemometric_saccade_info_uwpos, anemotaxis_saccade_info_uwpos, n_with_2_turns, n_without_2_turns = r\n",
    "# anemometric_saccade_info_uwneg, anemotaxis_saccade_info_uwneg, n_with_2_turns, n_without_2_turns = r2\n",
    "#for r in range(head_pos_interp_g0.shape[0]):\n",
    "#    ax2.plot(t_interp, head_pos_interp_g0[r], linewidth=0.5, color='lightskyblue', alpha=0.5)\n",
    "ax.set_xlim(-50, 1000)\n",
    "ax1.set_xlim(-50, 1000)\n",
    "ax1.set_ylim(-3.4, 3.4)\n",
    "ax1.set_yticklabels([])\n",
    "xticks = [0, 675, 1000]\n",
    "#print('N trajecs in raw panel: ', head_pos_interp_g1.shape[0] + head_pos_interp_g0.shape[0])\n",
    "fifi.mpl_functions.adjust_spines(ax, ['left'], xticks=xticks, yticks=yticks, tick_length=3, linewidth=lw)\n",
    "fifi.mpl_functions.adjust_spines(ax1, ['left'], xticks=xticks, yticks=yticks, tick_length=3, linewidth=lw)\n",
    "\n",
    "\n",
    "xticks = [0, 675, 1000]\n",
    "\n",
    "#####################################################################################################\n",
    "#Plotting leftover trajectoryes\n",
    "for r in range(len(head_neg_interp_g0)):\n",
    "    x, y = remove_discontinuities(t_interp, head_neg_interp_g0[r])\n",
    "    ax1.plot(x, y, color = 'gray', linewidth = .2, alpha =.5)\n",
    "\n",
    "for r in range(len(head_pos_interp_g0)):\n",
    "    x, y = remove_discontinuities(t_interp, head_pos_interp_g0[r])\n",
    "    ax.plot(x, y, color = 'gray', linewidth = .2, alpha =.5)\n",
    "\n",
    "fifi.mpl_functions.set_fontsize(ax, fs)\n",
    "\n",
    "layout.append_figure_to_layer(layout.figures['u1_uw'], 'u1_uw', cleartarget=True)\n",
    "\n",
    "layout.write_svg(s8_template)\n",
    "\n",
    "#\n"
   ]
  },
  {
   "cell_type": "markdown",
   "metadata": {},
   "source": [
    "# Crosswind Subset"
   ]
  },
  {
   "cell_type": "code",
   "execution_count": 70,
   "metadata": {},
   "outputs": [
    {
     "name": "stderr",
     "output_type": "stream",
     "text": [
      "/home/flybot/PyNumDiff_ENV/lib/python3.5/site-packages/numpy/core/fromnumeric.py:3335: RuntimeWarning: Mean of empty slice.\n",
      "  out=out, **kwargs)\n",
      "/home/flybot/PyNumDiff_ENV/lib/python3.5/site-packages/numpy/core/_methods.py:161: RuntimeWarning: invalid value encountered in double_scalars\n",
      "  ret = ret.dtype.type(ret / rcount)\n"
     ]
    },
    {
     "name": "stdout",
     "output_type": "stream",
     "text": [
      "51\n",
      "21\n",
      "34\n",
      "70\n",
      "N trajecs in raw panel:  72\n"
     ]
    },
    {
     "name": "stderr",
     "output_type": "stream",
     "text": [
      "/home/flybot/PyNumDiff_ENV/lib/python3.5/site-packages/ipykernel_launcher.py:11: RuntimeWarning: invalid value encountered in greater_equal\n",
      "  # This is added back by InteractiveShellApp.init_path()\n"
     ]
    },
    {
     "name": "stdout",
     "output_type": "stream",
     "text": [
      "Two Turn Seqs detected = 46\n"
     ]
    },
    {
     "data": {
      "image/png": "[encoded data removed]",
      "text/plain": [
       "<Figure size 432x432 with 2 Axes>"
      ]
     },
     "metadata": {
      "needs_background": "light"
     },
     "output_type": "display_data"
    },
    {
     "data": {
      "image/png": "[encoded data removed]",
      "text/plain": [
       "<Figure size 432x432 with 2 Axes>"
      ]
     },
     "metadata": {
      "needs_background": "light"
     },
     "output_type": "display_data"
    },
    {
     "data": {
      "image/png": "[encoded data removed]",
      "text/plain": [
       "<Figure size 432x432 with 2 Axes>"
      ]
     },
     "metadata": {
      "needs_background": "light"
     },
     "output_type": "display_data"
    },
    {
     "data": {
      "image/png": "[encoded data removed]",
      "text/plain": [
       "<Figure size 432x432 with 2 Axes>"
      ]
     },
     "metadata": {
      "needs_background": "light"
     },
     "output_type": "display_data"
    },
    {
     "data": {
      "image/png": "[encoded data removed]",
      "text/plain": [
       "<Figure size 432x432 with 2 Axes>"
      ]
     },
     "metadata": {
      "needs_background": "light"
     },
     "output_type": "display_data"
    },
    {
     "data": {
      "image/png": "[encoded data removed]",
      "text/plain": [
       "<Figure size 432x432 with 3 Axes>"
      ]
     },
     "metadata": {
      "needs_background": "light"
     },
     "output_type": "display_data"
    },
    {
     "data": {
      "image/png": "[encoded data removed]",
      "text/plain": [
       "<Figure size 432x432 with 2 Axes>"
      ]
     },
     "metadata": {
      "needs_background": "light"
     },
     "output_type": "display_data"
    }
   ],
   "source": [
    "head_pos = []\n",
    "time_pos = []\n",
    "\n",
    "head_neg = []\n",
    "time_neg = []\n",
    "\n",
    "#########################################\n",
    "for i in cw_u1wt['obj_id_unique'].unique():\n",
    "\n",
    "    c=cw_u1wt[cw_u1wt['obj_id_unique']==i]\n",
    "    time_vec = c['time stamp'].values\n",
    "    head_vec= c['heading'].values\n",
    "\n",
    "    initial_head = np.median( head_vec[(time_vec>-50)*(time_vec<0)] )\n",
    "    sign = np.sign( initial_head )\n",
    "    head_vec *= sign\n",
    "    initial_head *= sign\n",
    "    \n",
    "    # signed ang vel\n",
    "    a = unwrap_angle(c['heading'].values, 5)\n",
    "    smootha, da = pynumdiff.linear_model.savgoldiff(a, dt, [3,5,5])\n",
    "    \n",
    "    \n",
    "    ix_plot = np.where( (time_vec>-50)*(time_vec<3000) )\n",
    "    ix_da = np.where( (time_vec>50)*(time_vec<200) )[0]\n",
    "    if np.mean(da[ix_da]) > 0:\n",
    "        \n",
    "        h, t, breaks = flymath.get_continuous_chunks(head_vec, time_vec, jump=np.pi/2.)\n",
    "        h_flipped = []\n",
    "        for chunk in range(len(h)):\n",
    "            if len(h[chunk]) > 0:\n",
    "                if t[chunk][0] > 0: # if time is after stimulus, consider flipping\n",
    "                    if h[chunk][0] < 0:\n",
    "                        #ax1.plot( np.array(t[chunk]), -1*np.array(h[chunk]), color = 'gray', linewidth = 1.5, alpha =0.15)\n",
    "                        h_flipped = np.hstack((h_flipped, -1*np.array(h[chunk])))\n",
    "                    else:\n",
    "                        #ax1.plot(t[chunk], h[chunk], color = 'gray', linewidth = 1.5, alpha =0.15)\n",
    "                        h_flipped = np.hstack((h_flipped, h[chunk]))\n",
    "                else:\n",
    "                    #ax1.plot(t[chunk], h[chunk], color = 'gray', linewidth = 1.5, alpha =0.15)\n",
    "                    h_flipped = np.hstack((h_flipped, h[chunk]))\n",
    "        \n",
    "        \n",
    "        head_pos.append(h_flipped[ix_plot])\n",
    "        time_pos.append(time_vec[ix_plot])\n",
    "#         x, y =remove_discontinuities(time_vec, h_flipped, jump=np.pi/2)\n",
    "#         ax1.plot(x, y, color = 'gray', linewidth = 1.5, alpha =0.15)\n",
    "    else:\n",
    "        head_neg.append(head_vec[ix_plot])\n",
    "        time_neg.append(time_vec[ix_plot])\n",
    "#         x, y =remove_discontinuities(time_vec, head_vec, jump=np.pi/2)\n",
    "#         ax2.plot(x, y, color = 'gray', linewidth = 1.5, alpha =0.15)\n",
    "\n",
    "####################################################################################################\n",
    "t_interp = np.arange(-50, 3000, 10)\n",
    "\n",
    "head_pos_interp = []\n",
    "for r in range(len(head_pos)):\n",
    "    head_interp = np.interp(t_interp, time_pos[r], head_pos[r])\n",
    "    head_pos_interp.append(head_interp)\n",
    "    \n",
    "head_neg_interp = []\n",
    "for r in range(len(head_neg)):\n",
    "    head_interp = np.interp(t_interp, time_neg[r], head_neg[r])\n",
    "    head_neg_interp.append(head_interp)\n",
    "head_neg_interp = np.vstack( head_neg_interp )\n",
    "\n",
    "head_pos_interp = np.vstack( head_pos_interp )\n",
    "# group 1 -- flies deviate more than the difference between heading and upwind\n",
    "head_pos_interp_g1 = []\n",
    "head_pos_interp_g0 = []\n",
    "\n",
    "ix = np.where(t_interp < 500)\n",
    "\n",
    "for r in range(head_pos_interp.shape[0]):\n",
    "    h = head_pos_interp[r,:]\n",
    "    if np.max(h[ix]) > (1.57+0.3925): # <<<< arbitrary\n",
    "        head_pos_interp_g1.append(h)\n",
    "    else:\n",
    "        head_pos_interp_g0.append(h)\n",
    "        \n",
    "head_pos_interp_g1 = np.vstack(head_pos_interp_g1)\n",
    "head_pos_interp_g0 = np.vstack(head_pos_interp_g0)\n",
    "\n",
    "print(len(head_pos_interp_g1))\n",
    "print(len(head_pos_interp_g0))\n",
    "# group 1 -- flies deviate more than the difference between heading and upwind\n",
    "head_neg_interp_g1 = []\n",
    "head_neg_interp_g0 = []\n",
    "\n",
    "ix = np.where(t_interp < 500)\n",
    "for r in range(head_neg_interp.shape[0]):\n",
    "    h = head_neg_interp[r,:]\n",
    "    if np.min(h[ix]) < -0.3925: # <<<< arbitrary\n",
    "        head_neg_interp_g1.append(h)\n",
    "    else:\n",
    "        head_neg_interp_g0.append(h)\n",
    "        \n",
    "head_neg_interp_g1 = np.vstack(head_neg_interp_g1)\n",
    "head_neg_interp_g0 = np.vstack(head_neg_interp_g0)\n",
    "\n",
    "print(len(head_neg_interp_g1))\n",
    "print(len(head_neg_interp_g0))\n",
    "\n",
    "##################################################################################\n",
    "t_interp = t_interp.astype(float)\n",
    "##################################################################################\n",
    "layout =fifi.svg_to_axes.FigureLayout(s8_template, \n",
    "                                      autogenlayers=True, make_mplfigures=True, hide_layers=[])\n",
    "ax=layout.axes[('u1_cw', 'pos')]\n",
    "ax1= layout.axes[('u1_cw', 'neg')]\n",
    "\n",
    "\n",
    "##################################################################################\n",
    "yticks = [-3.14, -1.57, 0, 1.57, 3.14]\n",
    "#fig, ax = plt.subplots(3, 1, figsize = (3, 8))\n",
    "ax.set_yticklabels([])\n",
    "ax.set_xlim(-50, 1000)\n",
    "# plot raw\n",
    "# for i in cw_orco['obj_id_unique'].unique():\n",
    "#     c = cw_orco[cw_orco['obj_id_unique']==i]\n",
    "#     x =c['time stamp'].to_numpy()\n",
    "#     y=c['heading'].to_numpy()\n",
    "#     x, y = remove_discontinuities(x, y, jump=np.pi/2)\n",
    "#     ax.plot(x, y, color = 'gray',linewidth = 0.5, alpha = 0.2,  markeredgecolor = None)\n",
    "\n",
    "ax.set_xlim(-50, 1000)\n",
    "ax.set_ylim(-3.14, 3.14)\n",
    "xticks = [0, 675, 1000]\n",
    "\n",
    "ax1.set_xlim(-50, 1000)\n",
    "print('N trajecs in raw panel: ', head_pos_interp_g1.shape[0] + head_pos_interp_g0.shape[0])\n",
    "fifi.mpl_functions.adjust_spines(ax, ['left'], xticks=xticks, yticks=yticks, tick_length=3, linewidth=lw)\n",
    "\n",
    "\n",
    "# plot the broken and leftover trajectories\n",
    "\n",
    "r = plot_raw_course_single_ax_u1wt(head_pos_interp_g1, ax, c1=c1, c2=c2, alpha = 0.5)\n",
    "r2 = plot_raw_course_single_ax_u1wt(head_neg_interp_g1, ax1, alpha = 0.5, direction=None, c1=c1, c2= c2)\n",
    "\n",
    "# anemometric_saccade_info_cwpos, anemotaxis_saccade_info_cwpos, n_with_2_turns_cw_pos, n_without_2_turns = r\n",
    "# anemometric_saccade_info_cwneg, anemotaxis_saccade_info_cwneg, n_with_2_turns_cw_neg, n_without_2_turns = r2\n",
    "\n",
    "for r in range(len(head_neg_interp_g0)):\n",
    "    x, y = remove_discontinuities(t_interp, head_neg_interp_g0[r])\n",
    "    ax1.plot(x, y, color = 'gray', linewidth = .2, alpha =.5)\n",
    "\n",
    "for r in range(len(head_pos_interp_g0)):\n",
    "    x, y = remove_discontinuities(t_interp, head_pos_interp_g0[r])\n",
    "    ax.plot(x, y, color = 'gray', linewidth = .2, alpha =.5)\n",
    "\n",
    "\n",
    "\n",
    "#ax1.set_xlim(-150, 150)\n",
    "ax1.set_ylim(-3.4, 3.4)\n",
    "ax1.set_yticklabels([])\n",
    "xticks = [0, 675, 1000]\n",
    "\n",
    "fifi.mpl_functions.adjust_spines(ax1, ['left'], xticks=[], yticks=yticks, linewidth = lw, tick_length=3 )\n",
    "fifi.mpl_functions.adjust_spines(ax2, [], xticks=[], yticks=yticks)\n",
    "fifi.mpl_functions.adjust_spines(ax3, [], xticks=[], yticks=yticks)\n",
    "\n",
    "\n",
    "\n",
    "\n",
    "\n",
    "print(\"Two Turn Seqs detected = \" + str(n_with_2_turns_cw_neg+n_with_2_turns_cw_pos))\n",
    "fifi.mpl_functions.set_fontsize(ax, fs)\n",
    "\n",
    "\n",
    "layout.append_figure_to_layer(layout.figures['u1_cw'], 'u1_cw', cleartarget=True)\n",
    "\n",
    "layout.write_svg(s8_template)\n",
    "#layout.append_figure_to_layer(layout.figures['upwind_pos'], 'upwind_pos', cleartarget=True)\n",
    "#layout.write_svg('anemo_metric_taxis.svg')\n"
   ]
  },
  {
   "cell_type": "markdown",
   "metadata": {},
   "source": [
    "# Ethanol Supp- Ethanol data from VB 2014 is in a different format so will require a slightly different pipeline"
   ]
  },
  {
   "cell_type": "code",
   "execution_count": 71,
   "metadata": {},
   "outputs": [],
   "source": [
    "s9_template = '../figure_first_templates/etoh_anemo_for_supp.svg'"
   ]
  },
  {
   "cell_type": "code",
   "execution_count": 72,
   "metadata": {},
   "outputs": [],
   "source": [
    "etoh=pd.read_hdf('../trimmed_data/supp/fly_trajec_data_all_etoh.hdf')"
   ]
  },
  {
   "cell_type": "code",
   "execution_count": 73,
   "metadata": {},
   "outputs": [
    {
     "data": {
      "image/png": "[encoded data removed]",
      "text/plain": [
       "<Figure size 432x360 with 2 Axes>"
      ]
     },
     "metadata": {
      "needs_background": "light"
     },
     "output_type": "display_data"
    },
    {
     "data": {
      "image/png": "[encoded data removed]",
      "text/plain": [
       "<Figure size 432x360 with 2 Axes>"
      ]
     },
     "metadata": {
      "needs_background": "light"
     },
     "output_type": "display_data"
    }
   ],
   "source": [
    "#Orco heading and angvel pltos\n",
    "layout =fifi.svg_to_axes.FigureLayout(s9_template, \n",
    "                                      autogenlayers=True, make_mplfigures=True, hide_layers=[])\n",
    "\n",
    "ax = layout.axes[('orco', 'head')]\n",
    "ax1 = layout.axes[('orco', 'angvel')]\n",
    "\n",
    "############################################################################\n",
    "\n",
    "for r in uw_orco['obj_id_unique'].unique():\n",
    "    t =uw_orco[uw_orco['obj_id_unique']==r]\n",
    "    x =t['time stamp'].to_numpy()\n",
    "    y=t['heading'].to_numpy()\n",
    "    x, y = remove_discontinuities(x, y)\n",
    "    ax.plot(x, y, color = 'gray', linewidth = .2, alpha =.4)\n",
    "\n",
    "ax.set_xlim(0, 680)\n",
    "ax.set_ylim(-3.2, 3.2)\n",
    "ax.set_yticklabels([])\n",
    "ax.set_xticklabels([])\n",
    "fifi.mpl_functions.adjust_spines(ax, ['left', 'bottom'],xticks=[0, 680], yticks =[-np.pi, -np.pi/2, 0, np.pi/2, np.pi],\n",
    "                                                                                     tick_length=3, linewidth=lw)\n",
    "\n",
    "#Angular Velocity plot\n",
    "t, m, u, l = slice_means_gs(uw_orco, 'smoothed_angvel_params_128')\n",
    "\n",
    "ax1.plot(t, m, linewidth = lw, color = 'sienna')\n",
    "ax1.fill_between(t, u, l, color = 'sienna', alpha = 0.2, label = '', linewidth =0)\n",
    "ax1.set_xlim(0, 680)\n",
    "ax1.set_ylim(0, 16)\n",
    "ax1.set_yticklabels([])\n",
    "ax1.set_xticklabels([])\n",
    "fifi.mpl_functions.adjust_spines(ax1, ['left', 'bottom'],xticks=[0, 680], yticks =[0, 16],\n",
    "                                                                                     tick_length=3, linewidth=lw)\n",
    "layout.append_figure_to_layer(layout.figures['orco'], 'orco', cleartarget=True)\n",
    "layout.write_svg(s9_template)"
   ]
  },
  {
   "cell_type": "code",
   "execution_count": 75,
   "metadata": {},
   "outputs": [],
   "source": [
    "df=etoh"
   ]
  },
  {
   "cell_type": "code",
   "execution_count": 78,
   "metadata": {},
   "outputs": [],
   "source": [
    "df.course_smooth = wrap_angle(df.course+np.pi)\n"
   ]
  },
  {
   "cell_type": "code",
   "execution_count": 79,
   "metadata": {},
   "outputs": [],
   "source": [
    "df_odor = df[df.odor_stimulus=='on']"
   ]
  },
  {
   "cell_type": "code",
   "execution_count": 80,
   "metadata": {},
   "outputs": [],
   "source": [
    "# first turns only\n",
    "\n",
    "odors = []\n",
    "\n",
    "times_uw = []\n",
    "courses_uw = []\n",
    "\n",
    "times_cw = []\n",
    "courses_cw = []\n",
    "\n",
    "for objid in df_odor.objid.unique():\n",
    "    #print(objid)\n",
    "    trajec = df_odor[df_odor.objid==objid]\n",
    "    chunks, breaks = flymath.get_continuous_chunks(trajec.time_since_odor_onset)\n",
    "    \n",
    "    if len(chunks) > 0:\n",
    "        chunk = None\n",
    "        b = None\n",
    "        ix = 0\n",
    "        while chunk is None:\n",
    "            if len(chunks[ix]) == 0:\n",
    "                ix += 1\n",
    "                continue\n",
    "                \n",
    "            if chunks[ix][0] == 0 and len(chunks[ix]) > 10:\n",
    "                chunk = chunks[ix]\n",
    "                b = breaks[ix]\n",
    "                break\n",
    "            ix += 1\n",
    "            if ix > len(chunks)-1:\n",
    "                break\n",
    "        \n",
    "        if chunk is not None:\n",
    "            start = np.max( (0, b-30) )\n",
    "            end = np.min( (b+200, trajec.shape[0]) )\n",
    "            odors.append(trajec.iloc[b:end].odor.max())\n",
    "            #print(b, end, trajec.shape)\n",
    "            \n",
    "            if np.mean( np.abs(trajec.iloc[start:end].course_smooth.values[0:30] )) < 30*np.pi/180:\n",
    "                times_uw.append(trajec.iloc[start:end].time_epoch - trajec.iloc[b:end].time_epoch.values[0])\n",
    "                courses_uw.append( trajec.iloc[start:end].course_smooth )\n",
    "                #ax1.plot(trajec.iloc[b:end].time_epoch - trajec.iloc[b:end].time_epoch.values[0], trajec.iloc[b:end].course_smooth)\n",
    "            #elif np.abs( trajec.iloc[start:end].course_smooth.values[0] ) > 45*np.pi/180 and np.abs( trajec.iloc[start:end].course_smooth.values[0] ) < 135*np.pi/180:\n",
    "            #    times_cw.append(trajec.iloc[start:end].time_epoch - trajec.iloc[b:end].time_epoch.values[0])\n",
    "            #    courses_cw.append( trajec.iloc[start:end].course_smooth )\n",
    "            #    #ax2.plot(trajec.iloc[b:end].time_epoch - trajec.iloc[b:end].time_epoch.values[0], trajec.iloc[b:end].course_smooth)"
   ]
  },
  {
   "cell_type": "code",
   "execution_count": 81,
   "metadata": {},
   "outputs": [],
   "source": [
    "ethanol_anemometric_turns_first_encounter = {'times_uw': times_uw,\n",
    "                                             'courses_uw': courses_uw}"
   ]
  },
  {
   "cell_type": "code",
   "execution_count": 82,
   "metadata": {},
   "outputs": [],
   "source": [
    "# all turns\n",
    "\n",
    "odors = []\n",
    "\n",
    "times_uw = []\n",
    "courses_uw = []\n",
    "\n",
    "time_since_last_odor = []\n",
    "\n",
    "times_cw = []\n",
    "courses_cw = []\n",
    "\n",
    "for objid in df_odor.objid.unique():\n",
    "    #print(objid)\n",
    "    trajec = df_odor[df_odor.objid==objid]\n",
    "    chunks, breaks = flymath.get_continuous_chunks(trajec.time_since_odor_onset)\n",
    "    \n",
    "    if len(chunks) > 0:\n",
    "        for ix, chunk in enumerate(chunks):\n",
    "            if len(chunk) > 0 and chunk[0]  == 0:\n",
    "                b = breaks[ix]\n",
    "                start = np.max( (0, b-60) )\n",
    "                end = np.min( (b+200, trajec.shape[0]) )\n",
    "                odors.append(trajec.iloc[b:end].odor.max())\n",
    "                #print(b, end, trajec.shape)\n",
    "\n",
    "                if np.mean( np.abs(trajec.iloc[start:end].course_smooth.values[30:60] )) < 30*np.pi/180:\n",
    "                    times_uw.append(trajec.iloc[start:end].time_epoch - trajec.iloc[b:end].time_epoch.values[0])\n",
    "                    courses_uw.append( trajec.iloc[start:end].course_smooth )\n",
    "                    \n",
    "                    if ix > 1:\n",
    "                        time_since_last_odor.append( (b - breaks[ix-1])*0.01 )\n",
    "                    else:\n",
    "                        time_since_last_odor.append(np.nan)\n",
    "                    #ax1.plot(trajec.iloc[b:end].time_epoch - trajec.iloc[b:end].time_epoch.values[0], trajec.iloc[b:end].course_smooth)\n",
    "                #elif np.abs( trajec.iloc[start:end].course_smooth.values[0] ) > 45*np.pi/180 and np.abs( trajec.iloc[start:end].course_smooth.values[0] ) < 135*np.pi/180:\n",
    "                #    times_cw.append(trajec.iloc[start:end].time_epoch - trajec.iloc[b:end].time_epoch.values[0])\n",
    "                #    courses_cw.append( trajec.iloc[start:end].course_smooth )\n",
    "                #    #ax2.plot(trajec.iloc[b:end].time_epoch - trajec.iloc[b:end].time_epoch.values[0], trajec.iloc[b:end].course_smooth)"
   ]
  },
  {
   "cell_type": "code",
   "execution_count": 83,
   "metadata": {},
   "outputs": [],
   "source": [
    "ethanol_anemometric_turns_all_encounters = {'times_uw': times_uw,\n",
    "                                             'courses_uw': courses_uw,\n",
    "                                            'odors': odors,\n",
    "                                            'time_since_last_odor': time_since_last_odor}"
   ]
  },
  {
   "cell_type": "code",
   "execution_count": 84,
   "metadata": {},
   "outputs": [],
   "source": [
    "heads = ethanol_anemometric_turns_all_encounters['courses_uw']\n",
    "times = ethanol_anemometric_turns_all_encounters['times_uw']"
   ]
  },
  {
   "cell_type": "code",
   "execution_count": 85,
   "metadata": {},
   "outputs": [],
   "source": [
    "def remove_discontinuities(x, y, jump=2):\n",
    "    \"\"\"\n",
    "    Returns an array with np.nan inserted between all discontinuities (defined by the size of jump), this prevents plotting functions from plotting the connecting line, which looks ugly.\n",
    "    \n",
    "    x    -- numpy array (1 dim)\n",
    "    y    -- numpy array with the discontinuities (1 dim)\n",
    "    jump -- size of discontinuity to break\n",
    "    \n",
    "    \"\"\"\n",
    "\n",
    "    pos = np.where(np.abs(np.diff(y)) >= jump)[0]+1\n",
    "    x = np.insert(x, pos, np.nan)\n",
    "    y = np.insert(y, pos, np.nan)\n",
    "    \n",
    "    return x, y\n",
    "    "
   ]
  },
  {
   "cell_type": "code",
   "execution_count": 86,
   "metadata": {},
   "outputs": [],
   "source": [
    "def unwrap_angle(z, correction_window_for_2pi=100, n_range=2, plot=False):\n",
    "\n",
    "        \n",
    "    smooth_zs = np.array(z[0:2])\n",
    "    for i in range(2, len(z)):\n",
    "        first_ix = np.max([0, i-correction_window_for_2pi])\n",
    "        last_ix = i\n",
    "\n",
    "        nbase = np.round( (smooth_zs[-1] - z[i])/(2*np.pi) )\n",
    "\n",
    "        candidates = []\n",
    "        for n in range(-1*n_range, n_range):\n",
    "            candidates.append(n*2*np.pi+nbase*2*np.pi+z[i])\n",
    "        error = np.abs(candidates - np.mean(smooth_zs[first_ix:last_ix])) \n",
    "        smooth_zs = np.hstack(( smooth_zs, [candidates[np.argmin(error)]] ))\n",
    "    if plot:\n",
    "        plt.plot(smooth_zs, '.', color='black', markersize=1)\n",
    "        \n",
    "    return smooth_zs"
   ]
  },
  {
   "cell_type": "code",
   "execution_count": 87,
   "metadata": {},
   "outputs": [],
   "source": [
    "linewidth = 0.4\n",
    "dt = 0.01\n",
    "head_pos = []\n",
    "time_pos = []\n",
    "\n",
    "head_neg = []\n",
    "time_neg = []\n"
   ]
  },
  {
   "cell_type": "code",
   "execution_count": 95,
   "metadata": {},
   "outputs": [],
   "source": [
    "t0=-1\n",
    "t_interp = np.arange(t0, 1, 0.01)\n",
    "\n",
    "head_pos_interp = []\n",
    "for r in range(len(head_pos)):\n",
    "    head_interp = np.interp(t_interp, time_pos[r], head_pos[r])\n",
    "    ix = np.where(t_interp > time_pos[r][-1])\n",
    "    head_interp[ix] = np.nan\n",
    "    ix = np.where(t_interp < time_pos[r][0])\n",
    "    head_interp[ix] = np.nan\n",
    "    #if len(ix[0]) == 0:\n",
    "    head_pos_interp.append(head_interp)\n",
    "    \n",
    "head_neg_interp = []\n",
    "for r in range(len(head_neg)):\n",
    "    head_interp = np.interp(t_interp, time_neg[r], head_neg[r])\n",
    "    ix = np.where(t_interp > time_neg[r][-1])\n",
    "    head_interp[ix] = np.nan\n",
    "    ix = np.where(t_interp < time_neg[r][0])\n",
    "    head_interp[ix] = np.nan\n",
    "    #if len(ix[0]) == 0:\n",
    "    head_neg_interp.append(head_interp)"
   ]
  },
  {
   "cell_type": "code",
   "execution_count": 96,
   "metadata": {},
   "outputs": [],
   "source": [
    "head_neg_interp = np.vstack( head_neg_interp )\n",
    "\n",
    "head_pos_interp = np.vstack( head_pos_interp )\n"
   ]
  },
  {
   "cell_type": "code",
   "execution_count": 98,
   "metadata": {},
   "outputs": [],
   "source": [
    "t_interp = t_interp.astype(float)"
   ]
  },
  {
   "cell_type": "code",
   "execution_count": 99,
   "metadata": {},
   "outputs": [],
   "source": [
    "ang_vels = []\n",
    "ang_vels_u =[]\n",
    "ang_vels_l=[]\n",
    "for r in range(len(head_neg_interp)):\n",
    "    head_vec = head_neg_interp[r]\n",
    "    ix = np.where( ~np.isnan(head_vec) )\n",
    "    a = unwrap_angle(head_vec[ix], 5)\n",
    "    smootha, da = pynumdiff.linear_model.savgoldiff(a, dt, [3,5,5])\n",
    "    dafull = np.ones_like(head_vec)*np.nan\n",
    "    dafull[ix] = da\n",
    "    ang_vels.append( np.abs(dafull) )\n",
    "for r in range(len(head_pos_interp)):\n",
    "    head_vec = head_pos_interp[r]\n",
    "    ix = np.where( ~np.isnan(head_vec) )\n",
    "    a = unwrap_angle(head_vec[ix], 5)\n",
    "    smootha, da = pynumdiff.linear_model.savgoldiff(a, dt, [3,5,5])\n",
    "    dafull = np.ones_like(head_vec)*np.nan\n",
    "    dafull[ix] = da\n",
    "    ang_vels.append( np.abs(dafull) )"
   ]
  },
  {
   "cell_type": "code",
   "execution_count": 100,
   "metadata": {},
   "outputs": [
    {
     "name": "stderr",
     "output_type": "stream",
     "text": [
      "/home/flybot/PyNumDiff_ENV/lib/python3.5/site-packages/ipykernel_launcher.py:4: RuntimeWarning: Mean of empty slice\n",
      "  after removing the cwd from sys.path.\n"
     ]
    },
    {
     "data": {
      "text/plain": [
       "[<matplotlib.lines.Line2D at 0x7f242011dd30>]"
      ]
     },
     "execution_count": 100,
     "metadata": {},
     "output_type": "execute_result"
    },
    {
     "data": {
      "image/png": "[encoded data removed]",
      "text/plain": [
       "<Figure size 432x288 with 1 Axes>"
      ]
     },
     "metadata": {
      "needs_background": "light"
     },
     "output_type": "display_data"
    }
   ],
   "source": [
    "fig = plt.figure()\n",
    "ax = fig.add_subplot(111)\n",
    "\n",
    "mean = np.nanmean(np.vstack(ang_vels), axis=0)\n",
    "ax.plot(t_interp, mean, color='blue')"
   ]
  },
  {
   "cell_type": "code",
   "execution_count": 101,
   "metadata": {},
   "outputs": [
    {
     "data": {
      "image/png": "[encoded data removed]",
      "text/plain": [
       "<Figure size 432x360 with 2 Axes>"
      ]
     },
     "metadata": {
      "needs_background": "light"
     },
     "output_type": "display_data"
    },
    {
     "data": {
      "image/png": "[encoded data removed]",
      "text/plain": [
       "<Figure size 432x360 with 2 Axes>"
      ]
     },
     "metadata": {
      "needs_background": "light"
     },
     "output_type": "display_data"
    }
   ],
   "source": [
    "layout =fifi.svg_to_axes.FigureLayout(s9_template, \n",
    "                                      autogenlayers=True, make_mplfigures=True, hide_layers=[])\n",
    "ax = layout.axes[('etoh', 'head')]\n",
    "ax1 = layout.axes[('etoh', 'angvel')]\n",
    "############################################################\n",
    "#Gray head plots\n",
    "for i in range(len(heads)):\n",
    "\n",
    "    head_vec = heads[i].values\n",
    "    time_vec = times[i].values\n",
    "\n",
    "    a = unwrap_angle(head_vec, 5)\n",
    "    smootha, da = pynumdiff.linear_model.savgoldiff(a, dt, [3,5,5])\n",
    "    \n",
    "    \n",
    "    ix_plot = np.where( (time_vec>t0)*(time_vec<3) )\n",
    "    ix_da = np.where( (time_vec>-0.05)*(time_vec<0.2) )[0]\n",
    "    if np.mean(a[ix_da]) > 0:\n",
    "        \n",
    "#         h, t, breaks = flymath.get_continuous_chunks(head_vec, time_vec, jump=np.pi/2.)\n",
    "#         h_flipped = []\n",
    "#         for chunk in range(len(h)):\n",
    "#             if len(h[chunk]) > 0:\n",
    "#                 if t[chunk][0] > 0: # if time is after stimulus, consider flipping\n",
    "#                     if h[chunk][0] < 0:\n",
    "#                         #ax1.plot( np.array(t[chunk]), -1*np.array(h[chunk]), color = 'gray', linewidth = 1.5, alpha =0.15)\n",
    "#                         h_flipped = np.hstack((h_flipped, -1*np.array(h[chunk])))\n",
    "#                     else:\n",
    "#                         #ax1.plot(t[chunk], h[chunk], color = 'gray', linewidth = 1.5, alpha =0.15)\n",
    "#                         h_flipped = np.hstack((h_flipped, h[chunk]))\n",
    "#                 else:\n",
    "#                     #ax1.plot(t[chunk], h[chunk], color = 'gray', linewidth = 1.5, alpha =0.15)\n",
    "#                     h_flipped = np.hstack((h_flipped, h[chunk]))\n",
    "        \n",
    "        \n",
    "        head_pos.append(head_vec[ix_plot])\n",
    "        time_pos.append(time_vec[ix_plot])\n",
    "        x, y =remove_discontinuities(time_vec[ix_plot], head_vec[ix_plot], jump=np.pi/2)\n",
    "        ax.plot(x, y, color = 'gray', linewidth = lw, alpha =0.1)\n",
    "    else:\n",
    "        \n",
    "#         h, t, breaks = flymath.get_continuous_chunks(head_vec, time_vec, jump=np.pi/2.)\n",
    "#         h_flipped = []\n",
    "#         for chunk in range(len(h)):\n",
    "#             if len(h[chunk]) > 0:\n",
    "#                 if t[chunk][0] > 0: # if time is after stimulus, consider flipping\n",
    "#                     if h[chunk][0] > 0:\n",
    "#                         #ax1.plot( np.array(t[chunk]), -1*np.array(h[chunk]), color = 'gray', linewidth = 1.5, alpha =0.15)\n",
    "#                         h_flipped = np.hstack((h_flipped, -1*np.array(h[chunk])))\n",
    "#                     else:\n",
    "#                         #ax1.plot(t[chunk], h[chunk], color = 'gray', linewidth = 1.5, alpha =0.15)\n",
    "#                         h_flipped = np.hstack((h_flipped, h[chunk]))\n",
    "#                 else:\n",
    "#                     #ax1.plot(t[chunk], h[chunk], color = 'gray', linewidth = 1.5, alpha =0.15)\n",
    "#                     h_flipped = np.hstack((h_flipped, h[chunk]))\n",
    "                    \n",
    "        head_neg.append(head_vec[ix_plot])\n",
    "        time_neg.append(time_vec[ix_plot])\n",
    "        x, y =remove_discontinuities(time_vec[ix_plot], head_vec[ix_plot], jump=np.pi/2)\n",
    "        ax.plot(x, y, color = 'gray', linewidth = lw, alpha =0.1)\n",
    "\n",
    "\n",
    "############################################################\n",
    "#two peaks in ang vel profile\n",
    "ax1.plot(t_interp, mean, linewidth = lw, color = 'sienna')\n",
    "\n",
    "\n",
    "###########################################################\n",
    "#Axis handling\n",
    "ax.set_ylim(-3.14, 3.14)\n",
    "ax.set_xlim(-.15, .53)\n",
    "\n",
    "ax.set_yticklabels([])\n",
    "ax.set_xticklabels([])\n",
    "\n",
    "ax1.set_xlim(-.15, .53)\n",
    "ax1.set_ylim(0, 8)\n",
    "\n",
    "ax1.set_yticklabels([])\n",
    "ax1.set_xticklabels([])\n",
    "fifi.mpl_functions.adjust_spines(ax1, ['left', 'bottom'],xticks=[-.15,0, .53], yticks =[0, 8],\n",
    "                                                                                     tick_length=3, linewidth=lw)\n",
    "fifi.mpl_functions.adjust_spines(ax, ['left', 'bottom'],xticks=[-.15,0, .53], yticks =[-3.14, -3.14/2, 0, 3.14/2, 3.14],\n",
    "                                                                                     tick_length=3, linewidth=lw)\n",
    "\n",
    "layout.append_figure_to_layer(layout.figures['etoh'], 'etoh', cleartarget=True)\n",
    "layout.write_svg(s9_template)"
   ]
  },
  {
   "cell_type": "code",
   "execution_count": 7366,
   "metadata": {},
   "outputs": [],
   "source": [
    "def slice_means_time_lumping(df, index, time_key= \"time stamp\", start=-100, stop=3000, bin_size=10):\n",
    "    time_vec=[]\n",
    "    mean_vec=[]\n",
    "    upper_vec =[]\n",
    "    lower_vec =[]\n",
    "    df=df[df[time_key].between(start, stop)]\n",
    "    temporal_bins=np.arange(start, stop, bin_size)\n",
    "    #print(temporal_bins)\n",
    "    for i in temporal_bins:\n",
    "        dummy_df =df[df[time_key].between(i-bin_size/2, i+bin_size/2)]\n",
    "        time_vec.append(i)\n",
    "        \n",
    "        mean = dummy_df[index].mean()\n",
    "        upper= dummy_df[index].mean() + dummy_df[index].sem()*1.96\n",
    "        lower= dummy_df[index].mean() - dummy_df[index].sem()*1.96\n",
    "        mean_vec.append(mean)\n",
    "        upper_vec.append(upper)\n",
    "        lower_vec.append(lower)\n",
    "    return time_vec, mean_vec, upper_vec, lower_vec"
   ]
  },
  {
   "cell_type": "code",
   "execution_count": null,
   "metadata": {},
   "outputs": [],
   "source": []
  }
 ],
 "metadata": {
  "kernelspec": {
   "display_name": "PyNumDiff_ENV",
   "language": "python",
   "name": "pynumdiff_env"
  },
  "language_info": {
   "codemirror_mode": {
    "name": "ipython",
    "version": 3
   },
   "file_extension": ".py",
   "mimetype": "text/x-python",
   "name": "python",
   "nbconvert_exporter": "python",
   "pygments_lexer": "ipython3",
   "version": "3.5.2"
  }
 },
 "nbformat": 4,
 "nbformat_minor": 2
}
