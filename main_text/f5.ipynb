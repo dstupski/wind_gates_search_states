{
 "cells": [
  {
   "cell_type": "code",
   "execution_count": 1,
   "metadata": {},
   "outputs": [
    {
     "name": "stdout",
     "output_type": "stream",
     "text": [
      "2.2.4\n",
      "recommended version: 1.1.1 or greater\n"
     ]
    }
   ],
   "source": [
    "import fly_plot_lib.plot as fpl\n",
    "import numpy as np\n",
    "import matplotlib.pyplot as plt\n",
    "import pandas as pd\n",
    "import figurefirst as fifi\n",
    "# from statsmodels.stats import proportions_ztest"
   ]
  },
  {
   "cell_type": "markdown",
   "metadata": {},
   "source": [
    "# Quick data load and some small slicing"
   ]
  },
  {
   "cell_type": "code",
   "execution_count": 2,
   "metadata": {},
   "outputs": [],
   "source": [
    "#No wind\n",
    "dfn=pd.read_csv('../trimmed_data/main/Orco_CsChrimson_still_air_merged.csv')\n",
    "#Laminar Wind\n",
    "dfl=pd.read_csv('../trimmed_data/main/OrcoCsChrimson_laminar_wind_merged.csv')"
   ]
  },
  {
   "cell_type": "markdown",
   "metadata": {},
   "source": [
    "# Function that sets the origin of a trajectory to the end point of the optogenetic pulse or in the case of shams simply 675ms after the triggering event"
   ]
  },
  {
   "cell_type": "code",
   "execution_count": 7,
   "metadata": {},
   "outputs": [],
   "source": [
    "df_catcher_l= []\n",
    "for i in dfn['obj_id_unique'].unique():\n",
    "    d_ =dfn[dfn['obj_id_unique']==i]\n",
    "    d_=d_[d_['time stamp'].between(-200, 6000)]\n",
    "    try:\n",
    "        ind = np.where(d_['time stamp']==680)[0][0]\n",
    "        ind0 =np.where(d_['time stamp']==0)[0][0]\n",
    "        #if d_['xvel'].iloc[ind0]<0:\n",
    "        #    d_['x']=d_['x']*-1\n",
    "        x_ref =d_['x'].iloc[ind]\n",
    "        y_ref = d_['y'].iloc[ind]\n",
    "        d_['norm x']=d_['x']-x_ref\n",
    "        d_['norm y']=d_['y']-y_ref\n",
    "        df_catcher_l.append(d_)\n",
    "    except:\n",
    "        pass"
   ]
  },
  {
   "cell_type": "code",
   "execution_count": 8,
   "metadata": {},
   "outputs": [],
   "source": [
    "df_catcher_= []\n",
    "for i in dfl['obj_id_unique'].unique():\n",
    "    d_ =dfl[dfl['obj_id_unique']==i]\n",
    "    d_=d_[d_['time stamp'].between(-200, 5000)]\n",
    "    try:\n",
    "        ind = np.where(d_['time stamp']==680)[0][0]\n",
    "        ind0 =np.where(d_['time stamp']==0)[0][0]\n",
    "        #if d_['xvel'].iloc[ind0]<0:\n",
    "        #    d_['x']=d_['x']*-1\n",
    "        x_ref =d_['x'].iloc[ind]\n",
    "        y_ref = d_['y'].iloc[ind]\n",
    "        d_['norm x']=d_['x']-x_ref\n",
    "        d_['norm y']=d_['y']-y_ref\n",
    "        df_catcher_.append(d_)\n",
    "    except:\n",
    "        pass"
   ]
  },
  {
   "cell_type": "code",
   "execution_count": 9,
   "metadata": {},
   "outputs": [],
   "source": [
    "dfn =pd.concat(df_catcher_l)\n",
    "dfl=pd.concat(df_catcher_)"
   ]
  },
  {
   "cell_type": "markdown",
   "metadata": {},
   "source": [
    "# horizontal distance from odor loss point"
   ]
  },
  {
   "cell_type": "code",
   "execution_count": 11,
   "metadata": {},
   "outputs": [],
   "source": [
    "dfn['distance from center']=(dfn['norm x']**2 +dfn['norm y']**2)**0.5\n",
    "dfl['distance from center']=(dfl['norm x']**2 +dfl['norm y']**2)**0.5"
   ]
  },
  {
   "cell_type": "code",
   "execution_count": 12,
   "metadata": {},
   "outputs": [],
   "source": [
    "dfn100=dfn[dfn['duration']==100]\n",
    "dfn0=dfn[dfn['duration']==0]\n",
    "dfl100=dfl[dfl['duration']==100]\n",
    "dfl0=dfl[dfl['duration']==0]"
   ]
  },
  {
   "cell_type": "code",
   "execution_count": 18,
   "metadata": {},
   "outputs": [],
   "source": [
    "def slice_means(df, index):\n",
    "    time_vec=[]\n",
    "    mean_vec=[]\n",
    "    upper_vec =[]\n",
    "    lower_vec =[]\n",
    "    for i in df['time stamp'].unique():\n",
    "        if i >-100 and i <5000:\n",
    "            dummy_df =df[df['time stamp']==i]\n",
    "            #helps remove edge errors with calibration not working near walls as accurately\n",
    "            dummy_df=dummy_df[dummy_df['x'].between(-.5, .5)]\n",
    "            dummy_df=dummy_df[dummy_df['y'].between(-.25, .25)]\n",
    "            time_vec.append(i)\n",
    "            mean = dummy_df[index].mean()\n",
    "            upper= dummy_df[index].mean() + dummy_df[index].sem()*1.96\n",
    "            lower= dummy_df[index].mean() - dummy_df[index].sem()*1.96\n",
    "            mean_vec.append(mean)\n",
    "            upper_vec.append(upper)\n",
    "            lower_vec.append(lower)\n",
    "    return time_vec, mean_vec, upper_vec, lower_vec\n",
    "\n",
    "\n"
   ]
  },
  {
   "cell_type": "markdown",
   "metadata": {},
   "source": [
    "# FiFI setup"
   ]
  },
  {
   "cell_type": "code",
   "execution_count": 3,
   "metadata": {},
   "outputs": [
    {
     "data": {
      "image/png": "[encoded data removed]",
      "text/plain": [
       "<Figure size 595.276x841.89 with 6 Axes>"
      ]
     },
     "metadata": {
      "needs_background": "light"
     },
     "output_type": "display_data"
    }
   ],
   "source": [
    "template = '../figure_first_templates/f5.svg'\n",
    "layout =fifi.svg_to_axes.FigureLayout(template, autogenlayers=True, make_mplfigures=True, hide_layers=[])\n",
    "fs=8\n",
    "lw=1"
   ]
  },
  {
   "cell_type": "markdown",
   "metadata": {},
   "source": [
    "# Mean response plots"
   ]
  },
  {
   "cell_type": "code",
   "execution_count": 96,
   "metadata": {},
   "outputs": [],
   "source": [
    "ax=layout.axes[('proxim', 'flash_summary')]"
   ]
  },
  {
   "cell_type": "code",
   "execution_count": 97,
   "metadata": {},
   "outputs": [],
   "source": [
    "d0_time, d0_mean, d0_upper, d0_lower = slice_means(dfn100, 'distance from center')\n",
    "d50_time, d50_mean, d50_upper, d50_lower = slice_means(dfl100, 'distance from center')"
   ]
  },
  {
   "cell_type": "code",
   "execution_count": 98,
   "metadata": {},
   "outputs": [],
   "source": [
    "ax.plot(d50_time, d50_mean, color = 'red',linestyle='--', linewidth =lw, label =\"Laminar Wind\")\n",
    "\n",
    "ax.plot(d0_time, d0_mean, color ='red', linestyle = '-', linewidth = lw, label =\"No Wind\")\n",
    "\n",
    "ax.fill_between(d50_time, d50_upper, d50_lower, color = 'red', alpha = 0.1, lw =0)\n",
    "\n",
    "ax.fill_between(d0_time, d0_upper, d0_lower, color = 'red', alpha = 0.1, lw = 0)\n",
    "\n",
    "\n",
    "ax.axvspan(0, 675, color = 'red', alpha = 0.1)\n",
    "\n",
    "ax.spines['top'].set_visible(False)\n",
    "ax.spines['right'].set_visible(False)\n",
    "ax.set_xlabel(\"Time (ms)\")\n",
    "ax.set_ylabel(\"Horizontal Distance from\\n End Position (m)\")\n",
    "ax.set_title(\"Flashes\")\n",
    "\n",
    "ax.set_xlim(-100, 3000)\n",
    "ax.set_ylim(0, .3)\n",
    "\n",
    "fifi.mpl_functions.adjust_spines(ax, ['left', 'bottom'], yticks=[0, .3], xticks=[0, 675, 3000], tick_length=3, linewidth=.75)\n",
    "fifi.mpl_functions.set_fontsize(ax, fs)"
   ]
  },
  {
   "cell_type": "code",
   "execution_count": 99,
   "metadata": {},
   "outputs": [],
   "source": [
    "ax=layout.axes[('proxim', 'sham_summary')]"
   ]
  },
  {
   "cell_type": "code",
   "execution_count": 100,
   "metadata": {},
   "outputs": [],
   "source": [
    "d0_time, d0_mean, d0_upper, d0_lower = slice_means(dfn0, 'distance from center')\n",
    "d50_time, d50_mean, d50_upper, d50_lower = slice_means(dfl0, 'distance from center')\n"
   ]
  },
  {
   "cell_type": "code",
   "execution_count": 102,
   "metadata": {},
   "outputs": [],
   "source": [
    "ax.plot(d50_time, d50_mean, color = 'k',linestyle='--', linewidth =lw)\n",
    "\n",
    "ax.plot(d0_time, d0_mean, color ='k', linewidth = lw)\n",
    "\n",
    "ax.fill_between(d50_time, d50_upper, d50_lower, color = 'k', alpha = 0.1, lw = 0)\n",
    "\n",
    "ax.fill_between(d0_time, d0_upper, d0_lower, color = 'k', alpha = 0.1, lw =0)\n",
    "\n",
    "ax.axvspan(0, 675, color = 'gray', alpha = 0.1)\n",
    "\n",
    "ax.spines['top'].set_visible(False)\n",
    "ax.spines['right'].set_visible(False)\n",
    "ax.set_xlabel(\"Time (ms)\")\n",
    "ax.set_ylabel(\"Horizontal Distance from\\n End Position (m)\")\n",
    "ax.set_title(\"Shams\")\n",
    "#ax.set_xticks([0, 500, 1000, 1500, 2000])\n",
    "\n",
    "ax.set_ylim(0, .3)\n",
    "ax.set_xlim(-100, 3000)\n",
    "\n",
    "fifi.mpl_functions.adjust_spines(ax, ['left', 'bottom'], yticks=[0, .3], xticks=[0, 675, 3000], tick_length=3, linewidth=.75)\n",
    "fifi.mpl_functions.set_fontsize(ax, fs)"
   ]
  },
  {
   "cell_type": "markdown",
   "metadata": {},
   "source": [
    "# Void Plots"
   ]
  },
  {
   "cell_type": "code",
   "execution_count": 103,
   "metadata": {},
   "outputs": [],
   "source": [
    "ax=layout.axes[('proxim', 'void_nw_f')]"
   ]
  },
  {
   "cell_type": "code",
   "execution_count": 104,
   "metadata": {},
   "outputs": [],
   "source": [
    "dfn100_void = dfn100[dfn100['time stamp'].between(680, 5000)]"
   ]
  },
  {
   "cell_type": "code",
   "execution_count": 105,
   "metadata": {},
   "outputs": [],
   "source": [
    "a = np.arange(-1.,1.,.0025)\n",
    "b = np.linspace(-.5, .5, 500)\n",
    "x = np.arange(-1.,1.0025, .0025)\n",
    "y = np.linspace(-.5, .5, 501)\n",
    "bin_values,_,__ = np.histogram2d(dfn100_void['norm x'], dfn100_void['norm y'],  bins =(x, y))\n",
    "#print(bin_values)\n",
    "newdf = pd.DataFrame(bin_values.T, columns=a, index=b)\n",
    "#print(newdf)\n",
    "sumz = newdf.sum(axis=0)\n",
    "#print(sumz)\n",
    "ax.set_title(\"No Wind: Flash\")\n",
    "newdf_normed= newdf\n",
    "for i in range(0,len(sumz)):\n",
    "    newdf_normed.iloc[:,i] = newdf.iloc[:,i]/len(dfn100_void)\n",
    "X,Y = np.meshgrid(x,y)\n",
    "# Plot the heatmap\n",
    "ax.pcolormesh(X, Y, newdf_normed, vmin=0, vmax=0.00012, cmap='bone_r', shading='flat', rasterized=True)\n",
    "fifi.mpl_functions.adjust_spines(ax, [])\n",
    "fifi.mpl_functions.set_fontsize(ax, fs)"
   ]
  },
  {
   "cell_type": "code",
   "execution_count": 107,
   "metadata": {},
   "outputs": [],
   "source": [
    "ax=layout.axes[('proxim', 'void_lw_f')]"
   ]
  },
  {
   "cell_type": "code",
   "execution_count": 108,
   "metadata": {},
   "outputs": [],
   "source": [
    "dfl100_void = dfl100[dfl100['time stamp'].between(680, 5000)]"
   ]
  },
  {
   "cell_type": "code",
   "execution_count": 109,
   "metadata": {},
   "outputs": [],
   "source": [
    "a = np.arange(-1.,1,.0025)\n",
    "b = np.linspace(-.5, .5, 500)\n",
    "x = np.arange(-1.,1.0025, .0025)\n",
    "y = np.linspace(-.5, .5, 501)\n",
    "bin_values,_,__ = np.histogram2d(dfl100_void['norm x'], dfl100_void['norm y'],  bins =(x, y))\n",
    "#print(bin_values)\n",
    "newdf = pd.DataFrame(bin_values.T, columns=a, index=b)\n",
    "#print(newdf)\n",
    "sumz = newdf.sum(axis=0)\n",
    "#print(sumz)\n",
    "ax.set_title(\"Laminar Wind: Flash\")\n",
    "newdf_normed= newdf\n",
    "for i in range(0,len(sumz)):\n",
    "    newdf_normed.iloc[:,i] = newdf.iloc[:,i]/len(dfl100_void)\n",
    "X,Y = np.meshgrid(x,y)\n",
    "# Plot the heatmap\n",
    "ax.pcolormesh(X, Y, newdf_normed, vmin=0, vmax=0.00012, cmap='bone_r', shading='flat', rasterized=True)\n",
    "fifi.mpl_functions.adjust_spines(ax, [])\n",
    "fifi.mpl_functions.set_fontsize(ax, fs)"
   ]
  },
  {
   "cell_type": "code",
   "execution_count": 111,
   "metadata": {},
   "outputs": [],
   "source": [
    "ax=layout.axes[('proxim', 'void_nw_s')]"
   ]
  },
  {
   "cell_type": "code",
   "execution_count": 112,
   "metadata": {},
   "outputs": [],
   "source": [
    "dfn0_void=dfn0[dfn0['time stamp'].between(680, 5000)]"
   ]
  },
  {
   "cell_type": "code",
   "execution_count": 113,
   "metadata": {},
   "outputs": [],
   "source": [
    "a = np.arange(-1.,1.,.0025)\n",
    "b = np.linspace(-.5, .5, 500)\n",
    "x = np.arange(-1.,1.0025, .0025)\n",
    "y = np.linspace(-.5, .5, 501)\n",
    "bin_values,_,__ = np.histogram2d(dfn0_void['norm x'], dfn0_void['norm y'],  bins =(x, y))\n",
    "#print(bin_values)\n",
    "newdf = pd.DataFrame(bin_values.T, columns=a, index=b)\n",
    "#print(newdf)\n",
    "sumz = newdf.sum(axis=0)\n",
    "#print(sumz)\n",
    "ax.set_title(\"No Wind: Sham\")\n",
    "newdf_normed= newdf\n",
    "for i in range(0,len(sumz)):\n",
    "    newdf_normed.iloc[:,i] = newdf.iloc[:,i]/len(dfn0)\n",
    "X,Y = np.meshgrid(x,y)\n",
    "# Plot the heatmap\n",
    "#ax.set_xlabel('20 cm')\n",
    "ax.pcolormesh(X, Y, newdf_normed, vmin=0, vmax=0.00012, cmap='bone_r', shading='flat', rasterized=True)\n",
    "fifi.mpl_functions.adjust_spines(ax, [])\n",
    "fifi.mpl_functions.set_fontsize(ax, fs)"
   ]
  },
  {
   "cell_type": "code",
   "execution_count": 115,
   "metadata": {},
   "outputs": [],
   "source": [
    "ax=layout.axes[('proxim', 'void_lw_s')]"
   ]
  },
  {
   "cell_type": "code",
   "execution_count": 116,
   "metadata": {},
   "outputs": [],
   "source": [
    "dfl0_void =dfl0[dfl0['time stamp'].between(680, 5000)]"
   ]
  },
  {
   "cell_type": "code",
   "execution_count": 117,
   "metadata": {},
   "outputs": [],
   "source": [
    "a = np.arange(-1.,1.,.0025)\n",
    "b = np.linspace(-.5, .5, 500)\n",
    "x = np.arange(-1,1.0025, .0025)\n",
    "y = np.linspace(-.5, .5, 501)\n",
    "bin_values,_,__ = np.histogram2d(dfl0_void['norm x'], dfl0_void['norm y'],  bins =(x, y))\n",
    "#print(bin_values)\n",
    "newdf = pd.DataFrame(bin_values.T, columns=a, index=b)\n",
    "#print(newdf)\n",
    "sumz = newdf.sum(axis=0)\n",
    "#print(sumz)\n",
    "ax.set_title(\"Laminar Wind: Sham\")\n",
    "newdf_normed= newdf\n",
    "for i in range(0,len(sumz)):\n",
    "    newdf_normed.iloc[:,i] = newdf.iloc[:,i]/len(dfl0_void)\n",
    "X,Y = np.meshgrid(x,y)\n",
    "# Plot the heatmap\n",
    "ax.pcolormesh(X, Y, newdf_normed, vmin=0, vmax=0.00012, cmap='bone_r', shading='flat', rasterized=True)\n",
    "fifi.mpl_functions.adjust_spines(ax, [])\n",
    "fifi.mpl_functions.set_fontsize(ax, fs)"
   ]
  },
  {
   "cell_type": "markdown",
   "metadata": {},
   "source": [
    "# Figure First saving function\n"
   ]
  },
  {
   "cell_type": "code",
   "execution_count": 119,
   "metadata": {},
   "outputs": [],
   "source": [
    "layout.append_figure_to_layer(layout.figures['proxim'], 'proxim', cleartarget=True)\n",
    "layout.write_svg(template)"
   ]
  }
 ],
 "metadata": {
  "kernelspec": {
   "display_name": "Python 2",
   "language": "python",
   "name": "python2"
  },
  "language_info": {
   "codemirror_mode": {
    "name": "ipython",
    "version": 2
   },
   "file_extension": ".py",
   "mimetype": "text/x-python",
   "name": "python",
   "nbconvert_exporter": "python",
   "pygments_lexer": "ipython2",
   "version": "2.7.12"
  }
 },
 "nbformat": 4,
 "nbformat_minor": 2
}
