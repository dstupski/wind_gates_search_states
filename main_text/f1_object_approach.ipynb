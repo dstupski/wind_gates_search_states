{
 "cells": [
  {
   "cell_type": "code",
   "execution_count": 2,
   "metadata": {},
   "outputs": [
    {
     "name": "stdout",
     "output_type": "stream",
     "text": [
      "2.2.4\n",
      "recommended version: 1.1.1 or greater\n"
     ]
    }
   ],
   "source": [
    "import pandas as pd\n",
    "import numpy as np\n",
    "import figurefirst as fifi\n",
    "import matplotlib.pyplot as plt\n",
    "import fly_plot_lib.plot as fpl\n",
    "import matplotlib.patches as patches"
   ]
  },
  {
   "cell_type": "code",
   "execution_count": 4,
   "metadata": {},
   "outputs": [],
   "source": [
    "#reducing no_etoh and etoh data set to relavant trajectories\n",
    "no_etoh=pd.read_csv('../trimmed_data/main/no_etoh_object.csv')\n",
    "etoh=pd.read_csv('../trimmed_data/main/etoh_object.csv')\n"
   ]
  },
  {
   "cell_type": "code",
   "execution_count": 5,
   "metadata": {},
   "outputs": [],
   "source": [
    "#include only trajectories that at some point entered the \"trigger zone\"\n",
    "def trigger_check(df, xmin=-.3, xmax=.3, ymin=-.075, ymax=.075, zmin=.15, zmax=.25):\n",
    "    d =df[df['x'].between(xmin, xmax)]\n",
    "    d=d[d['y'].between(ymin, ymax)]\n",
    "    d=d[d['z'].between(zmin, zmax)]\n",
    "    traj_vec=d['obj_id'].unique()\n",
    "    final =df[df['obj_id'].isin(traj_vec)]\n",
    "    return final\n"
   ]
  },
  {
   "cell_type": "code",
   "execution_count": 5,
   "metadata": {},
   "outputs": [],
   "source": [
    "etoh=trigger_check(etoh)\n",
    "no_etoh=trigger_check(no_etoh)"
   ]
  },
  {
   "cell_type": "code",
   "execution_count": 3,
   "metadata": {},
   "outputs": [
    {
     "data": {
      "image/png": "[encoded data removed]",
      "text/plain": [
       "<Figure size 432x360.072 with 6 Axes>"
      ]
     },
     "metadata": {
      "needs_background": "light"
     },
     "output_type": "display_data"
    }
   ],
   "source": [
    "template = '../figure_first_templates/f1_part2.svg'\n",
    "layout =fifi.svg_to_axes.FigureLayout(template, autogenlayers=True, make_mplfigures=True, hide_layers=[])"
   ]
  },
  {
   "cell_type": "code",
   "execution_count": 7,
   "metadata": {},
   "outputs": [],
   "source": [
    "fs=8"
   ]
  },
  {
   "cell_type": "code",
   "execution_count": 8,
   "metadata": {},
   "outputs": [],
   "source": [
    "ax=layout.axes[('object_approach', 'traj')]"
   ]
  },
  {
   "cell_type": "code",
   "execution_count": 6,
   "metadata": {},
   "outputs": [],
   "source": [
    "traj_df =pd.read_csv(\"../trajectories_for_figures/object1.csv\")\n",
    "traj2=pd.read_csv('../trajectories_for_figures/object2.csv')\n",
    "traj3=pd.read_csv(\"../trajectories_for_figures/object3.csv\")"
   ]
  },
  {
   "cell_type": "code",
   "execution_count": 10,
   "metadata": {},
   "outputs": [],
   "source": [
    "pre=traj_df[traj_df['time stamp'].between(-300, 0)]\n",
    "dur= traj_df[traj_df['time stamp'].between(0, 675)]\n",
    "post=traj_df[traj_df['time stamp'].between(675, 5000)]\n",
    "pre2=traj2[traj2['time stamp'].between(-300, 0)]\n",
    "dur2= traj2[traj2['time stamp'].between(0, 675)]\n",
    "post2=traj2[traj2['time stamp'].between(675, 3000)]\n",
    "pre3=traj3[traj3['time stamp'].between(-300, 0)]\n",
    "dur3= traj3[traj3['time stamp'].between(0, 675)]\n",
    "post3=traj3[traj3['time stamp'].between(675, 5000)]\n",
    "\n"
   ]
  },
  {
   "cell_type": "code",
   "execution_count": 11,
   "metadata": {},
   "outputs": [],
   "source": [
    "ax.plot(pre['x'], pre['z'], color = 'k', linewidth =.75)\n",
    "ax.plot(dur['x'], dur['z'], color = 'red', linewidth = .75)\n",
    "ax.plot(post['x'], post['z'], color = 'k', linewidth = .75)\n",
    "ax.plot(pre2['x'], pre2['z'], color = 'k', linewidth =.75)\n",
    "ax.plot(dur2['x'], dur2['z'], color = 'red', linewidth = .75)\n",
    "ax.plot(post2['x'], post2['z'], color = 'k', linewidth = .75)\n",
    "ax.plot(pre3['x'], pre3['z'], color = 'k', linewidth =.75)\n",
    "ax.plot(dur3['x'], dur3['z'], color = 'red', linewidth = .75)\n",
    "ax.plot(post3['x'], post3['z'], color = 'k', linewidth = .75)\n",
    "\n",
    "ax.set_xlim(-.5, .5)\n",
    "ax.set_ylim(0, .5)\n",
    "ax.set_xticks([])\n",
    "ax.set_yticks([])\n",
    "ax.spines['top'].set_visible(False)\n",
    "ax.spines['right'].set_visible(False)\n",
    "ax.spines['left'].set_visible(False)\n",
    "ax.spines['bottom'].set_visible(False)\n",
    "fifi.mpl_functions.set_fontsize(ax, fs)"
   ]
  },
  {
   "cell_type": "code",
   "execution_count": 12,
   "metadata": {},
   "outputs": [
    {
     "data": {
      "text/plain": [
       "<matplotlib.patches.Arc at 0x7f3fba05ca90>"
      ]
     },
     "execution_count": 12,
     "metadata": {},
     "output_type": "execute_result"
    }
   ],
   "source": [
    "#Add trigger zone rectangle\n",
    "rect = patches.Rectangle((-.3, .15), .6, .1, linewidth=1, edgecolor='#301934', facecolor='none', linestyle = \"dashed\")\n",
    "arc=patches.Arc(xy=(.15, 0), height=.2, width=.2, angle = 180, edgecolor = '#CC5500', facecolor='none', linestyle = \"dashed\")\n",
    "# Add the patch to the Axes\n",
    "ax.add_patch(rect)\n",
    "ax.add_patch(arc)"
   ]
  },
  {
   "cell_type": "code",
   "execution_count": 184,
   "metadata": {},
   "outputs": [],
   "source": [
    "#####IF YOURE READING THIS THE FiFi LABELS DON\"T MAKE SENSE THIS WAS EASIER THAN REORDERING EVERYTHING AND I AM BUT A TIRED POSTDOC"
   ]
  },
  {
   "cell_type": "code",
   "execution_count": 13,
   "metadata": {},
   "outputs": [],
   "source": [
    "ax=layout.axes[('object_approach', 'etoh')]"
   ]
  },
  {
   "cell_type": "code",
   "execution_count": 14,
   "metadata": {},
   "outputs": [],
   "source": [
    "flash =pd.read_csv(\"../trimmed_data/main/flash_object_approach.csv')"
   ]
  },
  {
   "cell_type": "code",
   "execution_count": 17,
   "metadata": {},
   "outputs": [
    {
     "data": {
      "text/plain": [
       "(0, 0.5)"
      ]
     },
     "execution_count": 17,
     "metadata": {},
     "output_type": "execute_result"
    }
   ],
   "source": [
    "cmap_reversed = plt.cm.get_cmap('Reds')\n",
    "\n",
    "ax.set_ylim(0, .5)\n",
    "a = np.arange(-.5,.5,.002)\n",
    "b = np.linspace(0, .5, 200)\n",
    "x = np.arange(-.5,.502, .002)\n",
    "y = np.linspace(0, .5, 201)\n",
    "\n",
    "bin_values,_,__ = np.histogram2d(flash['x'], flash['z'],  bins =(x, y))\n",
    "newdf = pd.DataFrame(bin_values.T, columns=a, index=b)\n",
    "sumz = newdf.sum(axis=0)\n",
    "newdf_normed= newdf\n",
    "for i in range(0,len(sumz)):\n",
    "    newdf_normed.iloc[:,i] = newdf.iloc[:,i]/len(flash)\n",
    "X,Y = np.meshgrid(x,y)\n",
    "\n",
    "ax.set_title(\"Orco>CsChrimson Flash\")\n",
    "\n",
    "ax.pcolormesh(X, Y, newdf_normed, vmin=0, vmax=0.0001, cmap='Reds', shading='flat', rasterized=True)\n",
    "\n",
    "\n",
    "\n",
    "\n",
    "\n",
    "ax.set_xticks([])\n",
    "ax.set_yticks([])\n",
    "ax.tick_params(left = False, bottom = False)\n",
    "\n",
    "fifi.mpl_functions.set_fontsize(ax, fs)\n",
    "ax.set_ylim(0, .5)"
   ]
  },
  {
   "cell_type": "code",
   "execution_count": null,
   "metadata": {},
   "outputs": [],
   "source": []
  },
  {
   "cell_type": "code",
   "execution_count": 18,
   "metadata": {},
   "outputs": [],
   "source": [
    "#actually orco shams not clean air, switched labels\n",
    "ax=layout.axes[('object_approach', 'no_etoh')]"
   ]
  },
  {
   "cell_type": "code",
   "execution_count": 19,
   "metadata": {},
   "outputs": [],
   "source": [
    "sham=pd.read_csv(\"../trimmed_data/main/sham_object_approach.csv\")"
   ]
  },
  {
   "cell_type": "code",
   "execution_count": 20,
   "metadata": {},
   "outputs": [],
   "source": [
    "cmap_reversed = plt.cm.get_cmap('bone_r')\n",
    "\n",
    "\n",
    "a = np.arange(-.5,.5,.002)\n",
    "b = np.linspace(0, .5, 200)\n",
    "x = np.arange(-.5,.502, .002)\n",
    "y = np.linspace(0, .5, 201)\n",
    "bin_values,_,__ = np.histogram2d(sham['x'], sham['z'],  bins =(x, y))\n",
    "newdf = pd.DataFrame(bin_values.T, columns=a, index=b)\n",
    "sumz = newdf.sum(axis=0)\n",
    "newdf_normed= newdf\n",
    "for i in range(0,len(sumz)):\n",
    "    newdf_normed.iloc[:,i] = newdf.iloc[:,i]/len(sham)\n",
    "X,Y = np.meshgrid(x,y)\n",
    "\n",
    "ax.pcolormesh(X, Y, newdf_normed, vmin=0, vmax=0.0001, cmap='bone_r', shading='flat', rasterized=True)\n",
    "ax.set_xticks([])\n",
    "ax.set_yticks([])\n",
    "ax.tick_params(left = False, bottom = False)\n",
    "\n",
    "fifi.mpl_functions.set_fontsize(ax, fs)\n",
    "\n"
   ]
  },
  {
   "cell_type": "code",
   "execution_count": 21,
   "metadata": {},
   "outputs": [],
   "source": [
    "ax=layout.axes[('object_approach', 'flash')]"
   ]
  },
  {
   "cell_type": "code",
   "execution_count": 22,
   "metadata": {},
   "outputs": [],
   "source": [
    "#cutting out funny business from flies that land on the roof or the floor\n",
    "etoh=etoh[etoh['x'].between(-.5, .5)]\n",
    "etoh=etoh[etoh['y'].between(-.25,.25)]\n",
    "etoh=etoh[etoh['z'].between(0, .47)]\n",
    "\n",
    "no_etoh=no_etoh[no_etoh['x'].between(-.5, .5)]\n",
    "no_etoh=no_etoh[no_etoh['y'].between(-.25,.25)]\n",
    "no_etoh=no_etoh[no_etoh['z'].between(0, .47)]\n"
   ]
  },
  {
   "cell_type": "code",
   "execution_count": 23,
   "metadata": {},
   "outputs": [],
   "source": [
    "cmap_reversed = plt.cm.get_cmap('bone_r')\n",
    "\n",
    "a = np.arange(-.5,.5,.0025)\n",
    "b = np.linspace(0, .5, 200)\n",
    "x = np.arange(-.5,.5025, .0025)\n",
    "y = np.linspace(0, .5, 201)\n",
    "\n",
    "bin_values,_,__ = np.histogram2d(etoh['x'], etoh['z'],  bins =(x, y))\n",
    "newdf = pd.DataFrame(bin_values.T, columns=a, index=b)\n",
    "sumz = newdf.sum(axis=0)\n",
    "newdf_normed= newdf\n",
    "\n",
    "for i in range(0,len(sumz)):\n",
    "    newdf_normed.iloc[:,i] = newdf.iloc[:,i]/len(etoh)\n",
    "X,Y = np.meshgrid(x,y)\n",
    "#ax.set_title(\"Ethanol Plume + Object\")\n",
    "\n",
    "ax.pcolormesh(X, Y, newdf_normed, vmin=0, vmax=0.0001, cmap='bone_r', shading='flat', rasterized=True)\n",
    "ax.set_xticks([])\n",
    "ax.set_yticks([])\n",
    "ax.tick_params(left = False, bottom = False)\n",
    "ax.set_xlim(-.5, .5)\n",
    "ax.set_ylim(0, .5)\n",
    "\n",
    "fifi.mpl_functions.set_fontsize(ax, fs)\n",
    "\n"
   ]
  },
  {
   "cell_type": "code",
   "execution_count": 24,
   "metadata": {},
   "outputs": [],
   "source": [
    "ax=layout.axes[('object_approach', 'sham')]"
   ]
  },
  {
   "cell_type": "code",
   "execution_count": 25,
   "metadata": {},
   "outputs": [],
   "source": []
  },
  {
   "cell_type": "code",
   "execution_count": 26,
   "metadata": {},
   "outputs": [],
   "source": [
    "cmap_reversed = plt.cm.get_cmap('bone_r')\n",
    "\n",
    "a = np.arange(-.5,.5,.002)\n",
    "b = np.linspace(0, .5, 200)\n",
    "x = np.arange(-.5,.502, .002)\n",
    "y = np.linspace(0, .5, 201)\n",
    "bin_values,_,__ = np.histogram2d(no_etoh['x'], no_etoh['z'],  bins =(x, y))\n",
    "newdf = pd.DataFrame(bin_values.T, columns=a, index=b)\n",
    "sumz = newdf.sum(axis=0)\n",
    "newdf_normed= newdf\n",
    "for i in range(0,len(sumz)):\n",
    "    newdf_normed.iloc[:,i] = newdf.iloc[:,i]/len(no_etoh)\n",
    "X,Y = np.meshgrid(x,y)\n",
    "\n",
    "ax.pcolormesh(X, Y, newdf_normed, vmin=0, vmax=0.0001, cmap='bone_r', shading='flat', rasterized=True)\n",
    "\n",
    "ax.set_yticks([])\n",
    "ax.tick_params(left = False, bottom = False)\n",
    "ax.set_xlim()\n",
    "ax.set_ylim()\n",
    "#ax.set_title(\"No Ethanol + Object\")\n",
    "\n",
    "fifi.mpl_functions.set_fontsize(ax, fs)\n",
    "\n"
   ]
  },
  {
   "cell_type": "code",
   "execution_count": 27,
   "metadata": {},
   "outputs": [],
   "source": [
    "ax=layout.axes[('object_approach', 'summary')]"
   ]
  },
  {
   "cell_type": "code",
   "execution_count": 28,
   "metadata": {},
   "outputs": [],
   "source": [
    "ordo=[0, 1, 2, 3]\n",
    "means =[.322155,.221, .515, .1939 ]\n",
    "cis=[.0268, .027, .046, .037,]\n",
    "labs = [\"Flashes\",\"Shams\", 'EtOH + Object', \"Object Only\"]\n",
    "colors = ['blue', 'gray', 'red', 'gray']"
   ]
  },
  {
   "cell_type": "code",
   "execution_count": 29,
   "metadata": {},
   "outputs": [],
   "source": [
    "# plot all the scatter boxes\n",
    "for i in range(len(ordo)):\n",
    "    u=ordo[i]+.2\n",
    "    l=ordo[i]-.2\n",
    "    m=means[i]\n",
    "    ax.plot([l+.031, u-.031],[m, m], color = colors[i] )\n",
    "    ax.fill_between([l, u], [m+cis[i], m+cis[i]], [m-cis[i], m-cis[i]], color = colors[i], alpha = 0.2, linewidth =0)\n",
    "\n",
    "ax.spines['right'].set_visible(False)\n",
    "ax.spines['top']. set_visible(False)\n",
    "ax.set_xticklabels([])\n",
    "\n",
    "ax.set_ylim(0, .8)\n",
    "fifi.mpl_functions.adjust_spines(ax,['bottom', 'left'], xticks =[0, 1, 2, 3], yticks=[0, .8],  tick_length=3, linewidth=.75)\n",
    "fifi.mpl_functions.set_fontsize(ax, fs)"
   ]
  },
  {
   "cell_type": "code",
   "execution_count": 30,
   "metadata": {},
   "outputs": [],
   "source": [
    "layout.append_figure_to_layer(layout.figures['object_approach'], 'object_approach', cleartarget=True)"
   ]
  },
  {
   "cell_type": "code",
   "execution_count": 31,
   "metadata": {},
   "outputs": [],
   "source": [
    "layout.write_svg(temlpate)"
   ]
  },
  {
   "cell_type": "code",
   "execution_count": 204,
   "metadata": {},
   "outputs": [],
   "source": [
    "def check_zone_probability(df, zone_x=.15, zone_y=0., zone_z=0., radius=.1, id_key='obj_id_unique'):\n",
    "    total_traj =len(df[id_key].unique())\n",
    "    df['distance']=((df['x']-zone_x)**2 +(df['y']-zone_y)**2+(df['z']-zone_z)**2)**0.5\n",
    "    d=df[df['distance']<radius]\n",
    "    in_traj =len(d[id_key].unique())\n",
    "    return float(in_traj)/total_traj"
   ]
  },
  {
   "cell_type": "code",
   "execution_count": null,
   "metadata": {},
   "outputs": [],
   "source": [
    "#Calculate 95% confidence interval of bernoulli distribution via p+/- 1.96*sqrt(p(1-p)/n) where p is success rate"
   ]
  },
  {
   "cell_type": "code",
   "execution_count": null,
   "metadata": {},
   "outputs": [],
   "source": [
    "def bernoulli_ci(p,n):\n",
    "    q=1-p\n",
    "    root=p*q/n\n",
    "    interval=1.96*root**0.5\n",
    "    return interval\n",
    "    ####Only handles 95% CI at the moment because Im lazy"
   ]
  },
  {
   "cell_type": "code",
   "execution_count": 45,
   "metadata": {},
   "outputs": [],
   "source": [
    "bins = [np.array(test_vec) ]\n",
    "ordo=[0, 1, 2, 3]\n",
    "means =[.322155, .156, .5137, .1939]\n",
    "cis=[.0268, .0278, .046, .0372]\n",
    "labs = ['Etoh + Object', \"Object Only\", \"Flashes\", \"Shams\"]\n",
    "colors = ['blue', 'gray', 'red', 'gray']"
   ]
  },
  {
   "cell_type": "code",
   "execution_count": 46,
   "metadata": {},
   "outputs": [],
   "source": [
    "####TEST PLOT WITH APPROACH PROBABILITY AND BERNOULLI 95% CI's"
   ]
  },
  {
   "cell_type": "code",
   "execution_count": 47,
   "metadata": {},
   "outputs": [
    {
     "data": {
      "image/png": "[encoded data removed]",
      "text/plain": [
       "<Figure size 432x288 with 1 Axes>"
      ]
     },
     "metadata": {
      "needs_background": "light"
     },
     "output_type": "display_data"
    }
   ],
   "source": [
    "fig, ax = plt.subplots()\n",
    "plt.style.use(\"seaborn-white\")\n",
    "\n",
    "for i in range(len(ordo)):\n",
    "    u=ordo[i]+.2\n",
    "    l=ordo[i]-.2\n",
    "    m=means[i]\n",
    "    ax.plot([l, u],[m, m], color = colors[i] )\n",
    "    ax.fill_between([l, u], [m+cis[i], m+cis[i]], [m-cis[i], m-cis[i]], color = colors[i], alpha = 0.2)\n",
    "\n",
    "ax.spines['right'].set_visible(False)\n",
    "ax.spines['top']. set_visible(False)\n",
    "ax.set_xticklabels([])\n",
    "plt.xticks([0,1,2,3])\n",
    "ax.set_ylim(0, .6)\n",
    "fifi.mpl_functions.adjust_spines(ax,['bottom', 'left'], xticks =[0, 1, 2, 3], yticks=[0, .6],  tick_length=3, linewidth=.75)\n"
   ]
  },
  {
   "cell_type": "code",
   "execution_count": 49,
   "metadata": {},
   "outputs": [],
   "source": [
    "def get_binomial_zscore(p1, p2, n1, n2):\n",
    "    p_hat = (n1*p1+n2*p2)/(n1+n2)\n",
    "    nom=p1-p2\n",
    "    denom=(p_hat*(1-p_hat))*(1/n1 + 1/n2)\n",
    "    root_denom =denom **0.5\n",
    "    z=nom/root_denom\n",
    "    return z"
   ]
  }
 ],
 "metadata": {
  "kernelspec": {
   "display_name": "Python 2",
   "language": "python",
   "name": "python2"
  },
  "language_info": {
   "codemirror_mode": {
    "name": "ipython",
    "version": 2
   },
   "file_extension": ".py",
   "mimetype": "text/x-python",
   "name": "python",
   "nbconvert_exporter": "python",
   "pygments_lexer": "ipython2",
   "version": "2.7.12"
  }
 },
 "nbformat": 4,
 "nbformat_minor": 2
}
