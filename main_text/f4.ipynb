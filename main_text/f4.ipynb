{
 "cells": [
  {
   "cell_type": "code",
   "execution_count": 1,
   "metadata": {},
   "outputs": [
    {
     "name": "stdout",
     "output_type": "stream",
     "text": [
      "2.2.4\n",
      "recommended version: 1.1.1 or greater\n"
     ]
    }
   ],
   "source": [
    "import fly_plot_lib.plot as fpl\n",
    "import numpy as np\n",
    "import matplotlib.pyplot as plt\n",
    "import pandas as pd\n",
    "import figurefirst as fifi\n",
    "# from statsmodels.stats import proportions_ztest"
   ]
  },
  {
   "cell_type": "code",
   "execution_count": 5,
   "metadata": {},
   "outputs": [],
   "source": [
    "# Distilled data sets were calculated based on the absolute value \n",
    "# of the smoothed angular velocity estimate 'ang vel smooth' key in data sets\n",
    "#shams are the merged sham subset from the single and double flash experiments"
   ]
  },
  {
   "cell_type": "code",
   "execution_count": 45,
   "metadata": {},
   "outputs": [],
   "source": [
    "df =pd.read_csv('../trimmed_data/trimmed_double_flash/orco_double_pulse_distilled_response.csv'\n",
    "npdf=pd.read_csv('../trimmed_data/trimmed_double_flash/orco_shams_distilled_and_merged.csv')\n",
    "df_s =pd.read_csv('../trimmed_data/trimmed_double_flash/orco_single_distilled.csv')"
   ]
  },
  {
   "cell_type": "code",
   "execution_count": 51,
   "metadata": {},
   "outputs": [],
   "source": [
    "fs =6"
   ]
  },
  {
   "cell_type": "code",
   "execution_count": 4,
   "metadata": {},
   "outputs": [
    {
     "data": {
      "image/png": "[encoded data removed]",
      "text/plain": [
       "<Figure size 432x792 with 3 Axes>"
      ]
     },
     "metadata": {
      "needs_background": "light"
     },
     "output_type": "display_data"
    },
    {
     "data": {
      "image/png": "[encoded data removed]",
      "text/plain": [
       "<Figure size 432x792 with 3 Axes>"
      ]
     },
     "metadata": {
      "needs_background": "light"
     },
     "output_type": "display_data"
    },
    {
     "data": {
      "image/png": "[encoded data removed]",
      "text/plain": [
       "<Figure size 432x792 with 3 Axes>"
      ]
     },
     "metadata": {
      "needs_background": "light"
     },
     "output_type": "display_data"
    }
   ],
   "source": [
    "#establish FigureFirst template\n",
    "template = '../figure_first_templates/f4.svg'\n",
    "layout =fifi.svg_to_axes.FigureLayout(template, autogenlayers=True, make_mplfigures=True, hide_layers=[])"
   ]
  },
  {
   "cell_type": "markdown",
   "metadata": {},
   "source": [
    "# Scatter plots with mean and confidence intervals of each trajectory "
   ]
  },
  {
   "cell_type": "code",
   "execution_count": 55,
   "metadata": {},
   "outputs": [],
   "source": [
    "ax=layout.axes[('FPL_summary', 'double_pulse_summary_statistic')]"
   ]
  },
  {
   "cell_type": "code",
   "execution_count": 56,
   "metadata": {},
   "outputs": [],
   "source": [
    "bins = [df['duration 1 mean'].to_numpy(), df['post 1 mean'].to_numpy(), df['duration 2 mean'].to_numpy(), df['post 2 mean'].to_numpy()]\n",
    "labs = [\" \" , \" \",  \" \",' ', ' ', \" \"]\n",
    "colors = ['red', 'gray' ,'red', 'gray']\n",
    "for i in range(len(bins)):\n",
    "    fpl.scatter_box(ax, i-1, bins[i], color=colors[i], xwidth=0.25, markersize=.75)\n",
    "\n",
    "ax.spines['bottom'].set_visible(False)\n",
    "\n",
    "fifi.mpl_functions.adjust_spines(ax, ['left', 'bottom'],xticks=[0, 1, 2, 3, 4], yticks=[0, 12])\n",
    "\n",
    "ax.set_xticklabels(labs)\n",
    "\n",
    "fifi.mpl_functions.set_fontsize(ax, fs)\n"
   ]
  },
  {
   "cell_type": "code",
   "execution_count": 57,
   "metadata": {},
   "outputs": [],
   "source": [
    "ax=layout.axes[('FPL_summary', 'single_pulse_summary_statistic')]"
   ]
  },
  {
   "cell_type": "code",
   "execution_count": 58,
   "metadata": {},
   "outputs": [],
   "source": [
    "# plot all the scatter boxes\n",
    "bins = [df_s['duration 1 mean'].to_numpy(), df_s['post 1 mean'].to_numpy(), df_s['duration 2 mean'].to_numpy(), df_s['post 2 mean'].to_numpy()]\n",
    "labs = [\" \" , \"Pulse 1\", \"Post 1\", 'Pulse 2', 'Post 2', \" \"]\n",
    "colors = ['red', 'gray', 'gray', 'gray']\n",
    "for i in range(len(bins)):\n",
    "    fpl.scatter_box(ax, i-1, bins[i], color=colors[i], xwidth=0.25, markersize=.75)\n",
    "\n",
    "ax.spines['bottom']. set_visible(False)\n",
    "ax.set_xticklabels(labs)\n",
    "\n",
    "fifi.mpl_functions.adjust_spines(ax, ['left', 'bottom' ],xticks =[0, 1, 2, 3, 4], yticks =[0,12])\n",
    "\n",
    "ax.set_xticklabels(labs)\n",
    "ax.set_xticklabels(labs)\n",
    "fifi.mpl_functions.set_fontsize(ax, fs)\n",
    "\n"
   ]
  },
  {
   "cell_type": "code",
   "execution_count": 59,
   "metadata": {},
   "outputs": [],
   "source": [
    "ax=layout.axes[('FPL_summary', 'no_pulse_summary_statistic')]"
   ]
  },
  {
   "cell_type": "code",
   "execution_count": 60,
   "metadata": {},
   "outputs": [],
   "source": [
    "bins = [npdf['duration 1 mean'].to_numpy(), npdf['post 1 mean'].to_numpy(), npdf['duration 2 mean'].to_numpy(), npdf['post 2 mean'].to_numpy()]\n",
    "labs = [ \"\", \"Pulse 1\", \"Post 1\", 'Pulse 2', 'Post 2', \"\"]\n",
    "colors = ['gray', 'gray', 'gray', 'gray']\n",
    "for i in range(len(bins)):\n",
    "    fpl.scatter_box(ax, i-1, bins[i], color=colors[i], xwidth=0.25, markersize=.75)\n",
    "\n",
    "ax.set_xticklabels(labs)\n",
    "#ax.set_ylabel(\"Angular Velocity (rad/s)\")\n",
    "\n",
    "ax.spines['bottom'].set_visible(False)\n",
    "\n",
    "ax.set_ylim(0, 12)\n",
    "fifi.mpl_functions.adjust_spines(ax, ['left', 'bottom' ],xticks=[0, 1, 2, 3, 4], yticks =[0,12])\n",
    "\n",
    "ax.set_xticklabels(labs)\n",
    "\n",
    "\n",
    "fifi.mpl_functions.set_fontsize(ax, fs)\n",
    "\n"
   ]
  },
  {
   "cell_type": "markdown",
   "metadata": {},
   "source": [
    "# Time series representation of the data"
   ]
  },
  {
   "cell_type": "code",
   "execution_count": 62,
   "metadata": {},
   "outputs": [
    {
     "name": "stdout",
     "output_type": "stream",
     "text": [
      "Index([u'Unnamed: 0', u'time', u'ground speed mean', u'ground speed upper',\n",
      "       u'ground speed lower', u'ang vel mean', u'ang vel upper',\n",
      "       u'ang vel lower'],\n",
      "      dtype='object')\n"
     ]
    }
   ],
   "source": [
    "# distilled data set that meets the quality control metric for this data set specifically e.g. full 3.4 seconds of tracking\n",
    "dp_mean=pd.read_csv('../trimmed_data/trimmed_double_flash/double_flash_mean_time_trace_qc.csv')\n"
   ]
  },
  {
   "cell_type": "code",
   "execution_count": 63,
   "metadata": {},
   "outputs": [],
   "source": [
    "ax=layout.axes[('mean_response', 'dobule_pulse_time')]"
   ]
  },
  {
   "cell_type": "code",
   "execution_count": 64,
   "metadata": {},
   "outputs": [],
   "source": [
    "ax.set_xlim(-100, 3400)\n",
    "\n",
    "\n",
    "ax.plot(dp_mean['time'], dp_mean['ang vel mean'], color ='blue', linewidth =.5)\n",
    "\n",
    "ax.fill_between(dp_mean['time'], dp_mean['ang vel lower'], dp_mean['ang vel upper'], color = 'blue', \n",
    "                 alpha = 0.2, label = '', linewidth =0)\n",
    "\n",
    "ax.spines['top'].set_visible(False)\n",
    "ax.spines['right'].set_visible(False)\n",
    "\n",
    "\n",
    "ax.set_xlabel(\"Time (ms)\")\n",
    "ax.axvspan(0, 675, color ='red', alpha = 0.1)\n",
    "ax.axvspan(1675, 2350, color = 'red', alpha = 0.1)\n",
    "\n",
    "ax.set_xlim(-100, 3400)\n",
    "fifi.mpl_functions.adjust_spines(ax, ['left', 'bottom'], xticks =[0, 1000, 2000, 3000], yticks=[0,  8])\n",
    "\n",
    "ax.set_xlim(-100, 3400)\n",
    "fifi.mpl_functions.set_fontsize(ax, fs)"
   ]
  },
  {
   "cell_type": "code",
   "execution_count": 65,
   "metadata": {},
   "outputs": [],
   "source": [
    "sp_mean=pd.read_csv('../trimmed_data/trimmed_double_flash/single_pulse_mean_time_trace.csv')"
   ]
  },
  {
   "cell_type": "code",
   "execution_count": 66,
   "metadata": {},
   "outputs": [],
   "source": [
    "ax=layout.axes[('mean_response', 'single_pulse_time')]"
   ]
  },
  {
   "cell_type": "code",
   "execution_count": 67,
   "metadata": {},
   "outputs": [],
   "source": [
    "ax.set_xlim(-100, 3400)\n",
    "ax.set_ylim(0, 8)\n",
    "\n",
    "ax.plot(sp_mean['time'], sp_mean['ang vel mean'], color ='blue', linewidth =.5)\n",
    "\n",
    "ax.fill_between(sp_mean['time'], sp_mean['ang vel lower'], sp_mean['ang vel upper'], color = 'blue', \n",
    "                 alpha = 0.2, label = '', linewidth =0)\n",
    "\n",
    "ax.spines['top'].set_visible(False)\n",
    "ax.spines['right'].set_visible(False)\n",
    "\n",
    "\n",
    "ax.set_xlabel(\"Time (ms)\")\n",
    "\n",
    "\n",
    "ax.axvspan(0, 675, color ='red', alpha = 0.1)\n",
    "ax.axvspan(1675, 2350, color = 'gray', alpha = 0.1)\n",
    "\n",
    "ax.set_xlim(-100, 3400)\n",
    "fifi.mpl_functions.adjust_spines(ax, ['left','bottom'], xticks =[0, 1000, 2000, 3000], yticks=[0, 8])\n",
    "\n",
    "ax.set_xlim(-100, 3400)\n",
    "fifi.mpl_functions.set_fontsize(ax, fs)"
   ]
  },
  {
   "cell_type": "code",
   "execution_count": 68,
   "metadata": {},
   "outputs": [],
   "source": [
    "np_mean=pd.read_csv('../trimmed_data/trimmed_double_flash/sham_merged_mean_time_trace.csv')"
   ]
  },
  {
   "cell_type": "code",
   "execution_count": 69,
   "metadata": {},
   "outputs": [],
   "source": [
    "ax=layout.axes[('mean_response', 'no_pulse_time')]"
   ]
  },
  {
   "cell_type": "code",
   "execution_count": 70,
   "metadata": {},
   "outputs": [],
   "source": [
    "ax.set_xlim(-100, 3400)\n",
    "\n",
    "ax.plot([],[], color= 'red', label = \"Ground Speed (m/s)\")\n",
    "ax.plot([],[], color ='blue', label = \"Angular Velocity (m/s)\")\n",
    "\n",
    "ax.plot(np_mean['time'], np_mean['ang vel mean'], color ='blue', linewidth =.5)\n",
    "\n",
    "ax.fill_between(np_mean['time'], np_mean['ang vel lower'], np_mean['ang vel upper'], color = 'blue', \n",
    "                 alpha = 0.2, label = '', linewidth =0)\n",
    "\n",
    "ax.spines['top'].set_visible(False)\n",
    "ax.spines['right'].set_visible(False)\n",
    "\n",
    "ax.set_xlabel(\"Time (ms)\")\n",
    "\n",
    "ax.set_ylabel(\"Angular Velocity (rad/s)\")\n",
    "\n",
    "\n",
    "ax.axvspan(0, 675, color ='gray', alpha = 0.1)\n",
    "ax.axvspan(1675, 2350, color = 'gray', alpha = 0.1)\n",
    "\n",
    "ax.set_xlim(-100, 3400)\n",
    "fifi.mpl_functions.adjust_spines(ax, ['left','bottom'], xticks =[0, 1000, 2000, 3000], yticks=[0, 8])\n",
    "\n",
    "ax.set_xlim(-100, 3400)\n",
    "fifi.mpl_functions.set_fontsize(ax, fs)\n"
   ]
  },
  {
   "cell_type": "code",
   "execution_count": 71,
   "metadata": {},
   "outputs": [],
   "source": [
    "#standardize a few plot parameters\n",
    "lw=.5\n",
    "s=5"
   ]
  },
  {
   "cell_type": "markdown",
   "metadata": {},
   "source": [
    "# Example Trajectories"
   ]
  },
  {
   "cell_type": "code",
   "execution_count": 72,
   "metadata": {},
   "outputs": [],
   "source": [
    "ax=layout.axes[('sample_traj', 'single_pulse_traj')]"
   ]
  },
  {
   "cell_type": "code",
   "execution_count": 73,
   "metadata": {},
   "outputs": [],
   "source": [
    "sp=pd.read_csv('../trajectories_for_figures/double_flash/single_pulse_example.csv)\n",
    "sp=sp[sp['time stamp'].between(-100, 3400)]"
   ]
  },
  {
   "cell_type": "code",
   "execution_count": 75,
   "metadata": {},
   "outputs": [],
   "source": [
    "pre=sp[sp['time stamp'].between(-100, 0)]\n",
    "d1 = sp[sp['time stamp'].between(0, 680)]\n",
    "p1= sp[sp['time stamp'].between(680, 1680)]\n",
    "d2 =sp[sp['time stamp'].between(1680, 1680+670)]\n",
    "p2= sp[sp['time stamp'].between(1680+670, 1000+1680+670)]"
   ]
  },
  {
   "cell_type": "code",
   "execution_count": 76,
   "metadata": {},
   "outputs": [],
   "source": [
    "ax.plot(pre['x'], pre['y'], color = 'k', linewidth = lw)\n",
    "ax.plot(d1['x'], d1['y'], color = 'red', linewidth = lw)\n",
    "ax.plot(p1['x'], p1['y'], color = 'k', linewidth =lw)\n",
    "ax.plot(d2['x'], d2['y'], color = 'gray', linewidth = lw)\n",
    "ax.plot(p2['x'], p2['y'], color = 'k', linewidth = lw)\n",
    "\n",
    "ax.scatter(pre['x'].iloc[0],pre['y'].iloc[0], marker = (3, 0, 30), color ='k', s = s)\n",
    "\n",
    "ax.scatter(d1['x'].iloc[10],d1['y'].iloc[10], marker = (3, 0, 30), color ='red', s = s)\n",
    "\n",
    "ax.scatter(p1['x'].iloc[28],p1['y'].iloc[28], marker = (3, 0, 225), color ='k', s = s)\n",
    "ax.scatter(d2['x'].iloc[40],d2['y'].iloc[40], marker = (3, 0, 75), color ='gray', s = s)\n",
    "\n",
    "ax.scatter(p2['x'].iloc[20],p2['y'].iloc[20], marker = (3, 0, 16), color ='k', s = s)\n",
    "ax.scatter(p2['x'].iloc[58],p2['y'].iloc[58], marker = (3, 0, -6), color ='k', s = s)\n",
    "ax.scatter(p2['x'].iloc[-1],p2['y'].iloc[-1], marker = (3, 0, 180), color ='k', s = s)\n",
    "\n",
    "ax.set_xlim(-.5, .5)\n",
    "ax.set_ylim(-.25, .25)\n",
    "\n",
    "fifi.mpl_functions.adjust_spines(ax, [])\n",
    "fifi.mpl_functions.set_fontsize(ax, fs)"
   ]
  },
  {
   "cell_type": "code",
   "execution_count": 77,
   "metadata": {},
   "outputs": [],
   "source": [
    "ax=layout.axes[('sample_traj', 'no_pulse_traj')]"
   ]
  },
  {
   "cell_type": "code",
   "execution_count": 78,
   "metadata": {},
   "outputs": [],
   "source": [
    "np=pd.read_csv('../trajectories_for_figures/double_flash/no_pulse_example_trajs.csv')"
   ]
  },
  {
   "cell_type": "code",
   "execution_count": 79,
   "metadata": {},
   "outputs": [],
   "source": [
    "ids=np['obj_id_unique'].unique()\n",
    "id_=ids[0]"
   ]
  },
  {
   "cell_type": "code",
   "execution_count": 80,
   "metadata": {},
   "outputs": [],
   "source": [
    "d_=np[np['obj_id_unique']==id_]"
   ]
  },
  {
   "cell_type": "code",
   "execution_count": 81,
   "metadata": {},
   "outputs": [],
   "source": [
    "pre=d_[d_['time stamp'].between(-100, 0)]\n",
    "d1 = d_[d_['time stamp'].between(0, 680)]\n",
    "p1= d_[d_['time stamp'].between(680, 1680)]\n",
    "d2 =d_[d_['time stamp'].between(1680, 1680+670)]\n",
    "p2= d_[d_['time stamp'].between(1680+670, 1000+1680+670)]"
   ]
  },
  {
   "cell_type": "code",
   "execution_count": 82,
   "metadata": {},
   "outputs": [],
   "source": [
    "ax.plot(pre['x'], pre['y'], color = 'k', linewidth = lw)\n",
    "ax.plot(d1['x'], d1['y'], color = 'gray', linewidth = lw)\n",
    "ax.plot(p1['x'], p1['y'], color = 'k', linewidth =lw)\n",
    "ax.plot(d2['x'], d2['y'], color = 'gray', linewidth = lw)\n",
    "ax.plot(p2['x'], p2['y'], color = 'k', linewidth = lw)\n",
    "ax.scatter(pre['x'].iloc[0],pre['y'].iloc[0], marker = (3, 0), color ='k', s = s)\n",
    "\n",
    "ax.scatter(d1['x'].iloc[35],d1['y'].iloc[35], marker = (3, 0), color ='gray', s = s)\n",
    "\n",
    "ax.scatter(p1['x'].iloc[58],p1['y'].iloc[58], marker = (3, 0, 45), color ='k', s = s)\n",
    "\n",
    "ax.scatter(d2['x'].iloc[23],d2['y'].iloc[23], marker = (3, 0, 75), color ='gray', s = s)\n",
    "\n",
    "ax.scatter(p2['x'].iloc[32],p2['y'].iloc[32], marker = (3, 0, -20), color ='k', s = s)\n",
    "ax.scatter(p2['x'].iloc[-1],p2['y'].iloc[-1], marker = (3, 0), color ='k', s = s)\n",
    "\n",
    "ax.set_xlim(-.5, .5)\n",
    "ax.set_ylim(-.25, .25)\n",
    "\n",
    "fifi.mpl_functions.adjust_spines(ax, [])\n",
    "fifi.mpl_functions.set_fontsize(ax, fs)"
   ]
  },
  {
   "cell_type": "code",
   "execution_count": 83,
   "metadata": {},
   "outputs": [],
   "source": [
    "ax=layout.axes[('sample_traj', 'double_pulse_traj')]"
   ]
  },
  {
   "cell_type": "code",
   "execution_count": 84,
   "metadata": {},
   "outputs": [],
   "source": [
    "dp=pd.read_csv('../trajectories_for_figures/double_flash/double_pulse_sample_traj.csv')"
   ]
  },
  {
   "cell_type": "code",
   "execution_count": 85,
   "metadata": {},
   "outputs": [],
   "source": [
    "pre=dp[dp['time stamp'].between(-100, 0)]\n",
    "d1 = dp[dp['time stamp'].between(0, 680)]\n",
    "p1= dp[dp['time stamp'].between(680, 1680)]\n",
    "d2 =dp[dp['time stamp'].between(1680, 1680+670)]\n",
    "p2= dp[dp['time stamp'].between(1680+670, 1000+1680+670)]"
   ]
  },
  {
   "cell_type": "code",
   "execution_count": 86,
   "metadata": {},
   "outputs": [
    {
     "data": {
      "text/plain": [
       "[]"
      ]
     },
     "execution_count": 86,
     "metadata": {},
     "output_type": "execute_result"
    }
   ],
   "source": [
    "ax.plot(pre['x'], pre['y'], color = 'k', linewidth = lw)\n",
    "ax.plot(d1['x'], d1['y'], color = 'red', linewidth = lw)\n",
    "ax.plot(p1['x'], p1['y'], color = 'k', linewidth =lw)\n",
    "ax.plot(d2['x'], d2['y'], color = 'red', linewidth = lw)\n",
    "ax.plot(p2['x'], p2['y'], color = 'k', linewidth = lw)\n",
    "ax.scatter(pre['x'].iloc[0],pre['y'].iloc[0], marker = (3, 0, 64), color ='k', s = s)\n",
    "\n",
    "ax.scatter(d1['x'].iloc[60],d1['y'].iloc[60], marker = (3, 0, 195), color ='red', s = s)\n",
    "\n",
    "ax.scatter(p1['x'].iloc[63],p1['y'].iloc[63], marker = (3, 0, 225), color ='k', s = s)\n",
    "\n",
    "ax.scatter(d2['x'].iloc[23],d2['y'].iloc[23], marker = (3, 0, 270), color ='red', s = s)\n",
    "\n",
    "ax.scatter(p2['x'].iloc[30],p2['y'].iloc[30], marker = (3, 0, -20), color ='k', s = s)\n",
    "ax.scatter(p2['x'].iloc[-1],p2['y'].iloc[-1], marker = (3, 0, 45), color ='k', s = s)\n",
    "\n",
    "ax.set_xlim(-.5, .5)\n",
    "ax.set_ylim(-.25, .25)\n",
    "fifi.mpl_functions.set_fontsize(ax, fs)\n",
    "fifi.mpl_functions.adjust_spines(ax, [], xticks=[])\n",
    "ax.set_xticks([])\n"
   ]
  },
  {
   "cell_type": "markdown",
   "metadata": {},
   "source": [
    "# Save to FigureFirst Template"
   ]
  },
  {
   "cell_type": "code",
   "execution_count": 87,
   "metadata": {},
   "outputs": [],
   "source": [
    "layout.append_figure_to_layer(layout.figures['FPL_summary'], 'FPL_summary', cleartarget=True)\n",
    "layout.append_figure_to_layer(layout.figures['mean_response'], 'mean_response', cleartarget=True)\n",
    "layout.append_figure_to_layer(layout.figures['sample_traj'], 'sample_traj', cleartarget=True)\n",
    "layout.write_svg(template)"
   ]
  }
 ],
 "metadata": {
  "kernelspec": {
   "display_name": "Python 2",
   "language": "python",
   "name": "python2"
  },
  "language_info": {
   "codemirror_mode": {
    "name": "ipython",
    "version": 2
   },
   "file_extension": ".py",
   "mimetype": "text/x-python",
   "name": "python",
   "nbconvert_exporter": "python",
   "pygments_lexer": "ipython2",
   "version": "2.7.12"
  }
 },
 "nbformat": 4,
 "nbformat_minor": 2
}
