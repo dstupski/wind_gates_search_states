{
 "cells": [
  {
   "cell_type": "code",
   "execution_count": 3,
   "metadata": {},
   "outputs": [],
   "source": [
    "import fly_plot_lib.plot as fpl\n",
    "import numpy as np\n",
    "import matplotlib.pyplot as plt\n",
    "import pandas as pd\n",
    "import figurefirst as fifi\n",
    "import seaborn as sns\n",
    "from scipy import stats\n",
    "# from statsmodels.stats import proportions_ztest"
   ]
  },
  {
   "cell_type": "code",
   "execution_count": 2,
   "metadata": {},
   "outputs": [],
   "source": [
    "ms =4\n",
    "lw= .5\n",
    "fs =6"
   ]
  },
  {
   "cell_type": "markdown",
   "metadata": {},
   "source": [
    "# Couple of helper functions"
   ]
  },
  {
   "cell_type": "code",
   "execution_count": 1181,
   "metadata": {},
   "outputs": [],
   "source": [
    "#saccade frequency\n",
    "def freq_from_sacc_df(df):\n",
    "    freq_vec = []\n",
    "    for i in df['obj_id_unique'].unique():\n",
    "        s =df[df['obj_id_unique']==i]\n",
    "        leng =s['max len'].iloc[0]/1000\n",
    "        if leng >3-.68:\n",
    "            leng= 3.-.68\n",
    "        sacc_no =len(s)\n",
    "        freq =sacc_no/leng\n",
    "        freq_vec.append(freq)\n",
    "    return freq_vec\n",
    "#delayed 220 ms to capture only casting saccades\n",
    "def freq_from_sacc_df_laminar_specific(df):\n",
    "    freq_vec = []\n",
    "    for i in df['obj_id_unique'].unique():\n",
    "        s =df[df['obj_id_unique']==i]\n",
    "        leng =s['max len'].iloc[0]/1000\n",
    "        if leng >3-.68:\n",
    "            leng= 3.-.68\n",
    "        sacc_no =len(s)\n",
    "        #calculate frequency startin at 900 ms (220ms +680)\n",
    "        freq =sacc_no/(leng-.22)\n",
    "        freq_vec.append(freq)\n",
    "    return freq_vec\n",
    "def bernoulli_ci(p,n):\n",
    "    q=1-p\n",
    "    root=p*q/n\n",
    "    interval=1.96*root**0.5\n",
    "    return interval\n",
    "    ####Only handles 95% CI at the moment because Im lazy\n",
    "def diffa(array):\n",
    "    d = np.diff(array)\n",
    "    d = np.hstack( (d[0], d) )\n",
    "    return d"
   ]
  },
  {
   "cell_type": "code",
   "execution_count": 391,
   "metadata": {},
   "outputs": [],
   "source": [
    "def get_continuous_chunks(array, array2=None, jump=1, return_index=False):\n",
    "    \"\"\"\n",
    "    Splits array into a list of continuous chunks. Eg. [1,2,3,4,5,7,8,9] becomes [[1,2,3,4,5], [7,8,9]]\n",
    "    \n",
    "    array2  -- optional second array to split in the same way array is split\n",
    "    jump    -- specifies size of jump in data to create a break point\n",
    "    \"\"\"\n",
    "    diffarray = diffa(array)\n",
    "    break_points = np.where(np.abs(diffarray) > jump)[0]\n",
    "    break_points = np.insert(break_points, 0, 0)\n",
    "    break_points = np.insert(break_points, len(break_points), len(array))\n",
    "    \n",
    "    chunks = []\n",
    "    array2_chunks = []\n",
    "    index = []\n",
    "    for i, break_point in enumerate(break_points):\n",
    "        if break_point >= len(array):\n",
    "            break\n",
    "        chunk = array[break_point:break_points[i+1]]\n",
    "        if type(chunk) is not list:\n",
    "            chunk = chunk.tolist()\n",
    "        chunks.append(chunk)\n",
    "        \n",
    "        if array2 is not None:\n",
    "            array2_chunk = array2[break_point:break_points[i+1]]\n",
    "            if type(array2_chunk) is not list:\n",
    "                array2_chunk = array2_chunk.tolist()\n",
    "            array2_chunks.append(array2_chunk)\n",
    "        \n",
    "        if return_index:\n",
    "            indices_for_chunk = np.arange(break_point,break_points[i+1])\n",
    "            index.append(indices_for_chunk)\n",
    "            \n",
    "    if type(break_points) is not list:\n",
    "        break_points = break_points.tolist()\n",
    "        \n",
    "    if return_index:\n",
    "        return index\n",
    "    \n",
    "    if array2 is None:\n",
    "        return chunks, break_points\n",
    "    \n",
    "    else:\n",
    "        return chunks, array2_chunks, break_points"
   ]
  },
  {
   "cell_type": "markdown",
   "metadata": {},
   "source": [
    "# Read in trajectory data sets and the mGSD score annotations"
   ]
  },
  {
   "cell_type": "code",
   "execution_count": 309,
   "metadata": {},
   "outputs": [],
   "source": [
    "no_wind =pd.read_csv('../trimmed_data/main/Orco_CsChrimson_still_air_merged.csv')\n",
    "nw_scores= pd.read_csv('../trimmed_data/mGSD_annotations/modified_GSD_no_wind_orco.csv')"
   ]
  },
  {
   "cell_type": "code",
   "execution_count": 310,
   "metadata": {},
   "outputs": [],
   "source": [
    "l_w=pd.read_csv('../trimmed_data/main/OrcoCsChrimson_laminar_wind_merged.csv')\n",
    "lw_scores=pd.read_csv('../trimmed_data/mGSD_annotations/modified_GSD_laminar_wind_orco.csv')"
   ]
  },
  {
   "cell_type": "code",
   "execution_count": 311,
   "metadata": {},
   "outputs": [],
   "source": [
    "nw_merged= pd.merge(no_wind, nw_scores, on=['obj_id_unique', 'time stamp'])\n",
    "lw_merged= pd.merge(l_w, lw_scores, on=['obj_id_unique', 'time stamp'])"
   ]
  },
  {
   "cell_type": "markdown",
   "metadata": {},
   "source": [
    "# Read in the extracted saccades from each relevant data set"
   ]
  },
  {
   "cell_type": "code",
   "execution_count": 4,
   "metadata": {},
   "outputs": [],
   "source": [
    "nw100_sacc=pd.read_csv('../trimmed_data/mGSD_annotations/nw100_orco_sacc.csv')\n",
    "lw100_sacc=pd.read_csv('../trimmed_data/mGSD_annotations/lw100_orco_sacc.csv')\n",
    "nw0_sacc=pd.read_csv('../trimmed_data/mGSD_annotations/nw0_orco_sacc.csv')\n",
    "lw0_sacc=pd.read_csv('../trimmed_data/mGSD_annotations/lw0_orco_sacc.csv')\n",
    "nw100_sacc_wt=pd.read_csv('../trimmed_data/mGSD_annotations/nw100_wt_sacc.csv')\n",
    "nw0_sacc_wt=pd.read_csv('../trimmed_data/mGSD_annotations/nw0_wt_sacc.csv')\n",
    "lw100_sacc_wt=pd.read_csv('../trimmed_data/mGSD_annotations/lw100_wt_sacc.csv')\n",
    "lw0_sacc_wt=pd.read_csv('../trimmed_data/mGSD_annotations/lw0_wt_sacc.csv')"
   ]
  },
  {
   "cell_type": "code",
   "execution_count": 6,
   "metadata": {},
   "outputs": [],
   "source": [
    "nw100_sacc['cond']=\"nw100\"\n",
    "lw100_sacc['cond']=\"lw100\"\n",
    "nw0_sacc['cond']=\"nw0\"\n",
    "lw0_sacc['cond']='lw0'"
   ]
  },
  {
   "cell_type": "code",
   "execution_count": 7,
   "metadata": {},
   "outputs": [],
   "source": [
    "orco_saccs = pd.concat([nw100_sacc, lw100_sacc, nw0_sacc, lw0_sacc])"
   ]
  },
  {
   "cell_type": "code",
   "execution_count": 8,
   "metadata": {},
   "outputs": [],
   "source": [
    "#include only saccades that occured after the pulse but in the 3 second window of interest\n",
    "nw100_sacc=nw100_sacc[nw100_sacc['when'].between(680, 3000)]\n",
    "nw0_sacc=nw0_sacc[nw0_sacc['when'].between(680, 3000)]\n",
    "nw100_sacc_wt=nw100_sacc_wt[nw100_sacc_wt['when'].between(680, 3000)]\n",
    "nw0_sacc_wt=nw0_sacc_wt[nw0_sacc_wt['when'].between(680, 3000)]\n",
    "lw100_sacc=lw100_sacc[lw100_sacc['when'].between(900, 3000)]\n",
    "lw0_sacc=lw0_sacc[lw0_sacc['when'].between(900, 3000)]\n",
    "lw100_sacc_wt=lw100_sacc_wt[lw100_sacc_wt['when'].between(900, 3000)]\n",
    "lw0_sacc_wt=lw0_sacc_wt[lw0_sacc_wt['when'].between(900, 3000)]"
   ]
  },
  {
   "cell_type": "code",
   "execution_count": 13,
   "metadata": {},
   "outputs": [
    {
     "name": "stdout",
     "output_type": "stream",
     "text": [
      "1134\n",
      "922\n"
     ]
    }
   ],
   "source": [
    "print(len(lw100_sacc_wt))\n",
    "print(len(lw0_sacc))"
   ]
  },
  {
   "cell_type": "code",
   "execution_count": 1184,
   "metadata": {},
   "outputs": [],
   "source": [
    "#get frequency vectors\n",
    "nw100_freq =freq_from_sacc_df(nw100_sacc)\n",
    "nw0_freq =freq_from_sacc_df(nw0_sacc)\n",
    "lw100_freq =freq_from_sacc_df_laminar_specific(lw100_sacc)\n",
    "lw0_freq =freq_from_sacc_df_laminar_specific(lw0_sacc)\n",
    "nw100_freq_wt =freq_from_sacc_df(nw100_sacc_wt)\n",
    "nw0_freq_wt =freq_from_sacc_df(nw0_sacc_wt)\n",
    "lw100_freq_wt =freq_from_sacc_df_laminar_specific(lw100_sacc_wt)\n",
    "lw0_freq_wt= freq_from_sacc_df_laminar_specific(lw0_sacc_wt)"
   ]
  },
  {
   "cell_type": "code",
   "execution_count": 1280,
   "metadata": {},
   "outputs": [],
   "source": [
    "#turn frequency vectors into np array\n",
    "nw100_freq =np.array(nw100_freq)\n",
    "nw0_freq=np.array(nw0_freq)\n",
    "lw100_freq = np.array(lw100_freq)\n",
    "lw0_freq = np.array(lw0_freq)\n",
    "nw100_freq_wt=np.array(nw100_freq_wt)\n",
    "nw0_freq_wt=np.array(nw0_freq_wt)\n",
    "lw100_freq_wt=np.array(lw100_freq_wt)\n",
    "lw0_freq_wt=np.array(lw0_freq_wt)"
   ]
  },
  {
   "cell_type": "code",
   "execution_count": null,
   "metadata": {},
   "outputs": [],
   "source": []
  },
  {
   "cell_type": "code",
   "execution_count": 5,
   "metadata": {},
   "outputs": [
    {
     "data": {
      "image/png": "[encoded data removed]",
      "text/plain": [
       "<Figure size 432x576 with 4 Axes>"
      ]
     },
     "metadata": {
      "needs_background": "light"
     },
     "output_type": "display_data"
    },
    {
     "data": {
      "image/png": "[encoded data removed]",
      "text/plain": [
       "<Figure size 432x576 with 2 Axes>"
      ]
     },
     "metadata": {
      "needs_background": "light"
     },
     "output_type": "display_data"
    },
    {
     "data": {
      "image/png": "[encoded data removed]",
      "text/plain": [
       "<Figure size 432x576 with 2 Axes>"
      ]
     },
     "metadata": {
      "needs_background": "light"
     },
     "output_type": "display_data"
    },
    {
     "data": {
      "image/png": "[encoded data removed]",
      "text/plain": [
       "<Figure size 432x576 with 6 Axes>"
      ]
     },
     "metadata": {
      "needs_background": "light"
     },
     "output_type": "display_data"
    }
   ],
   "source": [
    "template = '../figure_first_templates/f3.svg'\n",
    "layout =fifi.svg_to_axes.FigureLayout(template, autogenlayers=True, make_mplfigures=True, hide_layers=[])"
   ]
  },
  {
   "cell_type": "code",
   "execution_count": 2036,
   "metadata": {},
   "outputs": [],
   "source": [
    "threshold = 0.001"
   ]
  },
  {
   "cell_type": "code",
   "execution_count": 2037,
   "metadata": {},
   "outputs": [],
   "source": [
    "nw_merged['score']=nw_merged['amp']*nw_merged['disp']\n",
    "lw_merged['score']=lw_merged['amp']*lw_merged['disp']"
   ]
  },
  {
   "cell_type": "code",
   "execution_count": 2038,
   "metadata": {},
   "outputs": [],
   "source": [
    "\n",
    "\n",
    "lw1='290_20220927_170437'\n",
    "lw2 = '6522_20220926_173927'\n",
    "lw3 ='5962_20220926_173927'\n",
    "nw1 ='2440_20220813_165621'\n",
    "nw2 ='4460_20220813_165621'\n",
    "nw3 ='11565_20220813_165621'\n",
    "\n",
    "lt1 =lw_merged[lw_merged['obj_id_unique']==lw1]\n",
    "lt2 = lw_merged[lw_merged['obj_id_unique']==lw2]\n",
    "lt3 = lw_merged[lw_merged['obj_id_unique']==lw3]\n",
    "nt1= nw_merged[nw_merged['obj_id_unique']==nw1]\n",
    "nt2 = nw_merged[nw_merged['obj_id_unique']==nw2]\n",
    "nt3 = nw_merged[nw_merged['obj_id_unique']==nw3]"
   ]
  },
  {
   "cell_type": "code",
   "execution_count": 2039,
   "metadata": {},
   "outputs": [],
   "source": [
    "ax=layout.axes[('traj', 'nw1')]"
   ]
  },
  {
   "cell_type": "code",
   "execution_count": 2040,
   "metadata": {},
   "outputs": [],
   "source": [
    "pre = nt2[nt2['time stamp'].between(-100, 0)]\n",
    "dur = nt2[nt2['time stamp'].between(0, 680)]\n",
    "post = nt2[nt2['time stamp'].between(680, 5000)]\n",
    "sac_sub = nw100_sacc[nw100_sacc['obj_id_unique']==nw2]\n",
    "#print(sac_sub)\n",
    "ax.plot(pre['x'], pre['y'], color = 'k', linewidth =.75)\n",
    "ax.plot(dur['x'], dur['y'], color = 'red', linewidth = .75)\n",
    "ax.plot(post['x'], post['y'], color = 'k', linewidth = .75)\n",
    "ax.set_xlim(-.5, .5)\n",
    "ax.set_ylim(-.25, .25)\n",
    "ax.spines['left'].set_visible(False)\n",
    "ax.spines['right'].set_visible(False)\n",
    "ax.spines['bottom'].set_visible(False)\n",
    "ax.spines['top'].set_visible(False)\n",
    "ax.set_xticklabels([])\n",
    "ax.set_yticklabels([])\n",
    "ax.set_xticks([])\n",
    "ax.set_yticks([])\n",
    "candidate_saccades = np.where(post['score']>threshold)[0]\n",
    "\n",
    "chunks, breaks = get_continuous_chunks(candidate_saccades, jump=4)\n",
    "saccade_locations = []\n",
    "for chunk in chunks:\n",
    "    if len(chunk)>0:\n",
    "        saccade_locations.append(np.median(chunk).astype(int))\n",
    "saccade_locations = np.array(saccade_locations)\n",
    "for j in saccade_locations:\n",
    "    ax.scatter(post['x'].iloc[j], post['y'].iloc[j],  s =10, color = 'blue',linewidth = .5,alpha = 0.9,  facecolors ='none')\n"
   ]
  },
  {
   "cell_type": "code",
   "execution_count": 2041,
   "metadata": {},
   "outputs": [],
   "source": [
    "ax=layout.axes[('traj', 'nw2')]"
   ]
  },
  {
   "cell_type": "code",
   "execution_count": 2042,
   "metadata": {},
   "outputs": [],
   "source": [
    "pre = nt1[nt1['time stamp'].between(-100, 0)]\n",
    "dur = nt1[nt1['time stamp'].between(0, 680)]\n",
    "post = nt1[nt1['time stamp'].between(680, 5000)]\n",
    "\n",
    "#print(sac_sub)\n",
    "ax.plot(pre['x'], pre['y'], color = 'k', linewidth =.75 )\n",
    "ax.plot(dur['x'], dur['y'], color = 'red', linewidth = .75)\n",
    "ax.plot(post['x'], post['y'], color = 'k', linewidth = .75)\n",
    "ax.set_xlim(-.5, .5)\n",
    "ax.set_ylim(-.25, .25)\n",
    "ax.spines['left'].set_visible(False)\n",
    "ax.spines['right'].set_visible(False)\n",
    "ax.spines['bottom'].set_visible(False)\n",
    "ax.spines['top'].set_visible(False)\n",
    "ax.set_xticklabels([])\n",
    "ax.set_yticklabels([])\n",
    "ax.set_xticks([])\n",
    "ax.set_yticks([])\n",
    "candidate_saccades = np.where(post['score']>threshold)[0]\n",
    "try:\n",
    "        chunks, breaks = get_continuous_chunks(candidate_saccades, jump=4)\n",
    "        saccade_locations = []\n",
    "        for chunk in chunks:\n",
    "            if len(chunk)>0:\n",
    "                saccade_locations.append(np.median(chunk).astype(int))\n",
    "        saccade_locations = np.array(saccade_locations)\n",
    "        for j in saccade_locations:\n",
    "            ax.scatter(post['x'].iloc[j], post['y'].iloc[j],  s =10, color = 'blue',alpha = 0.9, linewidth = .5, facecolors ='none')\n",
    "except:\n",
    "    pass"
   ]
  },
  {
   "cell_type": "code",
   "execution_count": 2043,
   "metadata": {},
   "outputs": [],
   "source": [
    "ax=layout.axes[('traj', 'nw3')]"
   ]
  },
  {
   "cell_type": "code",
   "execution_count": 2044,
   "metadata": {},
   "outputs": [],
   "source": [
    "pre = nt3[nt3['time stamp'].between(-100, 0)]\n",
    "dur = nt3[nt3['time stamp'].between(0, 680)]\n",
    "post = nt3[nt3['time stamp'].between(680, 5000)]\n",
    "\n",
    "#print(sac_sub)\n",
    "ax.plot(pre['x'], pre['y'], color = 'k', linewidth =.75)\n",
    "ax.plot(dur['x'], dur['y'], color = 'red', linewidth = .75)\n",
    "ax.plot(post['x'], post['y'], color = 'k', linewidth = .75)\n",
    "ax.set_xlim(-.5, .5)\n",
    "ax.set_ylim(-.25, .25)\n",
    "ax.spines['left'].set_visible(False)\n",
    "ax.spines['right'].set_visible(False)\n",
    "ax.spines['bottom'].set_visible(False)\n",
    "ax.spines['top'].set_visible(False)\n",
    "ax.set_xticklabels([])\n",
    "ax.set_yticklabels([])\n",
    "ax.set_xticks([])\n",
    "ax.set_yticks([])\n",
    "candidate_saccades = np.where(post['score']>threshold)[0]\n",
    "try:\n",
    "        chunks, breaks = get_continuous_chunks(candidate_saccades, jump=4)\n",
    "        saccade_locations = []\n",
    "        for chunk in chunks:\n",
    "            if len(chunk)>0:\n",
    "                saccade_locations.append(np.median(chunk).astype(int))\n",
    "        saccade_locations = np.array(saccade_locations)\n",
    "        for j in saccade_locations:\n",
    "            ax.scatter(post['x'].iloc[j], post['y'].iloc[j],  s =10, color = 'blue', alpha = 0.9, linewidth = .5, facecolors ='none')\n",
    "except:\n",
    "    pass"
   ]
  },
  {
   "cell_type": "code",
   "execution_count": 2045,
   "metadata": {},
   "outputs": [],
   "source": [
    "ax=layout.axes[('traj', 'lw1')]"
   ]
  },
  {
   "cell_type": "code",
   "execution_count": 2046,
   "metadata": {},
   "outputs": [],
   "source": [
    "pre = lt1[lt1['time stamp'].between(-100, 0)]\n",
    "dur = lt1[lt1['time stamp'].between(0, 680)]\n",
    "post = lt1[lt1['time stamp'].between(680, 5000)]\n",
    "\n",
    "#print(sac_sub)\n",
    "ax.plot(pre['x'], pre['y'], color = 'k', linewidth =.75)\n",
    "ax.plot(dur['x'], dur['y'], color = 'red', linewidth = .75)\n",
    "ax.plot(post['x'], post['y'], color = 'k', linewidth = .75)\n",
    "ax.set_xlim(-.5, .5)\n",
    "ax.set_ylim(-.25, .25)\n",
    "ax.spines['left'].set_visible(False)\n",
    "ax.spines['right'].set_visible(False)\n",
    "ax.spines['bottom'].set_visible(False)\n",
    "ax.spines['top'].set_visible(False)\n",
    "ax.set_xticklabels([])\n",
    "ax.set_yticklabels([])\n",
    "ax.set_xticks([])\n",
    "ax.set_yticks([])\n",
    "candidate_saccades = np.where(post['score']>threshold)[0]\n",
    "try:\n",
    "        chunks, breaks = get_continuous_chunks(candidate_saccades, jump=4)\n",
    "        saccade_locations = []\n",
    "        for chunk in chunks:\n",
    "            if len(chunk)>0:\n",
    "                saccade_locations.append(np.median(chunk).astype(int))\n",
    "        saccade_locations = np.array(saccade_locations)\n",
    "        for j in saccade_locations:\n",
    "            ax.scatter(post['x'].iloc[j], post['y'].iloc[j],  s =10, color = 'orange', linewidth = .5, alpha = 0.9, facecolors ='none')\n",
    "except:\n",
    "    pass"
   ]
  },
  {
   "cell_type": "code",
   "execution_count": 2047,
   "metadata": {},
   "outputs": [],
   "source": [
    "ax=layout.axes[('traj', 'lw2')]"
   ]
  },
  {
   "cell_type": "code",
   "execution_count": 2048,
   "metadata": {},
   "outputs": [],
   "source": [
    "pre = lt2[lt2['time stamp'].between(-100, 0)]\n",
    "dur = lt2[lt2['time stamp'].between(0, 680)]\n",
    "post = lt2[lt2['time stamp'].between(680, 5000)]\n",
    "\n",
    "#print(sac_sub)\n",
    "ax.plot(pre['x'], pre['y'], color = 'k', linewidth =.75)\n",
    "ax.plot(dur['x'], dur['y'], color = 'red', linewidth = .75)\n",
    "ax.plot(post['x'], post['y'], color = 'k', linewidth = .75)\n",
    "ax.set_xlim(-.5, .5)\n",
    "ax.set_ylim(-.25, .25)\n",
    "ax.spines['left'].set_visible(False)\n",
    "ax.spines['right'].set_visible(False)\n",
    "ax.spines['bottom'].set_visible(False)\n",
    "ax.spines['top'].set_visible(False)\n",
    "ax.set_xticklabels([])\n",
    "ax.set_yticklabels([])\n",
    "ax.set_xticks([])\n",
    "ax.set_yticks([])\n",
    "candidate_saccades = np.where(post['score']>threshold)[0]\n",
    "try:\n",
    "        chunks, breaks = get_continuous_chunks(candidate_saccades, jump=4)\n",
    "        saccade_locations = []\n",
    "        for chunk in chunks:\n",
    "            if len(chunk)>0:\n",
    "                saccade_locations.append(np.median(chunk).astype(int))\n",
    "        saccade_locations = np.array(saccade_locations)\n",
    "        for j in saccade_locations:\n",
    "            ax.scatter(post['x'].iloc[j], post['y'].iloc[j],  s =10, color = 'orange', linewidth = .5, alpha = 0.9, facecolors ='none')\n",
    "except:\n",
    "    pass"
   ]
  },
  {
   "cell_type": "code",
   "execution_count": 2049,
   "metadata": {},
   "outputs": [],
   "source": [
    "ax=layout.axes[('traj', 'lw3')]"
   ]
  },
  {
   "cell_type": "code",
   "execution_count": 2050,
   "metadata": {},
   "outputs": [],
   "source": [
    "pre = lt3[lt3['time stamp'].between(-100, 0)]\n",
    "dur = lt3[lt3['time stamp'].between(0, 680)]\n",
    "post = lt3[lt3['time stamp'].between(680, 5000)]\n",
    "\n",
    "#print(sac_sub)\n",
    "ax.plot(pre['x'], pre['y'], color = 'k', linewidth =.75)\n",
    "ax.plot(dur['x'], dur['y'], color = 'red', linewidth = .75)\n",
    "ax.plot(post['x'], post['y'], color = 'k', linewidth = .75)\n",
    "ax.set_xlim(-.5, .5)\n",
    "ax.set_ylim(-.25, .25)\n",
    "ax.spines['left'].set_visible(False)\n",
    "ax.spines['right'].set_visible(False)\n",
    "ax.spines['bottom'].set_visible(False)\n",
    "ax.spines['top'].set_visible(False)\n",
    "ax.set_xticklabels([])\n",
    "ax.set_yticklabels([])\n",
    "ax.set_xticks([])\n",
    "ax.set_yticks([])\n",
    "candidate_saccades = np.where(post['score']>threshold)[0]\n",
    "try:\n",
    "        chunks, breaks = get_continuous_chunks(candidate_saccades, jump=4)\n",
    "        saccade_locations = []\n",
    "        for chunk in chunks:\n",
    "            if len(chunk)>0:\n",
    "                saccade_locations.append(np.median(chunk).astype(int))\n",
    "        saccade_locations = np.array(saccade_locations)\n",
    "        for j in saccade_locations:\n",
    "            ax.scatter(post['x'].iloc[j], post['y'].iloc[j],  s =10, color = 'orange', linewidth = .9, alpha = 0.5, facecolors ='none')\n",
    "except:\n",
    "    pass"
   ]
  },
  {
   "cell_type": "markdown",
   "metadata": {},
   "source": [
    "# Amplitude Distributions of Orco>CsChrimson flies which recieved a flash event"
   ]
  },
  {
   "cell_type": "code",
   "execution_count": 2051,
   "metadata": {},
   "outputs": [],
   "source": [
    "ax=layout.axes[('amp', 'oroc_f')]"
   ]
  },
  {
   "cell_type": "code",
   "execution_count": 2052,
   "metadata": {},
   "outputs": [
    {
     "data": {
      "text/plain": [
       "Text(0.5,3.2,'')"
      ]
     },
     "execution_count": 2052,
     "metadata": {},
     "output_type": "execute_result"
    }
   ],
   "source": [
    "sns.distplot(nw100_sacc['amp'], color = 'blue', ax = ax, kde_kws=dict(linewidth=lw))\n",
    "sns.distplot(lw100_sacc['amp'], color = 'orange', ax = ax, kde_kws=dict(linewidth=lw))\n",
    "ax.axvline(x = nw100_sacc['amp'].mean(), color ='blue')\n",
    "ax.axvline(x = lw100_sacc['amp'].mean(), color ='orange')\n",
    "ax.set_xlim(0, 180)\n",
    "fifi.mpl_functions.adjust_spines(ax,['bottom'], xticks =[0, 180], tick_length=3, linewidth=lw)\n",
    "ax.set_xticklabels([])\n",
    "ax.set_xlabel(\"\")"
   ]
  },
  {
   "cell_type": "markdown",
   "metadata": {},
   "source": [
    "# Sham event"
   ]
  },
  {
   "cell_type": "code",
   "execution_count": 2053,
   "metadata": {},
   "outputs": [],
   "source": [
    "ax=layout.axes[('amp', 'oroc_s')]"
   ]
  },
  {
   "cell_type": "code",
   "execution_count": 2054,
   "metadata": {},
   "outputs": [
    {
     "data": {
      "text/plain": [
       "Text(0.5,3.2,'')"
      ]
     },
     "execution_count": 2054,
     "metadata": {},
     "output_type": "execute_result"
    }
   ],
   "source": [
    "sns.distplot(nw0_sacc['amp'], color = 'blue', ax = ax, kde_kws=dict(linewidth=lw))\n",
    "sns.distplot(lw0_sacc['amp'], color = 'orange', ax = ax, kde_kws=dict(linewidth=lw))\n",
    "fifi.mpl_functions.adjust_spines(ax,['bottom'], xticks =[0, 180], tick_length=3, linewidth=lw)\n",
    "#ax.axvline(x = nw0_sacc['amp'].mean(), color ='blue', linewidth = lw)\n",
    "#ax.axvline(x = lw0_sacc['amp'].mean(), color ='orange')\n",
    "ax.set_xlim(0, 180)\n",
    "fifi.mpl_functions.adjust_spines(ax,['bottom'], xticks =[0, 180], tick_length=3, linewidth=.75)\n",
    "ax.set_xticklabels([])\n",
    "ax.set_xlabel(\"\")"
   ]
  },
  {
   "cell_type": "markdown",
   "metadata": {},
   "source": [
    "# Wild Type Control Flash event"
   ]
  },
  {
   "cell_type": "code",
   "execution_count": 2055,
   "metadata": {},
   "outputs": [],
   "source": [
    "ax=layout.axes[('amp', 'wt_f')]"
   ]
  },
  {
   "cell_type": "code",
   "execution_count": 2056,
   "metadata": {},
   "outputs": [
    {
     "data": {
      "text/plain": [
       "Text(0.5,3.2,'')"
      ]
     },
     "execution_count": 2056,
     "metadata": {},
     "output_type": "execute_result"
    }
   ],
   "source": [
    "sns.distplot(nw100_sacc_wt['amp'], color = 'blue', ax = ax, kde_kws=dict(linewidth=lw))\n",
    "sns.distplot(lw100_sacc_wt['amp'], color = 'orange', ax = ax, kde_kws=dict(linewidth=lw))\n",
    "#ax.axvline(x = nw100_sacc_wt['amp'].mean(), color ='blue')\n",
    "#ax.axvline(x = lw100_sacc_wt['amp'].mean(), color ='orange')\n",
    "ax.set_xlim(0, 180)\n",
    "fifi.mpl_functions.adjust_spines(ax,['bottom'], xticks =[0, 180], tick_length=3, linewidth=.75)\n",
    "ax.set_xticklabels([])\n",
    "ax.set_xlabel(\"\")"
   ]
  },
  {
   "cell_type": "markdown",
   "metadata": {},
   "source": [
    "# Wild Type Control Sham Event"
   ]
  },
  {
   "cell_type": "code",
   "execution_count": 2057,
   "metadata": {},
   "outputs": [],
   "source": [
    "ax=layout.axes[('amp', 'wt_s')]"
   ]
  },
  {
   "cell_type": "code",
   "execution_count": 2058,
   "metadata": {},
   "outputs": [
    {
     "data": {
      "text/plain": [
       "Text(0.5,3.2,'')"
      ]
     },
     "execution_count": 2058,
     "metadata": {},
     "output_type": "execute_result"
    }
   ],
   "source": [
    "sns.distplot(nw0_sacc_wt['amp'], color = 'blue', ax = ax, kde_kws=dict(linewidth=lw))\n",
    "sns.distplot(lw0_sacc_wt['amp'], color = 'orange', ax = ax, kde_kws=dict(linewidth=lw))\n",
    "fifi.mpl_functions.adjust_spines(ax,['bottom'], xticks =[0, 180], tick_length=3, linewidth=lw)\n",
    "#ax.axvline(x = nw0_sacc_wt['amp'].mean(), color ='blue')\n",
    "#ax.axvline(x = lw0_sacc_wt['amp'].mean(), color ='orange')\n",
    "ax.set_xlim(0, 180)\n",
    "fifi.mpl_functions.adjust_spines(ax,['bottom'], xticks =[0, 180], tick_length=3, linewidth=.75)\n",
    "ax.set_xticklabels([])\n",
    "ax.set_xlabel(\"\")"
   ]
  },
  {
   "cell_type": "markdown",
   "metadata": {},
   "source": [
    "# Frequency Plots"
   ]
  },
  {
   "cell_type": "code",
   "execution_count": 2059,
   "metadata": {},
   "outputs": [],
   "source": [
    "ax=layout.axes[('freq', 'oroc_f')]"
   ]
  },
  {
   "cell_type": "code",
   "execution_count": 2061,
   "metadata": {},
   "outputs": [],
   "source": [
    "ordo=[-1., 0., 1., 2.]\n",
    "bins = [ nw100_freq, lw100_freq, nw0_freq,  lw0_freq]\n",
    "labs = [ \"\",  \"\",'', '']\n",
    "colors = [ 'blue', 'orange' ,'blue', 'orange']\n",
    "xwidth=.25\n",
    "for i in range(len(bins)):\n",
    "    u=ordo[i]+.2\n",
    "    l=ordo[i]-.2\n",
    "    m=means[i]\n",
    "    ax.plot([l, u],[m, m], color = colors[i], linewidth=.75 )\n",
    "    ax.fill_between([l-.021, u+.021], [m+cis[i], m+cis[i]], [m-cis[i], m-cis[i]], color = colors[i], alpha = 0.2, linewidth=0)\n",
    "    fpl.scatter_box(ax, i-1, bins[i], color=colors[i], xwidth=0.25, markersize=.4,marker_linewidth=0,alpha=.1, shading = 'none')\n",
    "\n",
    "\n",
    "ax.set_ylim(0, 6)\n",
    "\n",
    "fifi.mpl_functions.adjust_spines(ax, ['left', 'bottom'],xticks=[0, 1, 2, 3, 4], yticks=[0, 6], tick_length=3, linewidth=.75)\n",
    "\n",
    "ax.set_xticklabels([])\n",
    "\n",
    "fifi.mpl_functions.set_fontsize(ax, fs)"
   ]
  },
  {
   "cell_type": "code",
   "execution_count": 2062,
   "metadata": {},
   "outputs": [],
   "source": [
    "ax=layout.axes[('freq', 'wt_f')]"
   ]
  },
  {
   "cell_type": "code",
   "execution_count": 2063,
   "metadata": {},
   "outputs": [],
   "source": [
    "ordo=[-1., 0., 1., 2.]\n",
    "bins = [ nw100_freq_wt, lw100_freq_wt, nw0_freq_wt,  lw0_freq_wt]\n",
    "labs = [ \"\",  \"\",'', '']\n",
    "colors = [ 'blue', 'orange' ,'blue', 'orange']\n",
    "xwidth=.25\n",
    "for i in range(len(bins)):\n",
    "    u=ordo[i]+.2\n",
    "    l=ordo[i]-.2\n",
    "    m=means_wt[i]\n",
    "    ax.plot([l, u],[m, m], color = colors[i], linewidth = .75 )\n",
    "    ax.fill_between([l-.021, u+.021], [m+cis_wt[i], m+cis_wt[i]], [m-cis_wt[i], m-cis_wt[i]], color = colors[i], alpha = 0.2, linewidth =0)\n",
    "    fpl.scatter_box(ax, i-1, bins[i], color=colors[i], xwidth=0.25, markersize=.35,marker_linewidth=0,alpha=.1, shading = 'none')\n",
    "\n",
    "ax.set_ylim(0, 6)\n",
    "\n",
    "fifi.mpl_functions.adjust_spines(ax, ['left', 'bottom'],xticks=[0, 1, 2, 3, 4], yticks=[0, 6], tick_length=3, linewidth=.75)\n",
    "\n",
    "ax.set_xticklabels(labs)\n",
    "\n",
    "fifi.mpl_functions.set_fontsize(ax, fs)"
   ]
  },
  {
   "cell_type": "code",
   "execution_count": 2065,
   "metadata": {},
   "outputs": [],
   "source": []
  },
  {
   "cell_type": "code",
   "execution_count": 2091,
   "metadata": {},
   "outputs": [
    {
     "name": "stdout",
     "output_type": "stream",
     "text": [
      "no wind flash mean = 3.38155644861176\n",
      "laminar wind flash mean = 2.8941968753362826\n",
      "no wind sham mean = 2.477847664630519\n",
      "no wind sham mean = 2.4224100450896375\n",
      "\n",
      "\n",
      "no wind flash 95%CI = 0.11596683239406237\n",
      "laminar wind flash 95%CI = 0.1252738928682864\n",
      "no wind sham mean 95%CI = 0.12136582124575111\n",
      "no wind sham mean 95%CI= 0.13425614439271588\n",
      "\n",
      "\n",
      "no wind flash STD = 0.9540351969537434\n",
      "laminar wind flash sTD = 0.9650991328749059\n",
      "no wind sham mean std = 1.0416781279012934\n",
      "no wind sham mean std= 0.9926308004518645\n"
     ]
    }
   ],
   "source": [
    "ordo=[0, 1, 2, 3]\n",
    "print(\"no wind flash mean = \" +str(np.mean(nw100_freq)))\n",
    "print(\"laminar wind flash mean = \" +str(np.mean(lw100_freq)))\n",
    "print(\"no wind sham mean = \" +str(np.mean(nw0_freq)))\n",
    "print(\"no wind sham mean = \" +str(np.mean(lw0_freq)))\n",
    "print(\"\\n\")\n",
    "print(\"no wind flash 95%CI = \" +str(1.96*stats.sem(nw100_freq)))\n",
    "print(\"laminar wind flash 95%CI = \" +str(1.96*stats.sem(lw100_freq)))\n",
    "print(\"no wind sham mean 95%CI = \" +str(1.96*stats.sem(nw0_freq)))\n",
    "print(\"no wind sham mean 95%CI= \" +str(1.96*stats.sem(lw0_freq)))\n",
    "print(\"\\n\")\n",
    "print(\"no wind flash STD = \" +str(np.std(nw100_freq)))\n",
    "print(\"laminar wind flash sTD = \" +str(np.std(lw100_freq)))\n",
    "print(\"no wind sham mean std = \" +str(np.std(nw0_freq)))\n",
    "print(\"no wind sham mean std= \" +str(np.std(lw0_freq)))\n",
    "\n",
    "means =[3.38, 2.89, 2.47, 2.42]\n",
    "cis=[.116, .125, .121, .134]\n",
    "ordo=[-1., 0., 1., 2.]"
   ]
  },
  {
   "cell_type": "code",
   "execution_count": 2093,
   "metadata": {},
   "outputs": [
    {
     "name": "stdout",
     "output_type": "stream",
     "text": [
      "no wind wt flash mean = 1.94580090501253\n",
      "laminar wind flash mean = 1.94441757570517\n",
      "no wind sham mean = 1.8064201270594782\n",
      "no wind sham mean = 2.1950797064130625\n",
      "\n",
      "\n",
      "no wind flash 95%CI = 0.153527806452417\n",
      "laminar wind flash 95%CI = 0.12179212956915073\n",
      "no wind sham mean 95%CI = 0.14226023857368414\n",
      "no wind sham mean 95%CI= 0.12520543463383654\n",
      "\n",
      "\n",
      "no wind flash STD = 1.0421197023319642\n",
      "laminar wind flash sTD = 1.1390237812255155\n",
      "no wind sham mean std = 0.9519007845912958\n",
      "no wind sham mean std= 1.2086724473145414\n"
     ]
    }
   ],
   "source": [
    "ordo=[0, 1, 2, 3]\n",
    "print(\"no wind wt flash mean = \" +str(np.mean(nw100_freq_wt)))\n",
    "print(\"laminar wind flash mean = \" +str(np.mean(lw100_freq_wt)))\n",
    "print(\"no wind sham mean = \" +str(np.mean(nw0_freq_wt)))\n",
    "print(\"no wind sham mean = \" +str(np.mean(lw0_freq_wt)))\n",
    "print(\"\\n\")\n",
    "print(\"no wind flash 95%CI = \" +str(1.96*stats.sem(nw100_freq_wt)))\n",
    "print(\"laminar wind flash 95%CI = \" +str(1.96*stats.sem(lw100_freq_wt)))\n",
    "print(\"no wind sham mean 95%CI = \" +str(1.96*stats.sem(nw0_freq_wt)))\n",
    "print(\"no wind sham mean 95%CI= \" +str(1.96*stats.sem(lw0_freq_wt)))\n",
    "print(\"\\n\")\n",
    "print(\"no wind flash STD = \" +str(np.std(nw100_freq_wt)))\n",
    "print(\"laminar wind flash sTD = \" +str(np.std(lw100_freq_wt)))\n",
    "print(\"no wind sham mean std = \" +str(np.std(nw0_freq_wt)))\n",
    "print(\"no wind sham mean std= \" +str(np.std(lw0_freq_wt)))\n",
    "means_wt =[1.945, 1.944, 1.806, 2.19]\n",
    "cis_wt=[.153, .121, .142, .125]\n",
    "ordo=[-1., 0., 1., 2.]"
   ]
  },
  {
   "cell_type": "markdown",
   "metadata": {},
   "source": [
    "# Ipsilateral vs Contralateral Plots"
   ]
  },
  {
   "cell_type": "code",
   "execution_count": 2073,
   "metadata": {},
   "outputs": [],
   "source": [
    "ax=layout.axes[('ipsi','ipsi', 'orco')]"
   ]
  },
  {
   "cell_type": "code",
   "execution_count": 2075,
   "metadata": {},
   "outputs": [],
   "source": [
    "orco_m=[.75, 1-0.75,.538, 1-0.538, 0.555, 1-0.555,0.566, 1-0.566 ]\n",
    "orco_ci =[.019, 0.019, 0.027, .027, 0.0258, 0.0258,  0.0307, 0.0307]"
   ]
  },
  {
   "cell_type": "code",
   "execution_count": 2076,
   "metadata": {},
   "outputs": [],
   "source": [
    "colors = ['blue', 'blue', 'orange', 'orange', 'blue', 'blue', 'orange', 'orange']\n",
    "ordo=[0, 1, 2, 3, 4, 5, 6, 7]"
   ]
  },
  {
   "cell_type": "code",
   "execution_count": 2077,
   "metadata": {},
   "outputs": [],
   "source": [
    "ax.axhline(y=0.5, color = 'k', linestyle = '--', linewidth =lw, alpha = 0.8)\n",
    "for i in range(len(ordo)):\n",
    "    u=ordo[i]+.3\n",
    "    l=ordo[i]-.3\n",
    "    m=orco_m[i]\n",
    "    ax.plot([l+.031, u-.031],[m, m], color = colors[i], linewidth=lw )\n",
    "    ax.fill_between([l, u], [m+orco_ci[i], m+orco_ci[i]], [m-orco_ci[i], m-orco_ci[i]], color = colors[i], alpha = 0.2, linewidth =0)\n",
    "\n",
    "ax.spines['right'].set_visible(False)\n",
    "ax.spines['top']. set_visible(False)\n",
    "ax.set_xticklabels([])\n",
    "\n",
    "ax.set_ylim(0, 1.0)\n",
    "ax.set_yticklabels([0,'', 1])\n",
    "fifi.mpl_functions.adjust_spines(ax,['bottom', 'left'], xticks =[0, 1, 2, 3, 4, 5, 6, 7], yticks=[0,.5, 1],  tick_length=3, linewidth=.75)\n",
    "fifi.mpl_functions.set_fontsize(ax, fs)"
   ]
  },
  {
   "cell_type": "code",
   "execution_count": 2078,
   "metadata": {},
   "outputs": [],
   "source": [
    "ax=layout.axes[('ipsi','ipsi', 'wt')]"
   ]
  },
  {
   "cell_type": "code",
   "execution_count": 2079,
   "metadata": {},
   "outputs": [],
   "source": [
    "wt_m=[.557, 1-.557, 0.527, 1-0.527, .510, 1-.510, 0.497, 1-0.497]\n",
    "wt_ci=[ 0.038, 0.038, 0.028, 0.028,0.039, 0.039, 0.0265, 0.0265 ]"
   ]
  },
  {
   "cell_type": "code",
   "execution_count": 2080,
   "metadata": {},
   "outputs": [],
   "source": [
    "ax.axhline(y=0.5, color = 'k', linestyle = '--', linewidth =lw, alpha = 0.8)\n",
    "for i in range(len(ordo)):\n",
    "    u=ordo[i]+.3\n",
    "    l=ordo[i]-.3\n",
    "    m=wt_m[i]\n",
    "    ax.plot([l+.031, u-.031],[m, m], color = colors[i], linewidth=lw )\n",
    "    ax.fill_between([l, u], [m+wt_ci[i], m+wt_ci[i]], [m-wt_ci[i], m-wt_ci[i]], color = colors[i], alpha = 0.2, linewidth =0)\n",
    "\n",
    "ax.spines['right'].set_visible(False)\n",
    "ax.spines['top']. set_visible(False)\n",
    "ax.set_xticklabels([])\n",
    "\n",
    "ax.set_ylim(0, 1.0)\n",
    "ax.set_yticklabels([0,'', 1])\n",
    "fifi.mpl_functions.adjust_spines(ax,['bottom', 'left'], xticks =[0, 1, 2, 3, 4, 5, 6, 7], yticks=[0,.5, 1],  tick_length=3, linewidth=.75)\n",
    "fifi.mpl_functions.set_fontsize(ax, fs)"
   ]
  },
  {
   "cell_type": "markdown",
   "metadata": {},
   "source": [
    "# Save everything onto the FigureFirst Template svg"
   ]
  },
  {
   "cell_type": "code",
   "execution_count": 2081,
   "metadata": {},
   "outputs": [],
   "source": [
    "layout.append_figure_to_layer(layout.figures['amp'], 'amp', cleartarget=True)\n",
    "layout.append_figure_to_layer(layout.figures['freq'], 'freq', cleartarget=True)\n",
    "layout.append_figure_to_layer(layout.figures['ipsi'], 'ipsi', cleartarget=True)\n",
    "layout.append_figure_to_layer(layout.figures['traj'], 'traj', cleartarget=True)\n",
    "layout.write_svg(template)"
   ]
  },
  {
   "cell_type": "code",
   "execution_count": null,
   "metadata": {},
   "outputs": [],
   "source": [
    "def bernoulli_ci(p,n):\n",
    "    q=1-p\n",
    "    root=p*q/n\n",
    "    interval=1.96*root**0.5\n",
    "    return interval\n",
    "    ####Only handles 95% CI at the moment because Im lazy\n",
    "def get_binomial_zscore(p1, p2, n1, n2):\n",
    "    p_hat = (n1*p1+n2*p2)/(n1+n2)\n",
    "    nom=p1-p2\n",
    "    denom=(p_hat*(1-p_hat))*(1/n1 + 1/n2)\n",
    "    root_denom =denom **0.5\n",
    "    z=nom/root_denom\n",
    "    return z"
   ]
  },
  {
   "cell_type": "code",
   "execution_count": 2034,
   "metadata": {},
   "outputs": [
    {
     "name": "stdout",
     "output_type": "stream",
     "text": [
      "No wind orco flash\n",
      " 0.0    1416\n",
      " 2.0     236\n",
      "-2.0     235\n",
      "Name: ipsi, dtype: int64\n",
      "No wind orco sham\n",
      " 0.0    789\n",
      " 2.0    317\n",
      "-2.0    314\n",
      "Name: ipsi, dtype: int64\n",
      "Laminar wind orco flash\n",
      " 0.0    673\n",
      " 2.0    278\n",
      "-2.0    274\n",
      "Name: ipsi, dtype: int64\n",
      "Laminar wind orco sham\n",
      " 0.0    519\n",
      "-2.0    198\n",
      " 2.0    195\n",
      "Name: ipsi, dtype: int64\n"
     ]
    }
   ],
   "source": [
    "#####\n",
    "#getting ipsilateral / contralateral probabilities 0 is an ipsilateral turn otherwise its a contralateral\n",
    "####\n",
    "print(\"No wind orco flash\")\n",
    "print(nw100_sacc['ipsi'].value_counts())\n",
    "print(\"No wind orco sham\")\n",
    "print(nw0_sacc['ipsi'].value_counts())\n",
    "print(\"Laminar wind orco flash\")\n",
    "print(lw100_sacc['ipsi'].value_counts())\n",
    "print(\"Laminar wind orco sham\")\n",
    "print(lw0_sacc['ipsi'].value_counts())"
   ]
  },
  {
   "cell_type": "code",
   "execution_count": 1938,
   "metadata": {},
   "outputs": [
    {
     "name": "stdout",
     "output_type": "stream",
     "text": [
      "No wind wt flash\n",
      " 0.0    361\n",
      "-2.0    147\n",
      " 2.0    140\n",
      "Name: ipsi, dtype: int64\n",
      "No wind wt sham\n",
      " 0.0    308\n",
      "-2.0    149\n",
      " 2.0    146\n",
      "Name: ipsi, dtype: int64\n",
      "Laminar wt flash\n",
      " 0.0    564\n",
      "-2.0    253\n",
      " 2.0    246\n",
      "Name: ipsi, dtype: int64\n",
      "Laminar wt sham\n",
      " 0.0    641\n",
      " 2.0    329\n",
      "-2.0    315\n",
      "Name: ipsi, dtype: int64\n"
     ]
    }
   ],
   "source": [
    "######\n",
    "#Same for WT subset\n",
    "######\n",
    "print(\"No wind wt flash\")\n",
    "print(nw100_sacc_wt['ipsi'].value_counts())\n",
    "print(\"No wind wt sham\")\n",
    "print(nw0_sacc_wt['ipsi'].value_counts())\n",
    "print(\"Laminar wt flash\")\n",
    "print(lw100_sacc_wt['ipsi'].value_counts())\n",
    "print(\"Laminar wt sham\")\n",
    "print(lw0_sacc_wt['ipsi'].value_counts())"
   ]
  },
  {
   "cell_type": "code",
   "execution_count": 1699,
   "metadata": {},
   "outputs": [
    {
     "name": "stdout",
     "output_type": "stream",
     "text": [
      "NW Orco Flash ipsi = 0.75039745628\n",
      "NW Orco flash bernoulli ci = 0.0195272147015\n"
     ]
    }
   ],
   "source": [
    "nw100_ipsi=1416./(1416+235+236)\n",
    "print(\"NW Orco Flash ipsi = \" +  str(nw100_ipsi))\n",
    "print(\"NW Orco flash bernoulli ci = \" +str(bernoulli_ci(nw100_ipsi, (1416.+236+235))))"
   ]
  },
  {
   "cell_type": "code",
   "execution_count": 1700,
   "metadata": {},
   "outputs": [
    {
     "name": "stdout",
     "output_type": "stream",
     "text": [
      "LW Orco Flash ipsi = 0.538638102525\n",
      "LW Orco flash bernoulli ci = 0.0270263673565\n"
     ]
    }
   ],
   "source": [
    "lw100_ipsi=704./(704+304+299)\n",
    "print(\"LW Orco Flash ipsi = \" +  str(lw100_ipsi))\n",
    "print(\"LW Orco flash bernoulli ci = \" +str(bernoulli_ci(lw100_ipsi, (704+304+299))))"
   ]
  },
  {
   "cell_type": "code",
   "execution_count": 1701,
   "metadata": {},
   "outputs": [
    {
     "name": "stdout",
     "output_type": "stream",
     "text": [
      "NW Orco sham ipsi = 0.555633802817\n",
      "NW Orco sham bernoulli ci = 0.0258450118726\n"
     ]
    }
   ],
   "source": [
    "nw0_ipsi=789./(789+317+314)\n",
    "print(\"NW Orco sham ipsi = \" +  str(nw0_ipsi))\n",
    "print(\"NW Orco sham bernoulli ci = \" +str(bernoulli_ci(nw0_ipsi, (789.+317+314))))"
   ]
  },
  {
   "cell_type": "code",
   "execution_count": 1702,
   "metadata": {},
   "outputs": [
    {
     "name": "stdout",
     "output_type": "stream",
     "text": [
      "LW Orco sham ipsi = 0.566\n",
      "LW Orco sham bernoulli ci = 0.0307191469673\n"
     ]
    }
   ],
   "source": [
    "lw0_ipsi=566./(566+218+216)\n",
    "print(\"LW Orco sham ipsi = \" +  str(lw0_ipsi))\n",
    "print(\"LW Orco sham bernoulli ci = \" +str(bernoulli_ci(lw0_ipsi, (566.+218+216))))"
   ]
  },
  {
   "cell_type": "code",
   "execution_count": 1703,
   "metadata": {},
   "outputs": [
    {
     "name": "stdout",
     "output_type": "stream",
     "text": [
      "NW WT Flash ipsi = 0.557098765432\n",
      "NW WT flash bernoulli ci = 0.0382461841588\n"
     ]
    }
   ],
   "source": [
    "nw100_ipsi_wt=361./(361.+147+140)\n",
    "print(\"NW WT Flash ipsi = \" +  str(nw100_ipsi_wt))\n",
    "print(\"NW WT flash bernoulli ci = \" +str(bernoulli_ci(nw100_ipsi_wt, (361+147+140))))"
   ]
  },
  {
   "cell_type": "code",
   "execution_count": 1704,
   "metadata": {},
   "outputs": [
    {
     "name": "stdout",
     "output_type": "stream",
     "text": [
      "LW WT Flash ipsi = 0.527333894029\n",
      "LW WT flash bernoulli ci = 0.0283782243394\n"
     ]
    }
   ],
   "source": [
    "lw100_ipsi_wt=627./(283.+627+279)\n",
    "print(\"LW WT Flash ipsi = \" +  str(lw100_ipsi_wt))\n",
    "print(\"LW WT flash bernoulli ci = \" +str(bernoulli_ci(lw100_ipsi_wt, (627.+283+279))))"
   ]
  },
  {
   "cell_type": "code",
   "execution_count": 1705,
   "metadata": {},
   "outputs": [
    {
     "name": "stdout",
     "output_type": "stream",
     "text": [
      "NW WT sham ipsi = 0.510779436153\n",
      "NW WT sham bernoulli ci = 0.0396476050725\n"
     ]
    }
   ],
   "source": [
    "nw0_ipsi_wt=308./(308.+149 +146)\n",
    "print(\"NW WT sham ipsi = \" +  str(nw0_ipsi_wt))\n",
    "print(\"NW WT sham bernoulli ci = \" +str(bernoulli_ci(nw100_ipsi_wt, (308. + 149+146))))"
   ]
  },
  {
   "cell_type": "code",
   "execution_count": 1706,
   "metadata": {},
   "outputs": [
    {
     "name": "stdout",
     "output_type": "stream",
     "text": [
      "LW WT Sham ipsi = 0.497860199715\n",
      "LW WT Sham bernoulli ci = 0.0265542197422\n"
     ]
    }
   ],
   "source": [
    "lw0_ipsi_wt=698./(698.+360+344)\n",
    "print(\"LW WT Sham ipsi = \" +  str(lw0_ipsi_wt))\n",
    "print(\"LW WT Sham bernoulli ci = \" +str(bernoulli_ci(lw0_ipsi_wt, (698.+360+304))))"
   ]
  }
 ],
 "metadata": {
  "kernelspec": {
   "display_name": "Python 2",
   "language": "python",
   "name": "python2"
  },
  "language_info": {
   "codemirror_mode": {
    "name": "ipython",
    "version": 2
   },
   "file_extension": ".py",
   "mimetype": "text/x-python",
   "name": "python",
   "nbconvert_exporter": "python",
   "pygments_lexer": "ipython2",
   "version": "2.7.12"
  }
 },
 "nbformat": 4,
 "nbformat_minor": 2
}
