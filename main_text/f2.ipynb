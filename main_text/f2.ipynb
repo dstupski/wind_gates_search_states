{
 "cells": [
  {
   "cell_type": "code",
   "execution_count": 2,
   "metadata": {},
   "outputs": [
    {
     "name": "stdout",
     "output_type": "stream",
     "text": [
      "2.2.4\n",
      "recommended version: 1.1.1 or greater\n"
     ]
    }
   ],
   "source": [
    "import fly_plot_lib.plot as fpl\n",
    "import numpy as np\n",
    "import matplotlib.pyplot as plt\n",
    "import pandas as pd\n",
    "import figurefirst as fifi\n",
    "# from statsmodels.stats import proportions_ztest"
   ]
  },
  {
   "cell_type": "code",
   "execution_count": 8,
   "metadata": {},
   "outputs": [],
   "source": [
    "def slice_means_gs(df, index):\n",
    "    time_vec=[]\n",
    "    mean_vec=[]\n",
    "    upper_vec =[]\n",
    "    lower_vec =[]\n",
    "    for i in df['time stamp'].unique():\n",
    "        if i >-100 and i <3000:\n",
    "            dummy_df =df[df['time stamp']==i]\n",
    "            dummy_df=dummy_df[dummy_df['ground speed'].between(0, 2.0)]\n",
    "            time_vec.append(i)\n",
    "            mean = dummy_df[index].mean()\n",
    "            upper= dummy_df[index].mean() + dummy_df[index].sem()*1.96\n",
    "            lower= dummy_df[index].mean() - dummy_df[index].sem()*1.96\n",
    "            mean_vec.append(mean)\n",
    "            upper_vec.append(upper)\n",
    "            lower_vec.append(lower)\n",
    "    return time_vec, mean_vec, upper_vec, lower_vec"
   ]
  },
  {
   "cell_type": "code",
   "execution_count": 9,
   "metadata": {},
   "outputs": [],
   "source": [
    "#helper function for slicing means with standard errors\n",
    "def slice_head_prop(df, index='heading', time_key= \"time stamp\", start=-100, stop=3000):\n",
    "    time_vec=[]\n",
    "    uw_vec =[]\n",
    "    cw_vec =[]\n",
    "    dw_vec =[]\n",
    "    df=df[df[time_key].between(start, stop)]\n",
    "    for i in df[time_key].unique():\n",
    "        dummy_df =df[df[time_key]==i]\n",
    "        dummy_df=dummy_df[dummy_df['ground speed'].between(0, 2.0)]\n",
    "        time_vec.append(i)\n",
    "        tot =float(len(dummy_df))\n",
    "        dummy_df['abs head'] =np.abs(dummy_df[index])\n",
    "        #df[df < 2.0 ].count() \n",
    "        uw = dummy_df[dummy_df['abs head']<np.pi/4.].count()\n",
    "        cw =dummy_df[dummy_df['abs head'].between(np.pi/4., 3.*np.pi/4)].count()\n",
    "        dw =dummy_df[dummy_df['abs head']>3*np.pi/4.].count()\n",
    "        uw_vec.append(uw/tot)\n",
    "        cw_vec.append(cw/tot)\n",
    "        dw_vec.append(dw/tot)\n",
    "    return time_vec, uw_vec, cw_vec, dw_vec"
   ]
  },
  {
   "cell_type": "code",
   "execution_count": 10,
   "metadata": {},
   "outputs": [],
   "source": [
    "\n",
    "no_wind= pd.read_csv('../trimmed_data/main/Orco_CsChrimson_still_air_merged.csv')\n",
    "no_wind['ground speed']=(no_wind['xvel']**2 + no_wind['yvel']**2)**0.5\n",
    "\n",
    "orco100=no_wind[no_wind['duration']==100]\n",
    "orco0=no_wind[no_wind['duration']==0]"
   ]
  },
  {
   "cell_type": "code",
   "execution_count": 6,
   "metadata": {},
   "outputs": [
    {
     "name": "stdout",
     "output_type": "stream",
     "text": [
      "327424\n"
     ]
    }
   ],
   "source": [
    "print(len(orco100))"
   ]
  },
  {
   "cell_type": "code",
   "execution_count": 4,
   "metadata": {},
   "outputs": [],
   "source": [
    "ms =4\n",
    "lw= .5\n",
    "fs =6"
   ]
  },
  {
   "cell_type": "code",
   "execution_count": 9,
   "metadata": {},
   "outputs": [
    {
     "data": {
      "image/png": "[encoded data removed]",
      "text/plain": [
       "<Figure size 432x432 with 6 Axes>"
      ]
     },
     "metadata": {
      "needs_background": "light"
     },
     "output_type": "display_data"
    },
    {
     "data": {
      "image/png": "[encoded data removed]",
      "text/plain": [
       "<Figure size 432x432 with 12 Axes>"
      ]
     },
     "metadata": {
      "needs_background": "light"
     },
     "output_type": "display_data"
    }
   ],
   "source": [
    "template= '../figure_first_templates/f2.svg'\n",
    "layout =fifi.svg_to_axes.FigureLayout(template, autogenlayers=True, make_mplfigures=True, hide_layers=[])"
   ]
  },
  {
   "cell_type": "code",
   "execution_count": 5,
   "metadata": {},
   "outputs": [],
   "source": [
    "traj_path = '../trajectories_for_figures/still_air/'"
   ]
  },
  {
   "cell_type": "code",
   "execution_count": 384,
   "metadata": {},
   "outputs": [],
   "source": [
    "ax=layout.axes[('traj', 't1')]"
   ]
  },
  {
   "cell_type": "code",
   "execution_count": 6,
   "metadata": {},
   "outputs": [],
   "source": [
    "t1=pd.read_csv(traj_path + 'traj_1.csv')"
   ]
  },
  {
   "cell_type": "code",
   "execution_count": 386,
   "metadata": {},
   "outputs": [],
   "source": [
    "pre=t1[t1['time stamp'].between(-200, 0)]\n",
    "dur=t1[t1['time stamp'].between(0, 675)]\n",
    "post = t1[t1['time stamp'].between(675,4500)]\n",
    "ax.plot(pre['x'], pre['y'], color ='k',alpha= 0.8, linewidth =lw)\n",
    "ax.plot(dur['x'], dur['y'], color ='r', alpha =1, linewidth =lw)\n",
    "ax.plot(post['x'], post['y'], color ='k', alpha = .8, linewidth = lw)\n",
    "\n",
    "ax.scatter(pre['x'].iloc[0],pre['y'].iloc[0], marker = (3, 0, pre['heading'].iloc[0]*180/np.pi+15),s=ms, color ='k')\n",
    "ax.scatter(dur['x'].iloc[60],dur['y'].iloc[60], marker = (3, 0, dur['heading'].iloc[60]*180/np.pi+20),s=ms,  color ='r')\n",
    "\n",
    "ax.scatter(post['x'].iloc[60], post['y'].iloc[60], marker = (3, 0, post['heading'].iloc[60]*180/np.pi+20),s=ms, color ='k')\n",
    "#ax.scatter(post['x'].iloc[90], post['y'].iloc[90], marker = (3, 0, post['heading'].iloc[90]*180/np.pi),s=ms, color ='k')\n",
    "ax.scatter(post['x'].iloc[130],post['y'].iloc[130], marker = (3, 0, post['heading'].iloc[130]+90),s=ms, color ='k', zorder=4)\n",
    "ax.scatter(post['x'].iloc[210],post['y'].iloc[210], marker = (3, 0, post['heading'].iloc[210]),s=ms, color ='k', zorder=4)\n",
    "ax.scatter(post['x'].iloc[270],post['y'].iloc[270], marker = (3, 0, post['heading'].iloc[270]+65),s=ms, color ='k', zorder=4)\n",
    "ax.scatter(post['x'].iloc[-1],post['y'].iloc[-1], marker = (3, 0, post['heading'].iloc[-1]+90),s=ms, color ='k', zorder=4)\n",
    "#ax.scatter(orco_traj2['x'].iloc[260],orco_traj2['y'].iloc[260], marker = (3, 0, orco_traj2['heading'].iloc[0]+180),s=ms, color ='k',  zorder=4)\n",
    "#ax.scatter(orco_traj2['x'].iloc[-1],orco_traj2['y'].iloc[-1], marker = (3, 0, orco_traj2['heading'].iloc[0]),s=ms, color ='k',  zorder=4)\n",
    "ax.set_xlim(-.5, .5)\n",
    "ax.set_ylim(-.25, .25)\n",
    "fifi.mpl_functions.set_fontsize(ax, fs)\n",
    "fifi.mpl_functions.adjust_spines(ax, [], xticks =[], yticks=[])\n"
   ]
  },
  {
   "cell_type": "code",
   "execution_count": 387,
   "metadata": {},
   "outputs": [],
   "source": [
    "ax=layout.axes[('traj', 't2')]"
   ]
  },
  {
   "cell_type": "code",
   "execution_count": 8,
   "metadata": {},
   "outputs": [],
   "source": [
    "t2=pd.read_csv(traj_path+'traj_2.csv')"
   ]
  },
  {
   "cell_type": "code",
   "execution_count": 389,
   "metadata": {},
   "outputs": [],
   "source": [
    "pre=t2[t2['time stamp'].between(-200, 0)]\n",
    "dur=t2[t2['time stamp'].between(0, 675)]\n",
    "post = t2[t2['time stamp'].between(675,4500)]\n",
    "ax.plot(pre['x'], pre['y'], color ='k',alpha= 0.8, linewidth =lw)\n",
    "ax.plot(dur['x'], dur['y'], color ='r', alpha =1, linewidth =lw)\n",
    "ax.plot(post['x'], post['y'], color ='k', alpha = .8, linewidth = lw)\n",
    "\n",
    "ax.scatter(pre['x'].iloc[0],pre['y'].iloc[0], marker = (3, 0, pre['heading'].iloc[0]*180/np.pi +30),s=ms, color ='k')\n",
    "ax.scatter(dur['x'].iloc[60],dur['y'].iloc[60], marker = (3, 0, dur['heading'].iloc[60]*180/np.pi+20),s=ms,  color ='r')\n",
    "\n",
    "ax.scatter(post['x'].iloc[60], post['y'].iloc[60], marker = (3, 0, post['heading'].iloc[60]*180/np.pi+45),s=ms, color ='k')\n",
    "#ax.scatter(post['x'].iloc[90], post['y'].iloc[90], marker = (3, 0, post['heading'].iloc[90]*180/np.pi),s=ms, color ='k')\n",
    "ax.scatter(post['x'].iloc[130],post['y'].iloc[130], marker = (3, 0, post['heading'].iloc[130]),s=ms, color ='k', zorder=4)\n",
    "ax.scatter(post['x'].iloc[230],post['y'].iloc[230], marker = (3, 0, post['heading'].iloc[230]-45),s=ms, color ='k', zorder=4)\n",
    "ax.scatter(post['x'].iloc[300],post['y'].iloc[300], marker = (3, 0, post['heading'].iloc[300]+110),s=ms, color ='k', zorder=4)\n",
    "ax.scatter(post['x'].iloc[-1],post['y'].iloc[-1], marker = (3, 0, post['heading'].iloc[-1]),s=ms, color ='k', zorder=4)\n",
    "#ax.scatter(orco_traj2['x'].iloc[260],orco_traj2['y'].iloc[260], marker = (3, 0, orco_traj2['heading'].iloc[0]+180),s=ms, color ='k',  zorder=4)\n",
    "#ax.scatter(orco_traj2['x'].iloc[-1],orco_traj2['y'].iloc[-1], marker = (3, 0, orco_traj2['heading'].iloc[0]),s=ms, color ='k',  zorder=4)\n",
    "ax.set_xlim(-.5, .5)\n",
    "ax.set_ylim(-.25, .25)\n",
    "fifi.mpl_functions.set_fontsize(ax, fs)\n",
    "fifi.mpl_functions.adjust_spines(ax, [], xticks =[], yticks=[])\n"
   ]
  },
  {
   "cell_type": "code",
   "execution_count": 390,
   "metadata": {},
   "outputs": [],
   "source": [
    "ax=layout.axes[('traj', 't3')]"
   ]
  },
  {
   "cell_type": "code",
   "execution_count": 17,
   "metadata": {},
   "outputs": [],
   "source": [
    "t12=pd.read_csv(traj_path+'traj_12.csv')"
   ]
  },
  {
   "cell_type": "code",
   "execution_count": 392,
   "metadata": {},
   "outputs": [],
   "source": [
    "pre=t12[t12['time stamp'].between(-200, 0)]\n",
    "dur=t12[t12['time stamp'].between(0, 675)]\n",
    "post = t12[t12['time stamp'].between(675,4000)]\n",
    "ax.plot(pre['x'], pre['y'], color ='k',alpha= 0.8, linewidth =lw)\n",
    "ax.plot(dur['x'], dur['y'], color ='r', alpha =1, linewidth =lw)\n",
    "ax.plot(post['x'], post['y'], color ='k', alpha = .8, linewidth = lw)\n",
    "\n",
    "ax.scatter(pre['x'].iloc[0],pre['y'].iloc[0], marker = (3, 0, pre['heading'].iloc[0]*180/np.pi+40),s=ms, color ='k')\n",
    "ax.scatter(dur['x'].iloc[28],dur['y'].iloc[28], marker = (3, 0, dur['heading'].iloc[28]*180/np.pi+20),s=ms,  color ='r')\n",
    "\n",
    "ax.scatter(post['x'].iloc[8], post['y'].iloc[8], marker = (3, 0, post['heading'].iloc[8]*180/np.pi+7),s=ms, color ='k')\n",
    "#ax.scatter(post['x'].iloc[90], post['y'].iloc[90], marker = (3, 0, post['heading'].iloc[90]*180/np.pi),s=ms, color ='k')\n",
    "ax.scatter(post['x'].iloc[100],post['y'].iloc[100], marker = (3, 0, post['heading'].iloc[100]),s=ms, color ='k', zorder=4)\n",
    "ax.scatter(post['x'].iloc[175],post['y'].iloc[175], marker = (3, 0, post['heading'].iloc[175]),s=ms, color ='k', zorder=4)\n",
    "ax.scatter(post['x'].iloc[250],post['y'].iloc[250], marker = (3, 0, post['heading'].iloc[270]+65),s=ms, color ='k', zorder=4)\n",
    "ax.scatter(post['x'].iloc[-1],post['y'].iloc[-1], marker = (3, 0, post['heading'].iloc[-1]+90),s=ms, color ='k', zorder=4)\n",
    "#ax.scatter(orco_traj2['x'].iloc[260],orco_traj2['y'].iloc[260], marker = (3, 0, orco_traj2['heading'].iloc[0]+180),s=ms, color ='k',  zorder=4)\n",
    "#ax.scatter(orco_traj2['x'].iloc[-1],orco_traj2['y'].iloc[-1], marker = (3, 0, orco_traj2['heading'].iloc[0]),s=ms, color ='k',  zorder=4)\n",
    "ax.set_xlim(-.5, .5)\n",
    "ax.set_ylim(-.25, .25)\n",
    "fifi.mpl_functions.set_fontsize(ax, fs)\n",
    "fifi.mpl_functions.adjust_spines(ax, [], xticks =[], yticks=[])"
   ]
  },
  {
   "cell_type": "code",
   "execution_count": 10,
   "metadata": {},
   "outputs": [],
   "source": [
    "ax=layout.axes[('traj', 't4')]\n",
    "t3=pd.read_csv(traj_path + 'traj_3.csv')"
   ]
  },
  {
   "cell_type": "code",
   "execution_count": 394,
   "metadata": {},
   "outputs": [],
   "source": [
    "pre=t3[t3['time stamp'].between(-200, 0)]\n",
    "dur=t3[t3['time stamp'].between(0, 675)]\n",
    "post = t3[t3['time stamp'].between(675,5000)]\n",
    "ax.plot(pre['x'], pre['y'], color ='k',alpha= 0.8, linewidth =lw)\n",
    "ax.plot(dur['x'], dur['y'], color ='r', alpha =1, linewidth =lw)\n",
    "ax.plot(post['x'], post['y'], color ='k', alpha = .8, linewidth = lw)\n",
    "\n",
    "ax.scatter(pre['x'].iloc[0],pre['y'].iloc[0], marker = (3, 0, pre['heading'].iloc[0]*180/np.pi+20),s=ms, color ='k')\n",
    "ax.scatter(dur['x'].iloc[35],dur['y'].iloc[35], marker = (3, 0, dur['heading'].iloc[35]*180/np.pi+15),s=ms,  color ='r')\n",
    "\n",
    "ax.scatter(post['x'].iloc[65], post['y'].iloc[65], marker = (3, 0, post['heading'].iloc[65]*180/np.pi+20),s=ms, color ='k')\n",
    "ax.scatter(post['x'].iloc[140], post['y'].iloc[140], marker = (3, 0, post['heading'].iloc[140]*180/np.pi+30),s=ms, color ='k')\n",
    "ax.scatter(post['x'].iloc[200],post['y'].iloc[200], marker = (3, 0, post['heading'].iloc[200]+35),s=ms, color ='k', zorder=4)\n",
    "#ax.scatter(post['x'].iloc[210],post['y'].iloc[210], marker = (3, 0, post['heading'].iloc[210]),s=ms, color ='k', zorder=4)\n",
    "#ax.scatter(post['x'].iloc[270],post['y'].iloc[270], marker = (3, 0, post['heading'].iloc[270]+65),s=ms, color ='k', zorder=4)\n",
    "ax.scatter(post['x'].iloc[-1],post['y'].iloc[-1], marker = (3, 0, post['heading'].iloc[-1]+90),s=ms, color ='k', zorder=4)\n",
    "#ax.scatter(orco_traj2['x'].iloc[260],orco_traj2['y'].iloc[260], marker = (3, 0, orco_traj2['heading'].iloc[0]+180),s=ms, color ='k',  zorder=4)\n",
    "#ax.scatter(orco_traj2['x'].iloc[-1],orco_traj2['y'].iloc[-1], marker = (3, 0, orco_traj2['heading'].iloc[0]),s=ms, color ='k',  zorder=4)\n",
    "ax.set_xlim(-.5, .5)\n",
    "ax.set_ylim(-.25, .25)\n",
    "fifi.mpl_functions.set_fontsize(ax, fs)\n",
    "fifi.mpl_functions.adjust_spines(ax, [], xticks =[], yticks=[])"
   ]
  },
  {
   "cell_type": "code",
   "execution_count": 395,
   "metadata": {},
   "outputs": [],
   "source": [
    "ax=layout.axes[('traj', 't5')]"
   ]
  },
  {
   "cell_type": "code",
   "execution_count": 22,
   "metadata": {},
   "outputs": [],
   "source": [
    "t5=pd.read_csv(traj_path+'traj_5.csv')"
   ]
  },
  {
   "cell_type": "code",
   "execution_count": 397,
   "metadata": {},
   "outputs": [],
   "source": [
    "pre=t5[t5['time stamp'].between(-200, 0)]\n",
    "dur=t5[t5['time stamp'].between(0, 675)]\n",
    "post = t5[t5['time stamp'].between(675,5000)]\n",
    "#ax.plot(pre['x'], pre['y'], color ='k',alpha= 0.8, linewidth =lw)\n",
    "ax.plot(dur['x'], dur['y'], color ='r', alpha =1, linewidth =lw)\n",
    "ax.plot(post['x'], post['y'], color ='k', alpha = .8, linewidth = lw)\n",
    "\n",
    "ax.scatter(pre['x'].iloc[3],pre['y'].iloc[3], marker = (3, 0, pre['heading'].iloc[0]*180/np.pi+15),s=ms, color ='k')\n",
    "ax.scatter(dur['x'].iloc[14],dur['y'].iloc[14], marker = (3, 0, dur['heading'].iloc[20]*180/np.pi+70),s=ms,  color ='r')\n",
    "\n",
    "ax.scatter(post['x'].iloc[120], post['y'].iloc[120], marker = (3, 0, post['heading'].iloc[120]*180/np.pi+30),s=ms, color ='k')\n",
    "ax.scatter(post['x'].iloc[200], post['y'].iloc[200], marker = (3, 0, post['heading'].iloc[200]*180/np.pi+45),s=ms, color ='k')\n",
    "ax.scatter(post['x'].iloc[270],post['y'].iloc[270], marker = (3, 0, post['heading'].iloc[270]+75),s=ms, color ='k', zorder=4)\n",
    "ax.scatter(post['x'].iloc[330],post['y'].iloc[330], marker = (3, 0, post['heading'].iloc[330]-20),s=ms, color ='k', zorder=4)\n",
    "#ax.scatter(post['x'].iloc[270],post['y'].iloc[270], marker = (3, 0, post['heading'].iloc[270]+65),s=ms, color ='k', zorder=4)\n",
    "ax.scatter(post['x'].iloc[-1],post['y'].iloc[-1], marker = (3, 0, post['heading'].iloc[-1]+30),s=ms, color ='k', zorder=4)\n",
    "#ax.scatter(orco_traj2['x'].iloc[260],orco_traj2['y'].iloc[260], marker = (3, 0, orco_traj2['heading'].iloc[0]+180),s=ms, color ='k',  zorder=4)\n",
    "#ax.scatter(orco_traj2['x'].iloc[-1],orco_traj2['y'].iloc[-1], marker = (3, 0, orco_traj2['heading'].iloc[0]),s=ms, color ='k',  zorder=4)\n",
    "ax.set_xlim(-.5, .5)\n",
    "ax.set_ylim(-.25, .25)\n",
    "fifi.mpl_functions.set_fontsize(ax, fs)\n",
    "fifi.mpl_functions.adjust_spines(ax, [], xticks =[], yticks=[])"
   ]
  },
  {
   "cell_type": "code",
   "execution_count": 24,
   "metadata": {},
   "outputs": [],
   "source": [
    "ax=layout.axes[('traj', 't6')]\n",
    "t9=pd.read_csv(traj_path+'traj_9.csv')"
   ]
  },
  {
   "cell_type": "code",
   "execution_count": 399,
   "metadata": {},
   "outputs": [],
   "source": [
    "pre=t9[t9['time stamp'].between(-200, 0)]\n",
    "dur=t9[t9['time stamp'].between(0, 675)]\n",
    "post = t9[t9['time stamp'].between(675,5000)]\n",
    "ax.plot(pre['x'], pre['y'], color ='k',alpha= 0.8, linewidth =lw)\n",
    "ax.plot(dur['x'], dur['y'], color ='r', alpha =1, linewidth =lw)\n",
    "ax.plot(post['x'], post['y'], color ='k', alpha = .8, linewidth = lw)\n",
    "\n",
    "ax.scatter(pre['x'].iloc[0],pre['y'].iloc[0], marker = (3, 0, pre['heading'].iloc[0]*180/np.pi+25),s=ms, color ='k')\n",
    "ax.scatter(dur['x'].iloc[45],dur['y'].iloc[45], marker = (3, 0, dur['heading'].iloc[40]*180/np.pi+20),s=ms,  color ='r')\n",
    "\n",
    "ax.scatter(post['x'].iloc[55], post['y'].iloc[55], marker = (3, 0, post['heading'].iloc[45]*180/np.pi+115),s=ms, color ='k')\n",
    "ax.scatter(post['x'].iloc[150], post['y'].iloc[150], marker = (3, 0, post['heading'].iloc[90]*180/np.pi+85),s=ms, color ='k')\n",
    "ax.scatter(post['x'].iloc[95],post['y'].iloc[95], marker = (3, 0, post['heading'].iloc[130]+15),s=ms, color ='k', zorder=4)\n",
    "ax.scatter(post['x'].iloc[180],post['y'].iloc[180], marker = (3, 0, post['heading'].iloc[190]),s=ms, color ='k', zorder=4)\n",
    "#ax.scatter(post['x'].iloc[270],post['y'].iloc[270], marker = (3, 0, post['heading'].iloc[270]+65),s=ms, color ='k', zorder=4)\n",
    "ax.scatter(post['x'].iloc[-1],post['y'].iloc[-1], marker = (3, 0, post['heading'].iloc[-1]+25),s=ms, color ='k', zorder=4)\n",
    "#ax.scatter(orco_traj2['x'].iloc[260],orco_traj2['y'].iloc[260], marker = (3, 0, orco_traj2['heading'].iloc[0]+180),s=ms, color ='k',  zorder=4)\n",
    "#ax.scatter(orco_traj2['x'].iloc[-1],orco_traj2['y'].iloc[-1], marker = (3, 0, orco_traj2['heading'].iloc[0]),s=ms, color ='k',  zorder=4)\n",
    "ax.set_xlim(-.5, .5)\n",
    "ax.set_ylim(-.25, .25)\n",
    "fifi.mpl_functions.set_fontsize(ax, fs)\n",
    "fifi.mpl_functions.adjust_spines(ax, [], xticks =[], yticks=[])\n"
   ]
  },
  {
   "cell_type": "code",
   "execution_count": 26,
   "metadata": {},
   "outputs": [],
   "source": [
    "ax=layout.axes[('traj', 't7')]\n",
    "t8=pd.read_csv(traj_path +'traj_8.csv')"
   ]
  },
  {
   "cell_type": "code",
   "execution_count": 401,
   "metadata": {},
   "outputs": [],
   "source": [
    "pre=t8[t8['time stamp'].between(-200, 0)]\n",
    "dur=t8[t8['time stamp'].between(0, 675)]\n",
    "post = t8[t8['time stamp'].between(675,3500)]\n",
    "ax.plot(pre['x'], pre['y'], color ='k',alpha= 0.8, linewidth =lw)\n",
    "ax.plot(dur['x'], dur['y'], color ='r', alpha =1, linewidth =lw)\n",
    "ax.plot(post['x'], post['y'], color ='k', alpha = .8, linewidth = lw)\n",
    "\n",
    "ax.scatter(pre['x'].iloc[0],pre['y'].iloc[0], marker = (3, 0, pre['heading'].iloc[0]*180/np.pi+45),s=ms, color ='k')\n",
    "ax.scatter(dur['x'].iloc[30],dur['y'].iloc[30], marker = (3, 0, dur['heading'].iloc[40]*180/np.pi+25),s=ms,  color ='r')\n",
    "\n",
    "ax.scatter(post['x'].iloc[50], post['y'].iloc[50], marker = (3, 0, post['heading'].iloc[60]*180/np.pi+20),s=ms, color ='k')\n",
    "ax.scatter(post['x'].iloc[92], post['y'].iloc[92], marker = (3, 0, post['heading'].iloc[90]*180/np.pi+30),s=ms, color ='k')\n",
    "ax.scatter(post['x'].iloc[175],post['y'].iloc[175], marker = (3, 0, post['heading'].iloc[130]+110),s=ms, color ='k', zorder=4)\n",
    "#ax.scatter(post['x'].iloc[210],post['y'].iloc[210], marker = (3, 0, post['heading'].iloc[210]),s=ms, color ='k', zorder=4)\n",
    "#ax.scatter(post['x'].iloc[270],post['y'].iloc[270], marker = (3, 0, post['heading'].iloc[270]+65),s=ms, color ='k', zorder=4)\n",
    "ax.scatter(post['x'].iloc[-1],post['y'].iloc[-1], marker = (3, 0, post['heading'].iloc[-1]+45),s=ms, color ='k', zorder=4)\n",
    "#ax.scatter(orco_traj2['x'].iloc[260],orco_traj2['y'].iloc[260], marker = (3, 0, orco_traj2['heading'].iloc[0]+180),s=ms, color ='k',  zorder=4)\n",
    "#ax.scatter(orco_traj2['x'].iloc[-1],orco_traj2['y'].iloc[-1], marker = (3, 0, orco_traj2['heading'].iloc[0]),s=ms, color ='k',  zorder=4)\n",
    "ax.set_xlim(-.5, .5)\n",
    "ax.set_ylim(-.25, .25)\n",
    "fifi.mpl_functions.set_fontsize(ax, fs)\n",
    "fifi.mpl_functions.adjust_spines(ax, [], xticks =[], yticks=[])"
   ]
  },
  {
   "cell_type": "code",
   "execution_count": 28,
   "metadata": {},
   "outputs": [],
   "source": [
    "ax=layout.axes[('traj', 't8')]\n",
    "t11=pd.read_csv(traj_path+'traj_11.csv')"
   ]
  },
  {
   "cell_type": "code",
   "execution_count": 403,
   "metadata": {},
   "outputs": [],
   "source": [
    "\n",
    "pre=t11[t11['time stamp'].between(-300, 0)]\n",
    "dur=t11[t11['time stamp'].between(0, 675)]\n",
    "post = t11[t11['time stamp'].between(675,5000)]\n",
    "ax.plot(pre['x'], pre['y'], color ='k',alpha= 0.8, linewidth =lw)\n",
    "ax.plot(dur['x'], dur['y'], color ='r', alpha =1, linewidth =lw)\n",
    "ax.plot(post['x'], post['y'], color ='k', alpha = .8, linewidth = lw)\n",
    "\n",
    "ax.scatter(pre['x'].iloc[0],pre['y'].iloc[0], marker = (3, 0, pre['heading'].iloc[0]*180/np.pi+45),s=ms, color ='k')\n",
    "ax.scatter(dur['x'].iloc[50],dur['y'].iloc[50], marker = (3, 0, dur['heading'].iloc[60]*180/np.pi+20),s=ms,  color ='r')\n",
    "\n",
    "ax.scatter(post['x'].iloc[80], post['y'].iloc[80], marker = (3, 0, post['heading'].iloc[80]*180/np.pi+15),s=ms, color ='k')\n",
    "#ax.scatter(post['x'].iloc[90], post['y'].iloc[90], marker = (3, 0, post['heading'].iloc[90]*180/np.pi),s=ms, color ='k')\n",
    "ax.scatter(post['x'].iloc[140],post['y'].iloc[140], marker = (3, 0, post['heading'].iloc[150]+90),s=ms, color ='k', zorder=4)\n",
    "ax.scatter(post['x'].iloc[230],post['y'].iloc[230], marker = (3, 0, post['heading'].iloc[230]),s=ms, color ='k', zorder=4)\n",
    "#ax.scatter(post['x'].iloc[270],post['y'].iloc[270], marker = (3, 0, post['heading'].iloc[270]+65),s=ms, color ='k', zorder=4)\n",
    "ax.scatter(post['x'].iloc[-1],post['y'].iloc[-1], marker = (3, 0, post['heading'].iloc[-1]+90),s=ms, color ='k', zorder=4)\n",
    "#ax.scatter(orco_traj2['x'].iloc[260],orco_traj2['y'].iloc[260], marker = (3, 0, orco_traj2['heading'].iloc[0]+180),s=ms, color ='k',  zorder=4)\n",
    "#ax.scatter(orco_traj2['x'].iloc[-1],orco_traj2['y'].iloc[-1], marker = (3, 0, orco_traj2['heading'].iloc[0]),s=ms, color ='k',  zorder=4)\n",
    "ax.set_xlim(-.5, .5)\n",
    "ax.set_ylim(-.25, .25)\n",
    "fifi.mpl_functions.set_fontsize(ax, fs)\n",
    "fifi.mpl_functions.adjust_spines(ax, [], xticks =[], yticks=[])"
   ]
  },
  {
   "cell_type": "code",
   "execution_count": 30,
   "metadata": {},
   "outputs": [],
   "source": [
    "ax=layout.axes[('traj', 't9')]\n",
    "t10=pd.read_csv(traj_path+'traj_7.csv')"
   ]
  },
  {
   "cell_type": "code",
   "execution_count": 405,
   "metadata": {},
   "outputs": [],
   "source": [
    "pre=t10[t10['time stamp'].between(-300, 0)]\n",
    "dur=t10[t10['time stamp'].between(0, 675)]\n",
    "post = t10[t10['time stamp'].between(675,4000)]\n",
    "ax.plot(pre['x'], pre['y'], color ='k',alpha= 0.8, linewidth =lw)\n",
    "ax.plot(dur['x'], dur['y'], color ='r', alpha =1, linewidth =lw)\n",
    "ax.plot(post['x'], post['y'], color ='k', alpha = .8, linewidth = lw)\n",
    "\n",
    "ax.scatter(pre['x'].iloc[0],pre['y'].iloc[0], marker = (3, 0, pre['heading'].iloc[0]*180/np.pi+30),s=ms, color ='k')\n",
    "ax.scatter(dur['x'].iloc[15],dur['y'].iloc[15], marker = (3, 0, dur['heading'].iloc[15]*180/np.pi+20),s=ms,  color ='r')\n",
    "\n",
    "ax.scatter(post['x'].iloc[50], post['y'].iloc[50], marker = (3, 0, post['heading'].iloc[80]*180/np.pi+15),s=ms, color ='k')\n",
    "ax.scatter(post['x'].iloc[115], post['y'].iloc[115], marker = (3, 0, post['heading'].iloc[110]*180/np.pi+120),s=ms, color ='k')\n",
    "ax.scatter(post['x'].iloc[210],post['y'].iloc[210], marker = (3, 0, post['heading'].iloc[210]+45),s=ms, color ='k', zorder=4)\n",
    "ax.scatter(post['x'].iloc[300],post['y'].iloc[300], marker = (3, 0, post['heading'].iloc[300]+65),s=ms, color ='k', zorder=4)\n",
    "#ax.scatter(post['x'].iloc[390],post['y'].iloc[390], marker = (3, 0, post['heading'].iloc[270]+65),s=ms, color ='k', zorder=4)\n",
    "#ax.scatter(post['x'].iloc[40],post['y'].iloc[450], marker = (3, 0, post['heading'].iloc[270]+65),s=ms, color ='k', zorder=4)\n",
    "ax.scatter(post['x'].iloc[-1],post['y'].iloc[-1], marker = (3, 0, post['heading'].iloc[-1]),s=ms, color ='k', zorder=4)\n",
    "#ax.scatter(orco_traj2['x'].iloc[260],orco_traj2['y'].iloc[260], marker = (3, 0, orco_traj2['heading'].iloc[0]+180),s=ms, color ='k',  zorder=4)\n",
    "#ax.scatter(orco_traj2['x'].iloc[-1],orco_traj2['y'].iloc[-1], marker = (3, 0, orco_traj2['heading'].iloc[0]),s=ms, color ='k',  zorder=4)\n",
    "ax.set_xlim(-.5, .5)\n",
    "ax.set_ylim(-.25, .25)\n",
    "fifi.mpl_functions.set_fontsize(ax, fs)\n",
    "fifi.mpl_functions.adjust_spines(ax, [], xticks =[], yticks=[])"
   ]
  },
  {
   "cell_type": "code",
   "execution_count": 32,
   "metadata": {},
   "outputs": [],
   "source": [
    "ax=layout.axes[('traj', 't13')]\n",
    "t12=pd.read_csv(traj_path+'sacc_for_ang-vel_rep.csv')"
   ]
  },
  {
   "cell_type": "code",
   "execution_count": 407,
   "metadata": {},
   "outputs": [],
   "source": [
    "pre=t12[t12['time stamp'].between(-200, 0)]\n",
    "dur=t12[t12['time stamp'].between(0, 675)]\n",
    "post = t12[t12['time stamp'].between(675,5000)]\n",
    "ax.plot(pre['x'], pre['y'], color ='k',alpha= 0.8, linewidth =lw)\n",
    "ax.plot(dur['x'], dur['y'], color ='r', alpha =1, linewidth =lw)\n",
    "ax.plot(post['x'], post['y'], color ='k', alpha = .8, linewidth = lw)\n",
    "\n",
    "ax.scatter(pre['x'].iloc[0],pre['y'].iloc[0], marker = (3, 0, pre['heading'].iloc[0]*180/np.pi+45),s=ms, color ='k')\n",
    "ax.scatter(dur['x'].iloc[10],dur['y'].iloc[10], marker = (3, 0, dur['heading'].iloc[20]*180/np.pi+23),s=ms,  color ='r')\n",
    "\n",
    "ax.scatter(post['x'].iloc[28], post['y'].iloc[28], marker = (3, 0, post['heading'].iloc[25]*180/np.pi+35),s=ms, color ='k')\n",
    "ax.scatter(post['x'].iloc[70], post['y'].iloc[70], marker = (3, 0, post['heading'].iloc[90]*180/np.pi+45),s=ms, color ='k')\n",
    "ax.scatter(post['x'].iloc[135],post['y'].iloc[135], marker = (3, 0, post['heading'].iloc[130]+90),s=ms, color ='k', zorder=4)\n",
    "ax.scatter(post['x'].iloc[225],post['y'].iloc[225], marker = (3, 0, post['heading'].iloc[225]+90),s=ms, color ='k', zorder=4)\n",
    "\n",
    "ax.scatter(post['x'].iloc[270],post['y'].iloc[270], marker = (3, 0, post['heading'].iloc[270]+65),s=ms, color ='k', zorder=4)\n",
    "ax.scatter(post['x'].iloc[340],post['y'].iloc[340], marker = (3, 0, post['heading'].iloc[270]),s=ms, color ='k', zorder=4)\n",
    "ax.scatter(post['x'].iloc[-1],post['y'].iloc[-1], marker = (3, 0, post['heading'].iloc[-1]+40),s=ms, color ='k', zorder=4)\n",
    "#ax.scatter(orco_traj2['x'].iloc[260],orco_traj2['y'].iloc[260], marker = (3, 0, orco_traj2['heading'].iloc[0]+180),s=ms, color ='k',  zorder=4)\n",
    "#ax.scatter(orco_traj2['x'].iloc[-1],orco_traj2['y'].iloc[-1], marker = (3, 0, orco_traj2['heading'].iloc[0]),s=ms, color ='k',  zorder=4)\n",
    "ax.set_xlim(-.5, .5)\n",
    "ax.set_ylim(-.25, .25)\n",
    "fifi.mpl_functions.set_fontsize(ax, fs)\n",
    "fifi.mpl_functions.adjust_spines(ax, [], xticks =[], yticks=[])"
   ]
  },
  {
   "cell_type": "code",
   "execution_count": 408,
   "metadata": {},
   "outputs": [],
   "source": [
    "ax=layout.axes[('traj', 't10')]"
   ]
  },
  {
   "cell_type": "code",
   "execution_count": 409,
   "metadata": {},
   "outputs": [],
   "source": [
    "ang1=no_wind[no_wind['obj_id_unique']==t12['obj_id_unique'][0]]\n",
    "ang1=ang1[ang1['time stamp'].between(-100, 5000)]\n",
    "ang1['wrap_test']=np.unwrap(ang1['heading'])\n",
    "ang1['ang vel wrap']=ang1['wrap_test'].diff()/(.01)"
   ]
  },
  {
   "cell_type": "code",
   "execution_count": 410,
   "metadata": {},
   "outputs": [],
   "source": [
    "pre=ang1[ang1['time stamp'].between(-100, 0)]\n",
    "dur = ang1[ang1['time stamp'].between(0, 675)]\n",
    "post = ang1[ang1['time stamp'].between(675, 5000)]\n",
    "ax.plot(pre['ang vel wrap'], pre['time stamp'] , color = 'k', linewidth = lw)\n",
    "ax.plot(dur['ang vel wrap'], dur['time stamp'], color = 'r', linewidth = lw)\n",
    "ax.plot(post['ang vel wrap'], post['time stamp'], color = 'k', linewidth = lw)\n",
    "#ax.axvspan(0, 675, color = 'red', alpha = 0.1)\n",
    "ax.set_xticklabels([])\n",
    "ax.set_yticklabels([])\n",
    "fifi.mpl_functions.adjust_spines(ax, ['bottom'], xticks =[-60, 0, 60], yticks=[-60, 0, 60], tick_length=3, linewidth = .5 )\n",
    "ax.set_xlim(-60, 60)\n",
    "ax.set_ylim(-100, 5000)\n",
    "#ax.set_ylabel(\"radians/s\")\n",
    "#ax.set_xlabel(\"Time (ms)\")\n",
    "fifi.mpl_functions.set_fontsize(ax, 6)\n"
   ]
  },
  {
   "cell_type": "markdown",
   "metadata": {},
   "source": [
    "# Heat maps for course direction in the wind tunnel frame, since there is no wind"
   ]
  },
  {
   "cell_type": "code",
   "execution_count": 411,
   "metadata": {},
   "outputs": [],
   "source": [
    "ax=layout.axes[('meat', 'hm_f')]"
   ]
  },
  {
   "cell_type": "code",
   "execution_count": 412,
   "metadata": {},
   "outputs": [],
   "source": [
    "cmap_reversed = plt.cm.get_cmap('bone_r')\n",
    "ax.axhspan(0, 675, color = 'red', alpha = 0.1)\n",
    "ax.set_xlim(-3.2, 3.2)\n",
    "a = np.arange(-100,3000,10)\n",
    "b = np.linspace(-np.pi, np.pi, 180)\n",
    "x = np.arange(-100,3010, 10)\n",
    "y = np.linspace(-np.pi, np.pi, 181)\n",
    "bin_values,_,__ = np.histogram2d(orco100['time stamp'], orco100['heading'],  bins =(x, y))\n",
    "\n",
    "newdf = pd.DataFrame(bin_values.T, columns=a, index=b)\n",
    "sumz = newdf.sum(axis=0)\n",
    "\n",
    "newdf_normed= newdf\n",
    "for i in range(0,len(sumz)):\n",
    "    newdf_normed.iloc[:,i] = newdf.iloc[:,i]/sumz.iloc[i]\n",
    "X,Y = np.meshgrid(x,y)\n",
    "# Plot the heatmap\n",
    "ax.pcolormesh(Y, X, newdf_normed, vmin=0, vmax=0.04, cmap='bone_r', shading='flat', rasterized=True)\n",
    "ax.set_xticklabels([r'-$\\pi$', r'-$\\pi/2$', '0',r'$\\pi/2$', r'$\\pi$' ])\n",
    "\n",
    "ax.set_yticklabels([])\n",
    "\n",
    "fifi.mpl_functions.adjust_spines(ax, ['left','bottom'], xticks =[-3.14, -3.14/2, 0, 3.14/2, 3.14], yticks=[0, 675, 3000],  tick_length=3, linewidth=.5)\n",
    "fifi.mpl_functions.set_fontsize(ax, fs)"
   ]
  },
  {
   "cell_type": "code",
   "execution_count": 413,
   "metadata": {},
   "outputs": [],
   "source": [
    "ax=layout.axes[('meat', 'hm_s')]"
   ]
  },
  {
   "cell_type": "code",
   "execution_count": 414,
   "metadata": {},
   "outputs": [],
   "source": [
    "cmap_reversed = plt.cm.get_cmap('bone_r')\n",
    "#ax.axhspan(0, 675, color = 'red', alpha = 0.1)\n",
    "ax.set_xlim(-3.2, 3.2)\n",
    "a = np.arange(-100,3000,10)\n",
    "b = np.linspace(-np.pi, np.pi, 180)\n",
    "x = np.arange(-100,3010, 10)\n",
    "y = np.linspace(-np.pi, np.pi, 181)\n",
    "bin_values,_,__ = np.histogram2d(orco0['time stamp'], orco0['heading'],  bins =(x, y))\n",
    "\n",
    "newdf = pd.DataFrame(bin_values.T, columns=a, index=b)\n",
    "sumz = newdf.sum(axis=0)\n",
    "\n",
    "newdf_normed= newdf\n",
    "for i in range(0,len(sumz)):\n",
    "    newdf_normed.iloc[:,i] = newdf.iloc[:,i]/sumz.iloc[i]\n",
    "X,Y = np.meshgrid(x,y)\n",
    "# Plot the heatmap\n",
    "ax.pcolormesh(Y, X, newdf_normed, vmin=0, vmax=0.04, cmap='bone_r', shading='flat', rasterized=True)\n",
    "\n",
    "\n",
    "ax.set_xticklabels([])\n",
    "ax.set_yticklabels([])\n",
    "\n",
    "fifi.mpl_functions.adjust_spines(ax, ['left','bottom'], xticks =[-3.14, -3.14/2, 0, 3.14/2, 3.14], yticks=[0, 675, 3000],  tick_length=3, linewidth=.5)\n",
    "fifi.mpl_functions.set_fontsize(ax, fs)"
   ]
  },
  {
   "cell_type": "markdown",
   "metadata": {},
   "source": [
    "# Ground speed response"
   ]
  },
  {
   "cell_type": "code",
   "execution_count": 415,
   "metadata": {},
   "outputs": [],
   "source": [
    "ax=layout.axes[('meat', 'gs')]"
   ]
  },
  {
   "cell_type": "code",
   "execution_count": 416,
   "metadata": {},
   "outputs": [],
   "source": [
    "#Grab population mean and error boundaries for both flash and sham subsets for orco flies\n",
    "t, m, u, l= slice_means_gs(orco100, 'ground speed')\n",
    "t0, m0, u0, l0=slice_means_gs(orco0, 'ground speed')"
   ]
  },
  {
   "cell_type": "code",
   "execution_count": 417,
   "metadata": {},
   "outputs": [],
   "source": [
    "ax.plot(m, t, color = 'red', label = 'Orco>csChrimson', linewidth =.5)\n",
    "ax.plot(m0, t0, color ='k', label = 'Control', linewidth=.5)\n",
    "\n",
    "ax.fill_betweenx(t0, u0, l0, color = 'k', alpha = 0.2, label = '', linewidth =0)\n",
    "\n",
    "ax.fill_betweenx(t, u, l, color = 'red', alpha = 0.2, label = '', linewidth =0)\n",
    "ax.set_ylim(-100, 3000)\n",
    "ax.axhspan(0, 675, color = 'red', alpha = 0.1)\n",
    "ax.set_yticklabels([' ',' ', ' '])\n",
    "ax.set_xticklabels([' ',' '])\n",
    "fifi.mpl_functions.adjust_spines(ax, ['left', 'bottom'],xticks=[0, .6], yticks=[0, 675, 3000], tick_length=3, linewidth=lw)\n",
    "fifi.mpl_functions.set_fontsize(ax, fs)\n"
   ]
  },
  {
   "cell_type": "markdown",
   "metadata": {},
   "source": [
    "# Altitude response"
   ]
  },
  {
   "cell_type": "code",
   "execution_count": 418,
   "metadata": {},
   "outputs": [],
   "source": [
    "ax=layout.axes[('meat', 'alt')]"
   ]
  },
  {
   "cell_type": "code",
   "execution_count": 419,
   "metadata": {},
   "outputs": [],
   "source": [
    "#Grab population mean and error boundaries for both flash and sham subsets for orco flies\n",
    "t, m, u, l= slice_means_gs(orco100, 'z')\n",
    "t0, m0, u0, l0=slice_means_gs(orco0, 'z')"
   ]
  },
  {
   "cell_type": "code",
   "execution_count": 420,
   "metadata": {},
   "outputs": [],
   "source": [
    "ax.plot(m, t, color = 'red', label = 'Orco>csChrimson', linewidth =.5)\n",
    "ax.plot(m0, t0, color ='k', label = 'Control', linewidth=.5)\n",
    "#ax.set_ylabel(\"Ground Speed (m/s)\")\n",
    "ax.fill_betweenx(t0, u0, l0, color = 'k', alpha = 0.2, label = '', linewidth =0)\n",
    "ax.fill_betweenx(t, u, l, color = 'red', alpha = 0.2, label = '', linewidth =0)\n",
    "ax.set_ylim(-100, 3000)\n",
    "ax.axhspan(0, 675, color = 'red', alpha = 0.1)\n",
    "ax.set_yticklabels([' ',' ', ' '])\n",
    "ax.set_xticklabels([' ',' '])\n",
    "fifi.mpl_functions.adjust_spines(ax, ['left', 'bottom'],xticks=[0, .5], yticks=[0, 675, 3000], tick_length=3, linewidth=lw)\n",
    "fifi.mpl_functions.set_fontsize(ax, fs)\n"
   ]
  },
  {
   "cell_type": "markdown",
   "metadata": {},
   "source": [
    "# Proportion of traj's in each tunnel orientation"
   ]
  },
  {
   "cell_type": "code",
   "execution_count": 421,
   "metadata": {},
   "outputs": [],
   "source": [
    "ax=layout.axes[('meat', 'prop_f')]"
   ]
  },
  {
   "cell_type": "code",
   "execution_count": 422,
   "metadata": {},
   "outputs": [],
   "source": [
    "t, uw, cw, dw= slice_head_prop(orco100)"
   ]
  },
  {
   "cell_type": "code",
   "execution_count": 423,
   "metadata": {},
   "outputs": [],
   "source": [
    "ax.plot(uw, t, color = 'green', linewidth =.5)\n",
    "ax.plot(cw, t, color ='blue', linewidth=.5)\n",
    "ax.plot(dw, t, color = 'orange', linewidth =.5)\n",
    "ax.set_ylim(-100, 3000)\n",
    "ax.axhspan(0, 675, color = 'red', alpha = 0.1)\n",
    "ax.set_yticklabels([' ',' ', ' '])\n",
    "ax.set_xticklabels([' ',' '])\n",
    "fifi.mpl_functions.adjust_spines(ax, ['bottom'],xticks=[0, 1.0], yticks=[0, 675, 3000], tick_length=3, linewidth=lw)\n",
    "fifi.mpl_functions.set_fontsize(ax, fs)\n"
   ]
  },
  {
   "cell_type": "code",
   "execution_count": 424,
   "metadata": {},
   "outputs": [],
   "source": [
    "ax=layout.axes[('meat', 'prop_s')]"
   ]
  },
  {
   "cell_type": "code",
   "execution_count": null,
   "metadata": {},
   "outputs": [],
   "source": [
    "t0, uw0, cw0, dw0= slice_head_prop(orco0)"
   ]
  },
  {
   "cell_type": "code",
   "execution_count": null,
   "metadata": {},
   "outputs": [],
   "source": [
    "ax.plot(uw0, t0, color = 'green', linewidth =.5)\n",
    "ax.plot(cw0, t0, color ='blue', linewidth=.5)\n",
    "ax.plot(dw0, t0, color = 'orange', linewidth =.5)\n",
    "ax.set_ylim(-100, 3000)\n",
    "#ax.axhspan(0, 675, color = 'red', alpha = 0.1)\n",
    "ax.set_yticklabels([' ',' ', ' '])\n",
    "ax.set_xticklabels([' ',' '])\n",
    "fifi.mpl_functions.adjust_spines(ax, ['bottom'],xticks=[0, 1.0], yticks=[0, 675, 3000], tick_length=3, linewidth=lw)\n",
    "fifi.mpl_functions.set_fontsize(ax, fs)\n"
   ]
  },
  {
   "cell_type": "markdown",
   "metadata": {},
   "source": [
    "# Save to figure first layout"
   ]
  },
  {
   "cell_type": "code",
   "execution_count": null,
   "metadata": {},
   "outputs": [],
   "source": [
    "layout.append_figure_to_layer(layout.figures['traj'], 'traj', cleartarget=True)\n",
    "layout.append_figure_to_layer(layout.figures['meat'], 'meat', cleartarget=True)\n",
    "layout.write_svg(temlpate)"
   ]
  },
  {
   "cell_type": "markdown",
   "metadata": {},
   "source": [
    "# Figure first doesn't have a way of handling the 3dAxis object type so made 3d plot separately"
   ]
  },
  {
   "cell_type": "code",
   "execution_count": 454,
   "metadata": {},
   "outputs": [
    {
     "data": {
      "image/png": "[encoded data removed]",
      "text/plain": [
       "<Figure size 360x360 with 1 Axes>"
      ]
     },
     "metadata": {},
     "output_type": "display_data"
    }
   ],
   "source": [
    "from mpl_toolkits import mplot3d\n",
    "fig = plt.figure(figsize=(5, 5))\n",
    "ax = plt.axes(projection ='3d')\n",
    "ax.grid(False)\n",
    "ax.view_init(15)\n",
    "ax.set_xlim(-.5, .5)\n",
    "ax.set_ylim(-.25, .25)\n",
    "ax.set_zlim(0, .5)\n",
    "ax.set_aspect(1.25)\n",
    "\n",
    "ax.grid(False)\n",
    "ax.set_xticks([])\n",
    "ax.set_yticks([])\n",
    "ax.set_zticks([])\n",
    "\n",
    "ax.plot(pre['x'], pre['y'], pre['z'], color = 'k', linewidth = lw+.5)\n",
    "ax.plot(pre['x'], pre['y'], -.06, color ='k', alpha = 0.2, linewidth = lw+.75)\n",
    "ax.plot(dur['x'], dur['y'], dur['z'], color = 'red', linewidth = lw+.5)\n",
    "ax.plot(dur['x'], dur['y'], -.06, color ='red', alpha = 0.2, linewidth = lw+.75)\n",
    "ax.plot(post['x'], post['y'], post['z'], color = 'k', linewidth = lw+.5)\n",
    "ax.plot(post['x'], post['y'], -0.06, color ='k', alpha = 0.2, linewidth = lw+.75)\n",
    "ax.scatter(post['x'].iloc[-1], post['y'].iloc[-1], post['z'].iloc[-1], color = 'k', s= 10)\n",
    "\n",
    "ax.plot(pre['x'], [.25]*len(pre), pre['z'], color ='k', alpha = 0.2, linewidth = lw+.75)\n",
    "ax.plot(dur['x'], [.25]*len(dur), dur['z'], color ='red', alpha = 0.2, linewidth = lw+.75)\n",
    "ax.plot(post['x'], [.25]*len(post), post['z'], color ='k', alpha = 0.2, linewidth = lw+.75)\n",
    "\n",
    "ax.scatter(post['x'].iloc[-1], post['y'].iloc[-1], -0.06, color = 'k', alpha = 0.5, s=5)\n",
    "ax.scatter(post['x'].iloc[-1], .25, post['z'].iloc[-1], color = 'k', alpha = 0.5, s= 5)\n",
    "ax.scatter(-.5, post['y'].iloc[-1], post['z'].iloc[-1], color = 'k', alpha = 0.5, s=5)\n",
    "\n",
    "ax.plot((post['x'].iloc[-1],post['x'].iloc[-1]), (post['y'].iloc[-1],post['y'].iloc[-1]),(post['z'].iloc[-1], -0.05),linewidth =.5, color = 'k', alpha = 0.5)\n",
    "ax.plot((post['x'].iloc[-1],-.5), (post['y'].iloc[-1],post['y'].iloc[-1]),(post['z'].iloc[-1], post['z'].iloc[-1]),linewidth = 0.5, color = 'k', alpha = 0.5)\n",
    "ax.plot((post['x'].iloc[-1],post['x'].iloc[-1]), (post['y'].iloc[-1],.25),(post['z'].iloc[-1], post['z'].iloc[-1]), linewidth = 0.5, color = 'k', alpha = 0.5)\n",
    "#plt.savefig(path +\"/3d_projection_for_f3_v2.jpg\", dpi = 300, transparent =True)"
   ]
  },
  {
   "cell_type": "code",
   "execution_count": null,
   "metadata": {},
   "outputs": [],
   "source": []
  },
  {
   "cell_type": "code",
   "execution_count": null,
   "metadata": {},
   "outputs": [],
   "source": []
  },
  {
   "cell_type": "code",
   "execution_count": null,
   "metadata": {},
   "outputs": [],
   "source": []
  }
 ],
 "metadata": {
  "kernelspec": {
   "display_name": "Python 2",
   "language": "python",
   "name": "python2"
  },
  "language_info": {
   "codemirror_mode": {
    "name": "ipython",
    "version": 2
   },
   "file_extension": ".py",
   "mimetype": "text/x-python",
   "name": "python",
   "nbconvert_exporter": "python",
   "pygments_lexer": "ipython2",
   "version": "2.7.12"
  }
 },
 "nbformat": 4,
 "nbformat_minor": 2
}
