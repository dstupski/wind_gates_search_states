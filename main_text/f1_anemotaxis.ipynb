{
 "cells": [
  {
   "cell_type": "code",
   "execution_count": 2,
   "metadata": {},
   "outputs": [
    {
     "name": "stdout",
     "output_type": "stream",
     "text": [
      "2.2.4\n",
      "recommended version: 1.1.1 or greater\n"
     ]
    }
   ],
   "source": [
    "import fly_plot_lib.plot as fpl\n",
    "import numpy as np\n",
    "import matplotlib.pyplot as plt\n",
    "import pandas as pd\n",
    "import figurefirst as fifi\n",
    "from scipy import stats\n",
    "# from statsmodels.stats import proportions_ztest"
   ]
  },
  {
   "cell_type": "code",
   "execution_count": 916,
   "metadata": {},
   "outputs": [],
   "source": [
    "from flystat.resampling import calc_statistical_significance_through_resampling"
   ]
  },
  {
   "cell_type": "code",
   "execution_count": 3,
   "metadata": {},
   "outputs": [],
   "source": [
    "wt=pd.read_csv('../trimmed_data/main/wild_type_laminar_merged.csv')\n",
    "orco=pd.read_csv('../trimmed_data/main/OrcoCsChrimson_laminar_wind_merged.csv')\n",
    "\n"
   ]
  },
  {
   "cell_type": "code",
   "execution_count": 3,
   "metadata": {},
   "outputs": [],
   "source": [
    "wt=wt[wt['time stamp'].between(-100, 5000)]\n",
    "orco=orco[orco['time stamp'].between(-100, 5000)]"
   ]
  },
  {
   "cell_type": "code",
   "execution_count": 4,
   "metadata": {},
   "outputs": [],
   "source": [
    "#for some reason i didnt add ground speed in the wt preprocessing lol\n",
    "wt['ground speed']=(wt['xvel']**2+wt['yvel']**2)**.5\n",
    "orco['ground speed']=(orco['xvel']**2+orco['yvel']**2)**0.5"
   ]
  },
  {
   "cell_type": "code",
   "execution_count": 913,
   "metadata": {},
   "outputs": [],
   "source": [
    "#separate flashes and shames\n",
    "wt100=wt[wt['duration']==100]\n",
    "wt0=wt[wt['duration']==0]\n",
    "orco100=orco[orco['duration']==100]\n",
    "orco0=orco[orco['duration']==0]"
   ]
  },
  {
   "cell_type": "code",
   "execution_count": 267,
   "metadata": {},
   "outputs": [],
   "source": [
    "#helper function for slicing means with 95% CI's\n",
    "def slice_means_gs(df, index):\n",
    "    time_vec=[]\n",
    "    mean_vec=[]\n",
    "    upper_vec =[]\n",
    "    lower_vec =[]\n",
    "    for i in df['time stamp'].unique():\n",
    "        if i >-100 and i <3000:\n",
    "            dummy_df =df[df['time stamp']==i]\n",
    "            dummy_df=dummy_df[dummy_df['ground speed'].between(0, 2.0)]\n",
    "            time_vec.append(i)\n",
    "            mean = dummy_df[index].mean()\n",
    "            upper= dummy_df[index].mean() + dummy_df[index].sem()*1.96\n",
    "            lower= dummy_df[index].mean() - dummy_df[index].sem()*1.96\n",
    "            mean_vec.append(mean)\n",
    "            upper_vec.append(upper)\n",
    "            lower_vec.append(lower)\n",
    "    return time_vec, mean_vec, upper_vec, lower_vec"
   ]
  },
  {
   "cell_type": "code",
   "execution_count": 727,
   "metadata": {},
   "outputs": [],
   "source": [
    "#helper function for slicing means with standard errors\n",
    "def slice_head_prop(df, index='heading', time_key= \"time stamp\", start=-100, stop=3000):\n",
    "    time_vec=[]\n",
    "    uw_vec =[]\n",
    "    cw_vec =[]\n",
    "    dw_vec =[]\n",
    "    df=df[df[time_key].between(start, stop)]\n",
    "    for i in df[time_key].unique():\n",
    "        dummy_df =df[df[time_key]==i]\n",
    "        dummy_df=dummy_df[dummy_df['ground speed'].between(0, 2.0)]\n",
    "        time_vec.append(i)\n",
    "        tot =float(len(dummy_df))\n",
    "        dummy_df['abs head'] =np.abs(dummy_df[index])\n",
    "        #df[df < 2.0 ].count() \n",
    "        uw = dummy_df[dummy_df['abs head']<np.pi/4.].count()\n",
    "        cw =dummy_df[dummy_df['abs head'].between(np.pi/4., 3.*np.pi/4)].count()\n",
    "        dw =dummy_df[dummy_df['abs head']>3*np.pi/4.].count()\n",
    "        uw_vec.append(uw/tot)\n",
    "        cw_vec.append(cw/tot)\n",
    "        dw_vec.append(dw/tot)\n",
    "    return time_vec, uw_vec, cw_vec, dw_vec\n",
    "    "
   ]
  },
  {
   "cell_type": "markdown",
   "metadata": {},
   "source": [
    "#  Figure generation for data parts of Figure 1"
   ]
  },
  {
   "cell_type": "code",
   "execution_count": 4,
   "metadata": {},
   "outputs": [
    {
     "data": {
      "image/png": "[encoded data removed]",
      "text/plain": [
       "<Figure size 432x432 with 4 Axes>"
      ]
     },
     "metadata": {
      "needs_background": "light"
     },
     "output_type": "display_data"
    },
    {
     "data": {
      "image/png": "[encoded data removed]",
      "text/plain": [
       "<Figure size 432x432 with 2 Axes>"
      ]
     },
     "metadata": {
      "needs_background": "light"
     },
     "output_type": "display_data"
    },
    {
     "data": {
      "image/png": "[encoded data removed]",
      "text/plain": [
       "<Figure size 432x432 with 2 Axes>"
      ]
     },
     "metadata": {
      "needs_background": "light"
     },
     "output_type": "display_data"
    },
    {
     "data": {
      "image/png": "[encoded data removed]",
      "text/plain": [
       "<Figure size 432x432 with 6 Axes>"
      ]
     },
     "metadata": {
      "needs_background": "light"
     },
     "output_type": "display_data"
    },
    {
     "data": {
      "image/png": "[encoded data removed]",
      "text/plain": [
       "<Figure size 432x432 with 6 Axes>"
      ]
     },
     "metadata": {
      "needs_background": "light"
     },
     "output_type": "display_data"
    }
   ],
   "source": [
    "template = '../figure_first_templates/f1_part1.svg'\n",
    "layout =fifi.svg_to_axes.FigureLayout(template, autogenlayers=True, make_mplfigures=True, hide_layers=[])"
   ]
  },
  {
   "cell_type": "code",
   "execution_count": 855,
   "metadata": {},
   "outputs": [],
   "source": [
    "#Standardize a couple size things so figures all come out the same\n",
    "ms=4\n",
    "lw=.5\n",
    "fs=6\n",
    "linew=.5\n",
    "tl=3"
   ]
  },
  {
   "cell_type": "markdown",
   "metadata": {},
   "source": [
    "# Example trajectories"
   ]
  },
  {
   "cell_type": "code",
   "execution_count": 856,
   "metadata": {},
   "outputs": [],
   "source": [
    "orco_traj1 =pd.read_csv('../trajectories_for_figures/orco_laminar1.csv')\n",
    "wt_traj1 =pd.read_csv('../trajectories_for_figures/wt_laminar1.csv')"
   ]
  },
  {
   "cell_type": "code",
   "execution_count": 857,
   "metadata": {},
   "outputs": [],
   "source": [
    "#orco traj 1 setup\n",
    "ax=layout.axes[('traj', 'orco1')]"
   ]
  },
  {
   "cell_type": "code",
   "execution_count": 858,
   "metadata": {},
   "outputs": [
    {
     "data": {
      "text/plain": [
       "[]"
      ]
     },
     "execution_count": 858,
     "metadata": {},
     "output_type": "execute_result"
    }
   ],
   "source": [
    "pre=orco_traj1[orco_traj1['time stamp']<=0]\n",
    "dur=orco_traj1[orco_traj1['time stamp'].between(0, 675)]\n",
    "post = orco_traj1[orco_traj1['time stamp']>=675]\n",
    "ax.plot(pre['x'], pre['y'], color ='k',alpha= 0.8, linewidth =lw)\n",
    "ax.plot(dur['x'], dur['y'], color ='r', alpha =1, linewidth =lw)\n",
    "ax.plot(post['x'], post['y'], color ='k', alpha = .8, linewidth = lw)\n",
    "\n",
    "ax.scatter(orco_traj1['x'].iloc[0],orco_traj1['y'].iloc[0], marker = (3, 0, orco_traj1['heading deg'].iloc[0]+45),s=ms, color ='k')\n",
    "ax.scatter(orco_traj1['x'].iloc[40],orco_traj1['y'].iloc[40], marker = (3, 0, orco_traj1['heading deg'].iloc[0]+30),s=ms, color ='k')\n",
    "ax.scatter(orco_traj1['x'].iloc[80],orco_traj1['y'].iloc[80], marker = (3, 0, orco_traj1['heading deg'].iloc[0]+90),s=ms, color ='r')\n",
    "ax.scatter(orco_traj1['x'].iloc[160],orco_traj1['y'].iloc[160], marker = (3, 0, orco_traj1['heading deg'].iloc[0]+180),s=ms, color ='k', zorder=4)\n",
    "ax.scatter(orco_traj1['x'].iloc[210],orco_traj1['y'].iloc[210], marker = (3, 0, orco_traj1['heading deg'].iloc[0]+135),s=ms, color ='k', zorder=4)\n",
    "ax.scatter(orco_traj1['x'].iloc[280],orco_traj1['y'].iloc[280], marker = (3, 0, orco_traj1['heading deg'].iloc[0]+175),s=ms, color ='k',  zorder=4)\n",
    "ax.scatter(orco_traj1['x'].iloc[-1],orco_traj1['y'].iloc[-1], marker = (3, 0, orco_traj1['heading deg'].iloc[0]+180),s=ms, color ='k',  zorder=4)\n",
    "ax.set_title(\"Orco>csChrimson\")\n",
    "\n",
    "ax.set_xlim(-.5, .5)\n",
    "ax.set_ylim(-.25, .25)\n",
    "\n",
    "fifi.mpl_functions.set_fontsize(ax, fs)\n",
    "fifi.mpl_functions.adjust_spines(ax, [], xticks =[], yticks=[])\n",
    "ax.set_xticklabels([])\n",
    "\n"
   ]
  },
  {
   "cell_type": "code",
   "execution_count": 859,
   "metadata": {},
   "outputs": [],
   "source": [
    "#wt traj 1 setup\n",
    "ax=layout.axes[('traj', 'wt1')]"
   ]
  },
  {
   "cell_type": "code",
   "execution_count": 860,
   "metadata": {},
   "outputs": [],
   "source": [
    "pre=wt_traj1[wt_traj1['time stamp']<=0]\n",
    "dur=wt_traj1[wt_traj1['time stamp'].between(0, 675)]\n",
    "post = wt_traj1[wt_traj1['time stamp']>=675]\n",
    "ax.plot(pre['x'], pre['y'], color ='k', linewidth = lw, alpha= 0.8)\n",
    "ax.plot(dur['x'], dur['y'], color ='r', linewidth =lw, alpha =1)\n",
    "ax.plot(post['x'], post['y'], color ='k', linewidth = lw, alpha = .8)\n",
    "\n",
    "\n",
    "ax.scatter(wt_traj1['x'].iloc[0],wt_traj1['y'].iloc[0], marker = (3, 0, wt_traj1['heading deg'].iloc[0]+95), color ='k', s = ms)\n",
    "ax.scatter(wt_traj1['x'].iloc[60],wt_traj1['y'].iloc[60], marker = (3, 0, wt_traj1['heading deg'].iloc[0]+98), color ='r', s = ms)\n",
    "ax.scatter(wt_traj1['x'].iloc[110],wt_traj1['y'].iloc[110], marker = (3, 0, wt_traj1['heading deg'].iloc[0]+30), color ='k', s = ms, zorder=4)\n",
    "ax.scatter(wt_traj1['x'].iloc[145],wt_traj1['y'].iloc[145], marker = (3, 0, wt_traj1['heading deg'].iloc[0]+60), color ='k', s = ms, zorder=4)\n",
    "ax.scatter(wt_traj1['x'].iloc[-1],wt_traj1['y'].iloc[-1], marker = (3, 0, wt_traj1['heading deg'].iloc[0]+160), color ='k', s = ms, zorder=4)\n",
    "\n",
    "fifi.mpl_functions.set_fontsize(ax, fs)\n",
    "ax.set_xlim(-.5, .5)\n",
    "ax.set_ylim(-.25, .25)\n",
    "fifi.mpl_functions.adjust_spines(ax, [], xticks =[], yticks=[])"
   ]
  },
  {
   "cell_type": "code",
   "execution_count": 861,
   "metadata": {},
   "outputs": [],
   "source": [
    "# Orco 2\n",
    "orco_traj2=pd.read_csv('../trajectories_for_figures/orco_traj2.csv')"
   ]
  },
  {
   "cell_type": "code",
   "execution_count": 862,
   "metadata": {},
   "outputs": [],
   "source": [
    "ax=layout.axes[('traj', 'orco3')]"
   ]
  },
  {
   "cell_type": "code",
   "execution_count": 863,
   "metadata": {},
   "outputs": [
    {
     "data": {
      "text/plain": [
       "[]"
      ]
     },
     "execution_count": 863,
     "metadata": {},
     "output_type": "execute_result"
    }
   ],
   "source": [
    "pre=orco_traj2[orco_traj2['time stamp'].between(-100, 0)]\n",
    "dur=orco_traj2[orco_traj2['time stamp'].between(0, 675)]\n",
    "post = orco_traj2[orco_traj2['time stamp']>=675]\n",
    "\n",
    "ax.plot(pre['x'], pre['y'], color ='k',alpha= 0.8, linewidth =lw)\n",
    "ax.plot(dur['x'], dur['y'], color ='r', alpha =1, linewidth =lw)\n",
    "ax.plot(post['x'], post['y'], color ='k', alpha = .8, linewidth = lw)\n",
    "\n",
    "\n",
    "ax.scatter(orco_traj2['x'].iloc[8],orco_traj2['y'].iloc[8], marker = (3, 0, orco_traj2['heading'].iloc[8]),s=ms, color ='k')\n",
    "ax.scatter(orco_traj2['x'].iloc[23],orco_traj2['y'].iloc[23], marker = (3, 0, orco_traj2['heading'].iloc[0]),s=ms,  color ='r')\n",
    "ax.scatter(orco_traj2['x'].iloc[130],orco_traj2['y'].iloc[130], marker = (3, 0, orco_traj2['heading'].iloc[0]+90),s=ms, color ='k', zorder=4)\n",
    "ax.scatter(orco_traj2['x'].iloc[185],orco_traj2['y'].iloc[185], marker = (3, 0, orco_traj2['heading'].iloc[0]+119),s=ms, color ='k', zorder=4)\n",
    "ax.scatter(orco_traj2['x'].iloc[260],orco_traj2['y'].iloc[260], marker = (3, 0, orco_traj2['heading'].iloc[0]+180),s=ms, color ='k',  zorder=4)\n",
    "ax.scatter(orco_traj2['x'].iloc[-1],orco_traj2['y'].iloc[-1], marker = (3, 0, orco_traj2['heading'].iloc[0]),s=ms, color ='k',  zorder=4)\n",
    "ax.set_xlim(-.5, .5)\n",
    "ax.set_ylim(-.25, .25)\n",
    "\n",
    "fifi.mpl_functions.set_fontsize(ax, fs)\n",
    "fifi.mpl_functions.adjust_spines(ax, [], xticks =[], yticks=[])\n",
    "ax.set_xticklabels([])\n"
   ]
  },
  {
   "cell_type": "code",
   "execution_count": 864,
   "metadata": {},
   "outputs": [],
   "source": [
    "orco_traj3=pd.read_csv('../trajectories_for_figures/orco_traj3.csv')"
   ]
  },
  {
   "cell_type": "code",
   "execution_count": 865,
   "metadata": {},
   "outputs": [],
   "source": [
    "ax=layout.axes[('traj', 'orco2')]"
   ]
  },
  {
   "cell_type": "code",
   "execution_count": 866,
   "metadata": {},
   "outputs": [
    {
     "data": {
      "text/plain": [
       "[]"
      ]
     },
     "execution_count": 866,
     "metadata": {},
     "output_type": "execute_result"
    }
   ],
   "source": [
    "pre=orco_traj3[orco_traj3['time stamp'].between(-100, 0)]\n",
    "dur=orco_traj3[orco_traj3['time stamp'].between(0, 675)]\n",
    "post = orco_traj3[orco_traj3['time stamp']>=675]\n",
    "\n",
    "ax.plot(pre['x'], pre['y'], color ='k',alpha= 0.8, linewidth =lw)\n",
    "ax.plot(dur['x'], dur['y'], color ='r', alpha =1, linewidth =lw)\n",
    "ax.plot(post['x'], post['y'], color ='k', alpha = .8, linewidth = lw)\n",
    "\n",
    "ax.set_xlim(-.5, .5)\n",
    "ax.set_ylim(-.25, .25)\n",
    "\n",
    "ax.scatter(orco_traj3['x'].iloc[7],orco_traj3['y'].iloc[7], marker = (3, 0, orco_traj3['heading'].iloc[8]+60),s=ms, color ='k')\n",
    "ax.scatter(orco_traj3['x'].iloc[50],orco_traj3['y'].iloc[50], marker = (3, 0, orco_traj3['heading'].iloc[0]+45),s=ms, color ='r')\n",
    "ax.scatter(orco_traj3['x'].iloc[130],orco_traj3['y'].iloc[130], marker = (3, 0, orco_traj3['heading'].iloc[0]+160),s=ms, color ='k', zorder=4)\n",
    "ax.scatter(orco_traj3['x'].iloc[185],orco_traj3['y'].iloc[185], marker = (3, 0, orco_traj2['heading'].iloc[0]+60),s=ms, color ='k', zorder=4)\n",
    "ax.scatter(orco_traj3['x'].iloc[260],orco_traj3['y'].iloc[260], marker = (3, 0, orco_traj2['heading'].iloc[0]+190),s=ms, color ='k',  zorder=4)\n",
    "ax.scatter(orco_traj3['x'].iloc[340],orco_traj3['y'].iloc[340], marker = (3, 0, orco_traj2['heading'].iloc[0]+55),s=ms, color ='k',  zorder=4)\n",
    "ax.scatter(orco_traj3['x'].iloc[410],orco_traj3['y'].iloc[410], marker = (3, 0, orco_traj2['heading'].iloc[0]+100),s=ms, color ='k',  zorder=4)\n",
    "ax.scatter(orco_traj3['x'].iloc[-1],orco_traj3['y'].iloc[-1], marker = (3, 0, orco_traj2['heading'].iloc[0]+60),s=ms, color ='k',  zorder=4)\n",
    "\n",
    "fifi.mpl_functions.set_fontsize(ax, fs)\n",
    "fifi.mpl_functions.adjust_spines(ax, [], xticks =[], yticks=[])\n",
    "ax.set_xticklabels([])"
   ]
  },
  {
   "cell_type": "code",
   "execution_count": 867,
   "metadata": {},
   "outputs": [],
   "source": [
    "wt_traj2=pd.read_csv('../trajectories_for_figures/wt_traj2.csv')"
   ]
  },
  {
   "cell_type": "code",
   "execution_count": 868,
   "metadata": {},
   "outputs": [],
   "source": [
    "ax=layout.axes[('traj', 'wt3')]"
   ]
  },
  {
   "cell_type": "code",
   "execution_count": 869,
   "metadata": {},
   "outputs": [
    {
     "data": {
      "text/plain": [
       "[]"
      ]
     },
     "execution_count": 869,
     "metadata": {},
     "output_type": "execute_result"
    }
   ],
   "source": [
    "pre=wt_traj2[wt_traj2['time stamp'].between(-200, 0)]\n",
    "dur=wt_traj2[wt_traj2['time stamp'].between(0, 675)]\n",
    "post = wt_traj2[wt_traj2['time stamp']>=675]\n",
    "\n",
    "ax.plot(pre['x'], pre['y'], color ='k',alpha= 0.8, linewidth =lw)\n",
    "ax.plot(dur['x'], dur['y'], color ='r', alpha =1, linewidth =lw)\n",
    "ax.plot(post['x'], post['y'], color ='k', alpha = .8, linewidth = lw)\n",
    "\n",
    "ax.set_xlim(-.5, .5)\n",
    "ax.set_ylim(-.25, .25)\n",
    "\n",
    "ax.scatter(wt_traj2['x'].iloc[7], wt_traj2['y'].iloc[7], marker = (3, 0, orco_traj3['heading'].iloc[8]+90),s=ms, color ='k')\n",
    "ax.scatter(wt_traj2['x'].iloc[45],wt_traj2['y'].iloc[45], marker = (3, 0, orco_traj3['heading'].iloc[0]+55),s=ms,  color ='r')\n",
    "ax.scatter(wt_traj2['x'].iloc[80],wt_traj2['y'].iloc[80], marker = (3, 0, orco_traj3['heading'].iloc[0]+65),s=ms, color ='r')\n",
    "ax.scatter(wt_traj2['x'].iloc[120],wt_traj2['y'].iloc[120], marker = (3, 0, orco_traj3['heading'].iloc[0]+70),s=ms, color ='k', zorder=4)\n",
    "ax.scatter(wt_traj2['x'].iloc[-1],wt_traj2['y'].iloc[-1], marker = (3, 0, orco_traj2['heading'].iloc[0]+60),s=ms, color ='k', zorder=4)\n",
    "\n",
    "fifi.mpl_functions.set_fontsize(ax, fs)\n",
    "fifi.mpl_functions.adjust_spines(ax, [], xticks =[], yticks=[])\n",
    "ax.set_xticklabels([])"
   ]
  },
  {
   "cell_type": "code",
   "execution_count": 870,
   "metadata": {},
   "outputs": [],
   "source": [
    "wt_traj3=pd.read_csv('../trajectories_for_figures/wt_traj3.csv')"
   ]
  },
  {
   "cell_type": "code",
   "execution_count": 871,
   "metadata": {},
   "outputs": [],
   "source": [
    "ax=layout.axes[('traj', 'wt2')]"
   ]
  },
  {
   "cell_type": "code",
   "execution_count": 872,
   "metadata": {},
   "outputs": [
    {
     "data": {
      "text/plain": [
       "[]"
      ]
     },
     "execution_count": 872,
     "metadata": {},
     "output_type": "execute_result"
    }
   ],
   "source": [
    "pre=wt_traj3[wt_traj3['time stamp'].between(-200, 0)]\n",
    "dur=wt_traj3[wt_traj3['time stamp'].between(0, 675)]\n",
    "post = wt_traj3[wt_traj3['time stamp']>=675]\n",
    "\n",
    "ax.plot(pre['x'], pre['y'], color ='k',alpha= 0.8, linewidth =lw)\n",
    "ax.plot(dur['x'], dur['y'], color ='r', alpha =1, linewidth =lw)\n",
    "ax.plot(post['x'], post['y'], color ='k', alpha = .8, linewidth = lw)\n",
    "\n",
    "ax.set_xlim(-.5, .5)\n",
    "ax.set_ylim(-.25, .25)\n",
    "\n",
    "ax.scatter(pre['x'].iloc[0], pre['y'].iloc[0], marker = (3, 0, orco_traj3['heading'].iloc[8]+110),s=ms, color ='k')\n",
    "ax.scatter(dur['x'].iloc[30],dur['y'].iloc[30], marker = (3, 0, orco_traj3['heading'].iloc[0]),s=ms,  color ='r')\n",
    "ax.scatter(post['x'].iloc[20],post['y'].iloc[20], marker = (3, 0, orco_traj3['heading'].iloc[0]+130),s=ms, color ='k')\n",
    "ax.scatter(post['x'].iloc[65],post['y'].iloc[65], marker = (3, 0, orco_traj3['heading'].iloc[0]+110),s=ms, color ='k', zorder=4)\n",
    "ax.scatter(post['x'].iloc[115],post['y'].iloc[115], marker = (3, 0, orco_traj3['heading'].iloc[0]+60),s=ms, color ='k', zorder=4)\n",
    "ax.scatter(post['x'].iloc[-1],post['y'].iloc[-1], marker = (3, 0, orco_traj3['heading'].iloc[0]+75),s=ms, color ='k', zorder=4)\n",
    "\n",
    "\n",
    "fifi.mpl_functions.set_fontsize(ax, fs)\n",
    "fifi.mpl_functions.adjust_spines(ax, [], xticks =[], yticks=[])\n",
    "ax.set_xticklabels([])"
   ]
  },
  {
   "cell_type": "markdown",
   "metadata": {},
   "source": [
    "# Angular velocity traces for example trajectories"
   ]
  },
  {
   "cell_type": "code",
   "execution_count": 873,
   "metadata": {},
   "outputs": [],
   "source": [
    "ax=layout.axes[('ang_vel', 'orco')]"
   ]
  },
  {
   "cell_type": "code",
   "execution_count": 874,
   "metadata": {},
   "outputs": [],
   "source": [
    "orco_traj3['head_unwrap']=np.unwrap(orco_traj3['heading'])\n",
    "orco_traj3['ang vel unwrap']=orco_traj3['head_unwrap'].diff()/.01\n",
    "pre3=orco_traj3[orco_traj3['time stamp']<=0]\n",
    "dur3 =orco_traj3[orco_traj3['time stamp'].between(0, 680)]\n",
    "post3 =orco_traj3[orco_traj3['time stamp'].between(680, 5000)]"
   ]
  },
  {
   "cell_type": "code",
   "execution_count": 875,
   "metadata": {},
   "outputs": [],
   "source": [
    "ax.plot(pre3['ang vel unwrap'], pre3['time stamp'], linewidth =linew, color = 'k')\n",
    "ax.plot(dur3['ang vel unwrap'], dur3['time stamp'], linewidth =linew, color = 'red')\n",
    "ax.plot(post3['ang vel unwrap'], post3['time stamp'], linewidth =linew, color = 'k')\n",
    "\n",
    "ax.set_xticklabels([' ', '0', ' '])\n",
    "\n",
    "fifi.mpl_functions.adjust_spines(ax, [ 'bottom'], xticks =[-60, 0, 60], yticks=[0, .675, 5000], tick_length = tl, linewidth = .5)\n",
    "fifi.mpl_functions.set_fontsize(ax, fs)"
   ]
  },
  {
   "cell_type": "code",
   "execution_count": 876,
   "metadata": {},
   "outputs": [],
   "source": [
    "ax=layout.axes[('ang_vel', 'wt')]"
   ]
  },
  {
   "cell_type": "code",
   "execution_count": 877,
   "metadata": {},
   "outputs": [],
   "source": [
    "wt_traj3['head_unwrap']=np.unwrap(wt_traj3['heading'])\n",
    "wt_traj3['ang vel unwrap']=wt_traj3['head_unwrap'].diff()/.01\n",
    "pre3=wt_traj3[wt_traj3['time stamp'].between(-100, 0)]\n",
    "dur3 =wt_traj3[wt_traj3['time stamp'].between(0, 680)]\n",
    "post3 =wt_traj3[wt_traj3['time stamp'].between(680, 5000)]"
   ]
  },
  {
   "cell_type": "code",
   "execution_count": 878,
   "metadata": {},
   "outputs": [],
   "source": [
    "ax.plot(pre3['ang vel unwrap'], pre3['time stamp'], linewidth =linew, color = 'k')\n",
    "ax.plot(dur3['ang vel unwrap'], dur3['time stamp'], linewidth =linew, color = 'red')\n",
    "ax.plot(post3['ang vel unwrap'], post3['time stamp'], linewidth =linew, color = 'k')\n",
    "\n",
    "ax.set_xticklabels([' ', '0', ' '])\n",
    "ax.set_ylim(-100, 5000)\n",
    "fifi.mpl_functions.adjust_spines(ax, [ 'bottom'], xticks =[-60, 0, 60], yticks=[0, .675, 5000], tick_length = tl, linewidth = .5)\n",
    "fifi.mpl_functions.set_fontsize(ax, fs)"
   ]
  },
  {
   "cell_type": "markdown",
   "metadata": {},
   "source": [
    "# Course Direction heat map: Orco>CsChrimson Flash"
   ]
  },
  {
   "cell_type": "code",
   "execution_count": 879,
   "metadata": {},
   "outputs": [],
   "source": [
    "ax=layout.axes[('hm', 'orco')]"
   ]
  },
  {
   "cell_type": "code",
   "execution_count": 880,
   "metadata": {},
   "outputs": [],
   "source": [
    "cmap_reversed = plt.cm.get_cmap('bone_r')\n",
    "ax.axhspan(0, 675, color = 'red', alpha = 0.1)\n",
    "ax.set_xlim(-3.2, 3.2)\n",
    "a = np.arange(-100,3000,10)\n",
    "b = np.linspace(-np.pi, np.pi, 180)\n",
    "x = np.arange(-100,3010, 10)\n",
    "y = np.linspace(-np.pi, np.pi, 181)\n",
    "bin_values,_,__ = np.histogram2d(orco100['time stamp'], orco100['heading'],  bins =(x, y))\n",
    "\n",
    "newdf = pd.DataFrame(bin_values.T, columns=a, index=b)\n",
    "sumz = newdf.sum(axis=0)\n",
    "\n",
    "newdf_normed= newdf\n",
    "for i in range(0,len(sumz)):\n",
    "    newdf_normed.iloc[:,i] = newdf.iloc[:,i]/sumz.iloc[i]\n",
    "X,Y = np.meshgrid(x,y)\n",
    "# Plot the heatmap\n",
    "ax.pcolormesh(Y, X, newdf_normed, vmin=0, vmax=0.04, cmap='bone_r', shading='flat', rasterized=True)\n",
    "\n",
    "\n",
    "ax.set_xticklabels([])\n",
    "ax.set_yticklabels([])\n",
    "\n",
    "fifi.mpl_functions.adjust_spines(ax, ['left','bottom'], xticks =[-3.14, -3.14/2, 0, 3.14/2, 3.14], yticks=[0, 675, 3000],  tick_length=3, linewidth=.5)\n",
    "fifi.mpl_functions.set_fontsize(ax, fs)\n"
   ]
  },
  {
   "cell_type": "markdown",
   "metadata": {},
   "source": [
    "# Course Direction heat map: Wild Type Control Flash"
   ]
  },
  {
   "cell_type": "code",
   "execution_count": 881,
   "metadata": {},
   "outputs": [],
   "source": [
    "ax=layout.axes[('hm', 'wt')]"
   ]
  },
  {
   "cell_type": "code",
   "execution_count": 882,
   "metadata": {},
   "outputs": [],
   "source": [
    "cmap_reversed = plt.cm.get_cmap('bone_r')\n",
    "\n",
    "ax.axhspan(0, 675, color = 'red', alpha = 0.1)\n",
    "ax.set_xlim(-3.2, 3.2)\n",
    "\n",
    "ax.set_yticklabels([])\n",
    "ax.set_xticklabels([r'-$\\pi$', r'-$\\pi/2$', '0',r'$\\pi/2$', r'$\\pi$' ])\n",
    "\n",
    "ax.set_xlim(-3.2, 3.2)\n",
    "a = np.arange(-100,3000,10)\n",
    "b = np.linspace(-np.pi, np.pi, 180)\n",
    "x = np.arange(-100,3010, 10)\n",
    "y = np.linspace(-np.pi, np.pi, 181)\n",
    "bin_values,_,__ = np.histogram2d(wt100['time stamp'], wt100['heading'],  bins =(x, y))\n",
    "\n",
    "newdf = pd.DataFrame(bin_values.T, columns=a, index=b)\n",
    "\n",
    "sumz = newdf.sum(axis=0)\n",
    "\n",
    "newdf_normed= newdf\n",
    "for i in range(0,len(sumz)):\n",
    "    newdf_normed.iloc[:,i] = newdf.iloc[:,i]/sumz.iloc[i]\n",
    "X,Y = np.meshgrid(x,y)\n",
    "\n",
    "# Plot the heatmap\n",
    "ax.pcolormesh(Y, X, newdf_normed, vmin=0, vmax=0.04, cmap='bone_r', shading='flat', rasterized=True)\n",
    "\n",
    "fifi.mpl_functions.adjust_spines(ax, ['left','bottom'], xticks =[-3.14, -3.14/2, 0, 3.14/2, 3.14], yticks=[0, 675, 3000],  tick_length=3, linewidth=lw)\n",
    "fifi.mpl_functions.set_fontsize(ax, fs)\n"
   ]
  },
  {
   "cell_type": "markdown",
   "metadata": {},
   "source": [
    "# Course Direction Heat Map: Orco>CsChrimson Sham events"
   ]
  },
  {
   "cell_type": "code",
   "execution_count": 883,
   "metadata": {},
   "outputs": [],
   "source": [
    "ax=layout.axes[('hm_s', 'orco')]"
   ]
  },
  {
   "cell_type": "code",
   "execution_count": 884,
   "metadata": {},
   "outputs": [],
   "source": [
    "cmap_reversed = plt.cm.get_cmap('bone_r')\n",
    "\n",
    "\n",
    "ax.set_xlim(-3.2, 3.2)\n",
    "a = np.arange(-100,3000,10)\n",
    "b = np.linspace(-np.pi, np.pi, 180)\n",
    "x = np.arange(-100,3010, 10)\n",
    "y = np.linspace(-np.pi, np.pi, 181)\n",
    "bin_values,_,__ = np.histogram2d(orco0['time stamp'], orco0['heading'],  bins =(x, y))\n",
    "\n",
    "newdf = pd.DataFrame(bin_values.T, columns=a, index=b)\n",
    "\n",
    "sumz = newdf.sum(axis=0)\n",
    "\n",
    "newdf_normed= newdf\n",
    "for i in range(0,len(sumz)):\n",
    "    newdf_normed.iloc[:,i] = newdf.iloc[:,i]/sumz.iloc[i]\n",
    "X,Y = np.meshgrid(x,y)\n",
    "# Plot the heatmap\n",
    "ax.pcolormesh(Y, X, newdf_normed, vmin=0, vmax=0.04, cmap='bone_r', shading='flat', rasterized=True)\n",
    "\n",
    "ax.set_yticklabels([])\n",
    "ax.set_xticklabels([])\n",
    "\n",
    "fifi.mpl_functions.adjust_spines(ax, ['left','bottom'], xticks =[-3.14, -3.14/2, 0, 3.14/2, 3.14], yticks=[0, 675, 3000],  tick_length=3, linewidth=.5)\n",
    "fifi.mpl_functions.set_fontsize(ax, fs)\n"
   ]
  },
  {
   "cell_type": "markdown",
   "metadata": {},
   "source": [
    "# Wild type sham events\n"
   ]
  },
  {
   "cell_type": "code",
   "execution_count": 885,
   "metadata": {},
   "outputs": [],
   "source": [
    "ax=layout.axes[('hm_s', 'wt')]"
   ]
  },
  {
   "cell_type": "code",
   "execution_count": 886,
   "metadata": {},
   "outputs": [],
   "source": [
    "cmap_reversed = plt.cm.get_cmap('bone_r')\n",
    "\n",
    "\n",
    "ax.set_xlim(-3.2, 3.2)\n",
    "\n",
    "ax.set_xticklabels([ ])\n",
    "ax.set_yticklabels([ ])\n",
    "\n",
    "ax.set_xlim(-3.2, 3.2)\n",
    "a = np.arange(-100,3000,10)\n",
    "b = np.linspace(-np.pi, np.pi, 180)\n",
    "x = np.arange(-100,3010, 10)\n",
    "y = np.linspace(-np.pi, np.pi, 181)\n",
    "bin_values,_,__ = np.histogram2d(wt0['time stamp'], wt0['heading'],  bins =(x, y))\n",
    "\n",
    "newdf = pd.DataFrame(bin_values.T, columns=a, index=b)\n",
    "\n",
    "sumz = newdf.sum(axis=0)\n",
    "\n",
    "newdf_normed= newdf\n",
    "for i in range(0,len(sumz)):\n",
    "    newdf_normed.iloc[:,i] = newdf.iloc[:,i]/sumz.iloc[i]\n",
    "X,Y = np.meshgrid(x,y)\n",
    "# Plot the heatmap\n",
    "ax.pcolormesh(Y, X, newdf_normed, vmin=0, vmax=0.04, cmap='bone_r', shading='flat', rasterized=True)\n",
    "\n",
    "fifi.mpl_functions.adjust_spines(ax, ['left','bottom'], xticks =[-3.14, -3.14/2, 0, 3.14/2, 3.14], yticks=[0, 675, 3000],  tick_length=3, linewidth=lw)\n",
    "fifi.mpl_functions.set_fontsize(ax, fs)\n"
   ]
  },
  {
   "cell_type": "markdown",
   "metadata": {},
   "source": [
    "# Orco>CsChrimson ground speed"
   ]
  },
  {
   "cell_type": "code",
   "execution_count": 887,
   "metadata": {},
   "outputs": [],
   "source": [
    "ax=layout.axes[('meat', 'orco_gs')]"
   ]
  },
  {
   "cell_type": "code",
   "execution_count": 888,
   "metadata": {},
   "outputs": [],
   "source": [
    "#Grab population mean and error boundaries for both flash and sham subsets for orco flies\n",
    "t, m, u, l= slice_means_gs(orco100, 'ground speed')\n",
    "t0, m0, u0, l0=slice_means_gs(orco0, 'ground speed')"
   ]
  },
  {
   "cell_type": "code",
   "execution_count": 889,
   "metadata": {},
   "outputs": [],
   "source": [
    "ax.plot(m, t, color = 'red', label = 'Orco>csChrimson', linewidth =.5)\n",
    "ax.plot(m0, t0, color ='k', label = 'Control', linewidth=.5)\n",
    "\n",
    "ax.fill_betweenx(t0, u0, l0, color = 'k', alpha = 0.2, label = '', linewidth =0)\n",
    "\n",
    "ax.fill_betweenx(t, u, l, color = 'red', alpha = 0.2, label = '', linewidth =0)\n",
    "ax.set_ylim(-100, 3000)\n",
    "ax.axhspan(0, 675, color = 'red', alpha = 0.1)\n",
    "ax.set_yticklabels([' ',' ', ' '])\n",
    "ax.set_xticklabels([' ',' '])\n",
    "fifi.mpl_functions.adjust_spines(ax, ['left', 'bottom'],xticks=[0, .6], yticks=[0, 675, 3000], tick_length=3, linewidth=lw)\n",
    "fifi.mpl_functions.set_fontsize(ax, fs)\n"
   ]
  },
  {
   "cell_type": "markdown",
   "metadata": {},
   "source": [
    "# Wild Type Control ground speed"
   ]
  },
  {
   "cell_type": "code",
   "execution_count": 890,
   "metadata": {},
   "outputs": [],
   "source": [
    "ax=layout.axes[('meat', 'wt_gs')]"
   ]
  },
  {
   "cell_type": "code",
   "execution_count": 891,
   "metadata": {},
   "outputs": [],
   "source": [
    "#Grab population mean and Ci's for wt flash and shams\n",
    "t_wt, m_wt, u_wt, l_wt= slice_means_gs(wt100, 'ground speed')\n",
    "t0_wt, m0_wt, u0_wt, l0_wt=slice_means_gs(wt0, 'ground speed')"
   ]
  },
  {
   "cell_type": "code",
   "execution_count": 892,
   "metadata": {},
   "outputs": [],
   "source": [
    "ax.plot(m_wt, t_wt, color = 'red', label = 'Orco>csChrimson', linewidth =.5)\n",
    "ax.plot(m0_wt, t0_wt, color ='k', label = 'Control', linewidth=.5)\n",
    "ax.fill_betweenx(t0_wt, u0_wt, l0_wt, color = 'k', alpha = 0.2, label = '', linewidth =0)\n",
    "ax.fill_betweenx(t_wt, u_wt, l_wt, color = 'red', alpha = 0.2, label = '', linewidth =0)\n",
    "ax.set_ylim(-100, 3000)\n",
    "ax.axhspan(0, 675, color = 'red', alpha = 0.1)\n",
    "ax.set_yticklabels([' ',' ', ' '])\n",
    "ax.set_xticklabels([' ',' '])\n",
    "fifi.mpl_functions.adjust_spines(ax, ['left', 'bottom'],xticks=[0, .6], yticks=[0, 675, 3000], tick_length=3, linewidth=lw)\n",
    "fifi.mpl_functions.set_fontsize(ax, fs)\n"
   ]
  },
  {
   "cell_type": "markdown",
   "metadata": {},
   "source": [
    "# Orco>CsChrimson altitude plots"
   ]
  },
  {
   "cell_type": "code",
   "execution_count": 893,
   "metadata": {},
   "outputs": [],
   "source": [
    "ax=layout.axes[('meat', 'orco_alt')]"
   ]
  },
  {
   "cell_type": "code",
   "execution_count": 894,
   "metadata": {},
   "outputs": [],
   "source": [
    "#Grab population mean and error boundaries for both flash and sham subsets for orco flies for altitude\n",
    "t, m, u, l= slice_means_gs(orco100, 'z')\n",
    "t0, m0, u0, l0=slice_means_gs(orco0, 'z')"
   ]
  },
  {
   "cell_type": "code",
   "execution_count": 895,
   "metadata": {},
   "outputs": [],
   "source": [
    "ax.plot(m, t, color = 'red', label = 'Orco>csChrimson', linewidth =.5)\n",
    "ax.plot(m0, t0, color ='k', label = 'Control', linewidth=.5)\n",
    "#ax.set_ylabel(\"Ground Speed (m/s)\")\n",
    "ax.fill_betweenx(t0, u0, l0, color = 'k', alpha = 0.2, label = '', linewidth =0)\n",
    "ax.fill_betweenx(t, u, l, color = 'red', alpha = 0.2, label = '', linewidth =0)\n",
    "ax.set_ylim(-100, 3000)\n",
    "ax.axhspan(0, 675, color = 'red', alpha = 0.1)\n",
    "ax.set_yticklabels([' ',' ', ' '])\n",
    "ax.set_xticklabels([' ',' '])\n",
    "fifi.mpl_functions.adjust_spines(ax, ['left', 'bottom'],xticks=[0, .5], yticks=[0, 675, 3000], tick_length=3, linewidth=lw)\n",
    "fifi.mpl_functions.set_fontsize(ax, fs)\n"
   ]
  },
  {
   "cell_type": "markdown",
   "metadata": {},
   "source": [
    "# Wild Type Control altitude plots"
   ]
  },
  {
   "cell_type": "code",
   "execution_count": 896,
   "metadata": {},
   "outputs": [],
   "source": [
    "ax=layout.axes[('meat', 'wt_alt')]"
   ]
  },
  {
   "cell_type": "code",
   "execution_count": 897,
   "metadata": {},
   "outputs": [],
   "source": [
    "#Grab population mean and Ci's for wt flash and shams for altitude figure\n",
    "t_wt, m_wt, u_wt, l_wt= slice_means_gs(wt100, 'z')\n",
    "t0_wt, m0_wt, u0_wt, l0_wt=slice_means_gs(wt0, 'z')"
   ]
  },
  {
   "cell_type": "code",
   "execution_count": 898,
   "metadata": {},
   "outputs": [],
   "source": [
    "ax.plot(m_wt, t_wt, color = 'red', label = 'Orco>csChrimson', linewidth =.5)\n",
    "ax.plot(m0_wt, t0_wt, color ='k', label = 'Control', linewidth=.5)\n",
    "ax.fill_betweenx(t0_wt, u0_wt, l0_wt, color = 'k', alpha = 0.2, label = '', linewidth =0)\n",
    "ax.fill_betweenx(t_wt, u_wt, l_wt, color = 'red', alpha = 0.2, label = '', linewidth =0)\n",
    "ax.axhspan(0, 675, color = 'red', alpha = 0.1)\n",
    "ax.set_ylim(-100, 3000)\n",
    "ax.set_yticklabels([' ',' ', ' '])\n",
    "ax.set_xticklabels([' ',' '])\n",
    "fifi.mpl_functions.adjust_spines(ax, ['left', 'bottom'],xticks=[0, .5], yticks=[0, 675, 3000], tick_length=3, linewidth=lw)\n",
    "fifi.mpl_functions.set_fontsize(ax, fs)\n"
   ]
  },
  {
   "cell_type": "markdown",
   "metadata": {},
   "source": [
    "# Orientration proportions to accompany heat maps"
   ]
  },
  {
   "cell_type": "code",
   "execution_count": 899,
   "metadata": {},
   "outputs": [],
   "source": [
    "ax=layout.axes[('hm','prop', 'orco_prop_f')]"
   ]
  },
  {
   "cell_type": "code",
   "execution_count": 900,
   "metadata": {},
   "outputs": [],
   "source": [
    "t, uw, cw, dw= slice_head_prop(orco100)"
   ]
  },
  {
   "cell_type": "code",
   "execution_count": 901,
   "metadata": {},
   "outputs": [],
   "source": [
    "ax.plot(uw, t, color = 'green', linewidth =.5)\n",
    "ax.plot(cw, t, color ='blue', linewidth=.5)\n",
    "ax.plot(dw, t, color = 'orange', linewidth =.5)\n",
    "ax.set_ylim(-100, 3000)\n",
    "ax.axhspan(0, 675, color = 'red', alpha = 0.1)\n",
    "ax.set_yticklabels([' ',' ', ' '])\n",
    "ax.set_xticklabels([' ',' '])\n",
    "fifi.mpl_functions.adjust_spines(ax, ['bottom'],xticks=[0, 1.0], yticks=[0, 675, 3000], tick_length=3, linewidth=lw)\n",
    "fifi.mpl_functions.set_fontsize(ax, fs)\n"
   ]
  },
  {
   "cell_type": "code",
   "execution_count": 902,
   "metadata": {},
   "outputs": [],
   "source": [
    "ax=layout.axes[('hm','prop', 'orco_prop_s')]"
   ]
  },
  {
   "cell_type": "code",
   "execution_count": 903,
   "metadata": {},
   "outputs": [],
   "source": [
    "t0, uw0, cw0, dw0= slice_head_prop(orco0)"
   ]
  },
  {
   "cell_type": "code",
   "execution_count": 904,
   "metadata": {},
   "outputs": [],
   "source": [
    "ax.plot(uw0, t0, color = 'green', linewidth =.5)\n",
    "ax.plot(cw0, t0, color ='blue', linewidth=.5)\n",
    "ax.plot(dw0, t0, color = 'orange', linewidth =.5)\n",
    "ax.set_ylim(-100, 3000)\n",
    "#ax.axhspan(0, 675, color = 'red', alpha = 0.1)\n",
    "ax.set_yticklabels([' ',' ', ' '])\n",
    "ax.set_xticklabels([' ',' '])\n",
    "fifi.mpl_functions.adjust_spines(ax, ['bottom'],xticks=[0, 1.0], yticks=[0, 675, 3000], tick_length=3, linewidth=lw)\n",
    "fifi.mpl_functions.set_fontsize(ax, fs)\n"
   ]
  },
  {
   "cell_type": "code",
   "execution_count": 905,
   "metadata": {},
   "outputs": [],
   "source": [
    "ax=layout.axes[('hm','prop', 'wt_prop_f')]"
   ]
  },
  {
   "cell_type": "code",
   "execution_count": 906,
   "metadata": {},
   "outputs": [],
   "source": [
    "#wt_t100, wt_uw100, wt_cw100, wt_dw100= slice_head_prop(wt100)\n",
    "\n",
    "ax.plot(wt_uw100, wt_t100, color = 'green', linewidth =.5)\n",
    "ax.plot(wt_cw100, wt_t100, color ='blue', linewidth=.5)\n",
    "ax.plot(wt_dw100, wt_t100, color = 'orange', linewidth =.5)\n",
    "ax.set_ylim(-100, 3000)\n",
    "ax.axhspan(0, 675, color = 'red', alpha = 0.1)\n",
    "ax.set_yticklabels([' ',' ', ' '])\n",
    "ax.set_xticklabels([' ',' '])\n",
    "fifi.mpl_functions.adjust_spines(ax, ['bottom'],xticks=[0, 1.0], yticks=[0, 675, 3000], tick_length=3, linewidth=lw)\n",
    "fifi.mpl_functions.set_fontsize(ax, fs)"
   ]
  },
  {
   "cell_type": "code",
   "execution_count": 907,
   "metadata": {},
   "outputs": [],
   "source": [
    "ax=layout.axes[('hm','prop', 'wt_prop_s')]"
   ]
  },
  {
   "cell_type": "code",
   "execution_count": 908,
   "metadata": {},
   "outputs": [],
   "source": [
    "#wt_t0, wt_uw0, wt_cw0, wt_dw0= slice_head_prop(wt0)\n",
    "\n",
    "ax.plot(wt_uw0,wt_t0, color = 'green', linewidth =.5)\n",
    "ax.plot(wt_cw0, wt_t0, color ='blue', linewidth=.5)\n",
    "ax.plot(wt_dw0, wt_t0, color = 'orange', linewidth =.5)\n",
    "ax.set_ylim(-100, 3000)\n",
    "#ax.axhspan(0, 675, color = 'red', alpha = 0.1)\n",
    "ax.set_yticklabels([' ',' ', ' '])\n",
    "ax.set_xticklabels([' ',' '])\n",
    "fifi.mpl_functions.adjust_spines(ax, ['bottom'],xticks=[0, 1.0], yticks=[0, 675, 3000], tick_length=3, linewidth=lw)\n",
    "fifi.mpl_functions.set_fontsize(ax, fs)"
   ]
  },
  {
   "cell_type": "markdown",
   "metadata": {},
   "source": [
    "# FigureFirst save to figure template"
   ]
  },
  {
   "cell_type": "code",
   "execution_count": 909,
   "metadata": {},
   "outputs": [],
   "source": [
    "layout.append_figure_to_layer(layout.figures['traj'], 'traj', cleartarget=True)\n",
    "layout.append_figure_to_layer(layout.figures['ang_vel'], 'ang_vel', cleartarget=True)\n",
    "layout.append_figure_to_layer(layout.figures['hm'], 'hm', cleartarget=True)\n",
    "layout.append_figure_to_layer(layout.figures['meat'], 'meat', cleartarget=True)\n",
    "layout.append_figure_to_layer(layout.figures['hm_s'], 'hm_s', cleartarget=True)\n",
    "layout.write_svg(template)"
   ]
  },
  {
   "cell_type": "code",
   "execution_count": null,
   "metadata": {},
   "outputs": [],
   "source": []
  },
  {
   "cell_type": "code",
   "execution_count": null,
   "metadata": {},
   "outputs": [],
   "source": []
  },
  {
   "cell_type": "code",
   "execution_count": null,
   "metadata": {},
   "outputs": [],
   "source": []
  },
  {
   "cell_type": "code",
   "execution_count": null,
   "metadata": {},
   "outputs": [],
   "source": []
  },
  {
   "cell_type": "code",
   "execution_count": null,
   "metadata": {},
   "outputs": [],
   "source": []
  },
  {
   "cell_type": "code",
   "execution_count": null,
   "metadata": {},
   "outputs": [],
   "source": []
  },
  {
   "cell_type": "code",
   "execution_count": null,
   "metadata": {},
   "outputs": [],
   "source": []
  },
  {
   "cell_type": "code",
   "execution_count": null,
   "metadata": {},
   "outputs": [],
   "source": []
  },
  {
   "cell_type": "code",
   "execution_count": null,
   "metadata": {},
   "outputs": [],
   "source": []
  },
  {
   "cell_type": "code",
   "execution_count": null,
   "metadata": {},
   "outputs": [],
   "source": []
  },
  {
   "cell_type": "code",
   "execution_count": null,
   "metadata": {},
   "outputs": [],
   "source": []
  },
  {
   "cell_type": "code",
   "execution_count": null,
   "metadata": {},
   "outputs": [],
   "source": []
  },
  {
   "cell_type": "code",
   "execution_count": null,
   "metadata": {},
   "outputs": [],
   "source": []
  }
 ],
 "metadata": {
  "kernelspec": {
   "display_name": "Python 2",
   "language": "python",
   "name": "python2"
  },
  "language_info": {
   "codemirror_mode": {
    "name": "ipython",
    "version": 2
   },
   "file_extension": ".py",
   "mimetype": "text/x-python",
   "name": "python",
   "nbconvert_exporter": "python",
   "pygments_lexer": "ipython2",
   "version": "2.7.12"
  }
 },
 "nbformat": 4,
 "nbformat_minor": 2
}
